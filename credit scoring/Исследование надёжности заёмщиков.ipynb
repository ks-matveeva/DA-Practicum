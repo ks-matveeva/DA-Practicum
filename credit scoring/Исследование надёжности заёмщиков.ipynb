{
 "cells": [
  {
   "cell_type": "markdown",
   "metadata": {},
   "source": [
    "# Исследование надёжности заёмщиков\n",
    "\n",
    "Заказчик — кредитный отдел банка. Нужно разобраться, влияет ли семейное положение и количество детей клиента на факт погашения кредита в срок. Входные данные от банка — статистика о платёжеспособности клиентов.\n",
    "\n",
    "Результаты исследования будут учтены при построении модели **кредитного скоринга** — специальной системы, которая оценивает способность потенциального заёмщика вернуть кредит банку."
   ]
  },
  {
   "cell_type": "markdown",
   "metadata": {},
   "source": [
    "Задача данного проекта: исследование зависимости факта погашения кредита в срок от семейного статуса и наличия детей. В работе будет использована библиотека pandas, pymystem3 и контейнер Counter из модуля collections. Основной акцент в данной работе будет сделан на предобработке данных, потому что, во-первых, проект учебный, а во-вторых, предобработка данных - самый трудоёмкий этап в анализе данных. Ошибки на этом этапе могут стоить дорого как для исполнителя проекта, так и для инвестора, заказчика или любого другого бенефициара.\n"
   ]
  },
  {
   "cell_type": "markdown",
   "metadata": {},
   "source": [
    "## Откроем файл с данными и изучим общую информацию"
   ]
  },
  {
   "cell_type": "code",
   "execution_count": 1,
   "metadata": {
    "scrolled": true
   },
   "outputs": [
    {
     "data": {
      "text/html": [
       "<div>\n",
       "<style scoped>\n",
       "    .dataframe tbody tr th:only-of-type {\n",
       "        vertical-align: middle;\n",
       "    }\n",
       "\n",
       "    .dataframe tbody tr th {\n",
       "        vertical-align: top;\n",
       "    }\n",
       "\n",
       "    .dataframe thead th {\n",
       "        text-align: right;\n",
       "    }\n",
       "</style>\n",
       "<table border=\"1\" class=\"dataframe\">\n",
       "  <thead>\n",
       "    <tr style=\"text-align: right;\">\n",
       "      <th></th>\n",
       "      <th>children</th>\n",
       "      <th>days_employed</th>\n",
       "      <th>dob_years</th>\n",
       "      <th>education</th>\n",
       "      <th>education_id</th>\n",
       "      <th>family_status</th>\n",
       "      <th>family_status_id</th>\n",
       "      <th>gender</th>\n",
       "      <th>income_type</th>\n",
       "      <th>debt</th>\n",
       "      <th>total_income</th>\n",
       "      <th>purpose</th>\n",
       "    </tr>\n",
       "  </thead>\n",
       "  <tbody>\n",
       "    <tr>\n",
       "      <td>0</td>\n",
       "      <td>1</td>\n",
       "      <td>-8437.673028</td>\n",
       "      <td>42</td>\n",
       "      <td>высшее</td>\n",
       "      <td>0</td>\n",
       "      <td>женат / замужем</td>\n",
       "      <td>0</td>\n",
       "      <td>F</td>\n",
       "      <td>сотрудник</td>\n",
       "      <td>0</td>\n",
       "      <td>253875.639453</td>\n",
       "      <td>покупка жилья</td>\n",
       "    </tr>\n",
       "    <tr>\n",
       "      <td>1</td>\n",
       "      <td>1</td>\n",
       "      <td>-4024.803754</td>\n",
       "      <td>36</td>\n",
       "      <td>среднее</td>\n",
       "      <td>1</td>\n",
       "      <td>женат / замужем</td>\n",
       "      <td>0</td>\n",
       "      <td>F</td>\n",
       "      <td>сотрудник</td>\n",
       "      <td>0</td>\n",
       "      <td>112080.014102</td>\n",
       "      <td>приобретение автомобиля</td>\n",
       "    </tr>\n",
       "    <tr>\n",
       "      <td>2</td>\n",
       "      <td>0</td>\n",
       "      <td>-5623.422610</td>\n",
       "      <td>33</td>\n",
       "      <td>Среднее</td>\n",
       "      <td>1</td>\n",
       "      <td>женат / замужем</td>\n",
       "      <td>0</td>\n",
       "      <td>M</td>\n",
       "      <td>сотрудник</td>\n",
       "      <td>0</td>\n",
       "      <td>145885.952297</td>\n",
       "      <td>покупка жилья</td>\n",
       "    </tr>\n",
       "    <tr>\n",
       "      <td>3</td>\n",
       "      <td>3</td>\n",
       "      <td>-4124.747207</td>\n",
       "      <td>32</td>\n",
       "      <td>среднее</td>\n",
       "      <td>1</td>\n",
       "      <td>женат / замужем</td>\n",
       "      <td>0</td>\n",
       "      <td>M</td>\n",
       "      <td>сотрудник</td>\n",
       "      <td>0</td>\n",
       "      <td>267628.550329</td>\n",
       "      <td>дополнительное образование</td>\n",
       "    </tr>\n",
       "    <tr>\n",
       "      <td>4</td>\n",
       "      <td>0</td>\n",
       "      <td>340266.072047</td>\n",
       "      <td>53</td>\n",
       "      <td>среднее</td>\n",
       "      <td>1</td>\n",
       "      <td>гражданский брак</td>\n",
       "      <td>1</td>\n",
       "      <td>F</td>\n",
       "      <td>пенсионер</td>\n",
       "      <td>0</td>\n",
       "      <td>158616.077870</td>\n",
       "      <td>сыграть свадьбу</td>\n",
       "    </tr>\n",
       "    <tr>\n",
       "      <td>5</td>\n",
       "      <td>0</td>\n",
       "      <td>-926.185831</td>\n",
       "      <td>27</td>\n",
       "      <td>высшее</td>\n",
       "      <td>0</td>\n",
       "      <td>гражданский брак</td>\n",
       "      <td>1</td>\n",
       "      <td>M</td>\n",
       "      <td>компаньон</td>\n",
       "      <td>0</td>\n",
       "      <td>255763.565419</td>\n",
       "      <td>покупка жилья</td>\n",
       "    </tr>\n",
       "    <tr>\n",
       "      <td>6</td>\n",
       "      <td>0</td>\n",
       "      <td>-2879.202052</td>\n",
       "      <td>43</td>\n",
       "      <td>высшее</td>\n",
       "      <td>0</td>\n",
       "      <td>женат / замужем</td>\n",
       "      <td>0</td>\n",
       "      <td>F</td>\n",
       "      <td>компаньон</td>\n",
       "      <td>0</td>\n",
       "      <td>240525.971920</td>\n",
       "      <td>операции с жильем</td>\n",
       "    </tr>\n",
       "    <tr>\n",
       "      <td>7</td>\n",
       "      <td>0</td>\n",
       "      <td>-152.779569</td>\n",
       "      <td>50</td>\n",
       "      <td>СРЕДНЕЕ</td>\n",
       "      <td>1</td>\n",
       "      <td>женат / замужем</td>\n",
       "      <td>0</td>\n",
       "      <td>M</td>\n",
       "      <td>сотрудник</td>\n",
       "      <td>0</td>\n",
       "      <td>135823.934197</td>\n",
       "      <td>образование</td>\n",
       "    </tr>\n",
       "    <tr>\n",
       "      <td>8</td>\n",
       "      <td>2</td>\n",
       "      <td>-6929.865299</td>\n",
       "      <td>35</td>\n",
       "      <td>ВЫСШЕЕ</td>\n",
       "      <td>0</td>\n",
       "      <td>гражданский брак</td>\n",
       "      <td>1</td>\n",
       "      <td>F</td>\n",
       "      <td>сотрудник</td>\n",
       "      <td>0</td>\n",
       "      <td>95856.832424</td>\n",
       "      <td>на проведение свадьбы</td>\n",
       "    </tr>\n",
       "    <tr>\n",
       "      <td>9</td>\n",
       "      <td>0</td>\n",
       "      <td>-2188.756445</td>\n",
       "      <td>41</td>\n",
       "      <td>среднее</td>\n",
       "      <td>1</td>\n",
       "      <td>женат / замужем</td>\n",
       "      <td>0</td>\n",
       "      <td>M</td>\n",
       "      <td>сотрудник</td>\n",
       "      <td>0</td>\n",
       "      <td>144425.938277</td>\n",
       "      <td>покупка жилья для семьи</td>\n",
       "    </tr>\n",
       "  </tbody>\n",
       "</table>\n",
       "</div>"
      ],
      "text/plain": [
       "   children  days_employed  dob_years education  education_id  \\\n",
       "0         1   -8437.673028         42    высшее             0   \n",
       "1         1   -4024.803754         36   среднее             1   \n",
       "2         0   -5623.422610         33   Среднее             1   \n",
       "3         3   -4124.747207         32   среднее             1   \n",
       "4         0  340266.072047         53   среднее             1   \n",
       "5         0    -926.185831         27    высшее             0   \n",
       "6         0   -2879.202052         43    высшее             0   \n",
       "7         0    -152.779569         50   СРЕДНЕЕ             1   \n",
       "8         2   -6929.865299         35    ВЫСШЕЕ             0   \n",
       "9         0   -2188.756445         41   среднее             1   \n",
       "\n",
       "      family_status  family_status_id gender income_type  debt   total_income  \\\n",
       "0   женат / замужем                 0      F   сотрудник     0  253875.639453   \n",
       "1   женат / замужем                 0      F   сотрудник     0  112080.014102   \n",
       "2   женат / замужем                 0      M   сотрудник     0  145885.952297   \n",
       "3   женат / замужем                 0      M   сотрудник     0  267628.550329   \n",
       "4  гражданский брак                 1      F   пенсионер     0  158616.077870   \n",
       "5  гражданский брак                 1      M   компаньон     0  255763.565419   \n",
       "6   женат / замужем                 0      F   компаньон     0  240525.971920   \n",
       "7   женат / замужем                 0      M   сотрудник     0  135823.934197   \n",
       "8  гражданский брак                 1      F   сотрудник     0   95856.832424   \n",
       "9   женат / замужем                 0      M   сотрудник     0  144425.938277   \n",
       "\n",
       "                      purpose  \n",
       "0               покупка жилья  \n",
       "1     приобретение автомобиля  \n",
       "2               покупка жилья  \n",
       "3  дополнительное образование  \n",
       "4             сыграть свадьбу  \n",
       "5               покупка жилья  \n",
       "6           операции с жильем  \n",
       "7                 образование  \n",
       "8       на проведение свадьбы  \n",
       "9     покупка жилья для семьи  "
      ]
     },
     "metadata": {},
     "output_type": "display_data"
    },
    {
     "name": "stdout",
     "output_type": "stream",
     "text": [
      "<class 'pandas.core.frame.DataFrame'>\n",
      "RangeIndex: 21525 entries, 0 to 21524\n",
      "Data columns (total 12 columns):\n",
      "children            21525 non-null int64\n",
      "days_employed       19351 non-null float64\n",
      "dob_years           21525 non-null int64\n",
      "education           21525 non-null object\n",
      "education_id        21525 non-null int64\n",
      "family_status       21525 non-null object\n",
      "family_status_id    21525 non-null int64\n",
      "gender              21525 non-null object\n",
      "income_type         21525 non-null object\n",
      "debt                21525 non-null int64\n",
      "total_income        19351 non-null float64\n",
      "purpose             21525 non-null object\n",
      "dtypes: float64(2), int64(5), object(5)\n",
      "memory usage: 2.0+ MB\n"
     ]
    }
   ],
   "source": [
    "import pandas\n",
    "data = pandas.read_csv('/datasets/data.csv')\n",
    "display(data.head(10))\n",
    "data.info()"
   ]
  },
  {
   "cell_type": "markdown",
   "metadata": {},
   "source": [
    "**Вывод**\n",
    "\n",
    "В таблице 12 колонок с тремя типами данных: float64, int64, object. \n",
    "\n",
    "- Странным выглядит столбец days_employed, в нём отрицательные значения; также есть пропуски (в нём всего 19351 значений вместо 21525). \n",
    "\n",
    "- В столбце education нужно привести значения к нижнему регистру. \n",
    "\n",
    "- Столбец total_income также пострадал от пропусков значений. Полагаю, что надо будет категоризировать заёмщиков и по каждой категории посчитать медиану и заполнить ими пропуски, чтобы датафрейм стал релевантным для анализа.\n",
    "\n",
    "- Столбец purpose с житейской точки зрения также интересен для анализа, потому что брать кредить на свадьбу - это очень интересно. Наверняка у таких людей интересная кредитная история и вообще жизнь (это не относится к задаче, но я бы на месте заказчика поанализировала эту категорию заёмщиков в ретроспективе). Полагаю, что этот столбец надо категоризировать с помощью лемматизации.\n",
    "\n",
    "- Столбцы days_employed и total_income имеют одинаковое количество пропусков. Наверняка какая-то техническая ошибка."
   ]
  },
  {
   "cell_type": "markdown",
   "metadata": {},
   "source": [
    " "
   ]
  },
  {
   "cell_type": "markdown",
   "metadata": {},
   "source": [
    "## Предобработка данных"
   ]
  },
  {
   "cell_type": "markdown",
   "metadata": {},
   "source": [
    "### Обработка пропусков"
   ]
  },
  {
   "cell_type": "code",
   "execution_count": 2,
   "metadata": {},
   "outputs": [
    {
     "data": {
      "text/plain": [
       "'до обработки количество пропусков в days_employed:'"
      ]
     },
     "metadata": {},
     "output_type": "display_data"
    },
    {
     "data": {
      "text/plain": [
       "2174"
      ]
     },
     "metadata": {},
     "output_type": "display_data"
    },
    {
     "data": {
      "text/plain": [
       "'после обработки количество пропусков:'"
      ]
     },
     "metadata": {},
     "output_type": "display_data"
    },
    {
     "data": {
      "text/plain": [
       "0"
      ]
     },
     "metadata": {},
     "output_type": "display_data"
    },
    {
     "data": {
      "text/plain": [
       "'до обработки количество пропусков в total_income:'"
      ]
     },
     "metadata": {},
     "output_type": "display_data"
    },
    {
     "data": {
      "text/plain": [
       "2174"
      ]
     },
     "metadata": {},
     "output_type": "display_data"
    },
    {
     "data": {
      "text/plain": [
       "'после обработки количество пропусков:'"
      ]
     },
     "metadata": {},
     "output_type": "display_data"
    },
    {
     "data": {
      "text/plain": [
       "0"
      ]
     },
     "metadata": {},
     "output_type": "display_data"
    },
    {
     "name": "stdout",
     "output_type": "stream",
     "text": [
      "<class 'pandas.core.frame.DataFrame'>\n",
      "Int64Index: 21525 entries, 0 to 21524\n",
      "Data columns (total 14 columns):\n",
      "children                21525 non-null int64\n",
      "days_employed           21525 non-null float64\n",
      "dob_years               21525 non-null int64\n",
      "education               21525 non-null object\n",
      "education_id            21525 non-null int64\n",
      "family_status           21525 non-null object\n",
      "family_status_id        21525 non-null int64\n",
      "gender                  21525 non-null object\n",
      "income_type             21525 non-null object\n",
      "debt                    21525 non-null int64\n",
      "total_income            21525 non-null float64\n",
      "purpose                 21525 non-null object\n",
      "median_days_employed    21525 non-null float64\n",
      "median_total_income     21525 non-null float64\n",
      "dtypes: float64(4), int64(5), object(5)\n",
      "memory usage: 2.5+ MB\n"
     ]
    }
   ],
   "source": [
    "display('до обработки количество пропусков в days_employed:', data['days_employed'].isna().sum())\n",
    "medians_de = (data.groupby(['family_status', 'education']).agg({'days_employed': 'median'}).rename(columns = {'days_employed': 'median_days_employed'}))\n",
    "data = data.merge(medians_de, on = ['family_status', 'education'])\n",
    "data.loc[data['days_employed'].isna(), 'days_employed'] = data.loc[data['days_employed'].isna(), 'median_days_employed']\n",
    "display('после обработки количество пропусков:', data['days_employed'].isna().sum())\n",
    "#data.info()\n",
    "#display(data.head())\n",
    "\n",
    "display('до обработки количество пропусков в total_income:', data['total_income'].isna().sum())\n",
    "medians_ti = (data.groupby(['income_type']).agg({'total_income': 'median'}).rename(columns = {'total_income': 'median_total_income'}))\n",
    "data = data.merge(medians_ti, on = ['income_type'])\n",
    "data.loc[data['total_income'].isna(), 'total_income'] = data.loc[data['total_income'].isna(), 'median_total_income']\n",
    "display('после обработки количество пропусков:',data['total_income'].isna().sum())\n",
    "data.info()"
   ]
  },
  {
   "cell_type": "markdown",
   "metadata": {},
   "source": [
    "**Вывод**"
   ]
  },
  {
   "cell_type": "markdown",
   "metadata": {},
   "source": [
    "**Столбец days_employed**\n",
    "1. В столбце было 2174 пропусков (равно как и в столбце total_income, поэтому предполагаю техническую ошибку).\n",
    "2. В столбце тип данных - вещественное число, да ещё и есть отрицательные значения.\n",
    "3. Пропуски были заполнены медианными значениями, сгруппированными по столбцам family_status, education.\n",
    "\n",
    "**Столбец total_income**\n",
    "1. В столбце 2174 пропусков.\n",
    "2. Тип данных - вещественные числа.\n",
    "3. Группировку и медиану сделала по столбцу income_type, предположив, что доход зависим от его типа."
   ]
  },
  {
   "cell_type": "markdown",
   "metadata": {},
   "source": [
    "### Замена типа данных"
   ]
  },
  {
   "cell_type": "code",
   "execution_count": 3,
   "metadata": {},
   "outputs": [
    {
     "name": "stdout",
     "output_type": "stream",
     "text": [
      "<class 'pandas.core.frame.DataFrame'>\n",
      "Int64Index: 21525 entries, 0 to 21524\n",
      "Data columns (total 14 columns):\n",
      "children                21525 non-null int64\n",
      "days_employed           21525 non-null int64\n",
      "dob_years               21525 non-null int64\n",
      "education               21525 non-null object\n",
      "education_id            21525 non-null int64\n",
      "family_status           21525 non-null object\n",
      "family_status_id        21525 non-null int64\n",
      "gender                  21525 non-null object\n",
      "income_type             21525 non-null object\n",
      "debt                    21525 non-null int64\n",
      "total_income            21525 non-null float64\n",
      "purpose                 21525 non-null object\n",
      "median_days_employed    21525 non-null float64\n",
      "median_total_income     21525 non-null float64\n",
      "dtypes: float64(3), int64(6), object(5)\n",
      "memory usage: 2.5+ MB\n"
     ]
    }
   ],
   "source": [
    "data['days_employed'] = data['days_employed'].apply(abs)\n",
    "data.loc[data['days_employed'] > 29000, 'days_employed'] = data.loc[data['days_employed'] >29000, 'days_employed'] / 24\n",
    "data['days_employed'] = data['days_employed'].astype(int)\n",
    "data.info()\n"
   ]
  },
  {
   "cell_type": "markdown",
   "metadata": {},
   "source": [
    "**Вывод**"
   ]
  },
  {
   "cell_type": "markdown",
   "metadata": {},
   "source": [
    "Трудовой стаж в днях имеет тип \"вещественное число\". Нужно заменить на положительное, целое и привести к единой системе измерения, хотя этот столбец не входит в задачу по выяснению зависимости факта погашения кредита от семейного положения и количества детей клиента (просто увидела в обсуждениях, что без обработки этого столбца ревьюер не примет проект)))\n",
    "\n",
    "Я приняла 29000 как максимальный стаж в днях для человека (80 лет)."
   ]
  },
  {
   "cell_type": "markdown",
   "metadata": {},
   "source": [
    "### Обработка дубликатов"
   ]
  },
  {
   "cell_type": "code",
   "execution_count": 4,
   "metadata": {},
   "outputs": [
    {
     "data": {
      "text/plain": [
       "'в таблице явных дубликатов:'"
      ]
     },
     "metadata": {},
     "output_type": "display_data"
    },
    {
     "data": {
      "text/plain": [
       "54"
      ]
     },
     "metadata": {},
     "output_type": "display_data"
    },
    {
     "data": {
      "text/plain": [
       "array(['женат / замужем', 'гражданский брак', 'вдовец / вдова',\n",
       "       'в разводе', 'Не женат / не замужем'], dtype=object)"
      ]
     },
     "metadata": {},
     "output_type": "display_data"
    },
    {
     "data": {
      "text/plain": [
       "array(['высшее', 'среднее', 'Среднее', 'СРЕДНЕЕ', 'ВЫСШЕЕ',\n",
       "       'неоконченное высшее', 'начальное', 'Высшее',\n",
       "       'НЕОКОНЧЕННОЕ ВЫСШЕЕ', 'Неоконченное высшее', 'НАЧАЛЬНОЕ',\n",
       "       'Начальное', 'УЧЕНАЯ СТЕПЕНЬ', 'ученая степень', 'Ученая степень'],\n",
       "      dtype=object)"
      ]
     },
     "metadata": {},
     "output_type": "display_data"
    },
    {
     "data": {
      "text/plain": [
       "array([ 1,  0,  2,  3,  4, -1, 20,  5])"
      ]
     },
     "metadata": {},
     "output_type": "display_data"
    },
    {
     "data": {
      "text/plain": [
       "'Уникальные значения в столбце education должны выгляеть так:'"
      ]
     },
     "metadata": {},
     "output_type": "display_data"
    },
    {
     "data": {
      "text/plain": [
       "array(['высшее', 'среднее', 'неоконченное высшее', 'начальное',\n",
       "       'ученая степень'], dtype=object)"
      ]
     },
     "metadata": {},
     "output_type": "display_data"
    }
   ],
   "source": [
    "display('в таблице явных дубликатов:', data.duplicated().sum())\n",
    "data = data.drop_duplicates().reset_index(drop=True)\n",
    "#display(data.duplicated().sum())\n",
    "display(data['family_status'].unique())\n",
    "display(data['education'].unique())\n",
    "display(data['children'].unique())\n",
    "data['education'] = data['education'].str.lower()\n",
    "display('Уникальные значения в столбце education должны выгляеть так:', data['education'].unique())"
   ]
  },
  {
   "cell_type": "markdown",
   "metadata": {},
   "source": [
    "**Вывод**"
   ]
  },
  {
   "cell_type": "markdown",
   "metadata": {},
   "source": [
    "1. Удаляем явные дубликаты методом drop_duplicates и обновляем идексы. \n",
    "2. В столбце family_status нет дубликатов; в столбце children тоже нет (но значение -1 странное); а вот в столбце education есть: желательно было привести все значения в нижний регистр и проверить результат.\n",
    "3. Причины появления дубликатов: человеческий фактор - источник ошибок)). Также возможны нюансы в выгрузке данных или ошибки при их обогащении."
   ]
  },
  {
   "cell_type": "markdown",
   "metadata": {},
   "source": [
    "### Лемматизация"
   ]
  },
  {
   "cell_type": "code",
   "execution_count": 5,
   "metadata": {},
   "outputs": [
    {
     "data": {
      "text/plain": [
       "[(' ', 55066),\n",
       " ('недвижимость', 6353),\n",
       " ('покупка', 5900),\n",
       " ('жилье', 4461),\n",
       " ('автомобиль', 4308),\n",
       " ('образование', 4014),\n",
       " ('с', 2918),\n",
       " ('операция', 2604),\n",
       " ('свадьба', 2335),\n",
       " ('свой', 2231),\n",
       " ('на', 2228),\n",
       " ('строительство', 1879),\n",
       " ('высокий', 1374),\n",
       " ('получение', 1315),\n",
       " ('коммерческий', 1312)]"
      ]
     },
     "execution_count": 5,
     "metadata": {},
     "output_type": "execute_result"
    }
   ],
   "source": [
    "#display(data['purpose'].unique())\n",
    "from pymystem3 import Mystem\n",
    "from collections import Counter\n",
    "m = Mystem()\n",
    "lemmas = m.lemmatize(' '.join(data['purpose']))\n",
    "lemmas = Counter(lemmas)\n",
    "lemmas.most_common(15)"
   ]
  },
  {
   "cell_type": "markdown",
   "metadata": {},
   "source": [
    "**Вывод**"
   ]
  },
  {
   "cell_type": "markdown",
   "metadata": {},
   "source": [
    "Сначала мне было интересно посмотреть все уникальные значения в столбце purpose. Сразу стало ясно, что необходима лемматизация и подсчёт самых упоминаемых лемм, чтобы в дальнейшем проводить категоризацию.\n",
    "\n",
    "Я импортровала контейнер Counter из модуля collections, создала список лемм, посчитала их и посмотрела топ-15 самых употребляемых.\n",
    "\n",
    "Полагаю, что категоризировать нужно так:\n",
    "- если леммы: недвижимость, жильё, строительство то отнесём это к категории цели \"операции с недвижимостью\"\n",
    "- если леммы: автомобиль - \"покупка автомобиля\"\n",
    "- свадьба - \"организация свадьбы\"\n",
    "- образование - \"получение образования\"\n",
    "- иначе - \"прочее\""
   ]
  },
  {
   "cell_type": "markdown",
   "metadata": {},
   "source": [
    "### Категоризация данных"
   ]
  },
  {
   "cell_type": "code",
   "execution_count": 6,
   "metadata": {
    "scrolled": true
   },
   "outputs": [
    {
     "data": {
      "text/html": [
       "<div>\n",
       "<style scoped>\n",
       "    .dataframe tbody tr th:only-of-type {\n",
       "        vertical-align: middle;\n",
       "    }\n",
       "\n",
       "    .dataframe tbody tr th {\n",
       "        vertical-align: top;\n",
       "    }\n",
       "\n",
       "    .dataframe thead th {\n",
       "        text-align: right;\n",
       "    }\n",
       "</style>\n",
       "<table border=\"1\" class=\"dataframe\">\n",
       "  <thead>\n",
       "    <tr style=\"text-align: right;\">\n",
       "      <th></th>\n",
       "      <th>purpose</th>\n",
       "      <th>purpose_category</th>\n",
       "    </tr>\n",
       "  </thead>\n",
       "  <tbody>\n",
       "    <tr>\n",
       "      <td>0</td>\n",
       "      <td>покупка жилья</td>\n",
       "      <td>операции с недвижимостью</td>\n",
       "    </tr>\n",
       "    <tr>\n",
       "      <td>1</td>\n",
       "      <td>строительство собственной недвижимости</td>\n",
       "      <td>операции с недвижимостью</td>\n",
       "    </tr>\n",
       "    <tr>\n",
       "      <td>2</td>\n",
       "      <td>строительство собственной недвижимости</td>\n",
       "      <td>операции с недвижимостью</td>\n",
       "    </tr>\n",
       "    <tr>\n",
       "      <td>3</td>\n",
       "      <td>недвижимость</td>\n",
       "      <td>операции с недвижимостью</td>\n",
       "    </tr>\n",
       "    <tr>\n",
       "      <td>4</td>\n",
       "      <td>на покупку подержанного автомобиля</td>\n",
       "      <td>покупка автомобиля</td>\n",
       "    </tr>\n",
       "    <tr>\n",
       "      <td>5</td>\n",
       "      <td>жилье</td>\n",
       "      <td>операции с недвижимостью</td>\n",
       "    </tr>\n",
       "    <tr>\n",
       "      <td>6</td>\n",
       "      <td>операции с жильем</td>\n",
       "      <td>операции с недвижимостью</td>\n",
       "    </tr>\n",
       "    <tr>\n",
       "      <td>7</td>\n",
       "      <td>автомобиль</td>\n",
       "      <td>покупка автомобиля</td>\n",
       "    </tr>\n",
       "    <tr>\n",
       "      <td>8</td>\n",
       "      <td>профильное образование</td>\n",
       "      <td>получение образования</td>\n",
       "    </tr>\n",
       "    <tr>\n",
       "      <td>9</td>\n",
       "      <td>недвижимость</td>\n",
       "      <td>операции с недвижимостью</td>\n",
       "    </tr>\n",
       "    <tr>\n",
       "      <td>10</td>\n",
       "      <td>операции со своей недвижимостью</td>\n",
       "      <td>операции с недвижимостью</td>\n",
       "    </tr>\n",
       "    <tr>\n",
       "      <td>11</td>\n",
       "      <td>приобретение автомобиля</td>\n",
       "      <td>покупка автомобиля</td>\n",
       "    </tr>\n",
       "    <tr>\n",
       "      <td>12</td>\n",
       "      <td>на покупку своего автомобиля</td>\n",
       "      <td>покупка автомобиля</td>\n",
       "    </tr>\n",
       "    <tr>\n",
       "      <td>13</td>\n",
       "      <td>покупка недвижимости</td>\n",
       "      <td>операции с недвижимостью</td>\n",
       "    </tr>\n",
       "    <tr>\n",
       "      <td>14</td>\n",
       "      <td>на покупку подержанного автомобиля</td>\n",
       "      <td>покупка автомобиля</td>\n",
       "    </tr>\n",
       "    <tr>\n",
       "      <td>15</td>\n",
       "      <td>операции с коммерческой недвижимостью</td>\n",
       "      <td>операции с недвижимостью</td>\n",
       "    </tr>\n",
       "    <tr>\n",
       "      <td>16</td>\n",
       "      <td>получение высшего образования</td>\n",
       "      <td>получение образования</td>\n",
       "    </tr>\n",
       "    <tr>\n",
       "      <td>17</td>\n",
       "      <td>сделка с подержанным автомобилем</td>\n",
       "      <td>покупка автомобиля</td>\n",
       "    </tr>\n",
       "    <tr>\n",
       "      <td>18</td>\n",
       "      <td>операции с жильем</td>\n",
       "      <td>операции с недвижимостью</td>\n",
       "    </tr>\n",
       "    <tr>\n",
       "      <td>19</td>\n",
       "      <td>автомобили</td>\n",
       "      <td>покупка автомобиля</td>\n",
       "    </tr>\n",
       "  </tbody>\n",
       "</table>\n",
       "</div>"
      ],
      "text/plain": [
       "                                   purpose          purpose_category\n",
       "0                            покупка жилья  операции с недвижимостью\n",
       "1   строительство собственной недвижимости  операции с недвижимостью\n",
       "2   строительство собственной недвижимости  операции с недвижимостью\n",
       "3                             недвижимость  операции с недвижимостью\n",
       "4       на покупку подержанного автомобиля        покупка автомобиля\n",
       "5                                    жилье  операции с недвижимостью\n",
       "6                        операции с жильем  операции с недвижимостью\n",
       "7                               автомобиль        покупка автомобиля\n",
       "8                   профильное образование     получение образования\n",
       "9                             недвижимость  операции с недвижимостью\n",
       "10         операции со своей недвижимостью  операции с недвижимостью\n",
       "11                 приобретение автомобиля        покупка автомобиля\n",
       "12            на покупку своего автомобиля        покупка автомобиля\n",
       "13                    покупка недвижимости  операции с недвижимостью\n",
       "14      на покупку подержанного автомобиля        покупка автомобиля\n",
       "15   операции с коммерческой недвижимостью  операции с недвижимостью\n",
       "16           получение высшего образования     получение образования\n",
       "17        сделка с подержанным автомобилем        покупка автомобиля\n",
       "18                       операции с жильем  операции с недвижимостью\n",
       "19                              автомобили        покупка автомобиля"
      ]
     },
     "metadata": {},
     "output_type": "display_data"
    }
   ],
   "source": [
    "def categorize(purpose):\n",
    "    purpose_lemmas = m.lemmatize(purpose)\n",
    "    if 'недвижимость' in purpose_lemmas or 'жилье' in purpose_lemmas or 'строительство' in purpose_lemmas:\n",
    "        return 'операции с недвижимостью'\n",
    "    if 'автомобиль' in purpose_lemmas:\n",
    "        return 'покупка автомобиля'\n",
    "    if 'образование' in purpose_lemmas:\n",
    "        return 'получение образования'\n",
    "    if 'свадьба' in purpose_lemmas:\n",
    "        return 'организация свадьбы'\n",
    "    return 'прочее'\n",
    "\n",
    "data['purpose_category'] = data['purpose'].apply(categorize)\n",
    "\n",
    "display(data[['purpose', 'purpose_category']].head(20))\n"
   ]
  },
  {
   "cell_type": "markdown",
   "metadata": {},
   "source": [
    "**Вывод**"
   ]
  },
  {
   "cell_type": "markdown",
   "metadata": {},
   "source": [
    "Категоризация была проведена в соответствии с выводами в предыдущем пункте. После категоризации я присоединила столбец purpose_category к таблице."
   ]
  },
  {
   "cell_type": "code",
   "execution_count": 7,
   "metadata": {},
   "outputs": [
    {
     "data": {
      "text/html": [
       "<div>\n",
       "<style scoped>\n",
       "    .dataframe tbody tr th:only-of-type {\n",
       "        vertical-align: middle;\n",
       "    }\n",
       "\n",
       "    .dataframe tbody tr th {\n",
       "        vertical-align: top;\n",
       "    }\n",
       "\n",
       "    .dataframe thead th {\n",
       "        text-align: right;\n",
       "    }\n",
       "</style>\n",
       "<table border=\"1\" class=\"dataframe\">\n",
       "  <thead>\n",
       "    <tr style=\"text-align: right;\">\n",
       "      <th></th>\n",
       "      <th>education_id</th>\n",
       "      <th>education</th>\n",
       "    </tr>\n",
       "  </thead>\n",
       "  <tbody>\n",
       "    <tr>\n",
       "      <td>0</td>\n",
       "      <td>0</td>\n",
       "      <td>высшее</td>\n",
       "    </tr>\n",
       "    <tr>\n",
       "      <td>1249</td>\n",
       "      <td>1</td>\n",
       "      <td>среднее</td>\n",
       "    </tr>\n",
       "    <tr>\n",
       "      <td>8007</td>\n",
       "      <td>2</td>\n",
       "      <td>неоконченное высшее</td>\n",
       "    </tr>\n",
       "    <tr>\n",
       "      <td>9340</td>\n",
       "      <td>3</td>\n",
       "      <td>начальное</td>\n",
       "    </tr>\n",
       "    <tr>\n",
       "      <td>11081</td>\n",
       "      <td>4</td>\n",
       "      <td>ученая степень</td>\n",
       "    </tr>\n",
       "  </tbody>\n",
       "</table>\n",
       "</div>"
      ],
      "text/plain": [
       "       education_id            education\n",
       "0                 0               высшее\n",
       "1249              1              среднее\n",
       "8007              2  неоконченное высшее\n",
       "9340              3            начальное\n",
       "11081             4       ученая степень"
      ]
     },
     "metadata": {},
     "output_type": "display_data"
    },
    {
     "data": {
      "text/html": [
       "<div>\n",
       "<style scoped>\n",
       "    .dataframe tbody tr th:only-of-type {\n",
       "        vertical-align: middle;\n",
       "    }\n",
       "\n",
       "    .dataframe tbody tr th {\n",
       "        vertical-align: top;\n",
       "    }\n",
       "\n",
       "    .dataframe thead th {\n",
       "        text-align: right;\n",
       "    }\n",
       "</style>\n",
       "<table border=\"1\" class=\"dataframe\">\n",
       "  <thead>\n",
       "    <tr style=\"text-align: right;\">\n",
       "      <th></th>\n",
       "      <th>family_status</th>\n",
       "      <th>family_status_id</th>\n",
       "    </tr>\n",
       "  </thead>\n",
       "  <tbody>\n",
       "    <tr>\n",
       "      <td>0</td>\n",
       "      <td>женат / замужем</td>\n",
       "      <td>0</td>\n",
       "    </tr>\n",
       "    <tr>\n",
       "      <td>5809</td>\n",
       "      <td>гражданский брак</td>\n",
       "      <td>1</td>\n",
       "    </tr>\n",
       "    <tr>\n",
       "      <td>8159</td>\n",
       "      <td>вдовец / вдова</td>\n",
       "      <td>2</td>\n",
       "    </tr>\n",
       "    <tr>\n",
       "      <td>8377</td>\n",
       "      <td>в разводе</td>\n",
       "      <td>3</td>\n",
       "    </tr>\n",
       "    <tr>\n",
       "      <td>8400</td>\n",
       "      <td>Не женат / не замужем</td>\n",
       "      <td>4</td>\n",
       "    </tr>\n",
       "  </tbody>\n",
       "</table>\n",
       "</div>"
      ],
      "text/plain": [
       "              family_status  family_status_id\n",
       "0           женат / замужем                 0\n",
       "5809       гражданский брак                 1\n",
       "8159         вдовец / вдова                 2\n",
       "8377              в разводе                 3\n",
       "8400  Не женат / не замужем                 4"
      ]
     },
     "metadata": {},
     "output_type": "display_data"
    },
    {
     "data": {
      "text/html": [
       "<div>\n",
       "<style scoped>\n",
       "    .dataframe tbody tr th:only-of-type {\n",
       "        vertical-align: middle;\n",
       "    }\n",
       "\n",
       "    .dataframe tbody tr th {\n",
       "        vertical-align: top;\n",
       "    }\n",
       "\n",
       "    .dataframe thead th {\n",
       "        text-align: right;\n",
       "    }\n",
       "</style>\n",
       "<table border=\"1\" class=\"dataframe\">\n",
       "  <thead>\n",
       "    <tr style=\"text-align: right;\">\n",
       "      <th></th>\n",
       "      <th>family_status</th>\n",
       "      <th>family_status_id</th>\n",
       "    </tr>\n",
       "  </thead>\n",
       "  <tbody>\n",
       "    <tr>\n",
       "      <td>0</td>\n",
       "      <td>женат / замужем</td>\n",
       "      <td>0</td>\n",
       "    </tr>\n",
       "    <tr>\n",
       "      <td>5809</td>\n",
       "      <td>гражданский брак</td>\n",
       "      <td>1</td>\n",
       "    </tr>\n",
       "    <tr>\n",
       "      <td>8159</td>\n",
       "      <td>вдовец / вдова</td>\n",
       "      <td>2</td>\n",
       "    </tr>\n",
       "    <tr>\n",
       "      <td>8377</td>\n",
       "      <td>в разводе</td>\n",
       "      <td>3</td>\n",
       "    </tr>\n",
       "    <tr>\n",
       "      <td>8400</td>\n",
       "      <td>не женат / не замужем</td>\n",
       "      <td>4</td>\n",
       "    </tr>\n",
       "  </tbody>\n",
       "</table>\n",
       "</div>"
      ],
      "text/plain": [
       "              family_status  family_status_id\n",
       "0           женат / замужем                 0\n",
       "5809       гражданский брак                 1\n",
       "8159         вдовец / вдова                 2\n",
       "8377              в разводе                 3\n",
       "8400  не женат / не замужем                 4"
      ]
     },
     "metadata": {},
     "output_type": "display_data"
    }
   ],
   "source": [
    "display(data[['education_id', 'education']].drop_duplicates())\n",
    "display(data[['family_status', 'family_status_id']].drop_duplicates())\n",
    "data['family_status'] = data['family_status'].str.lower()\n",
    "display(data[['family_status', 'family_status_id']].drop_duplicates())"
   ]
  },
  {
   "cell_type": "markdown",
   "metadata": {},
   "source": [
    "## Ответы на вопросы"
   ]
  },
  {
   "cell_type": "markdown",
   "metadata": {},
   "source": [
    "- Есть ли зависимость между наличием детей и возвратом кредита в срок?"
   ]
  },
  {
   "cell_type": "code",
   "execution_count": 8,
   "metadata": {},
   "outputs": [
    {
     "data": {
      "text/html": [
       "<div>\n",
       "<style scoped>\n",
       "    .dataframe tbody tr th:only-of-type {\n",
       "        vertical-align: middle;\n",
       "    }\n",
       "\n",
       "    .dataframe tbody tr th {\n",
       "        vertical-align: top;\n",
       "    }\n",
       "\n",
       "    .dataframe thead th {\n",
       "        text-align: right;\n",
       "    }\n",
       "</style>\n",
       "<table border=\"1\" class=\"dataframe\">\n",
       "  <thead>\n",
       "    <tr style=\"text-align: right;\">\n",
       "      <th></th>\n",
       "      <th>total</th>\n",
       "      <th>debt</th>\n",
       "      <th>%</th>\n",
       "    </tr>\n",
       "    <tr>\n",
       "      <th>children</th>\n",
       "      <th></th>\n",
       "      <th></th>\n",
       "      <th></th>\n",
       "    </tr>\n",
       "  </thead>\n",
       "  <tbody>\n",
       "    <tr>\n",
       "      <td>-1</td>\n",
       "      <td>47</td>\n",
       "      <td>1</td>\n",
       "      <td>0.021277</td>\n",
       "    </tr>\n",
       "    <tr>\n",
       "      <td>0</td>\n",
       "      <td>14107</td>\n",
       "      <td>1063</td>\n",
       "      <td>0.075353</td>\n",
       "    </tr>\n",
       "    <tr>\n",
       "      <td>1</td>\n",
       "      <td>4809</td>\n",
       "      <td>444</td>\n",
       "      <td>0.092327</td>\n",
       "    </tr>\n",
       "    <tr>\n",
       "      <td>2</td>\n",
       "      <td>2052</td>\n",
       "      <td>194</td>\n",
       "      <td>0.094542</td>\n",
       "    </tr>\n",
       "    <tr>\n",
       "      <td>3</td>\n",
       "      <td>330</td>\n",
       "      <td>27</td>\n",
       "      <td>0.081818</td>\n",
       "    </tr>\n",
       "    <tr>\n",
       "      <td>4</td>\n",
       "      <td>41</td>\n",
       "      <td>4</td>\n",
       "      <td>0.097561</td>\n",
       "    </tr>\n",
       "    <tr>\n",
       "      <td>5</td>\n",
       "      <td>9</td>\n",
       "      <td>0</td>\n",
       "      <td>0.000000</td>\n",
       "    </tr>\n",
       "    <tr>\n",
       "      <td>20</td>\n",
       "      <td>76</td>\n",
       "      <td>8</td>\n",
       "      <td>0.105263</td>\n",
       "    </tr>\n",
       "  </tbody>\n",
       "</table>\n",
       "</div>"
      ],
      "text/plain": [
       "          total  debt         %\n",
       "children                       \n",
       "-1           47     1  0.021277\n",
       " 0        14107  1063  0.075353\n",
       " 1         4809   444  0.092327\n",
       " 2         2052   194  0.094542\n",
       " 3          330    27  0.081818\n",
       " 4           41     4  0.097561\n",
       " 5            9     0  0.000000\n",
       " 20          76     8  0.105263"
      ]
     },
     "metadata": {},
     "output_type": "display_data"
    }
   ],
   "source": [
    "children_correlation = data.groupby('children').agg({'debt': ['count', 'sum', 'mean']})\n",
    "children_correlation.columns = ['total', 'debt', '%']\n",
    "display(children_correlation)"
   ]
  },
  {
   "cell_type": "markdown",
   "metadata": {},
   "source": [
    "**Вывод**"
   ]
  },
  {
   "cell_type": "markdown",
   "metadata": {},
   "source": [
    "Да, те, у кого есть дети, более склонны к образованию просроченной кредиторской задолженности. Берут кредиты чаще бездетные в этом датасете."
   ]
  },
  {
   "cell_type": "markdown",
   "metadata": {},
   "source": [
    "- Есть ли зависимость между семейным положением и возвратом кредита в срок?"
   ]
  },
  {
   "cell_type": "code",
   "execution_count": 9,
   "metadata": {},
   "outputs": [
    {
     "data": {
      "text/html": [
       "<div>\n",
       "<style scoped>\n",
       "    .dataframe tbody tr th:only-of-type {\n",
       "        vertical-align: middle;\n",
       "    }\n",
       "\n",
       "    .dataframe tbody tr th {\n",
       "        vertical-align: top;\n",
       "    }\n",
       "\n",
       "    .dataframe thead th {\n",
       "        text-align: right;\n",
       "    }\n",
       "</style>\n",
       "<table border=\"1\" class=\"dataframe\">\n",
       "  <thead>\n",
       "    <tr style=\"text-align: right;\">\n",
       "      <th></th>\n",
       "      <th>total</th>\n",
       "      <th>debt</th>\n",
       "      <th>%</th>\n",
       "    </tr>\n",
       "    <tr>\n",
       "      <th>family_status</th>\n",
       "      <th></th>\n",
       "      <th></th>\n",
       "      <th></th>\n",
       "    </tr>\n",
       "  </thead>\n",
       "  <tbody>\n",
       "    <tr>\n",
       "      <td>в разводе</td>\n",
       "      <td>1195</td>\n",
       "      <td>85</td>\n",
       "      <td>0.071130</td>\n",
       "    </tr>\n",
       "    <tr>\n",
       "      <td>вдовец / вдова</td>\n",
       "      <td>959</td>\n",
       "      <td>63</td>\n",
       "      <td>0.065693</td>\n",
       "    </tr>\n",
       "    <tr>\n",
       "      <td>гражданский брак</td>\n",
       "      <td>4163</td>\n",
       "      <td>388</td>\n",
       "      <td>0.093202</td>\n",
       "    </tr>\n",
       "    <tr>\n",
       "      <td>женат / замужем</td>\n",
       "      <td>12344</td>\n",
       "      <td>931</td>\n",
       "      <td>0.075421</td>\n",
       "    </tr>\n",
       "    <tr>\n",
       "      <td>не женат / не замужем</td>\n",
       "      <td>2810</td>\n",
       "      <td>274</td>\n",
       "      <td>0.097509</td>\n",
       "    </tr>\n",
       "  </tbody>\n",
       "</table>\n",
       "</div>"
      ],
      "text/plain": [
       "                       total  debt         %\n",
       "family_status                               \n",
       "в разводе               1195    85  0.071130\n",
       "вдовец / вдова           959    63  0.065693\n",
       "гражданский брак        4163   388  0.093202\n",
       "женат / замужем        12344   931  0.075421\n",
       "не женат / не замужем   2810   274  0.097509"
      ]
     },
     "metadata": {},
     "output_type": "display_data"
    }
   ],
   "source": [
    "family_status_correlation = data.groupby('family_status').agg({'debt': ['count', 'sum', 'mean']})\n",
    "family_status_correlation.columns = ['total', 'debt', '%']\n",
    "display(family_status_correlation)"
   ]
  },
  {
   "cell_type": "markdown",
   "metadata": {},
   "source": [
    "**Вывод**"
   ]
  },
  {
   "cell_type": "markdown",
   "metadata": {},
   "source": [
    "Холостые, незамужние и состоящие в гражданском браке реже возвращают кредит в срок. А женатые, замужние и разведённые лучше исполняют условия кредитного договора. А вот мечта банков, как это ни цинично звучит - овдовевшие люди, но они и реже всех берут кредит."
   ]
  },
  {
   "cell_type": "markdown",
   "metadata": {},
   "source": [
    "- Есть ли зависимость между уровнем дохода и возвратом кредита в срок?"
   ]
  },
  {
   "cell_type": "code",
   "execution_count": 10,
   "metadata": {},
   "outputs": [
    {
     "data": {
      "text/html": [
       "<div>\n",
       "<style scoped>\n",
       "    .dataframe tbody tr th:only-of-type {\n",
       "        vertical-align: middle;\n",
       "    }\n",
       "\n",
       "    .dataframe tbody tr th {\n",
       "        vertical-align: top;\n",
       "    }\n",
       "\n",
       "    .dataframe thead th {\n",
       "        text-align: right;\n",
       "    }\n",
       "</style>\n",
       "<table border=\"1\" class=\"dataframe\">\n",
       "  <thead>\n",
       "    <tr style=\"text-align: right;\">\n",
       "      <th></th>\n",
       "      <th>total_income</th>\n",
       "      <th>income_category</th>\n",
       "    </tr>\n",
       "  </thead>\n",
       "  <tbody>\n",
       "    <tr>\n",
       "      <td>0</td>\n",
       "      <td>253875.639453</td>\n",
       "      <td>высокий уровень дохода</td>\n",
       "    </tr>\n",
       "    <tr>\n",
       "      <td>1</td>\n",
       "      <td>308848.983691</td>\n",
       "      <td>высокий уровень дохода</td>\n",
       "    </tr>\n",
       "    <tr>\n",
       "      <td>2</td>\n",
       "      <td>187863.237306</td>\n",
       "      <td>средний уровень дохода</td>\n",
       "    </tr>\n",
       "    <tr>\n",
       "      <td>3</td>\n",
       "      <td>414404.202897</td>\n",
       "      <td>высокий уровень дохода</td>\n",
       "    </tr>\n",
       "    <tr>\n",
       "      <td>4</td>\n",
       "      <td>148992.030010</td>\n",
       "      <td>средний уровень дохода</td>\n",
       "    </tr>\n",
       "    <tr>\n",
       "      <td>5</td>\n",
       "      <td>142594.396847</td>\n",
       "      <td>средний уровень дохода</td>\n",
       "    </tr>\n",
       "    <tr>\n",
       "      <td>6</td>\n",
       "      <td>142594.396847</td>\n",
       "      <td>средний уровень дохода</td>\n",
       "    </tr>\n",
       "    <tr>\n",
       "      <td>7</td>\n",
       "      <td>94187.878082</td>\n",
       "      <td>средний уровень дохода</td>\n",
       "    </tr>\n",
       "    <tr>\n",
       "      <td>8</td>\n",
       "      <td>142594.396847</td>\n",
       "      <td>средний уровень дохода</td>\n",
       "    </tr>\n",
       "    <tr>\n",
       "      <td>9</td>\n",
       "      <td>280934.305869</td>\n",
       "      <td>высокий уровень дохода</td>\n",
       "    </tr>\n",
       "  </tbody>\n",
       "</table>\n",
       "</div>"
      ],
      "text/plain": [
       "    total_income         income_category\n",
       "0  253875.639453  высокий уровень дохода\n",
       "1  308848.983691  высокий уровень дохода\n",
       "2  187863.237306  средний уровень дохода\n",
       "3  414404.202897  высокий уровень дохода\n",
       "4  148992.030010  средний уровень дохода\n",
       "5  142594.396847  средний уровень дохода\n",
       "6  142594.396847  средний уровень дохода\n",
       "7   94187.878082  средний уровень дохода\n",
       "8  142594.396847  средний уровень дохода\n",
       "9  280934.305869  высокий уровень дохода"
      ]
     },
     "metadata": {},
     "output_type": "display_data"
    }
   ],
   "source": [
    "def categorize_income(total_income):\n",
    "    median_total_income = data['total_income'].median()\n",
    "\n",
    "    if total_income <= 0.5 * median_total_income:\n",
    "        return 'низкий уровень дохода'\n",
    "    if total_income >= 1.5 * median_total_income:\n",
    "        return 'высокий уровень дохода'\n",
    "    return 'средний уровень дохода'\n",
    "\n",
    "data['income_category'] = data['total_income'].apply(categorize_income)\n",
    "\n",
    "display(data[['total_income', 'income_category']].head(10))\n"
   ]
  },
  {
   "cell_type": "code",
   "execution_count": 11,
   "metadata": {},
   "outputs": [
    {
     "data": {
      "text/html": [
       "<div>\n",
       "<style scoped>\n",
       "    .dataframe tbody tr th:only-of-type {\n",
       "        vertical-align: middle;\n",
       "    }\n",
       "\n",
       "    .dataframe tbody tr th {\n",
       "        vertical-align: top;\n",
       "    }\n",
       "\n",
       "    .dataframe thead th {\n",
       "        text-align: right;\n",
       "    }\n",
       "</style>\n",
       "<table border=\"1\" class=\"dataframe\">\n",
       "  <thead>\n",
       "    <tr style=\"text-align: right;\">\n",
       "      <th></th>\n",
       "      <th>no_debt</th>\n",
       "      <th>debt</th>\n",
       "      <th>%</th>\n",
       "    </tr>\n",
       "    <tr>\n",
       "      <th>income_category</th>\n",
       "      <th></th>\n",
       "      <th></th>\n",
       "      <th></th>\n",
       "    </tr>\n",
       "  </thead>\n",
       "  <tbody>\n",
       "    <tr>\n",
       "      <td>высокий уровень дохода</td>\n",
       "      <td>4016</td>\n",
       "      <td>304</td>\n",
       "      <td>0.070370</td>\n",
       "    </tr>\n",
       "    <tr>\n",
       "      <td>низкий уровень дохода</td>\n",
       "      <td>1470</td>\n",
       "      <td>109</td>\n",
       "      <td>0.069031</td>\n",
       "    </tr>\n",
       "    <tr>\n",
       "      <td>средний уровень дохода</td>\n",
       "      <td>14244</td>\n",
       "      <td>1328</td>\n",
       "      <td>0.085281</td>\n",
       "    </tr>\n",
       "  </tbody>\n",
       "</table>\n",
       "</div>"
      ],
      "text/plain": [
       "                        no_debt  debt         %\n",
       "income_category                                \n",
       "высокий уровень дохода     4016   304  0.070370\n",
       "низкий уровень дохода      1470   109  0.069031\n",
       "средний уровень дохода    14244  1328  0.085281"
      ]
     },
     "metadata": {},
     "output_type": "display_data"
    }
   ],
   "source": [
    "income_correlation = data.pivot_table(index = 'income_category', columns = 'debt', values = 'total_income', aggfunc = 'count')\n",
    "income_correlation.columns = ['no_debt', 'debt']\n",
    "income_correlation['%'] = income_correlation['debt'] / (income_correlation['debt'] + income_correlation['no_debt'])\n",
    "display(income_correlation)"
   ]
  },
  {
   "cell_type": "markdown",
   "metadata": {},
   "source": [
    "**Вывод**"
   ]
  },
  {
   "cell_type": "markdown",
   "metadata": {},
   "source": [
    "Для начала необходимо было категоризировать доход на низкий, средний и высокий. Всё, что ниже 0,5 медианы, я причислила к низкому, всё, что выше 1,5 медианы - к высокому. Остальное - средний доход.\n",
    "\n",
    "Как это ни парадоксально, люди с низким уровнем дохода более дисциплинированы в кредитных отношениях, чем люди с высоким уровнем дохода. А у \"середнячков\" наибольшая вероятность уйсти в просрочку.\n"
   ]
  },
  {
   "cell_type": "markdown",
   "metadata": {},
   "source": [
    "- Как разные цели кредита влияют на его возврат в срок?"
   ]
  },
  {
   "cell_type": "code",
   "execution_count": 12,
   "metadata": {},
   "outputs": [
    {
     "data": {
      "text/html": [
       "<div>\n",
       "<style scoped>\n",
       "    .dataframe tbody tr th:only-of-type {\n",
       "        vertical-align: middle;\n",
       "    }\n",
       "\n",
       "    .dataframe tbody tr th {\n",
       "        vertical-align: top;\n",
       "    }\n",
       "\n",
       "    .dataframe thead th {\n",
       "        text-align: right;\n",
       "    }\n",
       "</style>\n",
       "<table border=\"1\" class=\"dataframe\">\n",
       "  <thead>\n",
       "    <tr style=\"text-align: right;\">\n",
       "      <th></th>\n",
       "      <th>total</th>\n",
       "      <th>debt</th>\n",
       "      <th>%</th>\n",
       "    </tr>\n",
       "    <tr>\n",
       "      <th>purpose_category</th>\n",
       "      <th></th>\n",
       "      <th></th>\n",
       "      <th></th>\n",
       "    </tr>\n",
       "  </thead>\n",
       "  <tbody>\n",
       "    <tr>\n",
       "      <td>операции с недвижимостью</td>\n",
       "      <td>10814</td>\n",
       "      <td>782</td>\n",
       "      <td>0.072314</td>\n",
       "    </tr>\n",
       "    <tr>\n",
       "      <td>организация свадьбы</td>\n",
       "      <td>2335</td>\n",
       "      <td>186</td>\n",
       "      <td>0.079657</td>\n",
       "    </tr>\n",
       "    <tr>\n",
       "      <td>покупка автомобиля</td>\n",
       "      <td>4308</td>\n",
       "      <td>403</td>\n",
       "      <td>0.093547</td>\n",
       "    </tr>\n",
       "    <tr>\n",
       "      <td>получение образования</td>\n",
       "      <td>4014</td>\n",
       "      <td>370</td>\n",
       "      <td>0.092177</td>\n",
       "    </tr>\n",
       "  </tbody>\n",
       "</table>\n",
       "</div>"
      ],
      "text/plain": [
       "                          total  debt         %\n",
       "purpose_category                               \n",
       "операции с недвижимостью  10814   782  0.072314\n",
       "организация свадьбы        2335   186  0.079657\n",
       "покупка автомобиля         4308   403  0.093547\n",
       "получение образования      4014   370  0.092177"
      ]
     },
     "metadata": {},
     "output_type": "display_data"
    }
   ],
   "source": [
    "purpose_category_correlation = data.groupby('purpose_category').agg({'debt': ['count', 'sum', 'mean']})\n",
    "purpose_category_correlation.columns = ['total', 'debt', '%']\n",
    "display(purpose_category_correlation)"
   ]
  },
  {
   "cell_type": "markdown",
   "metadata": {},
   "source": [
    "**Вывод**"
   ]
  },
  {
   "cell_type": "markdown",
   "metadata": {},
   "source": [
    "Автомобилисты и студенты - наименее надёжные кредиторы. А берущие кредит на свадьбу имеют ровно такой же риск просрочки как и домовладельцы."
   ]
  },
  {
   "cell_type": "markdown",
   "metadata": {},
   "source": [
    "## Общий вывод"
   ]
  },
  {
   "cell_type": "markdown",
   "metadata": {},
   "source": [
    "Датасет, предложенный к анализу, содержал в себе много информации, местами сырой, которую нужно было \"довести до ума\", чтобы сделать пригодной к анализу. \n",
    "Сначала был проведён общий обзор таблицы, который показал общую картину, ознакомил с названиями столбцов и данными внутри них. Также общий обзор помогает построить дизайн исследования, определить его этапы, чтобы решить поставленную задачу.\n",
    "Данных для подтверждения или опровержения гипотез достаточно - в таблице 21525 строк и 12 столбцов.\n",
    "\n",
    "В столбце days_employed имеются отрицательные значения, столбец children имеет значение -1, столбцы days_employed и total_income имеют одинаковое количество пропусков. Возможно, это техническая ошибка, с которой следует поразбираться.\n",
    "Со столбцами days_employed и total_income была проведена работа по нахождению пропусков, замене значений. В\tdays_employed пропуски были заполнены медианными значениями, сгруппированными по столбцам family_status, education. В total_income группировка и медиана были сделаны по столбцу income_type, предположив, что доход зависим от его типа.\n",
    "\n",
    "Трудовой стаж в днях имел тип \"вещественное число\", был заменён на положительное, целое и данные приведены к единой системе измерения.\n",
    "\n",
    "Явные дубликаты были удалены методом drop_duplicates с обновлением идексов.\n",
    "\n",
    "В столбце education все значения были приведены в нижний регистр.\n",
    "\n",
    "Есть предположение, что пропуски, дубликаты, отрицательные значения связаны с выгрузкой данных или/и ошибках при их обогащении.\n",
    "\n",
    "С помощью лемматизации была произведена категоризация данных:\n",
    "-\tесли леммы: недвижимость, жильё, строительство, то были отнесены к категории цели \"операции с недвижимостью\"\n",
    "-\tесли леммы: автомобиль - \"покупка автомобиля\"\n",
    "-\tсвадьба - \"организация свадьбы\"\n",
    "-\tобразование - \"получение образования\"\n",
    "-\tиначе - \"прочее\"\n",
    "\n",
    "Выбор лемм был сделан по частоте встречаемости в таблице. После категоризации я присоединила столбец purpose_category к таблице. \n",
    "\n",
    "После работы по предобработке данных стало возможным выяснить корреляцию. Были использованы groupby, agg и pivot_table.\n",
    "\n",
    "Те, у кого есть дети, более склонны к образованию просроченной кредиторской задолженности. Берут кредиты чаще бездетные в этом датасете.\n",
    "Холостые, незамужние и состоящие в гражданском браке реже возвращают кредит в срок. А женатые, замужние и разведённые лучше исполняют условия кредитного договора. А вот мечта банков, как это ни цинично звучит - овдовевшие люди, но они и реже всех берут кредит.\n",
    "Чтобы понять зависимость от дохода, нужно было сначала его категоризировать на низкий, средний и высокий. Всё, что ниже 0,5 медианы, было причислено к низкому, всё, что выше 1,5 медианы - к высокому. Остальное - средний доход.\n",
    "Как это ни парадоксально, люди с низким уровнем дохода более дисциплинированы в кредитных отношениях, чем люди с высоким уровнем дохода. А у \"середнячков\" наибольшая вероятность уйсти в просрочку.\n",
    "По целям кредита результат следующий: автомобилисты и студенты - наименее надёжные кредиторы. А берущие кредит на свадьбу имеют  такой же риск просрочки как и домовладельцы.\n",
    "\n",
    "Итак, поставленные задачи выполнены, однако данные говорят о том, что они ещё не окончательно проанализированы. Для разработки модели кредитного скоринга необходимо выяснить и другие корреляции. Например, между возвратом долга в срок и трудовым стажем или полом."
   ]
  }
 ],
 "metadata": {
  "ExecuteTimeLog": [
   {
    "duration": 670,
    "start_time": "2021-12-21T07:21:31.155Z"
   },
   {
    "duration": 56,
    "start_time": "2021-12-21T07:21:51.845Z"
   },
   {
    "duration": 62,
    "start_time": "2021-12-21T07:24:40.048Z"
   },
   {
    "duration": 5,
    "start_time": "2021-12-21T08:38:52.797Z"
   },
   {
    "duration": 457,
    "start_time": "2021-12-21T08:44:56.994Z"
   },
   {
    "duration": 385,
    "start_time": "2021-12-21T08:45:06.530Z"
   },
   {
    "duration": 374,
    "start_time": "2021-12-21T08:45:16.744Z"
   },
   {
    "duration": 5,
    "start_time": "2021-12-21T08:45:23.088Z"
   },
   {
    "duration": 530,
    "start_time": "2021-12-21T08:47:03.494Z"
   },
   {
    "duration": 741,
    "start_time": "2021-12-21T08:47:11.802Z"
   },
   {
    "duration": 5,
    "start_time": "2021-12-21T08:47:45.840Z"
   },
   {
    "duration": 128,
    "start_time": "2021-12-21T09:15:24.064Z"
   },
   {
    "duration": 110,
    "start_time": "2021-12-21T09:15:45.143Z"
   },
   {
    "duration": 12,
    "start_time": "2021-12-21T09:16:36.063Z"
   },
   {
    "duration": 23,
    "start_time": "2021-12-21T09:18:34.104Z"
   },
   {
    "duration": 1304,
    "start_time": "2021-12-21T09:21:39.273Z"
   },
   {
    "duration": 26,
    "start_time": "2021-12-21T09:26:02.294Z"
   },
   {
    "duration": 43,
    "start_time": "2021-12-21T09:28:38.311Z"
   },
   {
    "duration": 50,
    "start_time": "2021-12-21T09:31:19.057Z"
   },
   {
    "duration": 39,
    "start_time": "2021-12-21T09:31:39.533Z"
   },
   {
    "duration": 45,
    "start_time": "2021-12-21T09:36:12.866Z"
   },
   {
    "duration": 8964,
    "start_time": "2021-12-21T09:45:05.077Z"
   },
   {
    "duration": 465,
    "start_time": "2021-12-21T09:45:33.016Z"
   },
   {
    "duration": 9218,
    "start_time": "2021-12-21T09:45:44.474Z"
   },
   {
    "duration": 43,
    "start_time": "2021-12-21T09:46:05.865Z"
   },
   {
    "duration": 9568,
    "start_time": "2021-12-21T09:46:51.655Z"
   },
   {
    "duration": 64,
    "start_time": "2021-12-21T09:47:11.445Z"
   },
   {
    "duration": 30,
    "start_time": "2021-12-21T09:47:11.511Z"
   },
   {
    "duration": 11305,
    "start_time": "2021-12-21T09:47:42.665Z"
   },
   {
    "duration": 64,
    "start_time": "2021-12-21T09:48:13.268Z"
   },
   {
    "duration": 38,
    "start_time": "2021-12-21T09:48:13.334Z"
   },
   {
    "duration": 62,
    "start_time": "2021-12-21T09:50:36.491Z"
   },
   {
    "duration": 30,
    "start_time": "2021-12-21T09:50:36.555Z"
   },
   {
    "duration": 61,
    "start_time": "2021-12-21T09:51:25.861Z"
   },
   {
    "duration": 42,
    "start_time": "2021-12-21T09:51:25.924Z"
   },
   {
    "duration": 61,
    "start_time": "2021-12-21T09:53:49.965Z"
   },
   {
    "duration": 39,
    "start_time": "2021-12-21T09:53:50.029Z"
   },
   {
    "duration": 62,
    "start_time": "2021-12-21T09:55:18.632Z"
   },
   {
    "duration": 41,
    "start_time": "2021-12-21T09:55:18.696Z"
   },
   {
    "duration": 64,
    "start_time": "2021-12-21T09:56:03.990Z"
   },
   {
    "duration": 57,
    "start_time": "2021-12-21T09:56:04.056Z"
   },
   {
    "duration": -137,
    "start_time": "2021-12-21T09:56:41.593Z"
   },
   {
    "duration": -144,
    "start_time": "2021-12-21T09:56:41.601Z"
   },
   {
    "duration": 66,
    "start_time": "2021-12-21T09:56:42.495Z"
   },
   {
    "duration": 52,
    "start_time": "2021-12-21T09:56:42.563Z"
   },
   {
    "duration": 62,
    "start_time": "2021-12-21T09:57:18.667Z"
   },
   {
    "duration": 40,
    "start_time": "2021-12-21T09:57:18.731Z"
   },
   {
    "duration": 62,
    "start_time": "2021-12-21T09:57:50.757Z"
   },
   {
    "duration": 40,
    "start_time": "2021-12-21T09:57:50.821Z"
   },
   {
    "duration": 65,
    "start_time": "2021-12-21T10:22:09.223Z"
   },
   {
    "duration": 38,
    "start_time": "2021-12-21T10:22:09.290Z"
   },
   {
    "duration": 61,
    "start_time": "2021-12-21T10:24:53.264Z"
   },
   {
    "duration": 36,
    "start_time": "2021-12-21T10:24:53.327Z"
   },
   {
    "duration": 64,
    "start_time": "2021-12-21T10:30:09.921Z"
   },
   {
    "duration": 38,
    "start_time": "2021-12-21T10:30:09.987Z"
   },
   {
    "duration": -214,
    "start_time": "2021-12-21T10:31:00.202Z"
   },
   {
    "duration": -216,
    "start_time": "2021-12-21T10:31:00.204Z"
   },
   {
    "duration": 93,
    "start_time": "2021-12-21T10:31:04.508Z"
   },
   {
    "duration": 37,
    "start_time": "2021-12-21T10:31:04.603Z"
   },
   {
    "duration": 63,
    "start_time": "2021-12-21T10:32:05.291Z"
   },
   {
    "duration": 57,
    "start_time": "2021-12-21T10:32:05.356Z"
   },
   {
    "duration": 83,
    "start_time": "2021-12-21T10:33:07.886Z"
   },
   {
    "duration": 79,
    "start_time": "2021-12-21T10:33:07.972Z"
   },
   {
    "duration": 64,
    "start_time": "2021-12-21T10:35:54.262Z"
   },
   {
    "duration": 1057,
    "start_time": "2021-12-21T10:35:54.328Z"
   },
   {
    "duration": 66,
    "start_time": "2021-12-21T10:36:25.841Z"
   },
   {
    "duration": 108,
    "start_time": "2021-12-21T10:36:25.909Z"
   },
   {
    "duration": 7,
    "start_time": "2021-12-21T10:59:23.503Z"
   },
   {
    "duration": 63,
    "start_time": "2021-12-21T10:59:29.440Z"
   },
   {
    "duration": 66,
    "start_time": "2021-12-21T10:59:29.505Z"
   },
   {
    "duration": 7,
    "start_time": "2021-12-21T10:59:29.573Z"
   },
   {
    "duration": 22,
    "start_time": "2021-12-21T10:59:56.003Z"
   },
   {
    "duration": 427,
    "start_time": "2021-12-21T11:01:05.032Z"
   },
   {
    "duration": 16,
    "start_time": "2021-12-21T11:01:19.148Z"
   },
   {
    "duration": 12,
    "start_time": "2021-12-21T11:02:36.992Z"
   },
   {
    "duration": 38,
    "start_time": "2021-12-21T11:03:13.642Z"
   },
   {
    "duration": 23,
    "start_time": "2021-12-21T11:04:59.182Z"
   },
   {
    "duration": 18,
    "start_time": "2021-12-21T12:52:45.920Z"
   },
   {
    "duration": 2024,
    "start_time": "2021-12-21T12:54:59.134Z"
   },
   {
    "duration": 2021,
    "start_time": "2021-12-21T12:54:59.138Z"
   },
   {
    "duration": 2019,
    "start_time": "2021-12-21T12:54:59.141Z"
   },
   {
    "duration": 2016,
    "start_time": "2021-12-21T12:54:59.145Z"
   },
   {
    "duration": 363,
    "start_time": "2021-12-21T12:55:49.590Z"
   },
   {
    "duration": 649,
    "start_time": "2021-12-21T12:56:03.606Z"
   },
   {
    "duration": 43,
    "start_time": "2021-12-21T12:56:10.216Z"
   },
   {
    "duration": 17,
    "start_time": "2021-12-21T12:57:06.241Z"
   },
   {
    "duration": 66,
    "start_time": "2021-12-21T12:57:10.536Z"
   },
   {
    "duration": 71,
    "start_time": "2021-12-21T12:57:10.605Z"
   },
   {
    "duration": 42,
    "start_time": "2021-12-21T12:57:10.678Z"
   },
   {
    "duration": 17,
    "start_time": "2021-12-21T12:57:10.722Z"
   },
   {
    "duration": 341,
    "start_time": "2021-12-21T13:02:22.291Z"
   },
   {
    "duration": 347,
    "start_time": "2021-12-21T13:04:36.680Z"
   },
   {
    "duration": 226,
    "start_time": "2021-12-21T13:07:01.681Z"
   },
   {
    "duration": 18,
    "start_time": "2021-12-21T13:07:11.760Z"
   },
   {
    "duration": 33,
    "start_time": "2021-12-21T13:07:18.753Z"
   },
   {
    "duration": 47,
    "start_time": "2021-12-21T13:08:11.591Z"
   },
   {
    "duration": 62,
    "start_time": "2021-12-21T13:08:19.850Z"
   },
   {
    "duration": 73,
    "start_time": "2021-12-21T13:08:19.914Z"
   },
   {
    "duration": 38,
    "start_time": "2021-12-21T13:08:19.989Z"
   },
   {
    "duration": 45,
    "start_time": "2021-12-21T13:08:20.029Z"
   },
   {
    "duration": 36,
    "start_time": "2021-12-21T13:09:26.161Z"
   },
   {
    "duration": 64,
    "start_time": "2021-12-21T13:09:32.829Z"
   },
   {
    "duration": 64,
    "start_time": "2021-12-21T13:09:32.895Z"
   },
   {
    "duration": 52,
    "start_time": "2021-12-21T13:09:32.961Z"
   },
   {
    "duration": 35,
    "start_time": "2021-12-21T13:09:33.015Z"
   },
   {
    "duration": 39,
    "start_time": "2021-12-21T13:11:22.449Z"
   },
   {
    "duration": 42,
    "start_time": "2021-12-21T13:12:05.259Z"
   },
   {
    "duration": 64,
    "start_time": "2021-12-21T13:12:15.350Z"
   },
   {
    "duration": 65,
    "start_time": "2021-12-21T13:12:15.416Z"
   },
   {
    "duration": 45,
    "start_time": "2021-12-21T13:12:15.483Z"
   },
   {
    "duration": 37,
    "start_time": "2021-12-21T13:12:15.530Z"
   },
   {
    "duration": 66,
    "start_time": "2021-12-21T13:14:30.681Z"
   },
   {
    "duration": 87,
    "start_time": "2021-12-21T13:14:30.749Z"
   },
   {
    "duration": 19,
    "start_time": "2021-12-21T13:14:30.838Z"
   },
   {
    "duration": 63,
    "start_time": "2021-12-21T13:14:30.859Z"
   },
   {
    "duration": 63,
    "start_time": "2021-12-21T13:18:13.480Z"
   },
   {
    "duration": 79,
    "start_time": "2021-12-21T13:18:13.545Z"
   },
   {
    "duration": 18,
    "start_time": "2021-12-21T13:18:13.626Z"
   },
   {
    "duration": 73,
    "start_time": "2021-12-21T13:18:13.646Z"
   },
   {
    "duration": 60,
    "start_time": "2021-12-21T13:18:53.280Z"
   },
   {
    "duration": 82,
    "start_time": "2021-12-21T13:18:53.342Z"
   },
   {
    "duration": 22,
    "start_time": "2021-12-21T13:18:53.427Z"
   },
   {
    "duration": 83,
    "start_time": "2021-12-21T13:18:53.451Z"
   },
   {
    "duration": 64,
    "start_time": "2021-12-21T13:24:56.851Z"
   },
   {
    "duration": 68,
    "start_time": "2021-12-21T13:24:56.917Z"
   },
   {
    "duration": 37,
    "start_time": "2021-12-21T13:24:56.987Z"
   },
   {
    "duration": 50,
    "start_time": "2021-12-21T13:24:57.026Z"
   },
   {
    "duration": 65,
    "start_time": "2021-12-21T13:27:39.910Z"
   },
   {
    "duration": 67,
    "start_time": "2021-12-21T13:27:39.978Z"
   },
   {
    "duration": 21,
    "start_time": "2021-12-21T13:27:40.047Z"
   },
   {
    "duration": 78,
    "start_time": "2021-12-21T13:27:40.071Z"
   },
   {
    "duration": 340,
    "start_time": "2021-12-21T13:35:17.871Z"
   },
   {
    "duration": 60,
    "start_time": "2021-12-21T13:36:57.808Z"
   },
   {
    "duration": 67,
    "start_time": "2021-12-21T13:36:57.870Z"
   },
   {
    "duration": 19,
    "start_time": "2021-12-21T13:36:57.939Z"
   },
   {
    "duration": 76,
    "start_time": "2021-12-21T13:36:57.960Z"
   },
   {
    "duration": 374,
    "start_time": "2021-12-21T13:36:58.038Z"
   },
   {
    "duration": 59,
    "start_time": "2021-12-21T13:42:15.131Z"
   },
   {
    "duration": 68,
    "start_time": "2021-12-21T13:42:15.192Z"
   },
   {
    "duration": 21,
    "start_time": "2021-12-21T13:42:15.261Z"
   },
   {
    "duration": 68,
    "start_time": "2021-12-21T13:42:15.284Z"
   },
   {
    "duration": 352,
    "start_time": "2021-12-21T13:42:15.354Z"
   },
   {
    "duration": 4,
    "start_time": "2021-12-21T13:42:28.720Z"
   },
   {
    "duration": 6,
    "start_time": "2021-12-21T13:43:19.440Z"
   },
   {
    "duration": 339,
    "start_time": "2021-12-21T14:19:20.892Z"
   },
   {
    "duration": 63,
    "start_time": "2021-12-21T14:22:32.285Z"
   },
   {
    "duration": 81,
    "start_time": "2021-12-21T14:22:32.350Z"
   },
   {
    "duration": 18,
    "start_time": "2021-12-21T14:22:32.434Z"
   },
   {
    "duration": 82,
    "start_time": "2021-12-21T14:22:32.454Z"
   },
   {
    "duration": 708,
    "start_time": "2021-12-21T14:22:32.537Z"
   },
   {
    "duration": 57,
    "start_time": "2021-12-21T14:24:13.025Z"
   },
   {
    "duration": 74,
    "start_time": "2021-12-21T14:24:13.084Z"
   },
   {
    "duration": 47,
    "start_time": "2021-12-21T14:24:13.160Z"
   },
   {
    "duration": 57,
    "start_time": "2021-12-21T14:24:13.209Z"
   },
   {
    "duration": 751,
    "start_time": "2021-12-21T14:24:13.268Z"
   },
   {
    "duration": 68,
    "start_time": "2021-12-21T14:26:38.598Z"
   },
   {
    "duration": 81,
    "start_time": "2021-12-21T14:26:38.668Z"
   },
   {
    "duration": 21,
    "start_time": "2021-12-21T14:26:38.751Z"
   },
   {
    "duration": 80,
    "start_time": "2021-12-21T14:26:38.774Z"
   },
   {
    "duration": 1118,
    "start_time": "2021-12-21T14:26:38.856Z"
   },
   {
    "duration": 67,
    "start_time": "2021-12-21T14:27:07.365Z"
   },
   {
    "duration": 89,
    "start_time": "2021-12-21T14:27:07.433Z"
   },
   {
    "duration": 22,
    "start_time": "2021-12-21T14:27:07.524Z"
   },
   {
    "duration": 84,
    "start_time": "2021-12-21T14:27:07.548Z"
   },
   {
    "duration": 736,
    "start_time": "2021-12-21T14:27:07.635Z"
   },
   {
    "duration": 69,
    "start_time": "2021-12-21T14:30:25.893Z"
   },
   {
    "duration": 96,
    "start_time": "2021-12-21T14:30:25.964Z"
   },
   {
    "duration": 43,
    "start_time": "2021-12-21T14:30:26.063Z"
   },
   {
    "duration": 55,
    "start_time": "2021-12-21T14:30:26.109Z"
   },
   {
    "duration": 735,
    "start_time": "2021-12-21T14:30:26.166Z"
   },
   {
    "duration": 70,
    "start_time": "2021-12-21T14:41:24.923Z"
   },
   {
    "duration": 72,
    "start_time": "2021-12-21T14:41:24.995Z"
   },
   {
    "duration": 42,
    "start_time": "2021-12-21T14:41:25.070Z"
   },
   {
    "duration": 53,
    "start_time": "2021-12-21T14:41:25.115Z"
   },
   {
    "duration": 707,
    "start_time": "2021-12-21T14:41:25.170Z"
   },
   {
    "duration": 362,
    "start_time": "2021-12-21T15:18:33.106Z"
   },
   {
    "duration": 66,
    "start_time": "2021-12-21T15:18:38.906Z"
   },
   {
    "duration": 71,
    "start_time": "2021-12-21T15:18:38.974Z"
   },
   {
    "duration": 19,
    "start_time": "2021-12-21T15:18:39.047Z"
   },
   {
    "duration": 74,
    "start_time": "2021-12-21T15:18:39.067Z"
   },
   {
    "duration": 361,
    "start_time": "2021-12-21T15:18:39.143Z"
   },
   {
    "duration": 88,
    "start_time": "2021-12-21T15:19:52.001Z"
   },
   {
    "duration": 73,
    "start_time": "2021-12-21T15:19:52.092Z"
   },
   {
    "duration": 47,
    "start_time": "2021-12-21T15:19:52.167Z"
   },
   {
    "duration": 56,
    "start_time": "2021-12-21T15:19:52.216Z"
   },
   {
    "duration": 2497,
    "start_time": "2021-12-21T15:19:52.274Z"
   },
   {
    "duration": 71,
    "start_time": "2021-12-21T15:22:56.928Z"
   },
   {
    "duration": 62,
    "start_time": "2021-12-21T15:22:57.001Z"
   },
   {
    "duration": 17,
    "start_time": "2021-12-21T15:22:57.065Z"
   },
   {
    "duration": 72,
    "start_time": "2021-12-21T15:22:57.084Z"
   },
   {
    "duration": 3259,
    "start_time": "2021-12-21T15:22:57.158Z"
   },
   {
    "duration": 70,
    "start_time": "2021-12-21T15:23:50.100Z"
   },
   {
    "duration": 75,
    "start_time": "2021-12-21T15:23:50.173Z"
   },
   {
    "duration": 20,
    "start_time": "2021-12-21T15:23:50.250Z"
   },
   {
    "duration": 83,
    "start_time": "2021-12-21T15:23:50.272Z"
   },
   {
    "duration": 2517,
    "start_time": "2021-12-21T15:23:50.357Z"
   },
   {
    "duration": 72,
    "start_time": "2021-12-21T15:26:02.552Z"
   },
   {
    "duration": 86,
    "start_time": "2021-12-21T15:26:02.626Z"
   },
   {
    "duration": 21,
    "start_time": "2021-12-21T15:26:02.714Z"
   },
   {
    "duration": 85,
    "start_time": "2021-12-21T15:26:02.737Z"
   },
   {
    "duration": 2810,
    "start_time": "2021-12-21T15:26:02.824Z"
   },
   {
    "duration": 67,
    "start_time": "2021-12-21T15:29:47.350Z"
   },
   {
    "duration": 63,
    "start_time": "2021-12-21T15:29:47.419Z"
   },
   {
    "duration": 36,
    "start_time": "2021-12-21T15:29:47.484Z"
   },
   {
    "duration": 47,
    "start_time": "2021-12-21T15:29:47.522Z"
   },
   {
    "duration": 2445,
    "start_time": "2021-12-21T15:29:47.570Z"
   },
   {
    "duration": 72,
    "start_time": "2021-12-21T15:31:10.788Z"
   },
   {
    "duration": 79,
    "start_time": "2021-12-21T15:31:10.862Z"
   },
   {
    "duration": 31,
    "start_time": "2021-12-21T15:31:10.943Z"
   },
   {
    "duration": 106,
    "start_time": "2021-12-21T15:31:10.977Z"
   },
   {
    "duration": 3374,
    "start_time": "2021-12-21T15:31:11.085Z"
   },
   {
    "duration": 64,
    "start_time": "2021-12-21T15:31:32.619Z"
   },
   {
    "duration": 62,
    "start_time": "2021-12-21T15:31:32.685Z"
   },
   {
    "duration": 18,
    "start_time": "2021-12-21T15:31:32.749Z"
   },
   {
    "duration": 74,
    "start_time": "2021-12-21T15:31:32.769Z"
   },
   {
    "duration": 2495,
    "start_time": "2021-12-21T15:31:32.845Z"
   },
   {
    "duration": 68,
    "start_time": "2021-12-21T15:32:01.647Z"
   },
   {
    "duration": 68,
    "start_time": "2021-12-21T15:32:01.717Z"
   },
   {
    "duration": 20,
    "start_time": "2021-12-21T15:32:01.807Z"
   },
   {
    "duration": 47,
    "start_time": "2021-12-21T15:32:01.829Z"
   },
   {
    "duration": 2767,
    "start_time": "2021-12-21T15:32:01.878Z"
   },
   {
    "duration": 70,
    "start_time": "2021-12-21T15:33:33.638Z"
   },
   {
    "duration": 72,
    "start_time": "2021-12-21T15:33:33.710Z"
   },
   {
    "duration": 39,
    "start_time": "2021-12-21T15:33:33.785Z"
   },
   {
    "duration": 54,
    "start_time": "2021-12-21T15:33:33.826Z"
   },
   {
    "duration": 62,
    "start_time": "2021-12-21T15:34:24.558Z"
   },
   {
    "duration": 83,
    "start_time": "2021-12-21T15:34:24.623Z"
   },
   {
    "duration": 19,
    "start_time": "2021-12-21T15:34:24.709Z"
   },
   {
    "duration": 76,
    "start_time": "2021-12-21T15:34:24.730Z"
   },
   {
    "duration": 64,
    "start_time": "2021-12-21T15:41:40.236Z"
   },
   {
    "duration": 67,
    "start_time": "2021-12-21T15:41:40.302Z"
   },
   {
    "duration": 36,
    "start_time": "2021-12-21T15:41:40.371Z"
   },
   {
    "duration": 52,
    "start_time": "2021-12-21T15:41:40.409Z"
   },
   {
    "duration": 2473,
    "start_time": "2021-12-21T15:41:40.463Z"
   },
   {
    "duration": 69,
    "start_time": "2021-12-21T15:42:43.238Z"
   },
   {
    "duration": 66,
    "start_time": "2021-12-21T15:42:43.309Z"
   },
   {
    "duration": 46,
    "start_time": "2021-12-21T15:42:43.378Z"
   },
   {
    "duration": 52,
    "start_time": "2021-12-21T15:42:43.426Z"
   },
   {
    "duration": 360,
    "start_time": "2021-12-21T15:42:43.479Z"
   },
   {
    "duration": 63,
    "start_time": "2021-12-21T15:43:11.722Z"
   },
   {
    "duration": 68,
    "start_time": "2021-12-21T15:43:11.787Z"
   },
   {
    "duration": 21,
    "start_time": "2021-12-21T15:43:11.857Z"
   },
   {
    "duration": 77,
    "start_time": "2021-12-21T15:43:11.880Z"
   },
   {
    "duration": 337,
    "start_time": "2021-12-21T15:43:11.958Z"
   },
   {
    "duration": 65,
    "start_time": "2021-12-21T15:43:24.189Z"
   },
   {
    "duration": 85,
    "start_time": "2021-12-21T15:43:24.257Z"
   },
   {
    "duration": 19,
    "start_time": "2021-12-21T15:43:24.344Z"
   },
   {
    "duration": 80,
    "start_time": "2021-12-21T15:43:24.365Z"
   },
   {
    "duration": 2488,
    "start_time": "2021-12-21T15:43:24.447Z"
   },
   {
    "duration": 76,
    "start_time": "2021-12-21T15:45:05.664Z"
   },
   {
    "duration": 105,
    "start_time": "2021-12-21T15:45:05.742Z"
   },
   {
    "duration": 19,
    "start_time": "2021-12-21T15:45:05.850Z"
   },
   {
    "duration": 81,
    "start_time": "2021-12-21T15:45:05.871Z"
   },
   {
    "duration": 2712,
    "start_time": "2021-12-21T15:45:05.954Z"
   },
   {
    "duration": 72,
    "start_time": "2021-12-21T15:46:07.078Z"
   },
   {
    "duration": 89,
    "start_time": "2021-12-21T15:46:07.152Z"
   },
   {
    "duration": 21,
    "start_time": "2021-12-21T15:46:07.243Z"
   },
   {
    "duration": 77,
    "start_time": "2021-12-21T15:46:07.266Z"
   },
   {
    "duration": 2635,
    "start_time": "2021-12-21T15:46:07.345Z"
   },
   {
    "duration": 77,
    "start_time": "2021-12-21T15:46:56.939Z"
   },
   {
    "duration": 93,
    "start_time": "2021-12-21T15:46:57.018Z"
   },
   {
    "duration": 20,
    "start_time": "2021-12-21T15:46:57.113Z"
   },
   {
    "duration": 77,
    "start_time": "2021-12-21T15:46:57.136Z"
   },
   {
    "duration": 2523,
    "start_time": "2021-12-21T15:46:57.215Z"
   },
   {
    "duration": 64,
    "start_time": "2021-12-21T15:56:42.638Z"
   },
   {
    "duration": 68,
    "start_time": "2021-12-21T15:56:42.704Z"
   },
   {
    "duration": 37,
    "start_time": "2021-12-21T15:56:42.774Z"
   },
   {
    "duration": 50,
    "start_time": "2021-12-21T15:56:42.813Z"
   },
   {
    "duration": 2573,
    "start_time": "2021-12-21T15:56:42.864Z"
   },
   {
    "duration": 68,
    "start_time": "2021-12-21T15:57:10.999Z"
   },
   {
    "duration": 80,
    "start_time": "2021-12-21T15:57:11.069Z"
   },
   {
    "duration": 26,
    "start_time": "2021-12-21T15:57:11.151Z"
   },
   {
    "duration": 58,
    "start_time": "2021-12-21T15:57:11.207Z"
   },
   {
    "duration": 2671,
    "start_time": "2021-12-21T15:57:11.267Z"
   },
   {
    "duration": 63,
    "start_time": "2021-12-21T16:00:58.437Z"
   },
   {
    "duration": 66,
    "start_time": "2021-12-21T16:00:58.502Z"
   },
   {
    "duration": 44,
    "start_time": "2021-12-21T16:00:58.570Z"
   },
   {
    "duration": 49,
    "start_time": "2021-12-21T16:00:58.615Z"
   },
   {
    "duration": 2642,
    "start_time": "2021-12-21T16:00:58.666Z"
   },
   {
    "duration": 69,
    "start_time": "2021-12-21T16:01:18.484Z"
   },
   {
    "duration": 86,
    "start_time": "2021-12-21T16:01:18.556Z"
   },
   {
    "duration": 20,
    "start_time": "2021-12-21T16:01:18.644Z"
   },
   {
    "duration": 81,
    "start_time": "2021-12-21T16:01:18.666Z"
   },
   {
    "duration": 2674,
    "start_time": "2021-12-21T16:01:18.749Z"
   },
   {
    "duration": 2893,
    "start_time": "2021-12-21T16:21:28.949Z"
   },
   {
    "duration": 3192,
    "start_time": "2021-12-21T16:22:11.402Z"
   },
   {
    "duration": 2943,
    "start_time": "2021-12-21T16:22:46.302Z"
   },
   {
    "duration": 13028,
    "start_time": "2021-12-21T16:23:11.392Z"
   },
   {
    "duration": 105,
    "start_time": "2021-12-21T16:23:41.850Z"
   },
   {
    "duration": 3229,
    "start_time": "2021-12-21T16:23:54.404Z"
   },
   {
    "duration": 2963,
    "start_time": "2021-12-21T16:24:17.382Z"
   },
   {
    "duration": 10,
    "start_time": "2021-12-21T16:29:38.930Z"
   },
   {
    "duration": 3066,
    "start_time": "2021-12-21T16:34:05.543Z"
   },
   {
    "duration": 61,
    "start_time": "2021-12-21T16:35:08.763Z"
   },
   {
    "duration": 85,
    "start_time": "2021-12-21T16:35:08.826Z"
   },
   {
    "duration": 22,
    "start_time": "2021-12-21T16:35:08.913Z"
   },
   {
    "duration": 85,
    "start_time": "2021-12-21T16:35:08.937Z"
   },
   {
    "duration": 2876,
    "start_time": "2021-12-21T16:35:09.024Z"
   },
   {
    "duration": 3224,
    "start_time": "2021-12-21T16:35:11.907Z"
   },
   {
    "duration": 409,
    "start_time": "2021-12-22T09:34:21.973Z"
   },
   {
    "duration": 943,
    "start_time": "2021-12-22T09:34:52.275Z"
   },
   {
    "duration": 166,
    "start_time": "2021-12-22T09:34:53.226Z"
   },
   {
    "duration": 89,
    "start_time": "2021-12-22T09:34:53.395Z"
   },
   {
    "duration": 95,
    "start_time": "2021-12-22T09:34:53.488Z"
   },
   {
    "duration": 397,
    "start_time": "2021-12-22T09:34:53.586Z"
   },
   {
    "duration": 2452,
    "start_time": "2021-12-22T09:34:51.534Z"
   },
   {
    "duration": 2451,
    "start_time": "2021-12-22T09:34:51.537Z"
   },
   {
    "duration": 96,
    "start_time": "2021-12-22T09:35:02.086Z"
   },
   {
    "duration": 125,
    "start_time": "2021-12-22T09:35:02.185Z"
   },
   {
    "duration": 49,
    "start_time": "2021-12-22T09:35:02.313Z"
   },
   {
    "duration": 109,
    "start_time": "2021-12-22T09:35:02.364Z"
   },
   {
    "duration": 301,
    "start_time": "2021-12-22T09:35:02.476Z"
   },
   {
    "duration": 2455,
    "start_time": "2021-12-22T09:35:00.325Z"
   },
   {
    "duration": 2455,
    "start_time": "2021-12-22T09:35:00.327Z"
   },
   {
    "duration": 94,
    "start_time": "2021-12-22T09:35:10.996Z"
   },
   {
    "duration": 135,
    "start_time": "2021-12-22T09:35:11.093Z"
   },
   {
    "duration": 35,
    "start_time": "2021-12-22T09:35:11.232Z"
   },
   {
    "duration": 117,
    "start_time": "2021-12-22T09:35:11.270Z"
   },
   {
    "duration": 305,
    "start_time": "2021-12-22T09:35:11.389Z"
   },
   {
    "duration": 2491,
    "start_time": "2021-12-22T09:35:09.206Z"
   },
   {
    "duration": 2490,
    "start_time": "2021-12-22T09:35:09.208Z"
   },
   {
    "duration": 90,
    "start_time": "2021-12-22T09:35:52.520Z"
   },
   {
    "duration": 142,
    "start_time": "2021-12-22T09:35:52.613Z"
   },
   {
    "duration": 27,
    "start_time": "2021-12-22T09:35:52.758Z"
   },
   {
    "duration": 139,
    "start_time": "2021-12-22T09:35:52.788Z"
   },
   {
    "duration": 343,
    "start_time": "2021-12-22T09:35:52.931Z"
   },
   {
    "duration": 2476,
    "start_time": "2021-12-22T09:35:50.800Z"
   },
   {
    "duration": 96,
    "start_time": "2021-12-22T09:37:53.409Z"
   },
   {
    "duration": 153,
    "start_time": "2021-12-22T09:37:53.509Z"
   },
   {
    "duration": 25,
    "start_time": "2021-12-22T09:37:53.665Z"
   },
   {
    "duration": 132,
    "start_time": "2021-12-22T09:37:53.693Z"
   },
   {
    "duration": 290,
    "start_time": "2021-12-22T09:37:53.827Z"
   },
   {
    "duration": 86,
    "start_time": "2021-12-22T09:38:18.916Z"
   },
   {
    "duration": 149,
    "start_time": "2021-12-22T09:38:19.005Z"
   },
   {
    "duration": 28,
    "start_time": "2021-12-22T09:38:19.157Z"
   },
   {
    "duration": 110,
    "start_time": "2021-12-22T09:38:19.188Z"
   },
   {
    "duration": 293,
    "start_time": "2021-12-22T09:38:19.301Z"
   },
   {
    "duration": 2466,
    "start_time": "2021-12-22T09:38:17.130Z"
   },
   {
    "duration": 2464,
    "start_time": "2021-12-22T09:38:17.133Z"
   },
   {
    "duration": 76,
    "start_time": "2021-12-22T09:38:56.139Z"
   },
   {
    "duration": 229,
    "start_time": "2021-12-22T09:38:56.217Z"
   },
   {
    "duration": 45,
    "start_time": "2021-12-22T09:38:56.451Z"
   },
   {
    "duration": 95,
    "start_time": "2021-12-22T09:38:56.499Z"
   },
   {
    "duration": 332,
    "start_time": "2021-12-22T09:38:56.597Z"
   },
   {
    "duration": 92,
    "start_time": "2021-12-22T09:40:09.565Z"
   },
   {
    "duration": 128,
    "start_time": "2021-12-22T09:40:09.659Z"
   },
   {
    "duration": 63,
    "start_time": "2021-12-22T09:40:09.790Z"
   },
   {
    "duration": 131,
    "start_time": "2021-12-22T09:40:09.856Z"
   },
   {
    "duration": 3669,
    "start_time": "2021-12-22T09:40:09.989Z"
   },
   {
    "duration": 95,
    "start_time": "2021-12-22T09:41:30.899Z"
   },
   {
    "duration": 159,
    "start_time": "2021-12-22T09:41:30.997Z"
   },
   {
    "duration": 27,
    "start_time": "2021-12-22T09:41:31.159Z"
   },
   {
    "duration": 117,
    "start_time": "2021-12-22T09:41:31.188Z"
   },
   {
    "duration": 3912,
    "start_time": "2021-12-22T09:41:31.329Z"
   },
   {
    "duration": 4469,
    "start_time": "2021-12-22T09:41:35.244Z"
   },
   {
    "duration": 82,
    "start_time": "2021-12-22T09:42:10.638Z"
   },
   {
    "duration": 131,
    "start_time": "2021-12-22T09:42:10.723Z"
   },
   {
    "duration": 27,
    "start_time": "2021-12-22T09:42:10.858Z"
   },
   {
    "duration": 106,
    "start_time": "2021-12-22T09:42:10.888Z"
   },
   {
    "duration": 3510,
    "start_time": "2021-12-22T09:42:10.997Z"
   },
   {
    "duration": 4273,
    "start_time": "2021-12-22T09:42:14.510Z"
   },
   {
    "duration": 18,
    "start_time": "2021-12-22T09:42:18.785Z"
   },
   {
    "duration": 19,
    "start_time": "2021-12-22T10:00:00.757Z"
   },
   {
    "duration": 87,
    "start_time": "2021-12-22T10:00:15.089Z"
   },
   {
    "duration": 122,
    "start_time": "2021-12-22T10:00:15.179Z"
   },
   {
    "duration": 49,
    "start_time": "2021-12-22T10:00:15.304Z"
   },
   {
    "duration": 108,
    "start_time": "2021-12-22T10:00:15.356Z"
   },
   {
    "duration": 3484,
    "start_time": "2021-12-22T10:00:15.466Z"
   },
   {
    "duration": 4144,
    "start_time": "2021-12-22T10:00:18.952Z"
   },
   {
    "duration": 36,
    "start_time": "2021-12-22T10:00:23.099Z"
   },
   {
    "duration": 37,
    "start_time": "2021-12-22T10:00:23.139Z"
   },
   {
    "duration": 16944,
    "start_time": "2021-12-22T10:28:53.409Z"
   },
   {
    "duration": 16863,
    "start_time": "2021-12-22T10:30:20.776Z"
   },
   {
    "duration": 32,
    "start_time": "2021-12-22T10:42:22.477Z"
   },
   {
    "duration": 1195,
    "start_time": "2021-12-22T10:46:11.600Z"
   },
   {
    "duration": 34,
    "start_time": "2021-12-22T10:46:21.806Z"
   },
   {
    "duration": 30,
    "start_time": "2021-12-22T10:48:57.040Z"
   },
   {
    "duration": 74,
    "start_time": "2021-12-22T15:23:57.691Z"
   },
   {
    "duration": 101,
    "start_time": "2021-12-22T15:23:57.767Z"
   },
   {
    "duration": 20,
    "start_time": "2021-12-22T15:23:57.870Z"
   },
   {
    "duration": 76,
    "start_time": "2021-12-22T15:23:57.893Z"
   },
   {
    "duration": 2446,
    "start_time": "2021-12-22T15:23:57.971Z"
   },
   {
    "duration": 3031,
    "start_time": "2021-12-22T15:24:00.419Z"
   },
   {
    "duration": 12,
    "start_time": "2021-12-22T15:24:03.460Z"
   },
   {
    "duration": 45,
    "start_time": "2021-12-22T15:24:03.474Z"
   },
   {
    "duration": 11568,
    "start_time": "2021-12-22T15:24:03.521Z"
   },
   {
    "duration": 24,
    "start_time": "2021-12-22T15:24:15.091Z"
   },
   {
    "duration": 13,
    "start_time": "2021-12-22T15:24:15.117Z"
   },
   {
    "duration": 709,
    "start_time": "2021-12-22T16:03:33.002Z"
   },
   {
    "duration": 81,
    "start_time": "2021-12-22T16:03:33.713Z"
   },
   {
    "duration": 20,
    "start_time": "2021-12-22T16:03:33.796Z"
   },
   {
    "duration": 80,
    "start_time": "2021-12-22T16:03:33.818Z"
   },
   {
    "duration": 2463,
    "start_time": "2021-12-22T16:03:33.900Z"
   },
   {
    "duration": 2862,
    "start_time": "2021-12-22T16:03:36.366Z"
   },
   {
    "duration": 12,
    "start_time": "2021-12-22T16:03:39.229Z"
   },
   {
    "duration": 26,
    "start_time": "2021-12-22T16:03:39.244Z"
   },
   {
    "duration": 11775,
    "start_time": "2021-12-22T16:03:39.272Z"
   },
   {
    "duration": 29,
    "start_time": "2021-12-22T16:03:51.049Z"
   },
   {
    "duration": 12,
    "start_time": "2021-12-22T16:03:51.080Z"
   },
   {
    "duration": 73,
    "start_time": "2021-12-22T16:25:25.996Z"
   },
   {
    "duration": 5,
    "start_time": "2021-12-22T17:20:14.188Z"
   },
   {
    "duration": 5,
    "start_time": "2021-12-22T17:21:50.893Z"
   },
   {
    "duration": 70,
    "start_time": "2021-12-22T17:21:57.726Z"
   },
   {
    "duration": 107,
    "start_time": "2021-12-22T17:21:57.798Z"
   },
   {
    "duration": 19,
    "start_time": "2021-12-22T17:21:57.907Z"
   },
   {
    "duration": 77,
    "start_time": "2021-12-22T17:21:57.928Z"
   },
   {
    "duration": 2596,
    "start_time": "2021-12-22T17:21:58.007Z"
   },
   {
    "duration": 3189,
    "start_time": "2021-12-22T17:22:00.605Z"
   },
   {
    "duration": 5,
    "start_time": "2021-12-22T17:22:03.795Z"
   },
   {
    "duration": 317,
    "start_time": "2021-12-22T17:22:52.046Z"
   },
   {
    "duration": 5,
    "start_time": "2021-12-22T17:23:26.376Z"
   },
   {
    "duration": 638,
    "start_time": "2021-12-22T17:25:01.976Z"
   },
   {
    "duration": 259,
    "start_time": "2021-12-22T17:25:32.761Z"
   },
   {
    "duration": 10,
    "start_time": "2021-12-22T17:25:44.206Z"
   },
   {
    "duration": 1773,
    "start_time": "2021-12-22T17:26:25.615Z"
   },
   {
    "duration": 3,
    "start_time": "2021-12-23T06:51:35.081Z"
   },
   {
    "duration": 310,
    "start_time": "2021-12-23T06:58:24.329Z"
   },
   {
    "duration": 900,
    "start_time": "2021-12-23T06:58:33.890Z"
   },
   {
    "duration": 132,
    "start_time": "2021-12-23T06:58:34.792Z"
   },
   {
    "duration": 32,
    "start_time": "2021-12-23T06:58:34.927Z"
   },
   {
    "duration": 110,
    "start_time": "2021-12-23T06:58:34.962Z"
   },
   {
    "duration": 3317,
    "start_time": "2021-12-23T06:58:35.074Z"
   },
   {
    "duration": 3590,
    "start_time": "2021-12-23T06:58:38.394Z"
   },
   {
    "duration": 30,
    "start_time": "2021-12-23T06:58:41.987Z"
   },
   {
    "duration": 23,
    "start_time": "2021-12-23T07:02:01.384Z"
   },
   {
    "duration": 26,
    "start_time": "2021-12-23T07:02:37.876Z"
   },
   {
    "duration": 53,
    "start_time": "2021-12-23T07:03:36.755Z"
   },
   {
    "duration": 91,
    "start_time": "2021-12-23T07:06:46.386Z"
   },
   {
    "duration": 121,
    "start_time": "2021-12-23T07:06:46.480Z"
   },
   {
    "duration": 26,
    "start_time": "2021-12-23T07:06:46.619Z"
   },
   {
    "duration": 104,
    "start_time": "2021-12-23T07:06:46.648Z"
   },
   {
    "duration": 3338,
    "start_time": "2021-12-23T07:06:46.754Z"
   },
   {
    "duration": 3573,
    "start_time": "2021-12-23T07:06:50.094Z"
   },
   {
    "duration": 76,
    "start_time": "2021-12-23T07:06:53.670Z"
   },
   {
    "duration": 20,
    "start_time": "2021-12-23T07:06:53.751Z"
   },
   {
    "duration": 57,
    "start_time": "2021-12-23T07:06:53.774Z"
   },
   {
    "duration": 16046,
    "start_time": "2021-12-23T07:06:53.834Z"
   },
   {
    "duration": 42,
    "start_time": "2021-12-23T07:07:09.882Z"
   },
   {
    "duration": 19,
    "start_time": "2021-12-23T07:07:09.926Z"
   },
   {
    "duration": 96,
    "start_time": "2021-12-23T07:08:14.956Z"
   },
   {
    "duration": 120,
    "start_time": "2021-12-23T07:08:15.055Z"
   },
   {
    "duration": 51,
    "start_time": "2021-12-23T07:08:15.178Z"
   },
   {
    "duration": 101,
    "start_time": "2021-12-23T07:08:15.232Z"
   },
   {
    "duration": 3263,
    "start_time": "2021-12-23T07:08:15.336Z"
   },
   {
    "duration": 3637,
    "start_time": "2021-12-23T07:08:18.602Z"
   },
   {
    "duration": 53,
    "start_time": "2021-12-23T07:08:22.241Z"
   },
   {
    "duration": 19,
    "start_time": "2021-12-23T07:08:22.317Z"
   },
   {
    "duration": 19,
    "start_time": "2021-12-23T07:08:22.339Z"
   },
   {
    "duration": 16391,
    "start_time": "2021-12-23T07:08:22.361Z"
   },
   {
    "duration": 34,
    "start_time": "2021-12-23T07:08:38.756Z"
   },
   {
    "duration": 42,
    "start_time": "2021-12-23T07:08:38.793Z"
   },
   {
    "duration": 90,
    "start_time": "2021-12-23T07:10:18.028Z"
   },
   {
    "duration": 124,
    "start_time": "2021-12-23T07:10:18.120Z"
   },
   {
    "duration": 26,
    "start_time": "2021-12-23T07:10:18.247Z"
   },
   {
    "duration": 99,
    "start_time": "2021-12-23T07:10:18.276Z"
   },
   {
    "duration": 3552,
    "start_time": "2021-12-23T07:10:18.378Z"
   },
   {
    "duration": 3550,
    "start_time": "2021-12-23T07:10:21.932Z"
   },
   {
    "duration": 69,
    "start_time": "2021-12-23T07:10:25.484Z"
   },
   {
    "duration": 20,
    "start_time": "2021-12-23T07:10:25.556Z"
   },
   {
    "duration": 47,
    "start_time": "2021-12-23T07:10:25.581Z"
   },
   {
    "duration": 16212,
    "start_time": "2021-12-23T07:10:25.631Z"
   },
   {
    "duration": 38,
    "start_time": "2021-12-23T07:10:41.846Z"
   },
   {
    "duration": 44,
    "start_time": "2021-12-23T07:10:41.887Z"
   },
   {
    "duration": 86,
    "start_time": "2021-12-23T07:10:57.426Z"
   },
   {
    "duration": 85,
    "start_time": "2021-12-23T07:11:42.017Z"
   },
   {
    "duration": 122,
    "start_time": "2021-12-23T07:11:42.117Z"
   },
   {
    "duration": 28,
    "start_time": "2021-12-23T07:11:42.242Z"
   },
   {
    "duration": 104,
    "start_time": "2021-12-23T07:11:42.273Z"
   },
   {
    "duration": 3503,
    "start_time": "2021-12-23T07:11:42.380Z"
   },
   {
    "duration": 3532,
    "start_time": "2021-12-23T07:11:45.885Z"
   },
   {
    "duration": 51,
    "start_time": "2021-12-23T07:11:49.419Z"
   },
   {
    "duration": 18,
    "start_time": "2021-12-23T07:11:49.473Z"
   },
   {
    "duration": 21,
    "start_time": "2021-12-23T07:11:49.518Z"
   },
   {
    "duration": 15906,
    "start_time": "2021-12-23T07:11:49.541Z"
   },
   {
    "duration": 32,
    "start_time": "2021-12-23T07:12:05.449Z"
   },
   {
    "duration": 18,
    "start_time": "2021-12-23T07:12:05.483Z"
   },
   {
    "duration": 976,
    "start_time": "2021-12-23T07:16:52.319Z"
   },
   {
    "duration": 126,
    "start_time": "2021-12-23T07:16:53.298Z"
   },
   {
    "duration": 33,
    "start_time": "2021-12-23T07:16:53.427Z"
   },
   {
    "duration": 100,
    "start_time": "2021-12-23T07:16:53.463Z"
   },
   {
    "duration": 3201,
    "start_time": "2021-12-23T07:16:53.565Z"
   },
   {
    "duration": 3649,
    "start_time": "2021-12-23T07:16:56.768Z"
   },
   {
    "duration": 52,
    "start_time": "2021-12-23T07:17:00.419Z"
   },
   {
    "duration": 46,
    "start_time": "2021-12-23T07:17:00.474Z"
   },
   {
    "duration": 20,
    "start_time": "2021-12-23T07:17:00.523Z"
   },
   {
    "duration": 16099,
    "start_time": "2021-12-23T07:17:00.545Z"
   },
   {
    "duration": 31,
    "start_time": "2021-12-23T07:17:16.646Z"
   },
   {
    "duration": 45,
    "start_time": "2021-12-23T07:17:16.679Z"
   }
  ],
  "kernelspec": {
   "display_name": "Python 3 (ipykernel)",
   "language": "python",
   "name": "python3"
  },
  "language_info": {
   "codemirror_mode": {
    "name": "ipython",
    "version": 3
   },
   "file_extension": ".py",
   "mimetype": "text/x-python",
   "name": "python",
   "nbconvert_exporter": "python",
   "pygments_lexer": "ipython3",
   "version": "3.9.5"
  },
  "toc": {
   "base_numbering": 1,
   "nav_menu": {},
   "number_sections": true,
   "sideBar": true,
   "skip_h1_title": true,
   "title_cell": "Table of Contents",
   "title_sidebar": "Contents",
   "toc_cell": false,
   "toc_position": {},
   "toc_section_display": true,
   "toc_window_display": false
  }
 },
 "nbformat": 4,
 "nbformat_minor": 2
}
