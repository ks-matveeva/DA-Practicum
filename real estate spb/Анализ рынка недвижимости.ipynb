{
 "cells": [
  {
   "cell_type": "markdown",
   "metadata": {},
   "source": [
    "# Исследование объявлений о продаже квартир\n",
    "\n",
    "В нашем распоряжении данные сервиса Яндекс.Недвижимость — архив объявлений о продаже квартир в Санкт-Петербурге и соседних населённых пунктах за несколько лет. Нужно научиться определять рыночную стоимость объектов недвижимости. Задача — установить параметры. Это позволит построить автоматизированную систему: она отследит аномалии и мошенническую деятельность. \n",
    "\n",
    "По каждой квартире на продажу доступны два вида данных. Первые вписаны пользователем, вторые получены автоматически на основе картографических данных. Например, расстояние до центра, аэропорта, ближайшего парка и водоёма. "
   ]
  },
  {
   "cell_type": "markdown",
   "metadata": {},
   "source": [
    "**Преамбула**\n",
    "\n",
    "Задача данного проекта - проанализировать многолетний архив объявлений о продаже квартир в Санкт-Петербурге и пригородах с целью установления параметров определения их рыночной стоимости, чтобы на их основании автоматизировать процесс определения рыночной цены, а также выявить различные отклонения, в том числе мошенничество.\n",
    "\n",
    "Весь пайплайн процесса, конечно, не будет представлен, т.к. запрос от бизнеса, уточнение задачи, сбор данных уже проведены, и это учебный проект, но основные этапы в непосредственной работе с данными будут представлены: предобработка данных, расчёты, исследовательский анализ и общий вывод.\n",
    "\n",
    "В работе будет использована библиотека pandas, библиотека для работы с графиками matplotlib."
   ]
  },
  {
   "cell_type": "markdown",
   "metadata": {},
   "source": [
    "## Изучение данных из файла"
   ]
  },
  {
   "cell_type": "code",
   "execution_count": 1,
   "metadata": {},
   "outputs": [],
   "source": [
    "import pandas\n",
    "import matplotlib.pyplot as plt"
   ]
  },
  {
   "cell_type": "code",
   "execution_count": 2,
   "metadata": {
    "scrolled": true
   },
   "outputs": [
    {
     "data": {
      "text/html": [
       "<div>\n",
       "<style scoped>\n",
       "    .dataframe tbody tr th:only-of-type {\n",
       "        vertical-align: middle;\n",
       "    }\n",
       "\n",
       "    .dataframe tbody tr th {\n",
       "        vertical-align: top;\n",
       "    }\n",
       "\n",
       "    .dataframe thead th {\n",
       "        text-align: right;\n",
       "    }\n",
       "</style>\n",
       "<table border=\"1\" class=\"dataframe\">\n",
       "  <thead>\n",
       "    <tr style=\"text-align: right;\">\n",
       "      <th></th>\n",
       "      <th>total_images\\tlast_price\\ttotal_area\\tfirst_day_exposition\\trooms\\tceiling_height\\tfloors_total\\tliving_area\\tfloor\\tis_apartment\\tstudio\\topen_plan\\tkitchen_area\\tbalcony\\tlocality_name\\tairports_nearest\\tcityCenters_nearest\\tparks_around3000\\tparks_nearest\\tponds_around3000\\tponds_nearest\\tdays_exposition</th>\n",
       "    </tr>\n",
       "  </thead>\n",
       "  <tbody>\n",
       "    <tr>\n",
       "      <td>0</td>\n",
       "      <td>20\\t13000000.0\\t108.0\\t2019-03-07T00:00:00\\t3\\...</td>\n",
       "    </tr>\n",
       "    <tr>\n",
       "      <td>1</td>\n",
       "      <td>7\\t3350000.0\\t40.4\\t2018-12-04T00:00:00\\t1\\t\\t...</td>\n",
       "    </tr>\n",
       "    <tr>\n",
       "      <td>2</td>\n",
       "      <td>10\\t5196000.0\\t56.0\\t2015-08-20T00:00:00\\t2\\t\\...</td>\n",
       "    </tr>\n",
       "    <tr>\n",
       "      <td>3</td>\n",
       "      <td>0\\t64900000.0\\t159.0\\t2015-07-24T00:00:00\\t3\\t...</td>\n",
       "    </tr>\n",
       "    <tr>\n",
       "      <td>4</td>\n",
       "      <td>2\\t10000000.0\\t100.0\\t2018-06-19T00:00:00\\t2\\t...</td>\n",
       "    </tr>\n",
       "    <tr>\n",
       "      <td>5</td>\n",
       "      <td>10\\t2890000.0\\t30.4\\t2018-09-10T00:00:00\\t1\\t\\...</td>\n",
       "    </tr>\n",
       "    <tr>\n",
       "      <td>6</td>\n",
       "      <td>6\\t3700000.0\\t37.3\\t2017-11-02T00:00:00\\t1\\t\\t...</td>\n",
       "    </tr>\n",
       "    <tr>\n",
       "      <td>7</td>\n",
       "      <td>5\\t7915000.0\\t71.6\\t2019-04-18T00:00:00\\t2\\t\\t...</td>\n",
       "    </tr>\n",
       "    <tr>\n",
       "      <td>8</td>\n",
       "      <td>20\\t2900000.0\\t33.16\\t2018-05-23T00:00:00\\t1\\t...</td>\n",
       "    </tr>\n",
       "    <tr>\n",
       "      <td>9</td>\n",
       "      <td>18\\t5400000.0\\t61.0\\t2017-02-26T00:00:00\\t3\\t2...</td>\n",
       "    </tr>\n",
       "  </tbody>\n",
       "</table>\n",
       "</div>"
      ],
      "text/plain": [
       "  total_images\\tlast_price\\ttotal_area\\tfirst_day_exposition\\trooms\\tceiling_height\\tfloors_total\\tliving_area\\tfloor\\tis_apartment\\tstudio\\topen_plan\\tkitchen_area\\tbalcony\\tlocality_name\\tairports_nearest\\tcityCenters_nearest\\tparks_around3000\\tparks_nearest\\tponds_around3000\\tponds_nearest\\tdays_exposition\n",
       "0  20\\t13000000.0\\t108.0\\t2019-03-07T00:00:00\\t3\\...                                                                                                                                                                                                                                                                  \n",
       "1  7\\t3350000.0\\t40.4\\t2018-12-04T00:00:00\\t1\\t\\t...                                                                                                                                                                                                                                                                  \n",
       "2  10\\t5196000.0\\t56.0\\t2015-08-20T00:00:00\\t2\\t\\...                                                                                                                                                                                                                                                                  \n",
       "3  0\\t64900000.0\\t159.0\\t2015-07-24T00:00:00\\t3\\t...                                                                                                                                                                                                                                                                  \n",
       "4  2\\t10000000.0\\t100.0\\t2018-06-19T00:00:00\\t2\\t...                                                                                                                                                                                                                                                                  \n",
       "5  10\\t2890000.0\\t30.4\\t2018-09-10T00:00:00\\t1\\t\\...                                                                                                                                                                                                                                                                  \n",
       "6  6\\t3700000.0\\t37.3\\t2017-11-02T00:00:00\\t1\\t\\t...                                                                                                                                                                                                                                                                  \n",
       "7  5\\t7915000.0\\t71.6\\t2019-04-18T00:00:00\\t2\\t\\t...                                                                                                                                                                                                                                                                  \n",
       "8  20\\t2900000.0\\t33.16\\t2018-05-23T00:00:00\\t1\\t...                                                                                                                                                                                                                                                                  \n",
       "9  18\\t5400000.0\\t61.0\\t2017-02-26T00:00:00\\t3\\t2...                                                                                                                                                                                                                                                                  "
      ]
     },
     "metadata": {},
     "output_type": "display_data"
    },
    {
     "name": "stdout",
     "output_type": "stream",
     "text": [
      "<class 'pandas.core.frame.DataFrame'>\n",
      "RangeIndex: 23699 entries, 0 to 23698\n",
      "Data columns (total 1 columns):\n",
      "total_images\tlast_price\ttotal_area\tfirst_day_exposition\trooms\tceiling_height\tfloors_total\tliving_area\tfloor\tis_apartment\tstudio\topen_plan\tkitchen_area\tbalcony\tlocality_name\tairports_nearest\tcityCenters_nearest\tparks_around3000\tparks_nearest\tponds_around3000\tponds_nearest\tdays_exposition    23699 non-null object\n",
      "dtypes: object(1)\n",
      "memory usage: 185.3+ KB\n"
     ]
    }
   ],
   "source": [
    "data = pandas.read_csv('/datasets/real_estate_data.csv')\n",
    "display(data.head(10))\n",
    "data.info()"
   ]
  },
  {
   "cell_type": "markdown",
   "metadata": {},
   "source": [
    "### Вывод"
   ]
  },
  {
   "cell_type": "markdown",
   "metadata": {},
   "source": [
    "Итак, с помощью библиотеки pandas я открыла файл, вывела на экран первые 10 строк и запросила информацию о таблице. Таблица выглядит некрасиво, потому что данные \"склеились\".\n",
    "\n",
    "Из информации о таблице следует, что тут 1 колонка, но причина этого уже понятна. Строк 23699, что означает приличную выборку для такого исследования. Объём занимаемого места - 185,3 кб - таблица мала, но очень информативна)).\n",
    "\n",
    "Понятно, что перечислены названия колонок, но в следующем разделе разберёмся с ними поподробнее."
   ]
  },
  {
   "cell_type": "markdown",
   "metadata": {},
   "source": [
    "## Предобработка данных"
   ]
  },
  {
   "cell_type": "code",
   "execution_count": 3,
   "metadata": {},
   "outputs": [
    {
     "data": {
      "text/html": [
       "<div>\n",
       "<style scoped>\n",
       "    .dataframe tbody tr th:only-of-type {\n",
       "        vertical-align: middle;\n",
       "    }\n",
       "\n",
       "    .dataframe tbody tr th {\n",
       "        vertical-align: top;\n",
       "    }\n",
       "\n",
       "    .dataframe thead th {\n",
       "        text-align: right;\n",
       "    }\n",
       "</style>\n",
       "<table border=\"1\" class=\"dataframe\">\n",
       "  <thead>\n",
       "    <tr style=\"text-align: right;\">\n",
       "      <th></th>\n",
       "      <th>total_images</th>\n",
       "      <th>last_price</th>\n",
       "      <th>total_area</th>\n",
       "      <th>first_day_exposition</th>\n",
       "      <th>rooms</th>\n",
       "      <th>ceiling_height</th>\n",
       "      <th>floors_total</th>\n",
       "      <th>living_area</th>\n",
       "      <th>floor</th>\n",
       "      <th>is_apartment</th>\n",
       "      <th>...</th>\n",
       "      <th>kitchen_area</th>\n",
       "      <th>balcony</th>\n",
       "      <th>locality_name</th>\n",
       "      <th>airports_nearest</th>\n",
       "      <th>cityCenters_nearest</th>\n",
       "      <th>parks_around3000</th>\n",
       "      <th>parks_nearest</th>\n",
       "      <th>ponds_around3000</th>\n",
       "      <th>ponds_nearest</th>\n",
       "      <th>days_exposition</th>\n",
       "    </tr>\n",
       "  </thead>\n",
       "  <tbody>\n",
       "    <tr>\n",
       "      <td>0</td>\n",
       "      <td>20</td>\n",
       "      <td>13000000.0</td>\n",
       "      <td>108.00</td>\n",
       "      <td>2019-03-07T00:00:00</td>\n",
       "      <td>3</td>\n",
       "      <td>2.70</td>\n",
       "      <td>16.0</td>\n",
       "      <td>51.00</td>\n",
       "      <td>8</td>\n",
       "      <td>NaN</td>\n",
       "      <td>...</td>\n",
       "      <td>25.00</td>\n",
       "      <td>NaN</td>\n",
       "      <td>Санкт-Петербург</td>\n",
       "      <td>18863.0</td>\n",
       "      <td>16028.0</td>\n",
       "      <td>1.0</td>\n",
       "      <td>482.0</td>\n",
       "      <td>2.0</td>\n",
       "      <td>755.0</td>\n",
       "      <td>NaN</td>\n",
       "    </tr>\n",
       "    <tr>\n",
       "      <td>1</td>\n",
       "      <td>7</td>\n",
       "      <td>3350000.0</td>\n",
       "      <td>40.40</td>\n",
       "      <td>2018-12-04T00:00:00</td>\n",
       "      <td>1</td>\n",
       "      <td>NaN</td>\n",
       "      <td>11.0</td>\n",
       "      <td>18.60</td>\n",
       "      <td>1</td>\n",
       "      <td>NaN</td>\n",
       "      <td>...</td>\n",
       "      <td>11.00</td>\n",
       "      <td>2.0</td>\n",
       "      <td>посёлок Шушары</td>\n",
       "      <td>12817.0</td>\n",
       "      <td>18603.0</td>\n",
       "      <td>0.0</td>\n",
       "      <td>NaN</td>\n",
       "      <td>0.0</td>\n",
       "      <td>NaN</td>\n",
       "      <td>81.0</td>\n",
       "    </tr>\n",
       "    <tr>\n",
       "      <td>2</td>\n",
       "      <td>10</td>\n",
       "      <td>5196000.0</td>\n",
       "      <td>56.00</td>\n",
       "      <td>2015-08-20T00:00:00</td>\n",
       "      <td>2</td>\n",
       "      <td>NaN</td>\n",
       "      <td>5.0</td>\n",
       "      <td>34.30</td>\n",
       "      <td>4</td>\n",
       "      <td>NaN</td>\n",
       "      <td>...</td>\n",
       "      <td>8.30</td>\n",
       "      <td>0.0</td>\n",
       "      <td>Санкт-Петербург</td>\n",
       "      <td>21741.0</td>\n",
       "      <td>13933.0</td>\n",
       "      <td>1.0</td>\n",
       "      <td>90.0</td>\n",
       "      <td>2.0</td>\n",
       "      <td>574.0</td>\n",
       "      <td>558.0</td>\n",
       "    </tr>\n",
       "    <tr>\n",
       "      <td>3</td>\n",
       "      <td>0</td>\n",
       "      <td>64900000.0</td>\n",
       "      <td>159.00</td>\n",
       "      <td>2015-07-24T00:00:00</td>\n",
       "      <td>3</td>\n",
       "      <td>NaN</td>\n",
       "      <td>14.0</td>\n",
       "      <td>NaN</td>\n",
       "      <td>9</td>\n",
       "      <td>NaN</td>\n",
       "      <td>...</td>\n",
       "      <td>NaN</td>\n",
       "      <td>0.0</td>\n",
       "      <td>Санкт-Петербург</td>\n",
       "      <td>28098.0</td>\n",
       "      <td>6800.0</td>\n",
       "      <td>2.0</td>\n",
       "      <td>84.0</td>\n",
       "      <td>3.0</td>\n",
       "      <td>234.0</td>\n",
       "      <td>424.0</td>\n",
       "    </tr>\n",
       "    <tr>\n",
       "      <td>4</td>\n",
       "      <td>2</td>\n",
       "      <td>10000000.0</td>\n",
       "      <td>100.00</td>\n",
       "      <td>2018-06-19T00:00:00</td>\n",
       "      <td>2</td>\n",
       "      <td>3.03</td>\n",
       "      <td>14.0</td>\n",
       "      <td>32.00</td>\n",
       "      <td>13</td>\n",
       "      <td>NaN</td>\n",
       "      <td>...</td>\n",
       "      <td>41.00</td>\n",
       "      <td>NaN</td>\n",
       "      <td>Санкт-Петербург</td>\n",
       "      <td>31856.0</td>\n",
       "      <td>8098.0</td>\n",
       "      <td>2.0</td>\n",
       "      <td>112.0</td>\n",
       "      <td>1.0</td>\n",
       "      <td>48.0</td>\n",
       "      <td>121.0</td>\n",
       "    </tr>\n",
       "    <tr>\n",
       "      <td>5</td>\n",
       "      <td>10</td>\n",
       "      <td>2890000.0</td>\n",
       "      <td>30.40</td>\n",
       "      <td>2018-09-10T00:00:00</td>\n",
       "      <td>1</td>\n",
       "      <td>NaN</td>\n",
       "      <td>12.0</td>\n",
       "      <td>14.40</td>\n",
       "      <td>5</td>\n",
       "      <td>NaN</td>\n",
       "      <td>...</td>\n",
       "      <td>9.10</td>\n",
       "      <td>NaN</td>\n",
       "      <td>городской посёлок Янино-1</td>\n",
       "      <td>NaN</td>\n",
       "      <td>NaN</td>\n",
       "      <td>NaN</td>\n",
       "      <td>NaN</td>\n",
       "      <td>NaN</td>\n",
       "      <td>NaN</td>\n",
       "      <td>55.0</td>\n",
       "    </tr>\n",
       "    <tr>\n",
       "      <td>6</td>\n",
       "      <td>6</td>\n",
       "      <td>3700000.0</td>\n",
       "      <td>37.30</td>\n",
       "      <td>2017-11-02T00:00:00</td>\n",
       "      <td>1</td>\n",
       "      <td>NaN</td>\n",
       "      <td>26.0</td>\n",
       "      <td>10.60</td>\n",
       "      <td>6</td>\n",
       "      <td>NaN</td>\n",
       "      <td>...</td>\n",
       "      <td>14.40</td>\n",
       "      <td>1.0</td>\n",
       "      <td>посёлок Парголово</td>\n",
       "      <td>52996.0</td>\n",
       "      <td>19143.0</td>\n",
       "      <td>0.0</td>\n",
       "      <td>NaN</td>\n",
       "      <td>0.0</td>\n",
       "      <td>NaN</td>\n",
       "      <td>155.0</td>\n",
       "    </tr>\n",
       "    <tr>\n",
       "      <td>7</td>\n",
       "      <td>5</td>\n",
       "      <td>7915000.0</td>\n",
       "      <td>71.60</td>\n",
       "      <td>2019-04-18T00:00:00</td>\n",
       "      <td>2</td>\n",
       "      <td>NaN</td>\n",
       "      <td>24.0</td>\n",
       "      <td>NaN</td>\n",
       "      <td>22</td>\n",
       "      <td>NaN</td>\n",
       "      <td>...</td>\n",
       "      <td>18.90</td>\n",
       "      <td>2.0</td>\n",
       "      <td>Санкт-Петербург</td>\n",
       "      <td>23982.0</td>\n",
       "      <td>11634.0</td>\n",
       "      <td>0.0</td>\n",
       "      <td>NaN</td>\n",
       "      <td>0.0</td>\n",
       "      <td>NaN</td>\n",
       "      <td>NaN</td>\n",
       "    </tr>\n",
       "    <tr>\n",
       "      <td>8</td>\n",
       "      <td>20</td>\n",
       "      <td>2900000.0</td>\n",
       "      <td>33.16</td>\n",
       "      <td>2018-05-23T00:00:00</td>\n",
       "      <td>1</td>\n",
       "      <td>NaN</td>\n",
       "      <td>27.0</td>\n",
       "      <td>15.43</td>\n",
       "      <td>26</td>\n",
       "      <td>NaN</td>\n",
       "      <td>...</td>\n",
       "      <td>8.81</td>\n",
       "      <td>NaN</td>\n",
       "      <td>посёлок Мурино</td>\n",
       "      <td>NaN</td>\n",
       "      <td>NaN</td>\n",
       "      <td>NaN</td>\n",
       "      <td>NaN</td>\n",
       "      <td>NaN</td>\n",
       "      <td>NaN</td>\n",
       "      <td>189.0</td>\n",
       "    </tr>\n",
       "    <tr>\n",
       "      <td>9</td>\n",
       "      <td>18</td>\n",
       "      <td>5400000.0</td>\n",
       "      <td>61.00</td>\n",
       "      <td>2017-02-26T00:00:00</td>\n",
       "      <td>3</td>\n",
       "      <td>2.50</td>\n",
       "      <td>9.0</td>\n",
       "      <td>43.60</td>\n",
       "      <td>7</td>\n",
       "      <td>NaN</td>\n",
       "      <td>...</td>\n",
       "      <td>6.50</td>\n",
       "      <td>2.0</td>\n",
       "      <td>Санкт-Петербург</td>\n",
       "      <td>50898.0</td>\n",
       "      <td>15008.0</td>\n",
       "      <td>0.0</td>\n",
       "      <td>NaN</td>\n",
       "      <td>0.0</td>\n",
       "      <td>NaN</td>\n",
       "      <td>289.0</td>\n",
       "    </tr>\n",
       "  </tbody>\n",
       "</table>\n",
       "<p>10 rows × 22 columns</p>\n",
       "</div>"
      ],
      "text/plain": [
       "   total_images  last_price  total_area first_day_exposition  rooms  \\\n",
       "0            20  13000000.0      108.00  2019-03-07T00:00:00      3   \n",
       "1             7   3350000.0       40.40  2018-12-04T00:00:00      1   \n",
       "2            10   5196000.0       56.00  2015-08-20T00:00:00      2   \n",
       "3             0  64900000.0      159.00  2015-07-24T00:00:00      3   \n",
       "4             2  10000000.0      100.00  2018-06-19T00:00:00      2   \n",
       "5            10   2890000.0       30.40  2018-09-10T00:00:00      1   \n",
       "6             6   3700000.0       37.30  2017-11-02T00:00:00      1   \n",
       "7             5   7915000.0       71.60  2019-04-18T00:00:00      2   \n",
       "8            20   2900000.0       33.16  2018-05-23T00:00:00      1   \n",
       "9            18   5400000.0       61.00  2017-02-26T00:00:00      3   \n",
       "\n",
       "   ceiling_height  floors_total  living_area  floor is_apartment  ...  \\\n",
       "0            2.70          16.0        51.00      8          NaN  ...   \n",
       "1             NaN          11.0        18.60      1          NaN  ...   \n",
       "2             NaN           5.0        34.30      4          NaN  ...   \n",
       "3             NaN          14.0          NaN      9          NaN  ...   \n",
       "4            3.03          14.0        32.00     13          NaN  ...   \n",
       "5             NaN          12.0        14.40      5          NaN  ...   \n",
       "6             NaN          26.0        10.60      6          NaN  ...   \n",
       "7             NaN          24.0          NaN     22          NaN  ...   \n",
       "8             NaN          27.0        15.43     26          NaN  ...   \n",
       "9            2.50           9.0        43.60      7          NaN  ...   \n",
       "\n",
       "   kitchen_area  balcony              locality_name  airports_nearest  \\\n",
       "0         25.00      NaN            Санкт-Петербург           18863.0   \n",
       "1         11.00      2.0             посёлок Шушары           12817.0   \n",
       "2          8.30      0.0            Санкт-Петербург           21741.0   \n",
       "3           NaN      0.0            Санкт-Петербург           28098.0   \n",
       "4         41.00      NaN            Санкт-Петербург           31856.0   \n",
       "5          9.10      NaN  городской посёлок Янино-1               NaN   \n",
       "6         14.40      1.0          посёлок Парголово           52996.0   \n",
       "7         18.90      2.0            Санкт-Петербург           23982.0   \n",
       "8          8.81      NaN             посёлок Мурино               NaN   \n",
       "9          6.50      2.0            Санкт-Петербург           50898.0   \n",
       "\n",
       "  cityCenters_nearest  parks_around3000  parks_nearest  ponds_around3000  \\\n",
       "0             16028.0               1.0          482.0               2.0   \n",
       "1             18603.0               0.0            NaN               0.0   \n",
       "2             13933.0               1.0           90.0               2.0   \n",
       "3              6800.0               2.0           84.0               3.0   \n",
       "4              8098.0               2.0          112.0               1.0   \n",
       "5                 NaN               NaN            NaN               NaN   \n",
       "6             19143.0               0.0            NaN               0.0   \n",
       "7             11634.0               0.0            NaN               0.0   \n",
       "8                 NaN               NaN            NaN               NaN   \n",
       "9             15008.0               0.0            NaN               0.0   \n",
       "\n",
       "   ponds_nearest  days_exposition  \n",
       "0          755.0              NaN  \n",
       "1            NaN             81.0  \n",
       "2          574.0            558.0  \n",
       "3          234.0            424.0  \n",
       "4           48.0            121.0  \n",
       "5            NaN             55.0  \n",
       "6            NaN            155.0  \n",
       "7            NaN              NaN  \n",
       "8            NaN            189.0  \n",
       "9            NaN            289.0  \n",
       "\n",
       "[10 rows x 22 columns]"
      ]
     },
     "metadata": {},
     "output_type": "display_data"
    },
    {
     "name": "stdout",
     "output_type": "stream",
     "text": [
      "<class 'pandas.core.frame.DataFrame'>\n",
      "RangeIndex: 23699 entries, 0 to 23698\n",
      "Data columns (total 22 columns):\n",
      "total_images            23699 non-null int64\n",
      "last_price              23699 non-null float64\n",
      "total_area              23699 non-null float64\n",
      "first_day_exposition    23699 non-null object\n",
      "rooms                   23699 non-null int64\n",
      "ceiling_height          14504 non-null float64\n",
      "floors_total            23613 non-null float64\n",
      "living_area             21796 non-null float64\n",
      "floor                   23699 non-null int64\n",
      "is_apartment            2775 non-null object\n",
      "studio                  23699 non-null bool\n",
      "open_plan               23699 non-null bool\n",
      "kitchen_area            21421 non-null float64\n",
      "balcony                 12180 non-null float64\n",
      "locality_name           23650 non-null object\n",
      "airports_nearest        18157 non-null float64\n",
      "cityCenters_nearest     18180 non-null float64\n",
      "parks_around3000        18181 non-null float64\n",
      "parks_nearest           8079 non-null float64\n",
      "ponds_around3000        18181 non-null float64\n",
      "ponds_nearest           9110 non-null float64\n",
      "days_exposition         20518 non-null float64\n",
      "dtypes: bool(2), float64(14), int64(3), object(3)\n",
      "memory usage: 3.7+ MB\n"
     ]
    }
   ],
   "source": [
    "data = pandas.read_csv('/datasets/real_estate_data.csv', sep='\\t', decimal='.')\n",
    "display(data.head(10))\n",
    "data.info()"
   ]
  },
  {
   "cell_type": "markdown",
   "metadata": {},
   "source": [
    "Теперь мы видим нормальную таблицу, по крайней мере, с точки зрения формы; в таблице нормальные 22 поименованные колонки. К содержанию же есть претензии:\n",
    "- пропуски в столбцах ceiling_height, floors_total, living_area, is_apartment, kitchen_area, balcony, locality_name, airports_nearest, cityCenters_nearest, parks_around3000, parks_nearest, ponds_around3000, ponds_nearest, days_exposition\n",
    "- cityCenters_nearest не в змеином регистре, но полагаю, раз это единственное название в таком стиле, то это не систематическая ошибка, а просто автор показал, что слово двухсоставное и так написал, пусть так останется.\n",
    "- Размер таблицы увеличился до 3,7 МБ."
   ]
  },
  {
   "cell_type": "code",
   "execution_count": 4,
   "metadata": {},
   "outputs": [
    {
     "data": {
      "text/plain": [
       "'Медианная высота'"
      ]
     },
     "metadata": {},
     "output_type": "display_data"
    },
    {
     "data": {
      "text/plain": [
       "2.65"
      ]
     },
     "metadata": {},
     "output_type": "display_data"
    },
    {
     "data": {
      "text/plain": [
       "'макс. высота потолка'"
      ]
     },
     "metadata": {},
     "output_type": "display_data"
    },
    {
     "data": {
      "text/plain": [
       "100.0"
      ]
     },
     "metadata": {},
     "output_type": "display_data"
    },
    {
     "data": {
      "text/plain": [
       "'мин. высота потолка'"
      ]
     },
     "metadata": {},
     "output_type": "display_data"
    },
    {
     "data": {
      "text/plain": [
       "1.0"
      ]
     },
     "metadata": {},
     "output_type": "display_data"
    }
   ],
   "source": [
    "#разберёмся со столбцом ceiling_height\n",
    "display('Медианная высота', data['ceiling_height'].median())\n",
    "data['ceiling_height'] = data['ceiling_height'].fillna(data['ceiling_height'].median())\n",
    "display('макс. высота потолка', data['ceiling_height'].max())\n",
    "display('мин. высота потолка', data['ceiling_height'].min())\n"
   ]
  },
  {
   "cell_type": "markdown",
   "metadata": {},
   "source": [
    "Высоту потолков можно заполнить просто медианным значением по столбцу. 2,65 - вполне реальная высота среднестатистических потолков. В датафрейме есть выбивающиеся значения (квартира-храм???), и мы поэтому берём медиану. Высота 1 м - странная. Пропуски наверняка связаны с незнанием пользователя о высоте своих потолков."
   ]
  },
  {
   "cell_type": "code",
   "execution_count": 5,
   "metadata": {},
   "outputs": [],
   "source": [
    "#теперь с floors_total то же самое и заменим на целое\n",
    "data['floors_total'] = data['floors_total'].fillna(data['floors_total'].median())\n",
    "data['floors_total'] = data['floors_total'].astype(int)"
   ]
  },
  {
   "cell_type": "markdown",
   "metadata": {},
   "source": [
    "Количество этажей в доме не самая важная характеристика, к тому же пропусков здесь очень мало, тоже заполним медианой по столбцу. Вероятно, пользователь не вносил этот параметр по невнимательности или просто лени. И ещё заменим на целое, т.к. в домах указывается целое количество этажей."
   ]
  },
  {
   "cell_type": "code",
   "execution_count": 6,
   "metadata": {},
   "outputs": [
    {
     "data": {
      "text/plain": [
       "'макс. ж/площадь'"
      ]
     },
     "metadata": {},
     "output_type": "display_data"
    },
    {
     "data": {
      "text/plain": [
       "409.7"
      ]
     },
     "metadata": {},
     "output_type": "display_data"
    },
    {
     "data": {
      "text/plain": [
       "'мин. ж/площадь'"
      ]
     },
     "metadata": {},
     "output_type": "display_data"
    },
    {
     "data": {
      "text/plain": [
       "2.0"
      ]
     },
     "metadata": {},
     "output_type": "display_data"
    }
   ],
   "source": [
    "#пропуски в living_area заполним медианой с группировкой по rooms\n",
    "for room in data['rooms'].unique():\n",
    "    median = data.loc[data['rooms'] == room, 'living_area'].median()\n",
    "    data.loc[(data['living_area'].isna()) & (data['rooms'] == room), 'living_area'] = median\n",
    "#Также посмотрим максимульные и минимальные значения, чтобы убедиться, что всё в квадратных метрах\n",
    "display('макс. ж/площадь', data['living_area'].max())\n",
    "display('мин. ж/площадь', data['living_area'].min())"
   ]
  },
  {
   "cell_type": "markdown",
   "metadata": {},
   "source": [
    "Отсутствие значений в жилой площади заполним медианой с группировкой по количеству комнат. Максимальное значение жилой площади - 409,7. Полагаю, что всё ок, километров нет. А вот минимальное - 2,0. Надо запомнить этот момент и отследить на графиках. Но всё равно это не сантиметры и не километры."
   ]
  },
  {
   "cell_type": "code",
   "execution_count": 7,
   "metadata": {},
   "outputs": [
    {
     "data": {
      "text/plain": [
       "array([nan, False, True], dtype=object)"
      ]
     },
     "metadata": {},
     "output_type": "display_data"
    }
   ],
   "source": [
    "#перейдём к is_apartment\n",
    "display(data['is_apartment'].unique())\n",
    "data['is_apartment'] = data['is_apartment'].fillna(False)"
   ]
  },
  {
   "cell_type": "markdown",
   "metadata": {},
   "source": [
    "По апартаментам всё просто: скорее всего, если значение пропущено, то это не апартаменты, поэтому заменяем пропущенные значения на False."
   ]
  },
  {
   "cell_type": "code",
   "execution_count": 8,
   "metadata": {},
   "outputs": [
    {
     "name": "stderr",
     "output_type": "stream",
     "text": [
      "/opt/conda/lib/python3.7/site-packages/numpy/lib/nanfunctions.py:1111: RuntimeWarning: Mean of empty slice\n",
      "  return np.nanmean(a, axis, out=out, keepdims=keepdims)\n"
     ]
    },
    {
     "data": {
      "text/plain": [
       "'макс. кух/площадь'"
      ]
     },
     "metadata": {},
     "output_type": "display_data"
    },
    {
     "data": {
      "text/plain": [
       "112.0"
      ]
     },
     "metadata": {},
     "output_type": "display_data"
    },
    {
     "data": {
      "text/plain": [
       "'мин. кух/площадь'"
      ]
     },
     "metadata": {},
     "output_type": "display_data"
    },
    {
     "data": {
      "text/plain": [
       "1.3"
      ]
     },
     "metadata": {},
     "output_type": "display_data"
    },
    {
     "data": {
      "text/plain": [
       "False    23649\n",
       "True        50\n",
       "Name: is_apartment, dtype: int64"
      ]
     },
     "metadata": {},
     "output_type": "display_data"
    }
   ],
   "source": [
    "#в kitchen_area тоже есть немного пропусков, поступим с ними также как с жилой площадью\n",
    "for room in data['rooms'].unique():\n",
    "    median = data.loc[data['rooms'] == room, 'kitchen_area'].median()\n",
    "    data.loc[(data['kitchen_area'].isna()) & (data['rooms'] == room), 'kitchen_area'] = median\n",
    "#Также посмотрим максимульные и минимальные значения, чтобы убедиться, что всё в квадратных метрах\n",
    "display('макс. кух/площадь', data['kitchen_area'].max())\n",
    "display('мин. кух/площадь', data['kitchen_area'].min())\n",
    "#проверим, сколько апартаментов в данных\n",
    "display(data['is_apartment'].value_counts())"
   ]
  },
  {
   "cell_type": "markdown",
   "metadata": {},
   "source": [
    "С площадью кухни проделано то же самое, что и с жилой площадью. Минимум и максимум похожи на правду. Единственный момент: заполнились не все значения. Но т.к. в данных есть такие объекты, как студии, а в них нет кухни, то это нормально. Таких объектов 197. Правда, апартаментов всего 50 в таблице. Если однокомнатные апартаменты считаются студиями, то похоже на правду. И вообще этих непонятных данных меньше 1%, будем их игнорировать."
   ]
  },
  {
   "cell_type": "code",
   "execution_count": 9,
   "metadata": {},
   "outputs": [
    {
     "data": {
      "text/plain": [
       "array([nan,  2.,  0.,  1.,  5.,  4.,  3.])"
      ]
     },
     "metadata": {},
     "output_type": "display_data"
    }
   ],
   "source": [
    "#с balcony поступим также как с апартаментами и заменим на целое число\n",
    "display(data['balcony'].unique())\n",
    "data['balcony'] = data['balcony'].fillna(0)\n",
    "data['balcony'] = data['balcony'].astype(int)"
   ]
  },
  {
   "cell_type": "markdown",
   "metadata": {},
   "source": [
    "Значения в столбце с информацией о балконах - nan,  2.,  0.,  1.,  5.,  4.,  3. Похоже на правду. Но очень много пропущенных значений. Полагаю, раз пользователь не разместил информацию о балконах в объявлении, то их либо совсем не было, либо он не считался особо важным показателем, влияющим на цену в данном объекте. А вот владельцы квартир с 5 балконами вряд ли бы умолчали об этом. Поэтому пропуски заменила на ноль. Балконы заменим на целое число, т.к. не может быть полтора или два с половиной балкона."
   ]
  },
  {
   "cell_type": "code",
   "execution_count": 10,
   "metadata": {},
   "outputs": [],
   "source": [
    "#пропускам в locality_name дадим название \"Без названия\"\n",
    "data['locality_name'] = data['locality_name'].fillna('Без названия')"
   ]
  },
  {
   "cell_type": "markdown",
   "metadata": {},
   "source": [
    "Есть 49 пропущенных значений в locality_name. Вероятно, это какие-то места на окраинах, вне населённых пунктов, такое бывает, Россия большая)). Заменим отсутствие на \"Без названия\". Возможно, пригодится для группировки."
   ]
  },
  {
   "cell_type": "code",
   "execution_count": 11,
   "metadata": {},
   "outputs": [],
   "source": [
    "#в first_day_exposition меняем тип object на datetime64[ns]\n",
    "data['first_day_exposition'] = pandas.to_datetime(data['first_day_exposition'])"
   ]
  },
  {
   "cell_type": "markdown",
   "metadata": {},
   "source": [
    "В дате публикации меняем тип object на datetime64[ns], иначе потом с этим столбцом невозможно будет провести никаких манипуляций. Пропуски в дате, наверняка, технической природы. Что-то недовыгрузилось."
   ]
  },
  {
   "cell_type": "code",
   "execution_count": 12,
   "metadata": {
    "scrolled": true
   },
   "outputs": [
    {
     "data": {
      "text/html": [
       "<div>\n",
       "<style scoped>\n",
       "    .dataframe tbody tr th:only-of-type {\n",
       "        vertical-align: middle;\n",
       "    }\n",
       "\n",
       "    .dataframe tbody tr th {\n",
       "        vertical-align: top;\n",
       "    }\n",
       "\n",
       "    .dataframe thead th {\n",
       "        text-align: right;\n",
       "    }\n",
       "</style>\n",
       "<table border=\"1\" class=\"dataframe\">\n",
       "  <thead>\n",
       "    <tr style=\"text-align: right;\">\n",
       "      <th></th>\n",
       "      <th>total_images</th>\n",
       "      <th>last_price</th>\n",
       "      <th>total_area</th>\n",
       "      <th>first_day_exposition</th>\n",
       "      <th>rooms</th>\n",
       "      <th>ceiling_height</th>\n",
       "      <th>floors_total</th>\n",
       "      <th>living_area</th>\n",
       "      <th>floor</th>\n",
       "      <th>is_apartment</th>\n",
       "      <th>...</th>\n",
       "      <th>kitchen_area</th>\n",
       "      <th>balcony</th>\n",
       "      <th>locality_name</th>\n",
       "      <th>airports_nearest</th>\n",
       "      <th>cityCenters_nearest</th>\n",
       "      <th>parks_around3000</th>\n",
       "      <th>parks_nearest</th>\n",
       "      <th>ponds_around3000</th>\n",
       "      <th>ponds_nearest</th>\n",
       "      <th>days_exposition</th>\n",
       "    </tr>\n",
       "  </thead>\n",
       "  <tbody>\n",
       "    <tr>\n",
       "      <td>0</td>\n",
       "      <td>20</td>\n",
       "      <td>13000000.0</td>\n",
       "      <td>108.0</td>\n",
       "      <td>2019-03-07</td>\n",
       "      <td>3</td>\n",
       "      <td>2.70</td>\n",
       "      <td>16</td>\n",
       "      <td>51.0</td>\n",
       "      <td>8</td>\n",
       "      <td>False</td>\n",
       "      <td>...</td>\n",
       "      <td>25.0</td>\n",
       "      <td>0</td>\n",
       "      <td>Санкт-Петербург</td>\n",
       "      <td>18863.0</td>\n",
       "      <td>16028.0</td>\n",
       "      <td>1</td>\n",
       "      <td>482.0</td>\n",
       "      <td>2</td>\n",
       "      <td>755.0</td>\n",
       "      <td>NaN</td>\n",
       "    </tr>\n",
       "    <tr>\n",
       "      <td>1</td>\n",
       "      <td>7</td>\n",
       "      <td>3350000.0</td>\n",
       "      <td>40.4</td>\n",
       "      <td>2018-12-04</td>\n",
       "      <td>1</td>\n",
       "      <td>2.65</td>\n",
       "      <td>11</td>\n",
       "      <td>18.6</td>\n",
       "      <td>1</td>\n",
       "      <td>False</td>\n",
       "      <td>...</td>\n",
       "      <td>11.0</td>\n",
       "      <td>2</td>\n",
       "      <td>посёлок Шушары</td>\n",
       "      <td>12817.0</td>\n",
       "      <td>18603.0</td>\n",
       "      <td>0</td>\n",
       "      <td>460.0</td>\n",
       "      <td>0</td>\n",
       "      <td>584.5</td>\n",
       "      <td>81.0</td>\n",
       "    </tr>\n",
       "    <tr>\n",
       "      <td>2</td>\n",
       "      <td>10</td>\n",
       "      <td>5196000.0</td>\n",
       "      <td>56.0</td>\n",
       "      <td>2015-08-20</td>\n",
       "      <td>2</td>\n",
       "      <td>2.65</td>\n",
       "      <td>5</td>\n",
       "      <td>34.3</td>\n",
       "      <td>4</td>\n",
       "      <td>False</td>\n",
       "      <td>...</td>\n",
       "      <td>8.3</td>\n",
       "      <td>0</td>\n",
       "      <td>Санкт-Петербург</td>\n",
       "      <td>21741.0</td>\n",
       "      <td>13933.0</td>\n",
       "      <td>1</td>\n",
       "      <td>90.0</td>\n",
       "      <td>2</td>\n",
       "      <td>574.0</td>\n",
       "      <td>558.0</td>\n",
       "    </tr>\n",
       "    <tr>\n",
       "      <td>3</td>\n",
       "      <td>0</td>\n",
       "      <td>64900000.0</td>\n",
       "      <td>159.0</td>\n",
       "      <td>2015-07-24</td>\n",
       "      <td>3</td>\n",
       "      <td>2.65</td>\n",
       "      <td>14</td>\n",
       "      <td>45.0</td>\n",
       "      <td>9</td>\n",
       "      <td>False</td>\n",
       "      <td>...</td>\n",
       "      <td>9.5</td>\n",
       "      <td>0</td>\n",
       "      <td>Санкт-Петербург</td>\n",
       "      <td>28098.0</td>\n",
       "      <td>6800.0</td>\n",
       "      <td>2</td>\n",
       "      <td>84.0</td>\n",
       "      <td>3</td>\n",
       "      <td>234.0</td>\n",
       "      <td>424.0</td>\n",
       "    </tr>\n",
       "    <tr>\n",
       "      <td>4</td>\n",
       "      <td>2</td>\n",
       "      <td>10000000.0</td>\n",
       "      <td>100.0</td>\n",
       "      <td>2018-06-19</td>\n",
       "      <td>2</td>\n",
       "      <td>3.03</td>\n",
       "      <td>14</td>\n",
       "      <td>32.0</td>\n",
       "      <td>13</td>\n",
       "      <td>False</td>\n",
       "      <td>...</td>\n",
       "      <td>41.0</td>\n",
       "      <td>0</td>\n",
       "      <td>Санкт-Петербург</td>\n",
       "      <td>31856.0</td>\n",
       "      <td>8098.0</td>\n",
       "      <td>2</td>\n",
       "      <td>112.0</td>\n",
       "      <td>1</td>\n",
       "      <td>48.0</td>\n",
       "      <td>121.0</td>\n",
       "    </tr>\n",
       "  </tbody>\n",
       "</table>\n",
       "<p>5 rows × 22 columns</p>\n",
       "</div>"
      ],
      "text/plain": [
       "   total_images  last_price  total_area first_day_exposition  rooms  \\\n",
       "0            20  13000000.0       108.0           2019-03-07      3   \n",
       "1             7   3350000.0        40.4           2018-12-04      1   \n",
       "2            10   5196000.0        56.0           2015-08-20      2   \n",
       "3             0  64900000.0       159.0           2015-07-24      3   \n",
       "4             2  10000000.0       100.0           2018-06-19      2   \n",
       "\n",
       "   ceiling_height  floors_total  living_area  floor  is_apartment  ...  \\\n",
       "0            2.70            16         51.0      8         False  ...   \n",
       "1            2.65            11         18.6      1         False  ...   \n",
       "2            2.65             5         34.3      4         False  ...   \n",
       "3            2.65            14         45.0      9         False  ...   \n",
       "4            3.03            14         32.0     13         False  ...   \n",
       "\n",
       "   kitchen_area  balcony    locality_name  airports_nearest  \\\n",
       "0          25.0        0  Санкт-Петербург           18863.0   \n",
       "1          11.0        2   посёлок Шушары           12817.0   \n",
       "2           8.3        0  Санкт-Петербург           21741.0   \n",
       "3           9.5        0  Санкт-Петербург           28098.0   \n",
       "4          41.0        0  Санкт-Петербург           31856.0   \n",
       "\n",
       "  cityCenters_nearest  parks_around3000  parks_nearest  ponds_around3000  \\\n",
       "0             16028.0                 1          482.0                 2   \n",
       "1             18603.0                 0          460.0                 0   \n",
       "2             13933.0                 1           90.0                 2   \n",
       "3              6800.0                 2           84.0                 3   \n",
       "4              8098.0                 2          112.0                 1   \n",
       "\n",
       "   ponds_nearest  days_exposition  \n",
       "0          755.0              NaN  \n",
       "1          584.5             81.0  \n",
       "2          574.0            558.0  \n",
       "3          234.0            424.0  \n",
       "4           48.0            121.0  \n",
       "\n",
       "[5 rows x 22 columns]"
      ]
     },
     "metadata": {},
     "output_type": "display_data"
    },
    {
     "name": "stdout",
     "output_type": "stream",
     "text": [
      "<class 'pandas.core.frame.DataFrame'>\n",
      "RangeIndex: 23699 entries, 0 to 23698\n",
      "Data columns (total 22 columns):\n",
      "total_images            23699 non-null int64\n",
      "last_price              23699 non-null float64\n",
      "total_area              23699 non-null float64\n",
      "first_day_exposition    23699 non-null datetime64[ns]\n",
      "rooms                   23699 non-null int64\n",
      "ceiling_height          23699 non-null float64\n",
      "floors_total            23699 non-null int64\n",
      "living_area             23699 non-null float64\n",
      "floor                   23699 non-null int64\n",
      "is_apartment            23699 non-null bool\n",
      "studio                  23699 non-null bool\n",
      "open_plan               23699 non-null bool\n",
      "kitchen_area            23502 non-null float64\n",
      "balcony                 23699 non-null int64\n",
      "locality_name           23699 non-null object\n",
      "airports_nearest        23699 non-null float64\n",
      "cityCenters_nearest     18313 non-null float64\n",
      "parks_around3000        23699 non-null int64\n",
      "parks_nearest           23699 non-null float64\n",
      "ponds_around3000        23699 non-null int64\n",
      "ponds_nearest           23699 non-null float64\n",
      "days_exposition         20518 non-null float64\n",
      "dtypes: bool(3), datetime64[ns](1), float64(10), int64(7), object(1)\n",
      "memory usage: 3.5+ MB\n"
     ]
    }
   ],
   "source": [
    "#в картографических данных заменим пропущенные значения медианой с группировкой по населенному пункту\n",
    "#после этого заполнились не все пропуски, заполним их общей медианой\n",
    "for name in data['locality_name'].unique():\n",
    "    median = data.loc[data['locality_name'] == name, 'airports_nearest'].median()\n",
    "    data.loc[(data['airports_nearest'].isna()) & (data['locality_name'] == name), 'airports_nearest'] = median\n",
    "data['airports_nearest'] = data['airports_nearest'].fillna(data['airports_nearest'].median())\n",
    "    \n",
    "for name in data['locality_name'].unique():\n",
    "    median = data.loc[data['locality_name'] == name, 'cityCenters_nearest'].median()\n",
    "    data.loc[(data['cityCenters_nearest'].isna()) & (data['locality_name'] == name), 'cityCenters_nearest'] = median\n",
    "#data['cityCenters_nearest'] = data['cityCenters_nearest'].fillna(data['cityCenters_nearest'].median())\n",
    "\n",
    "for name in data['locality_name'].unique():\n",
    "    median = data.loc[data['locality_name'] == name, 'parks_around3000'].median()\n",
    "    data.loc[(data['parks_around3000'].isna()) & (data['locality_name'] == name), 'parks_around3000'] = median\n",
    "data['parks_around3000'] = data['parks_around3000'].fillna(data['parks_around3000'].median())\n",
    "#заменим количество парков на целое число\n",
    "data['parks_around3000'] = data['parks_around3000'].astype(int)\n",
    "\n",
    "for name in data['locality_name'].unique():\n",
    "    median = data.loc[data['locality_name'] == name, 'parks_nearest'].median()\n",
    "    data.loc[(data['parks_nearest'].isna()) & (data['locality_name'] == name), 'parks_nearest'] = median    \n",
    "data['parks_nearest'] = data['parks_nearest'].fillna(data['parks_nearest'].median())\n",
    "\n",
    "for name in data['locality_name'].unique():\n",
    "    median = data.loc[data['locality_name'] == name, 'ponds_around3000'].median()\n",
    "    data.loc[(data['ponds_around3000'].isna()) & (data['locality_name'] == name), 'ponds_around3000'] = median \n",
    "data['ponds_around3000'] = data['ponds_around3000'].fillna(data['ponds_around3000'].median())\n",
    "#заменим количество водоёмов на целое число\n",
    "data['ponds_around3000'] = data['ponds_around3000'].astype(int)\n",
    "\n",
    "for name in data['locality_name'].unique():\n",
    "    median = data.loc[data['locality_name'] == name, 'ponds_nearest'].median()\n",
    "    data.loc[(data['ponds_nearest'].isna()) & (data['locality_name'] == name), 'ponds_nearest'] = median    \n",
    "data['ponds_nearest'] = data['ponds_nearest'].fillna(data['ponds_nearest'].median())\n",
    "\n",
    "display(data.head())\n",
    "data.info()"
   ]
  },
  {
   "cell_type": "markdown",
   "metadata": {},
   "source": [
    "Целый раздел картографических данных имеет много пропусков. Скорее всего, пропуски принадлежат объектам вне Санкт-Петербурга. Пропуски в расстояниях до разных объектов (кроме расстояния до центра) заменим медианой с группировкой по населенному пункту, а оставшиеся после этого заменим общей медианой. Но в реальности я бы по голове не погладила того, кто подгружал картографические данные к датафрейму. Или технология не отработана, или человеческий фактор, но в любом случае, этот вопрос надо было бы обсудить с командой. Количество парков и водоёмов в радиусе 3 км заменим на целое число. В объявлении же не указывается, что количество водоёмов столько-то и пара луж впридачу)))"
   ]
  },
  {
   "cell_type": "markdown",
   "metadata": {},
   "source": [
    "## Расчёты и добавление результатов в таблицу"
   ]
  },
  {
   "cell_type": "markdown",
   "metadata": {},
   "source": [
    "Согласно заданию, нам необходимо посчитать и добавить в таблицу:\n",
    "- цену квадратного метра;\n",
    "- день недели, месяц и год публикации объявления;\n",
    "- этаж квартиры; варианты — первый, последний, другой;\n",
    "- соотношение жилой и общей площади, а также отношение площади кухни к общей.\n"
   ]
  },
  {
   "cell_type": "code",
   "execution_count": 13,
   "metadata": {},
   "outputs": [
    {
     "data": {
      "text/html": [
       "<div>\n",
       "<style scoped>\n",
       "    .dataframe tbody tr th:only-of-type {\n",
       "        vertical-align: middle;\n",
       "    }\n",
       "\n",
       "    .dataframe tbody tr th {\n",
       "        vertical-align: top;\n",
       "    }\n",
       "\n",
       "    .dataframe thead th {\n",
       "        text-align: right;\n",
       "    }\n",
       "</style>\n",
       "<table border=\"1\" class=\"dataframe\">\n",
       "  <thead>\n",
       "    <tr style=\"text-align: right;\">\n",
       "      <th></th>\n",
       "      <th>total_images</th>\n",
       "      <th>last_price</th>\n",
       "      <th>total_area</th>\n",
       "      <th>first_day_exposition</th>\n",
       "      <th>rooms</th>\n",
       "      <th>ceiling_height</th>\n",
       "      <th>floors_total</th>\n",
       "      <th>living_area</th>\n",
       "      <th>floor</th>\n",
       "      <th>is_apartment</th>\n",
       "      <th>...</th>\n",
       "      <th>ponds_around3000</th>\n",
       "      <th>ponds_nearest</th>\n",
       "      <th>days_exposition</th>\n",
       "      <th>price_per_square_meter</th>\n",
       "      <th>weekday</th>\n",
       "      <th>month</th>\n",
       "      <th>year</th>\n",
       "      <th>floor_category</th>\n",
       "      <th>living_to_total</th>\n",
       "      <th>kitchen_to_total</th>\n",
       "    </tr>\n",
       "  </thead>\n",
       "  <tbody>\n",
       "    <tr>\n",
       "      <td>0</td>\n",
       "      <td>20</td>\n",
       "      <td>13000000.0</td>\n",
       "      <td>108.0</td>\n",
       "      <td>2019-03-07</td>\n",
       "      <td>3</td>\n",
       "      <td>2.70</td>\n",
       "      <td>16</td>\n",
       "      <td>51.0</td>\n",
       "      <td>8</td>\n",
       "      <td>False</td>\n",
       "      <td>...</td>\n",
       "      <td>2</td>\n",
       "      <td>755.0</td>\n",
       "      <td>NaN</td>\n",
       "      <td>120370.370370</td>\n",
       "      <td>3</td>\n",
       "      <td>3</td>\n",
       "      <td>2019</td>\n",
       "      <td>другой</td>\n",
       "      <td>0.472222</td>\n",
       "      <td>0.231481</td>\n",
       "    </tr>\n",
       "    <tr>\n",
       "      <td>1</td>\n",
       "      <td>7</td>\n",
       "      <td>3350000.0</td>\n",
       "      <td>40.4</td>\n",
       "      <td>2018-12-04</td>\n",
       "      <td>1</td>\n",
       "      <td>2.65</td>\n",
       "      <td>11</td>\n",
       "      <td>18.6</td>\n",
       "      <td>1</td>\n",
       "      <td>False</td>\n",
       "      <td>...</td>\n",
       "      <td>0</td>\n",
       "      <td>584.5</td>\n",
       "      <td>81.0</td>\n",
       "      <td>82920.792079</td>\n",
       "      <td>1</td>\n",
       "      <td>12</td>\n",
       "      <td>2018</td>\n",
       "      <td>первый</td>\n",
       "      <td>0.460396</td>\n",
       "      <td>0.272277</td>\n",
       "    </tr>\n",
       "    <tr>\n",
       "      <td>2</td>\n",
       "      <td>10</td>\n",
       "      <td>5196000.0</td>\n",
       "      <td>56.0</td>\n",
       "      <td>2015-08-20</td>\n",
       "      <td>2</td>\n",
       "      <td>2.65</td>\n",
       "      <td>5</td>\n",
       "      <td>34.3</td>\n",
       "      <td>4</td>\n",
       "      <td>False</td>\n",
       "      <td>...</td>\n",
       "      <td>2</td>\n",
       "      <td>574.0</td>\n",
       "      <td>558.0</td>\n",
       "      <td>92785.714286</td>\n",
       "      <td>3</td>\n",
       "      <td>8</td>\n",
       "      <td>2015</td>\n",
       "      <td>другой</td>\n",
       "      <td>0.612500</td>\n",
       "      <td>0.148214</td>\n",
       "    </tr>\n",
       "    <tr>\n",
       "      <td>3</td>\n",
       "      <td>0</td>\n",
       "      <td>64900000.0</td>\n",
       "      <td>159.0</td>\n",
       "      <td>2015-07-24</td>\n",
       "      <td>3</td>\n",
       "      <td>2.65</td>\n",
       "      <td>14</td>\n",
       "      <td>45.0</td>\n",
       "      <td>9</td>\n",
       "      <td>False</td>\n",
       "      <td>...</td>\n",
       "      <td>3</td>\n",
       "      <td>234.0</td>\n",
       "      <td>424.0</td>\n",
       "      <td>408176.100629</td>\n",
       "      <td>4</td>\n",
       "      <td>7</td>\n",
       "      <td>2015</td>\n",
       "      <td>другой</td>\n",
       "      <td>0.283019</td>\n",
       "      <td>0.059748</td>\n",
       "    </tr>\n",
       "    <tr>\n",
       "      <td>4</td>\n",
       "      <td>2</td>\n",
       "      <td>10000000.0</td>\n",
       "      <td>100.0</td>\n",
       "      <td>2018-06-19</td>\n",
       "      <td>2</td>\n",
       "      <td>3.03</td>\n",
       "      <td>14</td>\n",
       "      <td>32.0</td>\n",
       "      <td>13</td>\n",
       "      <td>False</td>\n",
       "      <td>...</td>\n",
       "      <td>1</td>\n",
       "      <td>48.0</td>\n",
       "      <td>121.0</td>\n",
       "      <td>100000.000000</td>\n",
       "      <td>1</td>\n",
       "      <td>6</td>\n",
       "      <td>2018</td>\n",
       "      <td>другой</td>\n",
       "      <td>0.320000</td>\n",
       "      <td>0.410000</td>\n",
       "    </tr>\n",
       "  </tbody>\n",
       "</table>\n",
       "<p>5 rows × 29 columns</p>\n",
       "</div>"
      ],
      "text/plain": [
       "   total_images  last_price  total_area first_day_exposition  rooms  \\\n",
       "0            20  13000000.0       108.0           2019-03-07      3   \n",
       "1             7   3350000.0        40.4           2018-12-04      1   \n",
       "2            10   5196000.0        56.0           2015-08-20      2   \n",
       "3             0  64900000.0       159.0           2015-07-24      3   \n",
       "4             2  10000000.0       100.0           2018-06-19      2   \n",
       "\n",
       "   ceiling_height  floors_total  living_area  floor  is_apartment  ...  \\\n",
       "0            2.70            16         51.0      8         False  ...   \n",
       "1            2.65            11         18.6      1         False  ...   \n",
       "2            2.65             5         34.3      4         False  ...   \n",
       "3            2.65            14         45.0      9         False  ...   \n",
       "4            3.03            14         32.0     13         False  ...   \n",
       "\n",
       "   ponds_around3000  ponds_nearest  days_exposition  price_per_square_meter  \\\n",
       "0                 2          755.0              NaN           120370.370370   \n",
       "1                 0          584.5             81.0            82920.792079   \n",
       "2                 2          574.0            558.0            92785.714286   \n",
       "3                 3          234.0            424.0           408176.100629   \n",
       "4                 1           48.0            121.0           100000.000000   \n",
       "\n",
       "  weekday  month  year  floor_category  living_to_total  kitchen_to_total  \n",
       "0       3      3  2019          другой         0.472222          0.231481  \n",
       "1       1     12  2018          первый         0.460396          0.272277  \n",
       "2       3      8  2015          другой         0.612500          0.148214  \n",
       "3       4      7  2015          другой         0.283019          0.059748  \n",
       "4       1      6  2018          другой         0.320000          0.410000  \n",
       "\n",
       "[5 rows x 29 columns]"
      ]
     },
     "metadata": {},
     "output_type": "display_data"
    },
    {
     "name": "stdout",
     "output_type": "stream",
     "text": [
      "<class 'pandas.core.frame.DataFrame'>\n",
      "RangeIndex: 23699 entries, 0 to 23698\n",
      "Data columns (total 29 columns):\n",
      "total_images              23699 non-null int64\n",
      "last_price                23699 non-null float64\n",
      "total_area                23699 non-null float64\n",
      "first_day_exposition      23699 non-null datetime64[ns]\n",
      "rooms                     23699 non-null int64\n",
      "ceiling_height            23699 non-null float64\n",
      "floors_total              23699 non-null int64\n",
      "living_area               23699 non-null float64\n",
      "floor                     23699 non-null int64\n",
      "is_apartment              23699 non-null bool\n",
      "studio                    23699 non-null bool\n",
      "open_plan                 23699 non-null bool\n",
      "kitchen_area              23502 non-null float64\n",
      "balcony                   23699 non-null int64\n",
      "locality_name             23699 non-null object\n",
      "airports_nearest          23699 non-null float64\n",
      "cityCenters_nearest       18313 non-null float64\n",
      "parks_around3000          23699 non-null int64\n",
      "parks_nearest             23699 non-null float64\n",
      "ponds_around3000          23699 non-null int64\n",
      "ponds_nearest             23699 non-null float64\n",
      "days_exposition           20518 non-null float64\n",
      "price_per_square_meter    23699 non-null float64\n",
      "weekday                   23699 non-null int64\n",
      "month                     23699 non-null int64\n",
      "year                      23699 non-null int64\n",
      "floor_category            23699 non-null object\n",
      "living_to_total           23699 non-null float64\n",
      "kitchen_to_total          23502 non-null float64\n",
      "dtypes: bool(3), datetime64[ns](1), float64(13), int64(10), object(2)\n",
      "memory usage: 4.8+ MB\n"
     ]
    }
   ],
   "source": [
    "#рассчитаем цену кв.метра\n",
    "data['price_per_square_meter'] = data['last_price'] / data['total_area']\n",
    "\n",
    "#добавляем день недели, месяц и год публикации\n",
    "data['weekday'] = data['first_day_exposition'].dt.weekday\n",
    "data['month'] = data['first_day_exposition'].dt.month\n",
    "data['year'] = data['first_day_exposition'].dt.year\n",
    "\n",
    "#добавляем категорию этажа квартиры\n",
    "def floor_category(row):\n",
    "    if row['floor'] == 1: return 'первый'\n",
    "    if row['floor'] == row['floors_total']: return 'последний'\n",
    "    return 'другой'\n",
    "data['floor_category'] = data.apply(floor_category, axis = 1)\n",
    "\n",
    "#соотношение жилой и общей площади, а также отношение площади кухни к общей\n",
    "data['living_to_total'] = data['living_area'] / data['total_area']\n",
    "data['kitchen_to_total'] = data['kitchen_area'] / data['total_area']\n",
    "\n",
    "\n",
    "display(data.head())\n",
    "data.info()\n"
   ]
  },
  {
   "cell_type": "markdown",
   "metadata": {},
   "source": [
    "1. Цена 1 кв.м рассчитывается как отношение цены к общей площади, т.е. делим цену в дату продажи на общую площадь и вносим эти данные в новый столбец.\n",
    "\n",
    "2. Добавила колонку weekday с номером дня недели, где 0 -понедельник, 6 - воскресенье. Добавили также колонки с месяцем и годом.\n",
    "\n",
    "3. Объявляем функцию, которая определяет категорию этажа - первый, последний или другой. И создаем столбец с категориями этажей.\n",
    "\n",
    "4. Добавляем столбцы с соотношениями жилой и общей площади, а также площади кухни к общей.\n",
    "\n",
    "Итак, добавились ещё 7 столбцов.\n",
    "\n",
    "\n",
    "\n"
   ]
  },
  {
   "cell_type": "markdown",
   "metadata": {},
   "source": [
    "## Исследовательский анализ данных"
   ]
  },
  {
   "cell_type": "markdown",
   "metadata": {},
   "source": [
    "**План**\n",
    "\n",
    "1. Изучить: площадь, цена, число комнат, высота потолков + гистограммы для каждого параметра.\n",
    "\n",
    "2. Изучить время продажи квартиры + гистограмму. Посчитать среднее и медиану. Описать, сколько обычно занимает продажа. Когда можно считать, что продажи прошли очень быстро, а когда необычно долго?\n",
    "\n",
    "3. Убрать редкие и выбивающиеся значения. Описать, какие особенности обнаружены.\n",
    "\n",
    "4. Какие факторы больше всего влияют на стоимость квартиры? Изучить, зависит ли цена от площади, числа комнат, удалённости от центра. Изучить зависимость цены от того, на каком этаже расположена квартира: первом, последнем или другом. Также изучить зависимость от даты размещения: дня недели, месяца и года.\n",
    "\n",
    "5. Выбрать 10 населённых пунктов с наибольшим числом объявлений. Посчитать среднюю цену квадратного метра в этих населённых пунктах. Выделите населённые пункты с самой высокой и низкой стоимостью жилья. Эти данные найти по имени в столбце locality_name.\n",
    "\n",
    "6. Изучить предложения квартир: для каждой квартиры есть информация о расстоянии до центра. Выделить квартиры в Санкт-Петербурге (locality_name). Выяснить, какая область входит в центр. Создать столбец с расстоянием до центра в километрах: округлить до целых значений. После этого посчитать среднюю цену для каждого километра. Построить график, показывающий, как цена зависит от удалённости от центра. Определить границу, где график сильно меняется, — это и будет центральная зона.\n",
    "\n",
    "7. Выделить сегмент квартир в центре. Проанализировать эту территорию и изучить: площадь, цена, число комнат, высота потолков. Также выделить факторы, которые влияют на стоимость квартиры (число комнат, этаж, удалённость от центра, дата размещения объявления). Сделать выводы. Отличаются ли они от общих выводов по всему городу?\n"
   ]
  },
  {
   "cell_type": "code",
   "execution_count": 14,
   "metadata": {},
   "outputs": [
    {
     "data": {
      "text/plain": [
       "count    23699\n",
       "mean        60\n",
       "std         36\n",
       "min         12\n",
       "25%         40\n",
       "50%         52\n",
       "75%         70\n",
       "max        900\n",
       "Name: total_area, dtype: int64"
      ]
     },
     "metadata": {},
     "output_type": "display_data"
    },
    {
     "data": {
      "image/png": "[encoded data removed]",
      "text/plain": [
       "<Figure size 432x288 with 1 Axes>"
      ]
     },
     "metadata": {
      "needs_background": "light"
     },
     "output_type": "display_data"
    },
    {
     "data": {
      "image/png": "[encoded data removed]",
      "text/plain": [
       "<Figure size 432x288 with 1 Axes>"
      ]
     },
     "metadata": {
      "needs_background": "light"
     },
     "output_type": "display_data"
    }
   ],
   "source": [
    "#первый пункт\n",
    "display(data['total_area'].describe().round(0).astype(int))\n",
    "data['total_area'].hist(bins=60)\n",
    "plt.show()\n",
    "data.boxplot('total_area')\n",
    "plt.show()"
   ]
  },
  {
   "cell_type": "code",
   "execution_count": 15,
   "metadata": {},
   "outputs": [
    {
     "data": {
      "text/plain": [
       "count        23699\n",
       "mean       6541549\n",
       "std       10887013\n",
       "min          12190\n",
       "25%        3400000\n",
       "50%        4650000\n",
       "75%        6800000\n",
       "max      763000000\n",
       "Name: last_price, dtype: int64"
      ]
     },
     "metadata": {},
     "output_type": "display_data"
    },
    {
     "data": {
      "image/png": "[encoded data removed]",
      "text/plain": [
       "<Figure size 432x288 with 1 Axes>"
      ]
     },
     "metadata": {
      "needs_background": "light"
     },
     "output_type": "display_data"
    },
    {
     "data": {
      "image/png": "[encoded data removed]",
      "text/plain": [
       "<Figure size 432x288 with 1 Axes>"
      ]
     },
     "metadata": {
      "needs_background": "light"
     },
     "output_type": "display_data"
    }
   ],
   "source": [
    "display(data['last_price'].describe().round(0).astype(int))\n",
    "data['last_price'].hist(bins=30)\n",
    "plt.show()\n",
    "data.boxplot('last_price')\n",
    "plt.show()"
   ]
  },
  {
   "cell_type": "code",
   "execution_count": 16,
   "metadata": {},
   "outputs": [
    {
     "data": {
      "text/plain": [
       "count    23699\n",
       "mean         2\n",
       "std          1\n",
       "min          0\n",
       "25%          1\n",
       "50%          2\n",
       "75%          3\n",
       "max         19\n",
       "Name: rooms, dtype: int64"
      ]
     },
     "metadata": {},
     "output_type": "display_data"
    },
    {
     "data": {
      "image/png": "[encoded data removed]",
      "text/plain": [
       "<Figure size 432x288 with 1 Axes>"
      ]
     },
     "metadata": {
      "needs_background": "light"
     },
     "output_type": "display_data"
    },
    {
     "data": {
      "image/png": "[encoded data removed]",
      "text/plain": [
       "<Figure size 432x288 with 1 Axes>"
      ]
     },
     "metadata": {
      "needs_background": "light"
     },
     "output_type": "display_data"
    }
   ],
   "source": [
    "display(data['rooms'].describe().round(0).astype(int))\n",
    "data['rooms'].hist(bins=20)\n",
    "plt.show()\n",
    "data.boxplot('rooms')\n",
    "plt.show()"
   ]
  },
  {
   "cell_type": "code",
   "execution_count": 17,
   "metadata": {},
   "outputs": [
    {
     "data": {
      "text/plain": [
       "count    23699\n",
       "mean         3\n",
       "std          1\n",
       "min          1\n",
       "25%          3\n",
       "50%          3\n",
       "75%          3\n",
       "max        100\n",
       "Name: ceiling_height, dtype: int64"
      ]
     },
     "metadata": {},
     "output_type": "display_data"
    },
    {
     "data": {
      "image/png": "[encoded data removed]",
      "text/plain": [
       "<Figure size 432x288 with 1 Axes>"
      ]
     },
     "metadata": {
      "needs_background": "light"
     },
     "output_type": "display_data"
    },
    {
     "data": {
      "image/png": "[encoded data removed]",
      "text/plain": [
       "<Figure size 432x288 with 1 Axes>"
      ]
     },
     "metadata": {
      "needs_background": "light"
     },
     "output_type": "display_data"
    }
   ],
   "source": [
    "display(data['ceiling_height'].describe().round(0).astype(int))\n",
    "data['ceiling_height'].hist()\n",
    "plt.show()\n",
    "data.boxplot('ceiling_height')\n",
    "plt.show()"
   ]
  },
  {
   "cell_type": "code",
   "execution_count": 18,
   "metadata": {},
   "outputs": [
    {
     "data": {
      "text/plain": [
       "'корреляция цены с общ площадью'"
      ]
     },
     "metadata": {},
     "output_type": "display_data"
    },
    {
     "data": {
      "text/plain": [
       "0.65"
      ]
     },
     "metadata": {},
     "output_type": "display_data"
    },
    {
     "data": {
      "text/plain": [
       "'корреляция цены с кол-вом комнат'"
      ]
     },
     "metadata": {},
     "output_type": "display_data"
    },
    {
     "data": {
      "text/plain": [
       "0.36"
      ]
     },
     "metadata": {},
     "output_type": "display_data"
    },
    {
     "data": {
      "text/plain": [
       "'корреляция цены с высотой потолков'"
      ]
     },
     "metadata": {},
     "output_type": "display_data"
    },
    {
     "data": {
      "text/plain": [
       "0.06"
      ]
     },
     "metadata": {},
     "output_type": "display_data"
    }
   ],
   "source": [
    "#посмотрим корреляции с ценой\n",
    "display('корреляция цены с общ площадью',data['last_price'].corr(data['total_area']).round(2))\n",
    "display('корреляция цены с кол-вом комнат',data['last_price'].corr(data['rooms']).round(2))\n",
    "display('корреляция цены с высотой потолков',data['last_price'].corr(data['ceiling_height']).round(2))"
   ]
  },
  {
   "cell_type": "markdown",
   "metadata": {},
   "source": [
    "Общая площадь: Большинство объектов имеют площадь до 100 кв.м. Среднее - 60 кв.м., медиана 52. По диаграмме размаха видно, что есть выбросы. Межквартильный размах от 40 до 70 кв.м. Минимум - 12 кв.м., максимум 900. Возможно, это и выбросы, но в жизни такие объекты существуют.\n",
    "\n",
    "Средняя цена объекта - 4,5 млн. Минимальная - 12 т.р. Максимальная - 763 млн. Разброс огромный, стандартное отклонение большое. Видим, что много выбросов. Межквартильный размах показывает, что от 3,4 до 6,8 млн - основной ценник за объект.\n",
    "\n",
    "Среднее и медианное число комнат - 2. Минимум - 0, максимум 19. 19 - я могу понять, а вот 0 - не понимаю. Скорей всего, это те необычные объекты с низким потолоком и площадью 2 кв.м. Межквартильный размах - от 1 до 3, нормальный.\n",
    "\n",
    "Средняя и медиана высоты потолков - 3м. Минимум 1, Максимум 100. Питер - город нестандартный). \n",
    "\n",
    "Корреляция цены с общ площадью - 0.65. Объяснимая зависимость, стремится к 1, но не сильно; корреляция положительная.\n",
    "Корреляция цены с кол-вом комнат - 0.36 - не сильно выраженная.\n",
    "Корреляция цены с высотой потолков - 0.06 - можно сказать, что нет такой зависимости.\n"
   ]
  },
  {
   "cell_type": "code",
   "execution_count": 19,
   "metadata": {},
   "outputs": [
    {
     "data": {
      "text/plain": [
       "count    20518\n",
       "mean       181\n",
       "std        220\n",
       "min          1\n",
       "25%         45\n",
       "50%         95\n",
       "75%        232\n",
       "max       1580\n",
       "Name: days_exposition, dtype: int64"
      ]
     },
     "metadata": {},
     "output_type": "display_data"
    },
    {
     "data": {
      "image/png": "[encoded data removed]",
      "text/plain": [
       "<Figure size 432x288 with 1 Axes>"
      ]
     },
     "metadata": {
      "needs_background": "light"
     },
     "output_type": "display_data"
    }
   ],
   "source": [
    "#второй пункт\n",
    "display(data['days_exposition'].describe().round(0).astype(int))\n",
    "data['days_exposition'].hist()\n",
    "plt.show()"
   ]
  },
  {
   "cell_type": "markdown",
   "metadata": {},
   "source": [
    "На гистограмме мы видим нормальное распределение. Среднее количество дней размещения объекта - 170, медиана 95. Размах - от 45 до 201. Минимум 1 день (либо очень ликвидный объект, либо ошибка, либо продавец передумал), максимум 1580 дней. Это же более 4-х лет! Либо это проблемный объект, либо слишком дорогой, либо его забыли снять с публикации. В общем, в этом случае лучше ориентироваться на медианное значение. Итак, продажа обычно занимает от 45 до 201 дня. В среднем (если можно так сказать о медианном значении) - 95 дней. Полагаю, что продажа в срок до 45 дней - очень быстрая, а дольше 201 дня - долгая.\n",
    "\n",
    "Далее я закомментировала в предобработке данных заполнение пропусков в days_exposition, чтобы посмотреть сильно ли изменится результат. Результат сильно не изменился, поэтому я делаю вывод о том, что заполнение пропусков медианным значением по населённому пункту - правильное решение.\n",
    "\n"
   ]
  },
  {
   "cell_type": "code",
   "execution_count": 20,
   "metadata": {},
   "outputs": [
    {
     "data": {
      "text/plain": [
       "'слишком маленькие значения общ. площади'"
      ]
     },
     "metadata": {},
     "output_type": "display_data"
    },
    {
     "data": {
      "text/plain": [
       "-4.8500000000000085"
      ]
     },
     "metadata": {},
     "output_type": "display_data"
    },
    {
     "data": {
      "text/plain": [
       "'слишком большие значения общ. площади'"
      ]
     },
     "metadata": {},
     "output_type": "display_data"
    },
    {
     "data": {
      "text/plain": [
       "114.75000000000001"
      ]
     },
     "metadata": {},
     "output_type": "display_data"
    },
    {
     "data": {
      "text/plain": [
       "count    22482\n",
       "mean        54\n",
       "std         19\n",
       "min         12\n",
       "25%         39\n",
       "50%         50\n",
       "75%         66\n",
       "max        115\n",
       "Name: total_area, dtype: int64"
      ]
     },
     "metadata": {},
     "output_type": "display_data"
    },
    {
     "data": {
      "image/png": "[encoded data removed]",
      "text/plain": [
       "<Figure size 432x288 with 1 Axes>"
      ]
     },
     "metadata": {
      "needs_background": "light"
     },
     "output_type": "display_data"
    }
   ],
   "source": [
    "#третий пункт, убираем редкие и выбивающиеся значения\n",
    "q1 = data['total_area'].quantile(0.25)\n",
    "q3 = data['total_area'].quantile(0.75)\n",
    "iqr = q3 - q1\n",
    "#границы интервала наиболее вероятных значений\n",
    "extrasmall_total_area = q1 - 1.5 * iqr\n",
    "display('слишком маленькие значения общ. площади', extrasmall_total_area)\n",
    "extrabig_total_area = q3 + 1.5 * iqr\n",
    "display('слишком большие значения общ. площади', extrabig_total_area)\n",
    "#записываем отфильтрованные данные в новый датафрейм\n",
    "data_new = data.query('total_area <= 115') \n",
    "#проверяем удаление выбросов\n",
    "display(data_new['total_area'].describe().round(0).astype(int))\n",
    "#построим гистограмму\n",
    "data_new['total_area'].hist(bins=30)\n",
    "plt.show()"
   ]
  },
  {
   "cell_type": "markdown",
   "metadata": {},
   "source": [
    "Слишком маленькие значения получились отрицательными, потому что первый квантиль слишком мал и разница получилась отрицательная. Оставляю тот код просто для наглядности. Убрала значения более 115 кв.м. Получилось, что мы не слишком много данных удалили, соответственно, урон для таблицы не нанесли. Тем более, что мы создали новую таблицу с очищенными данными data_new."
   ]
  },
  {
   "cell_type": "code",
   "execution_count": 21,
   "metadata": {},
   "outputs": [
    {
     "data": {
      "text/plain": [
       "'q1_price'"
      ]
     },
     "metadata": {},
     "output_type": "display_data"
    },
    {
     "data": {
      "text/plain": [
       "3400000.0"
      ]
     },
     "metadata": {},
     "output_type": "display_data"
    },
    {
     "data": {
      "text/plain": [
       "'слишком низкая цена'"
      ]
     },
     "metadata": {},
     "output_type": "display_data"
    },
    {
     "data": {
      "text/plain": [
       "-1700000.0"
      ]
     },
     "metadata": {},
     "output_type": "display_data"
    },
    {
     "data": {
      "text/plain": [
       "'слишком высокая цена'"
      ]
     },
     "metadata": {},
     "output_type": "display_data"
    },
    {
     "data": {
      "text/plain": [
       "11900000.0"
      ]
     },
     "metadata": {},
     "output_type": "display_data"
    },
    {
     "data": {
      "text/plain": [
       "count       21495\n",
       "mean      4813684\n",
       "std       2194426\n",
       "min        430000\n",
       "25%       3300000\n",
       "50%       4400000\n",
       "75%       5970747\n",
       "max      11900000\n",
       "Name: last_price, dtype: int64"
      ]
     },
     "metadata": {},
     "output_type": "display_data"
    },
    {
     "data": {
      "image/png": "[encoded data removed]",
      "text/plain": [
       "<Figure size 432x288 with 1 Axes>"
      ]
     },
     "metadata": {
      "needs_background": "light"
     },
     "output_type": "display_data"
    }
   ],
   "source": [
    "#то же самое проделываем для last_price\n",
    "q1_price = data['last_price'].quantile(0.25)\n",
    "display('q1_price', q1_price)\n",
    "q3_price = data['last_price'].quantile(0.75)\n",
    "iqr_price = q3_price - q1_price\n",
    "extrasmall_last_price = q1_price - 1.5 * iqr_price\n",
    "display('слишком низкая цена', extrasmall_last_price)\n",
    "extrabig_last_price = q3_price + 1.5 * iqr_price\n",
    "display('слишком высокая цена', extrabig_last_price)\n",
    "\n",
    "data_new = data_new.query('400000 <= last_price <= 11900000') \n",
    "display(data_new['last_price'].describe().round(0).astype(int))\n",
    "#display(data_new.info())\n",
    "#построим гистограмму\n",
    "data_new['last_price'].hist(bins=30)\n",
    "plt.show()"
   ]
  },
  {
   "cell_type": "markdown",
   "metadata": {},
   "source": [
    "Цена не может быть отрицательной, здесь тоже чудеса математики сделали цену отрицательной. Было бы здорово купить квартиру, и чтобы тебе ещё деньги за это дали) Но в жизни так не бывает. Слишком маленькую цену определить достаточно проблематично, но важно, т.к. слишком низкая цена может быть показателем мошенничества. Цена на уровне первого квартиля  3,4 млн. Это жизненная реальная величина. Из предыдущего раздела мы знаем, что минимальная цена 12190 р. Это выбивающееся значение. Если в датасете только квартиры (не гаражи и подобное), то смею предположить, что минимальная цена, ниже которой цены подозрительны - это примерно размер материнского капитала, равный на тот период примерно 400 т.р. Пусть минимальная планка нормальных значений будет такая. Максимум возьмем - третий квартиль плюс полтора размаха. Это 11,9 млн руб."
   ]
  },
  {
   "cell_type": "code",
   "execution_count": 22,
   "metadata": {},
   "outputs": [
    {
     "data": {
      "text/plain": [
       "'q1_rooms'"
      ]
     },
     "metadata": {},
     "output_type": "display_data"
    },
    {
     "data": {
      "text/plain": [
       "1.0"
      ]
     },
     "metadata": {},
     "output_type": "display_data"
    },
    {
     "data": {
      "text/plain": [
       "'слишком мало комнат'"
      ]
     },
     "metadata": {},
     "output_type": "display_data"
    },
    {
     "data": {
      "text/plain": [
       "-2.0"
      ]
     },
     "metadata": {},
     "output_type": "display_data"
    },
    {
     "data": {
      "text/plain": [
       "'слишком много комнат'"
      ]
     },
     "metadata": {},
     "output_type": "display_data"
    },
    {
     "data": {
      "text/plain": [
       "6.0"
      ]
     },
     "metadata": {},
     "output_type": "display_data"
    },
    {
     "data": {
      "text/plain": [
       "count    21300\n",
       "mean         2\n",
       "std          1\n",
       "min          1\n",
       "25%          1\n",
       "50%          2\n",
       "75%          3\n",
       "max          6\n",
       "Name: rooms, dtype: int64"
      ]
     },
     "metadata": {},
     "output_type": "display_data"
    },
    {
     "data": {
      "image/png": "[encoded data removed]",
      "text/plain": [
       "<Figure size 432x288 with 1 Axes>"
      ]
     },
     "metadata": {
      "needs_background": "light"
     },
     "output_type": "display_data"
    }
   ],
   "source": [
    "#поработаем с rooms\n",
    "q1_rooms = data['rooms'].quantile(0.25)\n",
    "display('q1_rooms', q1_rooms)\n",
    "q3_rooms = data['rooms'].quantile(0.75)\n",
    "iqr_rooms = q3_rooms - q1_rooms\n",
    "extrasmall_rooms = q1_rooms - 1.5 * iqr_rooms\n",
    "display('слишком мало комнат', extrasmall_rooms)\n",
    "extrabig_rooms = q3_rooms + 1.5 * iqr_rooms\n",
    "display('слишком много комнат', extrabig_rooms)\n",
    "data_new = data_new.query('1 <= rooms <= 6') \n",
    "display(data_new['rooms'].describe().round(0).astype(int))\n",
    "#построим гистограмму\n",
    "data_new['rooms'].hist(bins=10)\n",
    "plt.show()"
   ]
  },
  {
   "cell_type": "markdown",
   "metadata": {},
   "source": [
    "По комнатам сделаем примерно также: минимум, ниже которго выбивающиеся значения, установим 1 комнату; максимум - 6."
   ]
  },
  {
   "cell_type": "code",
   "execution_count": 23,
   "metadata": {},
   "outputs": [
    {
     "data": {
      "text/plain": [
       "'слишком низкие потолки'"
      ]
     },
     "metadata": {},
     "output_type": "display_data"
    },
    {
     "data": {
      "text/plain": [
       "2.45"
      ]
     },
     "metadata": {},
     "output_type": "display_data"
    },
    {
     "data": {
      "text/plain": [
       "'слишком высокие потолки'"
      ]
     },
     "metadata": {},
     "output_type": "display_data"
    },
    {
     "data": {
      "text/plain": [
       "6.0"
      ]
     },
     "metadata": {},
     "output_type": "display_data"
    },
    {
     "data": {
      "text/plain": [
       "count    21230.000000\n",
       "mean         2.671826\n",
       "std          0.179040\n",
       "min          2.450000\n",
       "25%          2.600000\n",
       "50%          2.650000\n",
       "75%          2.700000\n",
       "max          5.300000\n",
       "Name: ceiling_height, dtype: float64"
      ]
     },
     "metadata": {},
     "output_type": "display_data"
    },
    {
     "data": {
      "image/png": "[encoded data removed]",
      "text/plain": [
       "<Figure size 432x288 with 1 Axes>"
      ]
     },
     "metadata": {
      "needs_background": "light"
     },
     "output_type": "display_data"
    }
   ],
   "source": [
    "#и наконец ceiling_height\n",
    "q1_ceil = data['ceiling_height'].quantile(0.25)\n",
    "q3_ceil = data['ceiling_height'].quantile(0.75)\n",
    "iqr_ceil = q3_ceil - q1_ceil\n",
    "extrasmall_ceil = q1_ceil - 1.5 * iqr_ceil\n",
    "display('слишком низкие потолки', extrasmall_ceil)\n",
    "extrabig_ceil = q3_rooms + 1.5 * iqr_rooms\n",
    "display('слишком высокие потолки', extrabig_ceil)\n",
    "data_new = data_new.query('2.45 <= ceiling_height <= 6') \n",
    "display(data_new['ceiling_height'].describe())\n",
    "#построим гистограмму для потолков в очищенном датафрейме\n",
    "data_new['ceiling_height'].hist()\n",
    "plt.show()"
   ]
  },
  {
   "cell_type": "markdown",
   "metadata": {},
   "source": [
    "Потолки обрежем значениями 2,45 и 6 метров."
   ]
  },
  {
   "cell_type": "code",
   "execution_count": 24,
   "metadata": {},
   "outputs": [
    {
     "data": {
      "text/plain": [
       "'корреляция цены с общ площадью'"
      ]
     },
     "metadata": {},
     "output_type": "display_data"
    },
    {
     "data": {
      "text/plain": [
       "0.69"
      ]
     },
     "metadata": {},
     "output_type": "display_data"
    },
    {
     "data": {
      "image/png": "[encoded data removed]",
      "text/plain": [
       "<Figure size 432x288 with 1 Axes>"
      ]
     },
     "metadata": {
      "needs_background": "light"
     },
     "output_type": "display_data"
    }
   ],
   "source": [
    "#четвёртый пункт плана, зависимости\n",
    "#data_new.info()\n",
    "display('корреляция цены с общ площадью', data_new['last_price'].corr(data_new['total_area']).round(2))\n",
    "data.plot(x='total_area', y='last_price', kind='scatter', alpha=0.1)\n",
    "#plt.axhline()\n",
    "plt.show()"
   ]
  },
  {
   "cell_type": "markdown",
   "metadata": {},
   "source": [
    "Корреляция цены с общей площадью почти 0,7. Диаграмма рассеяния подверждает наличие связи скоплением точек слева внизу."
   ]
  },
  {
   "cell_type": "code",
   "execution_count": 25,
   "metadata": {},
   "outputs": [
    {
     "data": {
      "text/plain": [
       "'корреляция цены кв м с общ площадью'"
      ]
     },
     "metadata": {},
     "output_type": "display_data"
    },
    {
     "data": {
      "text/plain": [
       "-0.07"
      ]
     },
     "metadata": {},
     "output_type": "display_data"
    },
    {
     "data": {
      "image/png": "[encoded data removed]",
      "text/plain": [
       "<Figure size 432x288 with 1 Axes>"
      ]
     },
     "metadata": {
      "needs_background": "light"
     },
     "output_type": "display_data"
    }
   ],
   "source": [
    "display('корреляция цены кв м с общ площадью', data_new['price_per_square_meter'].corr(data_new['total_area']).round(2))\n",
    "data.plot(x='total_area', y='price_per_square_meter', kind='scatter', alpha=0.1, grid=True)\n",
    "plt.show()"
   ]
  },
  {
   "cell_type": "markdown",
   "metadata": {},
   "source": [
    "Корреляция цены кв м с общей площадью низка и отрицательна, -0,07. Это говорит нам о том, что цена кв метра почти не зависит от общей площади.\n",
    "\n",
    "Корреляция цены и общей площади ярче выражена, чем корреляция цены за кв метр с общей площадью. Это очевидно, потому что цена за кв метр зависит не от общей площади, а от других параметров. При этом логично, что чем бошльше площадь, тем выше стоимость квартиры. "
   ]
  },
  {
   "cell_type": "code",
   "execution_count": 26,
   "metadata": {},
   "outputs": [
    {
     "data": {
      "text/plain": [
       "'корреляция цены с кол-вом комнат'"
      ]
     },
     "metadata": {},
     "output_type": "display_data"
    },
    {
     "data": {
      "text/plain": [
       "0.43"
      ]
     },
     "metadata": {},
     "output_type": "display_data"
    },
    {
     "data": {
      "image/png": "[encoded data removed]",
      "text/plain": [
       "<Figure size 432x288 with 1 Axes>"
      ]
     },
     "metadata": {
      "needs_background": "light"
     },
     "output_type": "display_data"
    },
    {
     "data": {
      "text/plain": [
       "'корреляция цены кв м с кол-вом комнат'"
      ]
     },
     "metadata": {},
     "output_type": "display_data"
    },
    {
     "data": {
      "text/plain": [
       "-0.23"
      ]
     },
     "metadata": {},
     "output_type": "display_data"
    },
    {
     "data": {
      "image/png": "[encoded data removed]",
      "text/plain": [
       "<Figure size 432x288 with 1 Axes>"
      ]
     },
     "metadata": {
      "needs_background": "light"
     },
     "output_type": "display_data"
    }
   ],
   "source": [
    "display('корреляция цены с кол-вом комнат', data_new['last_price'].corr(data_new['rooms']).round(2))\n",
    "data.plot(x='rooms', y='last_price', kind='scatter', alpha=0.2, grid=True)\n",
    "plt.show()\n",
    "display('корреляция цены кв м с кол-вом комнат', data_new['price_per_square_meter'].corr(data_new['rooms']).round(2))\n",
    "data.plot(x='rooms', y='price_per_square_meter', kind='scatter', alpha=0.2, grid=True)\n",
    "plt.show()\n"
   ]
  },
  {
   "cell_type": "markdown",
   "metadata": {},
   "source": [
    "Зависимость цены от количества комнат не столь выраженная, но положительная, то есть кол-во комнат влияет на общую цену, чем больше комнат, тем выше цена. Но коэфф-т Пирсона всего 0,43.\n",
    "\n",
    "Цена кв метра и кол-во комнат имеют небольшую и отрицательную зависимость. На диаграмме рассеяния видим бОльший разброс точек, то есть меньшую их концентрацию, соответственно, зависимость меньше."
   ]
  },
  {
   "cell_type": "code",
   "execution_count": 27,
   "metadata": {},
   "outputs": [
    {
     "data": {
      "text/plain": [
       "'корреляция цены кв м с удалённостью от центра'"
      ]
     },
     "metadata": {},
     "output_type": "display_data"
    },
    {
     "data": {
      "text/plain": [
       "-0.3996204100816719"
      ]
     },
     "metadata": {},
     "output_type": "display_data"
    },
    {
     "data": {
      "image/png": "[encoded data removed]",
      "text/plain": [
       "<Figure size 432x288 with 1 Axes>"
      ]
     },
     "metadata": {
      "needs_background": "light"
     },
     "output_type": "display_data"
    }
   ],
   "source": [
    "display('корреляция цены кв м с удалённостью от центра', data_new['price_per_square_meter'].corr(data_new['cityCenters_nearest']))\n",
    "data.plot(x='cityCenters_nearest', y='price_per_square_meter', kind='scatter', alpha=0.03, grid=True)\n",
    "plt.show()"
   ]
  },
  {
   "cell_type": "markdown",
   "metadata": {},
   "source": [
    "Корреляция между ценой кв метра и удалённостью от центра - минус 0,4. Чем удалённее от центра, тем дешевле кв метр. Но корреляция не ярко выраженная, это видно и на диаграмме."
   ]
  },
  {
   "cell_type": "code",
   "execution_count": 28,
   "metadata": {},
   "outputs": [
    {
     "data": {
      "text/plain": [
       "(0, 200000)"
      ]
     },
     "execution_count": 28,
     "metadata": {},
     "output_type": "execute_result"
    },
    {
     "data": {
      "image/png": "[encoded data removed]",
      "text/plain": [
       "<Figure size 432x288 with 1 Axes>"
      ]
     },
     "metadata": {
      "needs_background": "light"
     },
     "output_type": "display_data"
    }
   ],
   "source": [
    "import warnings\n",
    "warnings.filterwarnings('ignore')\n",
    "data_new.boxplot(column='price_per_square_meter', by='floor_category')\n",
    "plt.ylim(0, 200000)"
   ]
  },
  {
   "cell_type": "markdown",
   "metadata": {},
   "source": [
    "Для анализа зависимости цены от категориальной переменной - категории этажа, лучше построить диаграмму размаха. Видно, что медианная цена промежуточных этажей выше, чем первого и последнего."
   ]
  },
  {
   "cell_type": "code",
   "execution_count": 29,
   "metadata": {},
   "outputs": [
    {
     "data": {
      "text/html": [
       "<div>\n",
       "<style scoped>\n",
       "    .dataframe tbody tr th:only-of-type {\n",
       "        vertical-align: middle;\n",
       "    }\n",
       "\n",
       "    .dataframe tbody tr th {\n",
       "        vertical-align: top;\n",
       "    }\n",
       "\n",
       "    .dataframe thead th {\n",
       "        text-align: right;\n",
       "    }\n",
       "</style>\n",
       "<table border=\"1\" class=\"dataframe\">\n",
       "  <thead>\n",
       "    <tr style=\"text-align: right;\">\n",
       "      <th></th>\n",
       "      <th>price_per_square_meter</th>\n",
       "    </tr>\n",
       "    <tr>\n",
       "      <th>weekday</th>\n",
       "      <th></th>\n",
       "    </tr>\n",
       "  </thead>\n",
       "  <tbody>\n",
       "    <tr>\n",
       "      <td>0</td>\n",
       "      <td>94688.910380</td>\n",
       "    </tr>\n",
       "    <tr>\n",
       "      <td>1</td>\n",
       "      <td>95634.095634</td>\n",
       "    </tr>\n",
       "    <tr>\n",
       "      <td>2</td>\n",
       "      <td>95473.807179</td>\n",
       "    </tr>\n",
       "    <tr>\n",
       "      <td>3</td>\n",
       "      <td>95143.884892</td>\n",
       "    </tr>\n",
       "    <tr>\n",
       "      <td>4</td>\n",
       "      <td>94616.160238</td>\n",
       "    </tr>\n",
       "    <tr>\n",
       "      <td>5</td>\n",
       "      <td>93545.716727</td>\n",
       "    </tr>\n",
       "    <tr>\n",
       "      <td>6</td>\n",
       "      <td>94501.718213</td>\n",
       "    </tr>\n",
       "  </tbody>\n",
       "</table>\n",
       "</div>"
      ],
      "text/plain": [
       "         price_per_square_meter\n",
       "weekday                        \n",
       "0                  94688.910380\n",
       "1                  95634.095634\n",
       "2                  95473.807179\n",
       "3                  95143.884892\n",
       "4                  94616.160238\n",
       "5                  93545.716727\n",
       "6                  94501.718213"
      ]
     },
     "metadata": {},
     "output_type": "display_data"
    },
    {
     "data": {
      "text/plain": [
       "([<matplotlib.axis.XTick at 0x7fe443bc0a10>,\n",
       "  <matplotlib.axis.XTick at 0x7fe443bc0110>,\n",
       "  <matplotlib.axis.XTick at 0x7fe443b96bd0>,\n",
       "  <matplotlib.axis.XTick at 0x7fe443d4f490>,\n",
       "  <matplotlib.axis.XTick at 0x7fe443d4f4d0>,\n",
       "  <matplotlib.axis.XTick at 0x7fe443d612d0>,\n",
       "  <matplotlib.axis.XTick at 0x7fe443d61950>],\n",
       " <a list of 7 Text xticklabel objects>)"
      ]
     },
     "execution_count": 29,
     "metadata": {},
     "output_type": "execute_result"
    },
    {
     "data": {
      "image/png": "[encoded data removed]",
      "text/plain": [
       "<Figure size 432x288 with 1 Axes>"
      ]
     },
     "metadata": {
      "needs_background": "light"
     },
     "output_type": "display_data"
    }
   ],
   "source": [
    "#display('корреляция цены с днём размещения', data_new['price_per_square_meter'].corr(data_new['weekday']))\n",
    "#display('корреляция цены с месяцем размещения', data_new['price_per_square_meter'].corr(data_new['month']))\n",
    "#display('корреляция цены с годом размещения', data_new['price_per_square_meter'].corr(data_new['year']))\n",
    "\n",
    "report = data.groupby('weekday').agg({'price_per_square_meter': 'median'})\n",
    "display(report)\n",
    "report.plot()\n",
    "plt.xticks(report.index.values, ['вс', 'пн', 'вт', 'ср', 'чт', 'пт', 'сб'])"
   ]
  },
  {
   "cell_type": "markdown",
   "metadata": {},
   "source": [
    "Зависимость от даты нелинейная, поэтому построили диаграмму зависимости цены кв м от дня публикации объявления. Видим, что по понедельникам публикуются объекты подороже, а по пятница подешевле. Очень интересно! Наверное по понедельникам публикуются объявления агентствами и риэлторами."
   ]
  },
  {
   "cell_type": "code",
   "execution_count": 30,
   "metadata": {},
   "outputs": [
    {
     "data": {
      "text/html": [
       "<div>\n",
       "<style scoped>\n",
       "    .dataframe tbody tr th:only-of-type {\n",
       "        vertical-align: middle;\n",
       "    }\n",
       "\n",
       "    .dataframe tbody tr th {\n",
       "        vertical-align: top;\n",
       "    }\n",
       "\n",
       "    .dataframe thead th {\n",
       "        text-align: right;\n",
       "    }\n",
       "</style>\n",
       "<table border=\"1\" class=\"dataframe\">\n",
       "  <thead>\n",
       "    <tr style=\"text-align: right;\">\n",
       "      <th></th>\n",
       "      <th>price_per_square_meter</th>\n",
       "    </tr>\n",
       "    <tr>\n",
       "      <th>month</th>\n",
       "      <th></th>\n",
       "    </tr>\n",
       "  </thead>\n",
       "  <tbody>\n",
       "    <tr>\n",
       "      <td>1</td>\n",
       "      <td>95222.437478</td>\n",
       "    </tr>\n",
       "    <tr>\n",
       "      <td>2</td>\n",
       "      <td>95000.000000</td>\n",
       "    </tr>\n",
       "    <tr>\n",
       "      <td>3</td>\n",
       "      <td>95238.095238</td>\n",
       "    </tr>\n",
       "    <tr>\n",
       "      <td>4</td>\n",
       "      <td>96451.612903</td>\n",
       "    </tr>\n",
       "    <tr>\n",
       "      <td>5</td>\n",
       "      <td>92857.142857</td>\n",
       "    </tr>\n",
       "    <tr>\n",
       "      <td>6</td>\n",
       "      <td>92799.539171</td>\n",
       "    </tr>\n",
       "    <tr>\n",
       "      <td>7</td>\n",
       "      <td>95000.000000</td>\n",
       "    </tr>\n",
       "    <tr>\n",
       "      <td>8</td>\n",
       "      <td>96026.315789</td>\n",
       "    </tr>\n",
       "    <tr>\n",
       "      <td>9</td>\n",
       "      <td>95607.235142</td>\n",
       "    </tr>\n",
       "    <tr>\n",
       "      <td>10</td>\n",
       "      <td>94202.898551</td>\n",
       "    </tr>\n",
       "    <tr>\n",
       "      <td>11</td>\n",
       "      <td>95588.235294</td>\n",
       "    </tr>\n",
       "    <tr>\n",
       "      <td>12</td>\n",
       "      <td>94262.299023</td>\n",
       "    </tr>\n",
       "  </tbody>\n",
       "</table>\n",
       "</div>"
      ],
      "text/plain": [
       "       price_per_square_meter\n",
       "month                        \n",
       "1                95222.437478\n",
       "2                95000.000000\n",
       "3                95238.095238\n",
       "4                96451.612903\n",
       "5                92857.142857\n",
       "6                92799.539171\n",
       "7                95000.000000\n",
       "8                96026.315789\n",
       "9                95607.235142\n",
       "10               94202.898551\n",
       "11               95588.235294\n",
       "12               94262.299023"
      ]
     },
     "metadata": {},
     "output_type": "display_data"
    },
    {
     "data": {
      "text/plain": [
       "<matplotlib.axes._subplots.AxesSubplot at 0x7fe4442e1f90>"
      ]
     },
     "execution_count": 30,
     "metadata": {},
     "output_type": "execute_result"
    },
    {
     "data": {
      "image/png": "[encoded data removed]",
      "text/plain": [
       "<Figure size 432x288 with 1 Axes>"
      ]
     },
     "metadata": {
      "needs_background": "light"
     },
     "output_type": "display_data"
    }
   ],
   "source": [
    "report = data.groupby('month').agg({'price_per_square_meter': 'median'})\n",
    "display(report)\n",
    "report.plot()"
   ]
  },
  {
   "cell_type": "markdown",
   "metadata": {},
   "source": [
    "Видим пики цен в апреле, августе и ноябре. Это сходится с \"сарафанной\" информацией от риэлторов. Получается, что выгоднее покупать квартиру, выставленную в мае-июне-июле, если это вторичка."
   ]
  },
  {
   "cell_type": "code",
   "execution_count": 31,
   "metadata": {},
   "outputs": [
    {
     "data": {
      "text/html": [
       "<div>\n",
       "<style scoped>\n",
       "    .dataframe tbody tr th:only-of-type {\n",
       "        vertical-align: middle;\n",
       "    }\n",
       "\n",
       "    .dataframe tbody tr th {\n",
       "        vertical-align: top;\n",
       "    }\n",
       "\n",
       "    .dataframe thead th {\n",
       "        text-align: right;\n",
       "    }\n",
       "</style>\n",
       "<table border=\"1\" class=\"dataframe\">\n",
       "  <thead>\n",
       "    <tr style=\"text-align: right;\">\n",
       "      <th></th>\n",
       "      <th>price_per_square_meter</th>\n",
       "    </tr>\n",
       "    <tr>\n",
       "      <th>year</th>\n",
       "      <th></th>\n",
       "    </tr>\n",
       "  </thead>\n",
       "  <tbody>\n",
       "    <tr>\n",
       "      <td>2014</td>\n",
       "      <td>107000.000000</td>\n",
       "    </tr>\n",
       "    <tr>\n",
       "      <td>2015</td>\n",
       "      <td>93414.634146</td>\n",
       "    </tr>\n",
       "    <tr>\n",
       "      <td>2016</td>\n",
       "      <td>91743.119266</td>\n",
       "    </tr>\n",
       "    <tr>\n",
       "      <td>2017</td>\n",
       "      <td>92565.088448</td>\n",
       "    </tr>\n",
       "    <tr>\n",
       "      <td>2018</td>\n",
       "      <td>95689.655172</td>\n",
       "    </tr>\n",
       "    <tr>\n",
       "      <td>2019</td>\n",
       "      <td>103305.785124</td>\n",
       "    </tr>\n",
       "  </tbody>\n",
       "</table>\n",
       "</div>"
      ],
      "text/plain": [
       "      price_per_square_meter\n",
       "year                        \n",
       "2014           107000.000000\n",
       "2015            93414.634146\n",
       "2016            91743.119266\n",
       "2017            92565.088448\n",
       "2018            95689.655172\n",
       "2019           103305.785124"
      ]
     },
     "metadata": {},
     "output_type": "display_data"
    },
    {
     "data": {
      "text/plain": [
       "<matplotlib.axes._subplots.AxesSubplot at 0x7fe4435bdad0>"
      ]
     },
     "execution_count": 31,
     "metadata": {},
     "output_type": "execute_result"
    },
    {
     "data": {
      "image/png": "[encoded data removed]",
      "text/plain": [
       "<Figure size 432x288 with 1 Axes>"
      ]
     },
     "metadata": {
      "needs_background": "light"
     },
     "output_type": "display_data"
    }
   ],
   "source": [
    "report = data.groupby('year').agg({'price_per_square_meter': 'median'})\n",
    "display(report)\n",
    "report.plot()"
   ]
  },
  {
   "cell_type": "markdown",
   "metadata": {},
   "source": [
    "С 2015 по 2018 годы цена кв м была существенно ниже, чем в 2014. Рост начался только в 2018."
   ]
  },
  {
   "cell_type": "markdown",
   "metadata": {},
   "source": [
    "Таким образом, площадь и число комнат в наибольшей степени влияют на стоимость квартир. Из нелинейных зависимостей: по понедельникам цены дороже. Из месяцев самые дорогие - апрель, август и ноябрь. Годы - тут наверное больше экономическая характеристика цен в принципе, а не сезонность.\n",
    "\n",
    "С удалённостью от центра разберёмся далее поподробнее."
   ]
  },
  {
   "cell_type": "code",
   "execution_count": 32,
   "metadata": {},
   "outputs": [
    {
     "data": {
      "text/html": [
       "<div>\n",
       "<style scoped>\n",
       "    .dataframe tbody tr th:only-of-type {\n",
       "        vertical-align: middle;\n",
       "    }\n",
       "\n",
       "    .dataframe tbody tr th {\n",
       "        vertical-align: top;\n",
       "    }\n",
       "\n",
       "    .dataframe thead th {\n",
       "        text-align: right;\n",
       "    }\n",
       "</style>\n",
       "<table border=\"1\" class=\"dataframe\">\n",
       "  <thead>\n",
       "    <tr style=\"text-align: right;\">\n",
       "      <th></th>\n",
       "      <th>rooms</th>\n",
       "      <th>price_per_square_meter</th>\n",
       "    </tr>\n",
       "    <tr>\n",
       "      <th>locality_name_new</th>\n",
       "      <th></th>\n",
       "      <th></th>\n",
       "    </tr>\n",
       "  </thead>\n",
       "  <tbody>\n",
       "    <tr>\n",
       "      <td>Санкт-Петербург</td>\n",
       "      <td>13502</td>\n",
       "      <td>105602.393309</td>\n",
       "    </tr>\n",
       "    <tr>\n",
       "      <td>Мурино</td>\n",
       "      <td>528</td>\n",
       "      <td>85040.964701</td>\n",
       "    </tr>\n",
       "    <tr>\n",
       "      <td>Шушары</td>\n",
       "      <td>433</td>\n",
       "      <td>78431.638413</td>\n",
       "    </tr>\n",
       "    <tr>\n",
       "      <td>Всеволожск</td>\n",
       "      <td>387</td>\n",
       "      <td>67226.119579</td>\n",
       "    </tr>\n",
       "    <tr>\n",
       "      <td>Колпино</td>\n",
       "      <td>334</td>\n",
       "      <td>75240.837335</td>\n",
       "    </tr>\n",
       "    <tr>\n",
       "      <td>Пушкин</td>\n",
       "      <td>334</td>\n",
       "      <td>100494.446350</td>\n",
       "    </tr>\n",
       "    <tr>\n",
       "      <td>Парголово</td>\n",
       "      <td>322</td>\n",
       "      <td>90448.423806</td>\n",
       "    </tr>\n",
       "    <tr>\n",
       "      <td>Гатчина</td>\n",
       "      <td>302</td>\n",
       "      <td>68675.448600</td>\n",
       "    </tr>\n",
       "    <tr>\n",
       "      <td>Кудрово</td>\n",
       "      <td>282</td>\n",
       "      <td>92229.151250</td>\n",
       "    </tr>\n",
       "    <tr>\n",
       "      <td>Выборг</td>\n",
       "      <td>226</td>\n",
       "      <td>58326.431514</td>\n",
       "    </tr>\n",
       "  </tbody>\n",
       "</table>\n",
       "</div>"
      ],
      "text/plain": [
       "                   rooms  price_per_square_meter\n",
       "locality_name_new                               \n",
       "Санкт-Петербург    13502           105602.393309\n",
       " Мурино              528            85040.964701\n",
       " Шушары              433            78431.638413\n",
       "Всеволожск           387            67226.119579\n",
       "Колпино              334            75240.837335\n",
       "Пушкин               334           100494.446350\n",
       " Парголово           322            90448.423806\n",
       "Гатчина              302            68675.448600\n",
       " Кудрово             282            92229.151250\n",
       "Выборг               226            58326.431514"
      ]
     },
     "execution_count": 32,
     "metadata": {},
     "output_type": "execute_result"
    }
   ],
   "source": [
    "#10 населённых пунктов с наибольшим числом объявлений и описать данные\n",
    "data_new['locality_name_new'] = data_new['locality_name']\n",
    "for repl in ['поселок', 'деревня', 'посёлок', 'городской', 'коттеджный']:\n",
    "    data_new['locality_name_new'] = data_new['locality_name_new'].str.replace(repl, '')\n",
    "data_new[['locality_name', 'locality_name_new']].drop_duplicates()\n",
    "\n",
    "data_new.groupby('locality_name_new').agg({'rooms': 'count', 'price_per_square_meter': 'mean'}).sort_values(by='rooms', ascending=False).head(10)"
   ]
  },
  {
   "cell_type": "markdown",
   "metadata": {},
   "source": [
    "Сначала привели к общему знаменателю названия населённых пунктов, исключили дервени, посёлки и прочее, оставив в названии лишь имя собственное.\n",
    "\n",
    "Наибольшее число объявлений выведено в табличке с обработанными пунктами locality_name_new. Санкт-Петербург лидирует с большим отрывом. В столбце rooms посчитано количество продаваемых комнат, в столбце price_per_square_meter - средняя цена за кв метр.\n",
    "Самая высокая цена за кв м в Питере - 105602 рубля, самая низкая в Выборге - 58326 рублей."
   ]
  },
  {
   "cell_type": "code",
   "execution_count": 33,
   "metadata": {},
   "outputs": [
    {
     "data": {
      "text/plain": [
       "<matplotlib.axes._subplots.AxesSubplot at 0x7fe443923e50>"
      ]
     },
     "execution_count": 33,
     "metadata": {},
     "output_type": "execute_result"
    },
    {
     "data": {
      "image/png": "[encoded data removed]",
      "text/plain": [
       "<Figure size 432x288 with 1 Axes>"
      ]
     },
     "metadata": {
      "needs_background": "light"
     },
     "output_type": "display_data"
    }
   ],
   "source": [
    "#работа с расстоянием до центра Спб\n",
    "#выбрали Спб \n",
    "spb_flats = data_new.loc[data_new.loc[:,'locality_name']== 'Санкт-Петербург']\n",
    "#создаем столбец с километрами, округляем до целых значений\n",
    "spb_flats['km_to_center'] = (spb_flats['cityCenters_nearest'] / 1000).round()\n",
    "#Группипуем данные по средней цене квадратного метра и строим график\n",
    "spb_flats_grouped = spb_flats.groupby('km_to_center')['price_per_square_meter'].mean().astype(int)\n",
    "spb_flats_grouped.plot(x='km_to_center', y='price_per_square_meter', grid = True)\n"
   ]
  },
  {
   "cell_type": "markdown",
   "metadata": {},
   "source": [
    "На графике чётко видно, что цена падает с ростом удалённости от центра. Примерно на 10 километрах от центра виден тренд к снижению стоимости кв метра. Интересно, что есть объекты в самом центре с разницей более 10 тыс р. за кв м. Наверное, это коммуналки (но я не знаток питерской недвижимости), но провал очевиден на графике.\n",
    "\n"
   ]
  },
  {
   "cell_type": "code",
   "execution_count": 34,
   "metadata": {},
   "outputs": [
    {
     "data": {
      "text/plain": [
       "count    3504\n",
       "mean       61\n",
       "std        21\n",
       "min        12\n",
       "25%        44\n",
       "50%        58\n",
       "75%        75\n",
       "max       115\n",
       "Name: total_area, dtype: int64"
      ]
     },
     "metadata": {},
     "output_type": "display_data"
    },
    {
     "data": {
      "image/png": "[encoded data removed]",
      "text/plain": [
       "<Figure size 432x288 with 1 Axes>"
      ]
     },
     "metadata": {
      "needs_background": "light"
     },
     "output_type": "display_data"
    },
    {
     "data": {
      "text/plain": [
       "count        3504\n",
       "mean      6819690\n",
       "std       2269315\n",
       "min       1600000\n",
       "25%       5000000\n",
       "50%       6650000\n",
       "75%       8500000\n",
       "max      11900000\n",
       "Name: last_price, dtype: int64"
      ]
     },
     "metadata": {},
     "output_type": "display_data"
    },
    {
     "data": {
      "image/png": "[encoded data removed]",
      "text/plain": [
       "<Figure size 432x288 with 1 Axes>"
      ]
     },
     "metadata": {
      "needs_background": "light"
     },
     "output_type": "display_data"
    },
    {
     "data": {
      "text/plain": [
       "count    3504\n",
       "mean        2\n",
       "std         1\n",
       "min         1\n",
       "25%         1\n",
       "50%         2\n",
       "75%         3\n",
       "max         6\n",
       "Name: rooms, dtype: int64"
      ]
     },
     "metadata": {},
     "output_type": "display_data"
    },
    {
     "data": {
      "image/png": "[encoded data removed]",
      "text/plain": [
       "<Figure size 432x288 with 1 Axes>"
      ]
     },
     "metadata": {
      "needs_background": "light"
     },
     "output_type": "display_data"
    },
    {
     "data": {
      "text/plain": [
       "count    3504\n",
       "mean        3\n",
       "std         0\n",
       "min         2\n",
       "25%         3\n",
       "50%         3\n",
       "75%         3\n",
       "max         5\n",
       "Name: ceiling_height, dtype: int64"
      ]
     },
     "metadata": {},
     "output_type": "display_data"
    },
    {
     "data": {
      "image/png": "[encoded data removed]",
      "text/plain": [
       "<Figure size 432x288 with 1 Axes>"
      ]
     },
     "metadata": {
      "needs_background": "light"
     },
     "output_type": "display_data"
    }
   ],
   "source": [
    "#сравнение данных по центру Спб с остальными\n",
    "spb_center_flats = data_new.query('locality_name == \"Санкт-Петербург\" and cityCenters_nearest<= 10000')\n",
    "\n",
    "display(spb_center_flats['total_area'].describe().round(0).astype(int))\n",
    "spb_center_flats['total_area'].hist(bins=30)\n",
    "plt.show()\n",
    "\n",
    "display(spb_center_flats['last_price'].describe().round(0).astype(int))\n",
    "spb_center_flats['last_price'].hist(bins=10)\n",
    "plt.show()\n",
    "\n",
    "\n",
    "display(spb_center_flats['rooms'].describe().round(0).astype(int))\n",
    "spb_center_flats['rooms'].hist(bins=10)\n",
    "plt.show()\n",
    "\n",
    "display(spb_center_flats['ceiling_height'].describe().round(0).astype(int))\n",
    "spb_center_flats['ceiling_height'].hist()\n",
    "plt.show()"
   ]
  },
  {
   "cell_type": "markdown",
   "metadata": {},
   "source": [
    "Число значений, соответствующие названию Санкт-Петербург и удалённости не более 10 км от центра - 3504. \n",
    "\n",
    "Общая площадь: средняя - 61 кв м, медиана - 58, мин 12, макс 115. Существенно не отличается от других данных.\n",
    "\n",
    "Цена продажи: средняя 6,8 млн, медиана - 6,6 млн., мин 1,6, макс - 11,9. Здесь цены выше, чем в остальном датафрейме, но и данные почище, размах не такой большой.\n",
    "\n",
    "Комнаты: среднее кол-во комнат - 2, мин 1, макс 6. (среднее не отличается, а максимум мы ограничили ранее)\n",
    "\n",
    "Потолки: среднее - 3м, мин 1, макс 6 метров. (почти не отличается, особенно, если учесть предобработку)"
   ]
  },
  {
   "cell_type": "code",
   "execution_count": 35,
   "metadata": {
    "scrolled": true
   },
   "outputs": [
    {
     "data": {
      "text/plain": [
       "'корреляция цены с удалённостью от центра'"
      ]
     },
     "metadata": {},
     "output_type": "display_data"
    },
    {
     "data": {
      "text/plain": [
       "-0.34545020498884443"
      ]
     },
     "metadata": {},
     "output_type": "display_data"
    },
    {
     "data": {
      "image/png": "[encoded data removed]",
      "text/plain": [
       "<Figure size 432x288 with 1 Axes>"
      ]
     },
     "metadata": {
      "needs_background": "light"
     },
     "output_type": "display_data"
    },
    {
     "data": {
      "text/plain": [
       "'корреляция цены с кол-вом комнат'"
      ]
     },
     "metadata": {},
     "output_type": "display_data"
    },
    {
     "data": {
      "text/plain": [
       "0.4901777869903894"
      ]
     },
     "metadata": {},
     "output_type": "display_data"
    },
    {
     "data": {
      "image/png": "[encoded data removed]",
      "text/plain": [
       "<Figure size 432x288 with 1 Axes>"
      ]
     },
     "metadata": {
      "needs_background": "light"
     },
     "output_type": "display_data"
    }
   ],
   "source": [
    "display('корреляция цены с удалённостью от центра',spb_center_flats['last_price'].corr(spb_center_flats['cityCenters_nearest']))\n",
    "spb_center_flats.plot(x='cityCenters_nearest', y='price_per_square_meter', kind='scatter', alpha=0.03, grid=True)\n",
    "plt.show()\n",
    "display('корреляция цены с кол-вом комнат',spb_center_flats['last_price'].corr(spb_center_flats['rooms']))\n",
    "spb_center_flats.plot(x='rooms', y='last_price', kind='scatter', alpha=0.02, grid=True)\n",
    "plt.show()"
   ]
  },
  {
   "cell_type": "markdown",
   "metadata": {},
   "source": [
    "Корреляция цены с удалённостью от центра -0,34: Чем удалённее, тем дешевле.\n",
    "Корреляция цены с кол-вом комнат 0,49 - чем больше комнат, тем дороже. Для двухкомнатных эта корреляция самая явная."
   ]
  },
  {
   "cell_type": "code",
   "execution_count": 36,
   "metadata": {},
   "outputs": [
    {
     "data": {
      "text/plain": [
       "(0, 200000)"
      ]
     },
     "execution_count": 36,
     "metadata": {},
     "output_type": "execute_result"
    },
    {
     "data": {
      "image/png": "[encoded data removed]",
      "text/plain": [
       "<Figure size 432x288 with 1 Axes>"
      ]
     },
     "metadata": {
      "needs_background": "light"
     },
     "output_type": "display_data"
    }
   ],
   "source": [
    "spb_center_flats.boxplot(column='price_per_square_meter', by='floor_category')\n",
    "plt.ylim(0, 200000)"
   ]
  },
  {
   "cell_type": "markdown",
   "metadata": {},
   "source": [
    "Корреляция стоимости от этажа: медианная цена промежуточных этажей выше, чем первого и последнего. (также как и в остальном датафрейме)"
   ]
  },
  {
   "cell_type": "code",
   "execution_count": 37,
   "metadata": {},
   "outputs": [
    {
     "data": {
      "text/html": [
       "<div>\n",
       "<style scoped>\n",
       "    .dataframe tbody tr th:only-of-type {\n",
       "        vertical-align: middle;\n",
       "    }\n",
       "\n",
       "    .dataframe tbody tr th {\n",
       "        vertical-align: top;\n",
       "    }\n",
       "\n",
       "    .dataframe thead th {\n",
       "        text-align: right;\n",
       "    }\n",
       "</style>\n",
       "<table border=\"1\" class=\"dataframe\">\n",
       "  <thead>\n",
       "    <tr style=\"text-align: right;\">\n",
       "      <th></th>\n",
       "      <th>price_per_square_meter</th>\n",
       "    </tr>\n",
       "    <tr>\n",
       "      <th>weekday</th>\n",
       "      <th></th>\n",
       "    </tr>\n",
       "  </thead>\n",
       "  <tbody>\n",
       "    <tr>\n",
       "      <td>0</td>\n",
       "      <td>111027.902540</td>\n",
       "    </tr>\n",
       "    <tr>\n",
       "      <td>1</td>\n",
       "      <td>109677.419355</td>\n",
       "    </tr>\n",
       "    <tr>\n",
       "      <td>2</td>\n",
       "      <td>110409.142631</td>\n",
       "    </tr>\n",
       "    <tr>\n",
       "      <td>3</td>\n",
       "      <td>110000.000000</td>\n",
       "    </tr>\n",
       "    <tr>\n",
       "      <td>4</td>\n",
       "      <td>108597.285068</td>\n",
       "    </tr>\n",
       "    <tr>\n",
       "      <td>5</td>\n",
       "      <td>113541.666667</td>\n",
       "    </tr>\n",
       "    <tr>\n",
       "      <td>6</td>\n",
       "      <td>111111.111111</td>\n",
       "    </tr>\n",
       "  </tbody>\n",
       "</table>\n",
       "</div>"
      ],
      "text/plain": [
       "         price_per_square_meter\n",
       "weekday                        \n",
       "0                 111027.902540\n",
       "1                 109677.419355\n",
       "2                 110409.142631\n",
       "3                 110000.000000\n",
       "4                 108597.285068\n",
       "5                 113541.666667\n",
       "6                 111111.111111"
      ]
     },
     "metadata": {},
     "output_type": "display_data"
    },
    {
     "data": {
      "text/plain": [
       "([<matplotlib.axis.XTick at 0x7fe44426ad50>,\n",
       "  <matplotlib.axis.XTick at 0x7fe444342110>,\n",
       "  <matplotlib.axis.XTick at 0x7fe444237f50>,\n",
       "  <matplotlib.axis.XTick at 0x7fe4430e1b50>,\n",
       "  <matplotlib.axis.XTick at 0x7fe4430b0390>,\n",
       "  <matplotlib.axis.XTick at 0x7fe4430b0850>,\n",
       "  <matplotlib.axis.XTick at 0x7fe4430b0790>],\n",
       " <a list of 7 Text xticklabel objects>)"
      ]
     },
     "execution_count": 37,
     "metadata": {},
     "output_type": "execute_result"
    },
    {
     "data": {
      "image/png": "[encoded data removed]",
      "text/plain": [
       "<Figure size 432x288 with 1 Axes>"
      ]
     },
     "metadata": {
      "needs_background": "light"
     },
     "output_type": "display_data"
    }
   ],
   "source": [
    "#display('корреляция цены с днём размещения', spb_center_flats['price_per_square_meter'].corr(spb_center_flats['weekday']))\n",
    "#display('корреляция цены с месяцем размещения', spb_center_flats['price_per_square_meter'].corr(spb_center_flats['month']))\n",
    "#display('корреляция цены с годом размещения', spb_center_flats['price_per_square_meter'].corr(spb_center_flats['year']))\n",
    "\n",
    "report = spb_center_flats.groupby('weekday').agg({'price_per_square_meter': 'median'})\n",
    "display(report)\n",
    "report.plot()\n",
    "plt.xticks(report.index.values, ['вс', 'пн', 'вт', 'ср', 'чт', 'пт', 'сб'])"
   ]
  },
  {
   "cell_type": "markdown",
   "metadata": {},
   "source": [
    "Удивительно, но в Питере пятница - день самого дорогого квадратного метра."
   ]
  },
  {
   "cell_type": "code",
   "execution_count": 38,
   "metadata": {},
   "outputs": [
    {
     "data": {
      "text/html": [
       "<div>\n",
       "<style scoped>\n",
       "    .dataframe tbody tr th:only-of-type {\n",
       "        vertical-align: middle;\n",
       "    }\n",
       "\n",
       "    .dataframe tbody tr th {\n",
       "        vertical-align: top;\n",
       "    }\n",
       "\n",
       "    .dataframe thead th {\n",
       "        text-align: right;\n",
       "    }\n",
       "</style>\n",
       "<table border=\"1\" class=\"dataframe\">\n",
       "  <thead>\n",
       "    <tr style=\"text-align: right;\">\n",
       "      <th></th>\n",
       "      <th>price_per_square_meter</th>\n",
       "    </tr>\n",
       "    <tr>\n",
       "      <th>month</th>\n",
       "      <th></th>\n",
       "    </tr>\n",
       "  </thead>\n",
       "  <tbody>\n",
       "    <tr>\n",
       "      <td>1</td>\n",
       "      <td>109878.048780</td>\n",
       "    </tr>\n",
       "    <tr>\n",
       "      <td>2</td>\n",
       "      <td>107368.421053</td>\n",
       "    </tr>\n",
       "    <tr>\n",
       "      <td>3</td>\n",
       "      <td>113043.478261</td>\n",
       "    </tr>\n",
       "    <tr>\n",
       "      <td>4</td>\n",
       "      <td>112307.692308</td>\n",
       "    </tr>\n",
       "    <tr>\n",
       "      <td>5</td>\n",
       "      <td>110256.481585</td>\n",
       "    </tr>\n",
       "    <tr>\n",
       "      <td>6</td>\n",
       "      <td>108059.701493</td>\n",
       "    </tr>\n",
       "    <tr>\n",
       "      <td>7</td>\n",
       "      <td>109274.193548</td>\n",
       "    </tr>\n",
       "    <tr>\n",
       "      <td>8</td>\n",
       "      <td>112096.774194</td>\n",
       "    </tr>\n",
       "    <tr>\n",
       "      <td>9</td>\n",
       "      <td>113057.324841</td>\n",
       "    </tr>\n",
       "    <tr>\n",
       "      <td>10</td>\n",
       "      <td>110068.268533</td>\n",
       "    </tr>\n",
       "    <tr>\n",
       "      <td>11</td>\n",
       "      <td>105519.480519</td>\n",
       "    </tr>\n",
       "    <tr>\n",
       "      <td>12</td>\n",
       "      <td>109732.417713</td>\n",
       "    </tr>\n",
       "  </tbody>\n",
       "</table>\n",
       "</div>"
      ],
      "text/plain": [
       "       price_per_square_meter\n",
       "month                        \n",
       "1               109878.048780\n",
       "2               107368.421053\n",
       "3               113043.478261\n",
       "4               112307.692308\n",
       "5               110256.481585\n",
       "6               108059.701493\n",
       "7               109274.193548\n",
       "8               112096.774194\n",
       "9               113057.324841\n",
       "10              110068.268533\n",
       "11              105519.480519\n",
       "12              109732.417713"
      ]
     },
     "metadata": {},
     "output_type": "display_data"
    },
    {
     "data": {
      "text/plain": [
       "<matplotlib.axes._subplots.AxesSubplot at 0x7fe443c8ab50>"
      ]
     },
     "execution_count": 38,
     "metadata": {},
     "output_type": "execute_result"
    },
    {
     "data": {
      "image/png": "[encoded data removed]",
      "text/plain": [
       "<Figure size 432x288 with 1 Axes>"
      ]
     },
     "metadata": {
      "needs_background": "light"
     },
     "output_type": "display_data"
    }
   ],
   "source": [
    "report = spb_center_flats.groupby('month').agg({'price_per_square_meter': 'median'})\n",
    "display(report)\n",
    "report.plot()"
   ]
  },
  {
   "cell_type": "markdown",
   "metadata": {},
   "source": [
    "Если апрель и август отражают ту же картину, что и в остальном датафрейме, то ноябрь в Питере - не самый жаркий месяц с точки зрения цены за квадрат."
   ]
  },
  {
   "cell_type": "code",
   "execution_count": 39,
   "metadata": {},
   "outputs": [
    {
     "data": {
      "text/html": [
       "<div>\n",
       "<style scoped>\n",
       "    .dataframe tbody tr th:only-of-type {\n",
       "        vertical-align: middle;\n",
       "    }\n",
       "\n",
       "    .dataframe tbody tr th {\n",
       "        vertical-align: top;\n",
       "    }\n",
       "\n",
       "    .dataframe thead th {\n",
       "        text-align: right;\n",
       "    }\n",
       "</style>\n",
       "<table border=\"1\" class=\"dataframe\">\n",
       "  <thead>\n",
       "    <tr style=\"text-align: right;\">\n",
       "      <th></th>\n",
       "      <th>price_per_square_meter</th>\n",
       "    </tr>\n",
       "    <tr>\n",
       "      <th>year</th>\n",
       "      <th></th>\n",
       "    </tr>\n",
       "  </thead>\n",
       "  <tbody>\n",
       "    <tr>\n",
       "      <td>2014</td>\n",
       "      <td>110375.000000</td>\n",
       "    </tr>\n",
       "    <tr>\n",
       "      <td>2015</td>\n",
       "      <td>105555.555556</td>\n",
       "    </tr>\n",
       "    <tr>\n",
       "      <td>2016</td>\n",
       "      <td>105414.728899</td>\n",
       "    </tr>\n",
       "    <tr>\n",
       "      <td>2017</td>\n",
       "      <td>107435.152807</td>\n",
       "    </tr>\n",
       "    <tr>\n",
       "      <td>2018</td>\n",
       "      <td>112520.096463</td>\n",
       "    </tr>\n",
       "    <tr>\n",
       "      <td>2019</td>\n",
       "      <td>118750.000000</td>\n",
       "    </tr>\n",
       "  </tbody>\n",
       "</table>\n",
       "</div>"
      ],
      "text/plain": [
       "      price_per_square_meter\n",
       "year                        \n",
       "2014           110375.000000\n",
       "2015           105555.555556\n",
       "2016           105414.728899\n",
       "2017           107435.152807\n",
       "2018           112520.096463\n",
       "2019           118750.000000"
      ]
     },
     "metadata": {},
     "output_type": "display_data"
    },
    {
     "data": {
      "text/plain": [
       "<matplotlib.axes._subplots.AxesSubplot at 0x7fe4430dcb10>"
      ]
     },
     "execution_count": 39,
     "metadata": {},
     "output_type": "execute_result"
    },
    {
     "data": {
      "image/png": "[encoded data removed]",
      "text/plain": [
       "<Figure size 432x288 with 1 Axes>"
      ]
     },
     "metadata": {
      "needs_background": "light"
     },
     "output_type": "display_data"
    }
   ],
   "source": [
    "report = spb_center_flats.groupby('year').agg({'price_per_square_meter': 'median'})\n",
    "display(report)\n",
    "report.plot()"
   ]
  },
  {
   "cell_type": "markdown",
   "metadata": {},
   "source": [
    "В Питере рост цен на кв метр начался раньше примерно на год."
   ]
  },
  {
   "cell_type": "markdown",
   "metadata": {},
   "source": [
    "## Общий вывод"
   ]
  },
  {
   "cell_type": "markdown",
   "metadata": {},
   "source": [
    "Данные в таблице были \"склеены\", было необходимо привести в презентабельный вид. Очень было много пропусков. Думаю, основная причина пропусков первого раздела - человеческий фактор и особенности объекта, а пропуски в картографических данных имеют техническую природу. Вторых было очень много, и команде необходимо над этим поработать, чтобы улучшить результат.\n",
    "\n",
    "К данным рассчитали и добавили - цена за квадратный метр, день недели, месяц, год продажи, соотношения жилой и общей площади, а также площади кухни к общей.\n",
    "\n",
    "Исследование в \"первом приближении\" показало: \n",
    "- Гистограмма по общей площади описывает нормальное распределение. По диаграмме размаха видно, что есть выбросы. \n",
    "- Средняя цена объекта - 4,5 млн. Минимальная - 12 т.р. Максимальная - 763 млн. Разброс огромный; много выбросов.\n",
    "- Среднее и медианное число комнат - 2. Странное значение числа комнат = 0 вызвало недоумение. \n",
    "- Средняя и медиана высоты потолков - 3м. Минимум 1, Максимум 100. Сразу видна нестандартность культурной столицы.\n",
    "- Корреляция цены с общ площадью - 0.65. Объяснимая зависимость, стремится к 1, но не сильно; корреляция положительная. Корреляция цены с кол-вом комнат - 0.36 - не сильно выраженная. Корреляция цены с высотой потолков - 0.06 - можно сказать, что нет такой зависимости.\n",
    "- продажа обычно занимает от 45 до 201 дня. В среднем (если можно так сказать о медианном значении) - 95 дней. Полагаю, что продажа в срок до 45 дней - очень быстрая, а дольше 201 дня - долгая.\n",
    "\n",
    "Далее я оценила и удалила выбивающиеся значения и создала data_new.\n",
    "- Убрала значения общей площади более 115 кв.м. \n",
    "- Минимум цены установили 400 т.р., максимум 11,9 млн руб.\n",
    "- минимальное количество комнат 1; максимум - 6.\n",
    "- Потолки обрезали значениями 2,45 и 6 метров.\n",
    "\n",
    "Далее выяснилось, что площадь и число комнат в наибольшей степени влияют на стоимость квартир. \n",
    "\n",
    "Определили, что самая высокая цена за кв м в Питере - 105602 рубля, самая низкая из десяти населённых пунктов с наибольшим числом объявлений в Выборге - 58326 рублей.\n",
    "\n",
    "Цена падает с ростом удалённости от центра. Примерно на 10 километрах от центра виден тренд к снижению стоимости кв метра. Интересно, что есть объекты в самом центре Питера с разницей более 10 тыс р. за кв м. \n",
    "\n",
    "Основные корреляции и параметры по центру Санкт-Петербурга существенно не отличаются от остальных мест в Ленинградской области и окраинах Петербурга, за исключением ценовых характеристик. Немного отличаются нелинейные зависимости: в ноябре цена кв метра в Питере ниже, чем в остальных местах. И рост цен начался раньше на год.\n",
    "\n",
    "Особых сюрпризов результаты анализа данных недвижимости не принесли, всё было логично и понятно, за исключением выбивающихся значений. Интересно было бы разобраться с ними. А также выяснить причины большого количества пропусков в картографических данных.\n",
    "\n"
   ]
  }
 ],
 "metadata": {
  "ExecuteTimeLog": [
   {
    "duration": 649,
    "start_time": "2022-01-11T08:43:00.885Z"
   },
   {
    "duration": 66,
    "start_time": "2022-01-11T10:24:42.876Z"
   },
   {
    "duration": 85,
    "start_time": "2022-01-11T10:25:07.752Z"
   },
   {
    "duration": 108,
    "start_time": "2022-01-11T10:25:52.587Z"
   },
   {
    "duration": 70,
    "start_time": "2022-01-11T10:28:28.677Z"
   },
   {
    "duration": 99,
    "start_time": "2022-01-11T10:33:39.916Z"
   },
   {
    "duration": 64,
    "start_time": "2022-01-11T10:34:39.862Z"
   },
   {
    "duration": 104,
    "start_time": "2022-01-11T10:34:50.224Z"
   },
   {
    "duration": 11,
    "start_time": "2022-01-11T12:16:18.866Z"
   },
   {
    "duration": 62,
    "start_time": "2022-01-11T12:20:05.864Z"
   },
   {
    "duration": 78,
    "start_time": "2022-01-11T12:20:05.928Z"
   },
   {
    "duration": 968,
    "start_time": "2022-01-11T12:20:06.008Z"
   },
   {
    "duration": 63,
    "start_time": "2022-01-11T12:21:32.218Z"
   },
   {
    "duration": 81,
    "start_time": "2022-01-11T12:21:32.283Z"
   },
   {
    "duration": 390,
    "start_time": "2022-01-11T12:21:32.366Z"
   },
   {
    "duration": 62,
    "start_time": "2022-01-11T12:21:53.882Z"
   },
   {
    "duration": 82,
    "start_time": "2022-01-11T12:21:53.945Z"
   },
   {
    "duration": 359,
    "start_time": "2022-01-11T12:21:54.029Z"
   },
   {
    "duration": 61,
    "start_time": "2022-01-11T12:22:07.914Z"
   },
   {
    "duration": 83,
    "start_time": "2022-01-11T12:22:07.976Z"
   },
   {
    "duration": 771,
    "start_time": "2022-01-11T12:22:08.061Z"
   },
   {
    "duration": 64,
    "start_time": "2022-01-11T12:22:21.646Z"
   },
   {
    "duration": 76,
    "start_time": "2022-01-11T12:22:21.712Z"
   },
   {
    "duration": 348,
    "start_time": "2022-01-11T12:22:21.790Z"
   },
   {
    "duration": 61,
    "start_time": "2022-01-11T12:25:19.623Z"
   },
   {
    "duration": 73,
    "start_time": "2022-01-11T12:25:19.686Z"
   },
   {
    "duration": 6,
    "start_time": "2022-01-11T12:32:31.026Z"
   },
   {
    "duration": 27,
    "start_time": "2022-01-11T12:34:19.664Z"
   },
   {
    "duration": 62,
    "start_time": "2022-01-11T12:44:32.366Z"
   },
   {
    "duration": 68,
    "start_time": "2022-01-11T13:00:04.662Z"
   },
   {
    "duration": 71,
    "start_time": "2022-01-11T13:05:01.842Z"
   },
   {
    "duration": 71,
    "start_time": "2022-01-11T13:06:42.979Z"
   },
   {
    "duration": 73,
    "start_time": "2022-01-11T13:09:29.468Z"
   },
   {
    "duration": 73,
    "start_time": "2022-01-11T13:09:43.765Z"
   },
   {
    "duration": 78,
    "start_time": "2022-01-11T13:11:37.119Z"
   },
   {
    "duration": 77,
    "start_time": "2022-01-11T13:13:54.682Z"
   },
   {
    "duration": 113,
    "start_time": "2022-01-11T14:07:44.509Z"
   },
   {
    "duration": 79,
    "start_time": "2022-01-11T14:07:54.907Z"
   },
   {
    "duration": 127,
    "start_time": "2022-01-11T14:10:31.328Z"
   },
   {
    "duration": 152,
    "start_time": "2022-01-11T14:16:02.777Z"
   },
   {
    "duration": 76,
    "start_time": "2022-01-11T14:16:52.379Z"
   },
   {
    "duration": 126,
    "start_time": "2022-01-11T14:17:04.060Z"
   },
   {
    "duration": 134,
    "start_time": "2022-01-11T14:28:07.418Z"
   },
   {
    "duration": 134,
    "start_time": "2022-01-11T14:28:44.896Z"
   },
   {
    "duration": 131,
    "start_time": "2022-01-11T14:29:55.107Z"
   },
   {
    "duration": 165,
    "start_time": "2022-01-11T14:39:46.671Z"
   },
   {
    "duration": 127,
    "start_time": "2022-01-11T14:41:26.258Z"
   },
   {
    "duration": 1697,
    "start_time": "2022-01-11T15:01:02.717Z"
   },
   {
    "duration": 62,
    "start_time": "2022-01-11T15:01:54.182Z"
   },
   {
    "duration": 86,
    "start_time": "2022-01-11T15:01:54.247Z"
   },
   {
    "duration": 1593,
    "start_time": "2022-01-11T15:01:54.336Z"
   },
   {
    "duration": 2974,
    "start_time": "2022-01-11T16:29:36.179Z"
   },
   {
    "duration": 3054,
    "start_time": "2022-01-11T16:31:56.200Z"
   },
   {
    "duration": 4565,
    "start_time": "2022-01-11T16:40:55.724Z"
   },
   {
    "duration": 6111,
    "start_time": "2022-01-11T16:43:43.383Z"
   },
   {
    "duration": 6033,
    "start_time": "2022-01-11T16:44:48.631Z"
   },
   {
    "duration": 62,
    "start_time": "2022-01-11T16:45:14.710Z"
   },
   {
    "duration": 84,
    "start_time": "2022-01-11T16:45:14.774Z"
   },
   {
    "duration": 6495,
    "start_time": "2022-01-11T16:45:14.859Z"
   },
   {
    "duration": 8844,
    "start_time": "2022-01-11T16:45:41.076Z"
   },
   {
    "duration": 8730,
    "start_time": "2022-01-11T17:22:20.208Z"
   },
   {
    "duration": 8575,
    "start_time": "2022-01-11T17:22:57.040Z"
   },
   {
    "duration": 8840,
    "start_time": "2022-01-11T17:24:53.430Z"
   },
   {
    "duration": 9294,
    "start_time": "2022-01-11T17:31:35.341Z"
   },
   {
    "duration": 9165,
    "start_time": "2022-01-11T17:33:02.408Z"
   },
   {
    "duration": 8722,
    "start_time": "2022-01-11T17:34:23.374Z"
   },
   {
    "duration": 8680,
    "start_time": "2022-01-11T17:36:02.801Z"
   },
   {
    "duration": 520,
    "start_time": "2022-01-12T06:42:21.897Z"
   },
   {
    "duration": 933,
    "start_time": "2022-01-12T06:43:04.030Z"
   },
   {
    "duration": 135,
    "start_time": "2022-01-12T06:43:04.966Z"
   },
   {
    "duration": 14576,
    "start_time": "2022-01-12T06:43:05.104Z"
   },
   {
    "duration": 88,
    "start_time": "2022-01-12T06:44:50.820Z"
   },
   {
    "duration": 140,
    "start_time": "2022-01-12T06:44:50.910Z"
   },
   {
    "duration": 14585,
    "start_time": "2022-01-12T06:44:51.053Z"
   },
   {
    "duration": 106,
    "start_time": "2022-01-12T06:47:35.463Z"
   },
   {
    "duration": 162,
    "start_time": "2022-01-12T06:47:35.572Z"
   },
   {
    "duration": 15187,
    "start_time": "2022-01-12T06:47:35.738Z"
   },
   {
    "duration": 86,
    "start_time": "2022-01-12T07:04:52.531Z"
   },
   {
    "duration": 141,
    "start_time": "2022-01-12T07:04:52.621Z"
   },
   {
    "duration": 17481,
    "start_time": "2022-01-12T07:04:52.765Z"
   },
   {
    "duration": 18092,
    "start_time": "2022-01-12T07:07:40.536Z"
   },
   {
    "duration": 83,
    "start_time": "2022-01-12T07:14:18.650Z"
   },
   {
    "duration": 136,
    "start_time": "2022-01-12T07:14:18.736Z"
   },
   {
    "duration": 17371,
    "start_time": "2022-01-12T07:14:18.875Z"
   },
   {
    "duration": 376,
    "start_time": "2022-01-13T15:05:32.378Z"
   },
   {
    "duration": 836,
    "start_time": "2022-01-13T15:05:48.695Z"
   },
   {
    "duration": 136,
    "start_time": "2022-01-13T15:05:49.534Z"
   },
   {
    "duration": 16766,
    "start_time": "2022-01-13T15:05:49.673Z"
   },
   {
    "duration": 3,
    "start_time": "2022-01-13T15:59:14.643Z"
   },
   {
    "duration": 10,
    "start_time": "2022-01-13T16:09:45.542Z"
   },
   {
    "duration": 82,
    "start_time": "2022-01-13T16:10:18.311Z"
   },
   {
    "duration": 146,
    "start_time": "2022-01-13T16:10:18.397Z"
   },
   {
    "duration": 15849,
    "start_time": "2022-01-13T16:10:18.546Z"
   },
   {
    "duration": 58,
    "start_time": "2022-01-13T16:10:34.397Z"
   },
   {
    "duration": 312,
    "start_time": "2022-01-13T16:17:15.593Z"
   },
   {
    "duration": 290,
    "start_time": "2022-01-13T16:18:17.825Z"
   },
   {
    "duration": 306,
    "start_time": "2022-01-13T16:20:36.182Z"
   },
   {
    "duration": 299,
    "start_time": "2022-01-13T16:20:48.131Z"
   },
   {
    "duration": 390,
    "start_time": "2022-01-13T16:20:54.533Z"
   },
   {
    "duration": 310,
    "start_time": "2022-01-13T16:22:03.943Z"
   },
   {
    "duration": 276,
    "start_time": "2022-01-13T16:22:10.022Z"
   },
   {
    "duration": 308,
    "start_time": "2022-01-13T16:22:30.420Z"
   },
   {
    "duration": 356,
    "start_time": "2022-01-13T16:22:42.084Z"
   },
   {
    "duration": 95,
    "start_time": "2022-01-13T16:23:58.855Z"
   },
   {
    "duration": 278,
    "start_time": "2022-01-13T16:24:21.164Z"
   },
   {
    "duration": 271,
    "start_time": "2022-01-13T16:24:32.451Z"
   },
   {
    "duration": 289,
    "start_time": "2022-01-13T16:25:21.059Z"
   },
   {
    "duration": 417,
    "start_time": "2022-01-13T16:30:59.869Z"
   },
   {
    "duration": 403,
    "start_time": "2022-01-13T16:31:41.902Z"
   },
   {
    "duration": 291,
    "start_time": "2022-01-13T16:32:58.587Z"
   },
   {
    "duration": 51,
    "start_time": "2022-01-13T16:34:57.359Z"
   },
   {
    "duration": 52,
    "start_time": "2022-01-13T16:37:42.247Z"
   },
   {
    "duration": 64,
    "start_time": "2022-01-13T16:38:05.198Z"
   },
   {
    "duration": 999,
    "start_time": "2022-01-13T16:41:36.664Z"
   },
   {
    "duration": 961,
    "start_time": "2022-01-13T16:50:04.202Z"
   },
   {
    "duration": 295,
    "start_time": "2022-01-15T10:03:55.841Z"
   },
   {
    "duration": 848,
    "start_time": "2022-01-15T10:04:22.258Z"
   },
   {
    "duration": 134,
    "start_time": "2022-01-15T10:04:23.108Z"
   },
   {
    "duration": 19061,
    "start_time": "2022-01-15T10:04:23.244Z"
   },
   {
    "duration": 1015,
    "start_time": "2022-01-15T10:04:42.307Z"
   },
   {
    "duration": 703,
    "start_time": "2022-01-15T10:04:43.324Z"
   },
   {
    "duration": 510,
    "start_time": "2022-01-15T10:06:25.281Z"
   },
   {
    "duration": 525,
    "start_time": "2022-01-15T10:15:20.263Z"
   },
   {
    "duration": 246,
    "start_time": "2022-01-15T10:16:21.179Z"
   },
   {
    "duration": 83,
    "start_time": "2022-01-15T10:20:43.160Z"
   },
   {
    "duration": 125,
    "start_time": "2022-01-15T10:20:43.245Z"
   },
   {
    "duration": 17130,
    "start_time": "2022-01-15T10:20:43.373Z"
   },
   {
    "duration": 1037,
    "start_time": "2022-01-15T10:21:00.517Z"
   },
   {
    "duration": 543,
    "start_time": "2022-01-15T10:21:01.557Z"
   },
   {
    "duration": 512,
    "start_time": "2022-01-15T10:22:28.431Z"
   },
   {
    "duration": 266,
    "start_time": "2022-01-15T10:22:43.818Z"
   },
   {
    "duration": 264,
    "start_time": "2022-01-15T10:23:08.125Z"
   },
   {
    "duration": 595,
    "start_time": "2022-01-15T10:25:18.517Z"
   },
   {
    "duration": 627,
    "start_time": "2022-01-15T10:26:26.905Z"
   },
   {
    "duration": 605,
    "start_time": "2022-01-15T10:26:37.053Z"
   },
   {
    "duration": 682,
    "start_time": "2022-01-15T10:28:43.458Z"
   },
   {
    "duration": 575,
    "start_time": "2022-01-15T10:29:46.762Z"
   },
   {
    "duration": 535,
    "start_time": "2022-01-15T10:30:01.677Z"
   },
   {
    "duration": 536,
    "start_time": "2022-01-15T10:30:39.421Z"
   },
   {
    "duration": 595,
    "start_time": "2022-01-15T10:31:21.079Z"
   },
   {
    "duration": 543,
    "start_time": "2022-01-15T10:33:18.830Z"
   },
   {
    "duration": 7,
    "start_time": "2022-01-15T10:33:52.984Z"
   },
   {
    "duration": 7,
    "start_time": "2022-01-15T10:34:09.389Z"
   },
   {
    "duration": 6,
    "start_time": "2022-01-15T10:34:16.279Z"
   },
   {
    "duration": 9,
    "start_time": "2022-01-15T10:34:38.994Z"
   },
   {
    "duration": 821,
    "start_time": "2022-01-15T10:35:24.789Z"
   },
   {
    "duration": 704,
    "start_time": "2022-01-15T10:36:00.583Z"
   },
   {
    "duration": 862,
    "start_time": "2022-01-15T10:36:54.320Z"
   },
   {
    "duration": 1160,
    "start_time": "2022-01-15T10:42:10.668Z"
   },
   {
    "duration": 1299,
    "start_time": "2022-01-15T10:42:48.777Z"
   },
   {
    "duration": 1161,
    "start_time": "2022-01-15T10:43:42.966Z"
   },
   {
    "duration": 1629,
    "start_time": "2022-01-15T10:44:13.642Z"
   },
   {
    "duration": 1058,
    "start_time": "2022-01-15T10:44:25.105Z"
   },
   {
    "duration": 1657,
    "start_time": "2022-01-15T10:51:01.352Z"
   },
   {
    "duration": 2130,
    "start_time": "2022-01-15T10:54:22.711Z"
   },
   {
    "duration": 2114,
    "start_time": "2022-01-15T10:55:01.790Z"
   },
   {
    "duration": 2299,
    "start_time": "2022-01-15T10:55:17.106Z"
   },
   {
    "duration": 2598,
    "start_time": "2022-01-15T11:01:02.311Z"
   },
   {
    "duration": 2168,
    "start_time": "2022-01-15T11:02:17.262Z"
   },
   {
    "duration": 88,
    "start_time": "2022-01-15T11:09:52.225Z"
   },
   {
    "duration": 98,
    "start_time": "2022-01-15T11:09:59.495Z"
   },
   {
    "duration": 90,
    "start_time": "2022-01-15T11:10:12.284Z"
   },
   {
    "duration": 85,
    "start_time": "2022-01-15T11:10:20.369Z"
   },
   {
    "duration": 12,
    "start_time": "2022-01-15T11:10:47.797Z"
   },
   {
    "duration": 12,
    "start_time": "2022-01-15T11:11:00.239Z"
   },
   {
    "duration": 12,
    "start_time": "2022-01-15T11:11:08.386Z"
   },
   {
    "duration": 12,
    "start_time": "2022-01-15T11:11:22.809Z"
   },
   {
    "duration": 532,
    "start_time": "2022-01-15T11:12:08.303Z"
   },
   {
    "duration": 316,
    "start_time": "2022-01-15T11:13:03.849Z"
   },
   {
    "duration": 81,
    "start_time": "2022-01-15T11:23:35.737Z"
   },
   {
    "duration": 125,
    "start_time": "2022-01-15T11:23:35.820Z"
   },
   {
    "duration": 14923,
    "start_time": "2022-01-15T11:23:35.948Z"
   },
   {
    "duration": 1023,
    "start_time": "2022-01-15T11:23:50.873Z"
   },
   {
    "duration": 2181,
    "start_time": "2022-01-15T11:23:51.898Z"
   },
   {
    "duration": 372,
    "start_time": "2022-01-15T11:23:54.082Z"
   },
   {
    "duration": 82,
    "start_time": "2022-01-15T11:27:41.486Z"
   },
   {
    "duration": 122,
    "start_time": "2022-01-15T11:27:41.570Z"
   },
   {
    "duration": 17088,
    "start_time": "2022-01-15T11:27:41.695Z"
   },
   {
    "duration": 1043,
    "start_time": "2022-01-15T11:27:58.786Z"
   },
   {
    "duration": 2214,
    "start_time": "2022-01-15T11:27:59.832Z"
   },
   {
    "duration": 460,
    "start_time": "2022-01-15T11:28:02.048Z"
   },
   {
    "duration": 1915,
    "start_time": "2022-01-15T11:30:33.614Z"
   },
   {
    "duration": 1743,
    "start_time": "2022-01-15T11:31:20.645Z"
   },
   {
    "duration": 1796,
    "start_time": "2022-01-15T11:31:47.578Z"
   },
   {
    "duration": 377,
    "start_time": "2022-01-15T11:32:12.140Z"
   },
   {
    "duration": 1947,
    "start_time": "2022-01-15T11:33:42.153Z"
   },
   {
    "duration": 342,
    "start_time": "2022-01-15T11:39:32.216Z"
   },
   {
    "duration": 986,
    "start_time": "2022-01-15T18:20:13.426Z"
   },
   {
    "duration": 447,
    "start_time": "2022-01-15T18:20:52.533Z"
   },
   {
    "duration": 875,
    "start_time": "2022-01-15T18:21:08.420Z"
   },
   {
    "duration": 134,
    "start_time": "2022-01-15T18:21:09.298Z"
   },
   {
    "duration": 19318,
    "start_time": "2022-01-15T18:21:09.436Z"
   },
   {
    "duration": 1077,
    "start_time": "2022-01-15T18:21:28.757Z"
   },
   {
    "duration": 2344,
    "start_time": "2022-01-15T18:21:29.837Z"
   },
   {
    "duration": 367,
    "start_time": "2022-01-15T18:21:32.184Z"
   },
   {
    "duration": 467,
    "start_time": "2022-01-15T18:21:32.553Z"
   },
   {
    "duration": 16,
    "start_time": "2022-01-15T18:22:28.558Z"
   },
   {
    "duration": 16,
    "start_time": "2022-01-15T18:26:04.409Z"
   },
   {
    "duration": 449,
    "start_time": "2022-01-15T18:31:45.858Z"
   },
   {
    "duration": 547,
    "start_time": "2022-01-15T18:32:16.722Z"
   },
   {
    "duration": 434,
    "start_time": "2022-01-15T18:33:20.707Z"
   },
   {
    "duration": 24,
    "start_time": "2022-01-15T18:34:19.461Z"
   },
   {
    "duration": 41,
    "start_time": "2022-01-15T18:35:01.936Z"
   },
   {
    "duration": 30,
    "start_time": "2022-01-15T18:38:17.623Z"
   },
   {
    "duration": 37,
    "start_time": "2022-01-15T18:38:28.522Z"
   },
   {
    "duration": 393,
    "start_time": "2022-01-16T07:31:25.644Z"
   },
   {
    "duration": 892,
    "start_time": "2022-01-16T07:31:46.637Z"
   },
   {
    "duration": 136,
    "start_time": "2022-01-16T07:31:47.531Z"
   },
   {
    "duration": 16834,
    "start_time": "2022-01-16T07:31:47.670Z"
   },
   {
    "duration": 1114,
    "start_time": "2022-01-16T07:32:04.508Z"
   },
   {
    "duration": 2359,
    "start_time": "2022-01-16T07:32:05.625Z"
   },
   {
    "duration": 358,
    "start_time": "2022-01-16T07:32:07.987Z"
   },
   {
    "duration": 55,
    "start_time": "2022-01-16T07:32:08.347Z"
   },
   {
    "duration": 51,
    "start_time": "2022-01-16T07:35:45.758Z"
   },
   {
    "duration": 49,
    "start_time": "2022-01-16T07:36:46.609Z"
   },
   {
    "duration": 42,
    "start_time": "2022-01-16T07:37:22.460Z"
   },
   {
    "duration": 309,
    "start_time": "2022-01-16T07:53:21.944Z"
   },
   {
    "duration": 128,
    "start_time": "2022-01-16T07:56:06.054Z"
   },
   {
    "duration": 86,
    "start_time": "2022-01-16T08:16:04.920Z"
   },
   {
    "duration": 454,
    "start_time": "2022-01-16T08:21:07.354Z"
   },
   {
    "duration": 96,
    "start_time": "2022-01-16T08:21:44.688Z"
   },
   {
    "duration": 97,
    "start_time": "2022-01-16T08:21:56.277Z"
   },
   {
    "duration": 129,
    "start_time": "2022-01-16T08:25:18.350Z"
   },
   {
    "duration": 127,
    "start_time": "2022-01-16T08:26:17.767Z"
   },
   {
    "duration": 116,
    "start_time": "2022-01-16T08:32:13.284Z"
   },
   {
    "duration": 98,
    "start_time": "2022-01-16T08:32:39.798Z"
   },
   {
    "duration": 146,
    "start_time": "2022-01-16T08:33:53.647Z"
   },
   {
    "duration": 127,
    "start_time": "2022-01-16T08:34:26.786Z"
   },
   {
    "duration": 3,
    "start_time": "2022-01-16T08:38:09.200Z"
   },
   {
    "duration": 112,
    "start_time": "2022-01-16T08:42:24.702Z"
   },
   {
    "duration": 364,
    "start_time": "2022-01-18T14:09:20.780Z"
   },
   {
    "duration": 901,
    "start_time": "2022-01-18T14:09:41.865Z"
   },
   {
    "duration": 123,
    "start_time": "2022-01-18T14:09:42.768Z"
   },
   {
    "duration": 18063,
    "start_time": "2022-01-18T14:09:42.894Z"
   },
   {
    "duration": 1168,
    "start_time": "2022-01-18T14:10:00.969Z"
   },
   {
    "duration": 2268,
    "start_time": "2022-01-18T14:10:02.140Z"
   },
   {
    "duration": 355,
    "start_time": "2022-01-18T14:10:04.410Z"
   },
   {
    "duration": 159,
    "start_time": "2022-01-18T14:10:04.769Z"
   },
   {
    "duration": 48,
    "start_time": "2022-01-18T14:10:04.932Z"
   },
   {
    "duration": 1258,
    "start_time": "2022-01-18T14:13:34.570Z"
   },
   {
    "duration": 40,
    "start_time": "2022-01-18T14:14:01.801Z"
   },
   {
    "duration": 47,
    "start_time": "2022-01-18T14:33:35.853Z"
   },
   {
    "duration": 22,
    "start_time": "2022-01-18T14:38:47.939Z"
   },
   {
    "duration": 25,
    "start_time": "2022-01-18T14:39:15.150Z"
   },
   {
    "duration": 24,
    "start_time": "2022-01-18T14:39:41.928Z"
   },
   {
    "duration": 25,
    "start_time": "2022-01-18T14:40:11.928Z"
   },
   {
    "duration": 33,
    "start_time": "2022-01-18T14:42:00.806Z"
   },
   {
    "duration": 34,
    "start_time": "2022-01-18T14:42:48.155Z"
   },
   {
    "duration": 38,
    "start_time": "2022-01-18T14:52:03.237Z"
   },
   {
    "duration": 50,
    "start_time": "2022-01-18T14:55:29.854Z"
   },
   {
    "duration": 94,
    "start_time": "2022-01-18T15:00:14.720Z"
   },
   {
    "duration": 100,
    "start_time": "2022-01-18T15:00:32.933Z"
   },
   {
    "duration": 11335,
    "start_time": "2022-01-18T15:01:51.125Z"
   },
   {
    "duration": 7475,
    "start_time": "2022-01-18T15:03:14.322Z"
   },
   {
    "duration": 7933,
    "start_time": "2022-01-18T15:04:38.163Z"
   },
   {
    "duration": 7362,
    "start_time": "2022-01-18T15:05:24.746Z"
   },
   {
    "duration": 1293,
    "start_time": "2022-01-18T15:08:31.098Z"
   },
   {
    "duration": 40,
    "start_time": "2022-01-18T15:10:14.148Z"
   },
   {
    "duration": 1271,
    "start_time": "2022-01-18T15:11:30.290Z"
   },
   {
    "duration": 1231,
    "start_time": "2022-01-18T15:13:00.738Z"
   },
   {
    "duration": 1668,
    "start_time": "2022-01-18T15:13:30.278Z"
   },
   {
    "duration": 85,
    "start_time": "2022-01-18T15:17:39.385Z"
   },
   {
    "duration": 122,
    "start_time": "2022-01-18T15:17:39.473Z"
   },
   {
    "duration": 17239,
    "start_time": "2022-01-18T15:17:39.598Z"
   },
   {
    "duration": 1075,
    "start_time": "2022-01-18T15:17:56.840Z"
   },
   {
    "duration": 2284,
    "start_time": "2022-01-18T15:17:57.918Z"
   },
   {
    "duration": 349,
    "start_time": "2022-01-18T15:18:00.205Z"
   },
   {
    "duration": 158,
    "start_time": "2022-01-18T15:18:00.556Z"
   },
   {
    "duration": 4092,
    "start_time": "2022-01-18T15:18:00.717Z"
   },
   {
    "duration": 268,
    "start_time": "2022-01-18T15:19:33.922Z"
   },
   {
    "duration": 37,
    "start_time": "2022-01-18T15:39:30.891Z"
   },
   {
    "duration": 441,
    "start_time": "2022-01-18T15:41:23.587Z"
   },
   {
    "duration": 355,
    "start_time": "2022-01-18T15:43:32.909Z"
   },
   {
    "duration": 368,
    "start_time": "2022-01-18T15:43:57.405Z"
   },
   {
    "duration": 378,
    "start_time": "2022-01-18T15:46:56.339Z"
   },
   {
    "duration": 422,
    "start_time": "2022-01-18T15:53:26.481Z"
   },
   {
    "duration": 388,
    "start_time": "2022-01-18T15:56:45.614Z"
   },
   {
    "duration": 117,
    "start_time": "2022-01-18T16:08:32.891Z"
   },
   {
    "duration": 127,
    "start_time": "2022-01-18T16:12:31.721Z"
   },
   {
    "duration": 112,
    "start_time": "2022-01-18T16:14:56.940Z"
   },
   {
    "duration": 1262,
    "start_time": "2022-01-18T16:36:31.501Z"
   },
   {
    "duration": 8387,
    "start_time": "2022-01-18T16:37:11.931Z"
   },
   {
    "duration": 7696,
    "start_time": "2022-01-18T16:40:10.492Z"
   },
   {
    "duration": 375,
    "start_time": "2022-01-18T16:41:31.351Z"
   },
   {
    "duration": 13,
    "start_time": "2022-01-18T17:16:26.103Z"
   },
   {
    "duration": 13,
    "start_time": "2022-01-18T17:16:27.360Z"
   },
   {
    "duration": 21,
    "start_time": "2022-01-18T17:16:45.098Z"
   },
   {
    "duration": 12,
    "start_time": "2022-01-18T17:18:07.030Z"
   },
   {
    "duration": 601,
    "start_time": "2022-01-18T17:21:11.682Z"
   },
   {
    "duration": 402,
    "start_time": "2022-01-18T17:26:24.871Z"
   },
   {
    "duration": 775,
    "start_time": "2022-01-18T17:27:02.271Z"
   },
   {
    "duration": 972,
    "start_time": "2022-01-18T17:30:28.721Z"
   },
   {
    "duration": 1299,
    "start_time": "2022-01-18T17:31:42.710Z"
   },
   {
    "duration": 1427,
    "start_time": "2022-01-18T17:33:29.267Z"
   },
   {
    "duration": 1321,
    "start_time": "2022-01-18T17:40:55.451Z"
   },
   {
    "duration": 1681,
    "start_time": "2022-01-18T17:43:44.810Z"
   },
   {
    "duration": 2061,
    "start_time": "2022-01-18T17:45:39.383Z"
   },
   {
    "duration": 1605,
    "start_time": "2022-01-18T17:46:11.730Z"
   },
   {
    "duration": 84,
    "start_time": "2022-01-18T18:22:50.080Z"
   },
   {
    "duration": 145,
    "start_time": "2022-01-18T18:22:50.167Z"
   },
   {
    "duration": 17820,
    "start_time": "2022-01-18T18:22:50.315Z"
   },
   {
    "duration": 1137,
    "start_time": "2022-01-18T18:23:08.137Z"
   },
   {
    "duration": 2105,
    "start_time": "2022-01-18T18:23:09.276Z"
   },
   {
    "duration": 537,
    "start_time": "2022-01-18T18:23:11.385Z"
   },
   {
    "duration": 307,
    "start_time": "2022-01-18T18:23:11.926Z"
   },
   {
    "duration": 606,
    "start_time": "2022-01-18T18:23:12.236Z"
   },
   {
    "duration": 124,
    "start_time": "2022-01-18T18:23:12.845Z"
   },
   {
    "duration": 289,
    "start_time": "2022-01-18T18:23:12.972Z"
   },
   {
    "duration": 1619,
    "start_time": "2022-01-18T18:23:13.264Z"
   },
   {
    "duration": 831,
    "start_time": "2022-01-18T18:26:06.903Z"
   },
   {
    "duration": 132,
    "start_time": "2022-01-18T18:26:07.737Z"
   },
   {
    "duration": 18611,
    "start_time": "2022-01-18T18:26:07.872Z"
   },
   {
    "duration": 1052,
    "start_time": "2022-01-18T18:26:26.486Z"
   },
   {
    "duration": 2428,
    "start_time": "2022-01-18T18:26:27.541Z"
   },
   {
    "duration": 362,
    "start_time": "2022-01-18T18:26:29.972Z"
   },
   {
    "duration": 180,
    "start_time": "2022-01-18T18:26:30.338Z"
   },
   {
    "duration": 460,
    "start_time": "2022-01-18T18:26:30.520Z"
   },
   {
    "duration": 146,
    "start_time": "2022-01-18T18:26:30.985Z"
   },
   {
    "duration": 335,
    "start_time": "2022-01-18T18:26:31.134Z"
   },
   {
    "duration": 1949,
    "start_time": "2022-01-18T18:26:31.472Z"
   },
   {
    "duration": 638,
    "start_time": "2022-01-22T08:13:03.528Z"
   },
   {
    "duration": 116,
    "start_time": "2022-01-22T08:13:04.168Z"
   },
   {
    "duration": 10897,
    "start_time": "2022-01-22T08:13:04.286Z"
   },
   {
    "duration": 619,
    "start_time": "2022-01-22T08:13:15.185Z"
   },
   {
    "duration": 1422,
    "start_time": "2022-01-22T08:13:15.806Z"
   },
   {
    "duration": 204,
    "start_time": "2022-01-22T08:13:17.230Z"
   },
   {
    "duration": 89,
    "start_time": "2022-01-22T08:13:17.436Z"
   },
   {
    "duration": 293,
    "start_time": "2022-01-22T08:13:17.526Z"
   },
   {
    "duration": 78,
    "start_time": "2022-01-22T08:13:17.822Z"
   },
   {
    "duration": 175,
    "start_time": "2022-01-22T08:13:17.902Z"
   },
   {
    "duration": 1068,
    "start_time": "2022-01-22T08:13:18.079Z"
   },
   {
    "duration": 913,
    "start_time": "2022-01-24T17:35:14.343Z"
   },
   {
    "duration": 881,
    "start_time": "2022-01-24T17:35:24.232Z"
   },
   {
    "duration": 126,
    "start_time": "2022-01-24T17:35:25.115Z"
   },
   {
    "duration": 28,
    "start_time": "2022-01-24T17:35:25.244Z"
   },
   {
    "duration": 19,
    "start_time": "2022-01-24T17:36:14.150Z"
   },
   {
    "duration": 3265,
    "start_time": "2022-01-24T17:37:02.639Z"
   },
   {
    "duration": 83,
    "start_time": "2022-01-24T17:37:16.378Z"
   },
   {
    "duration": 121,
    "start_time": "2022-01-24T17:37:16.464Z"
   },
   {
    "duration": 7510,
    "start_time": "2022-01-24T17:37:16.588Z"
   },
   {
    "duration": 19,
    "start_time": "2022-01-24T17:38:07.238Z"
   },
   {
    "duration": 84,
    "start_time": "2022-01-24T17:44:12.357Z"
   },
   {
    "duration": 140,
    "start_time": "2022-01-24T17:44:12.444Z"
   },
   {
    "duration": 18,
    "start_time": "2022-01-24T17:44:12.587Z"
   },
   {
    "duration": 8,
    "start_time": "2022-01-24T17:44:12.608Z"
   },
   {
    "duration": 127,
    "start_time": "2022-01-24T17:44:12.619Z"
   },
   {
    "duration": 11,
    "start_time": "2022-01-24T17:45:25.210Z"
   },
   {
    "duration": 88,
    "start_time": "2022-01-24T17:45:55.560Z"
   },
   {
    "duration": 11,
    "start_time": "2022-01-24T17:46:29.431Z"
   },
   {
    "duration": 80,
    "start_time": "2022-01-24T17:46:43.183Z"
   },
   {
    "duration": 85,
    "start_time": "2022-01-24T17:47:05.153Z"
   },
   {
    "duration": 98,
    "start_time": "2022-01-24T17:47:32.175Z"
   },
   {
    "duration": 12,
    "start_time": "2022-01-24T17:49:01.451Z"
   },
   {
    "duration": 6,
    "start_time": "2022-01-24T17:49:26.503Z"
   },
   {
    "duration": 11,
    "start_time": "2022-01-24T17:52:19.210Z"
   },
   {
    "duration": 86,
    "start_time": "2022-01-24T18:02:21.787Z"
   },
   {
    "duration": 131,
    "start_time": "2022-01-24T18:02:21.875Z"
   },
   {
    "duration": 17,
    "start_time": "2022-01-24T18:02:22.009Z"
   },
   {
    "duration": 40,
    "start_time": "2022-01-24T18:02:22.030Z"
   },
   {
    "duration": 103,
    "start_time": "2022-01-24T18:02:22.073Z"
   },
   {
    "duration": 12,
    "start_time": "2022-01-24T18:02:22.178Z"
   },
   {
    "duration": 123,
    "start_time": "2022-01-24T18:02:22.193Z"
   },
   {
    "duration": 10,
    "start_time": "2022-01-24T18:02:22.319Z"
   },
   {
    "duration": 10,
    "start_time": "2022-01-24T18:02:22.331Z"
   },
   {
    "duration": 12,
    "start_time": "2022-01-24T18:02:22.369Z"
   },
   {
    "duration": 15006,
    "start_time": "2022-01-24T18:02:22.383Z"
   },
   {
    "duration": 83,
    "start_time": "2022-01-24T18:04:25.749Z"
   },
   {
    "duration": 142,
    "start_time": "2022-01-24T18:04:25.836Z"
   },
   {
    "duration": 22,
    "start_time": "2022-01-24T18:04:25.982Z"
   },
   {
    "duration": 9,
    "start_time": "2022-01-24T18:04:26.007Z"
   },
   {
    "duration": 131,
    "start_time": "2022-01-24T18:04:26.018Z"
   },
   {
    "duration": 30,
    "start_time": "2022-01-24T18:04:26.151Z"
   },
   {
    "duration": 106,
    "start_time": "2022-01-24T18:04:26.183Z"
   },
   {
    "duration": 8,
    "start_time": "2022-01-24T18:04:26.292Z"
   },
   {
    "duration": 6,
    "start_time": "2022-01-24T18:04:26.303Z"
   },
   {
    "duration": 13,
    "start_time": "2022-01-24T18:04:26.312Z"
   },
   {
    "duration": 15282,
    "start_time": "2022-01-24T18:04:26.328Z"
   },
   {
    "duration": 199,
    "start_time": "2022-01-24T18:17:17.043Z"
   },
   {
    "duration": 6729,
    "start_time": "2022-01-24T18:21:06.417Z"
   },
   {
    "duration": 4,
    "start_time": "2022-01-24T18:21:34.092Z"
   },
   {
    "duration": 84,
    "start_time": "2022-01-24T18:21:34.101Z"
   },
   {
    "duration": 124,
    "start_time": "2022-01-24T18:21:34.188Z"
   },
   {
    "duration": 19,
    "start_time": "2022-01-24T18:21:34.315Z"
   },
   {
    "duration": 37,
    "start_time": "2022-01-24T18:21:34.337Z"
   },
   {
    "duration": 98,
    "start_time": "2022-01-24T18:21:34.377Z"
   },
   {
    "duration": 12,
    "start_time": "2022-01-24T18:21:34.478Z"
   },
   {
    "duration": 123,
    "start_time": "2022-01-24T18:21:34.493Z"
   },
   {
    "duration": 8,
    "start_time": "2022-01-24T18:21:34.620Z"
   },
   {
    "duration": 6,
    "start_time": "2022-01-24T18:21:34.631Z"
   },
   {
    "duration": 12,
    "start_time": "2022-01-24T18:21:34.669Z"
   },
   {
    "duration": 14270,
    "start_time": "2022-01-24T18:21:34.684Z"
   },
   {
    "duration": 1079,
    "start_time": "2022-01-24T18:21:48.957Z"
   },
   {
    "duration": 557,
    "start_time": "2022-01-24T18:21:50.039Z"
   },
   {
    "duration": 3,
    "start_time": "2022-01-24T18:23:01.549Z"
   },
   {
    "duration": 96,
    "start_time": "2022-01-24T18:23:01.555Z"
   },
   {
    "duration": 146,
    "start_time": "2022-01-24T18:23:01.653Z"
   },
   {
    "duration": 19,
    "start_time": "2022-01-24T18:23:01.802Z"
   },
   {
    "duration": 8,
    "start_time": "2022-01-24T18:23:01.823Z"
   },
   {
    "duration": 138,
    "start_time": "2022-01-24T18:23:01.833Z"
   },
   {
    "duration": 11,
    "start_time": "2022-01-24T18:23:01.974Z"
   },
   {
    "duration": 106,
    "start_time": "2022-01-24T18:23:01.988Z"
   },
   {
    "duration": 9,
    "start_time": "2022-01-24T18:23:02.096Z"
   },
   {
    "duration": 6,
    "start_time": "2022-01-24T18:23:02.108Z"
   },
   {
    "duration": 53,
    "start_time": "2022-01-24T18:23:02.116Z"
   },
   {
    "duration": 14510,
    "start_time": "2022-01-24T18:23:02.172Z"
   },
   {
    "duration": 1049,
    "start_time": "2022-01-24T18:23:16.684Z"
   },
   {
    "duration": 654,
    "start_time": "2022-01-24T18:23:17.736Z"
   },
   {
    "duration": 549,
    "start_time": "2022-01-24T18:23:18.393Z"
   },
   {
    "duration": 608,
    "start_time": "2022-01-24T18:23:18.946Z"
   },
   {
    "duration": 502,
    "start_time": "2022-01-24T18:23:19.557Z"
   },
   {
    "duration": 23,
    "start_time": "2022-01-24T18:23:20.061Z"
   },
   {
    "duration": 260,
    "start_time": "2022-01-24T18:24:22.592Z"
   },
   {
    "duration": 21,
    "start_time": "2022-01-24T18:24:33.963Z"
   },
   {
    "duration": 325,
    "start_time": "2022-01-24T18:29:46.472Z"
   },
   {
    "duration": 17,
    "start_time": "2022-01-24T18:29:55.973Z"
   },
   {
    "duration": 365,
    "start_time": "2022-01-25T07:57:42.299Z"
   },
   {
    "duration": 856,
    "start_time": "2022-01-25T07:57:53.388Z"
   },
   {
    "duration": 90,
    "start_time": "2022-01-25T07:57:54.246Z"
   },
   {
    "duration": 139,
    "start_time": "2022-01-25T07:57:54.339Z"
   },
   {
    "duration": 19,
    "start_time": "2022-01-25T07:57:54.481Z"
   },
   {
    "duration": 9,
    "start_time": "2022-01-25T07:57:54.503Z"
   },
   {
    "duration": 125,
    "start_time": "2022-01-25T07:57:54.514Z"
   },
   {
    "duration": 29,
    "start_time": "2022-01-25T07:57:54.642Z"
   },
   {
    "duration": 104,
    "start_time": "2022-01-25T07:57:54.675Z"
   },
   {
    "duration": 11,
    "start_time": "2022-01-25T07:57:54.782Z"
   },
   {
    "duration": 6,
    "start_time": "2022-01-25T07:57:54.795Z"
   },
   {
    "duration": 17,
    "start_time": "2022-01-25T07:57:54.804Z"
   },
   {
    "duration": 14531,
    "start_time": "2022-01-25T07:57:54.823Z"
   },
   {
    "duration": 1060,
    "start_time": "2022-01-25T07:58:09.357Z"
   },
   {
    "duration": 615,
    "start_time": "2022-01-25T07:58:10.419Z"
   },
   {
    "duration": 548,
    "start_time": "2022-01-25T07:58:11.037Z"
   },
   {
    "duration": 558,
    "start_time": "2022-01-25T07:58:11.588Z"
   },
   {
    "duration": 499,
    "start_time": "2022-01-25T07:58:12.148Z"
   },
   {
    "duration": 322,
    "start_time": "2022-01-25T07:58:12.649Z"
   },
   {
    "duration": 18,
    "start_time": "2022-01-25T07:59:00.413Z"
   },
   {
    "duration": 19,
    "start_time": "2022-01-25T08:01:55.220Z"
   },
   {
    "duration": 19,
    "start_time": "2022-01-25T08:02:02.906Z"
   },
   {
    "duration": 18,
    "start_time": "2022-01-25T08:03:24.737Z"
   },
   {
    "duration": 18,
    "start_time": "2022-01-25T08:03:36.068Z"
   },
   {
    "duration": 32,
    "start_time": "2022-01-25T08:13:12.230Z"
   },
   {
    "duration": 45,
    "start_time": "2022-01-25T08:14:14.424Z"
   },
   {
    "duration": 35,
    "start_time": "2022-01-25T08:15:05.657Z"
   },
   {
    "duration": 32,
    "start_time": "2022-01-25T08:15:51.496Z"
   },
   {
    "duration": 8,
    "start_time": "2022-01-25T12:31:28.576Z"
   },
   {
    "duration": 728,
    "start_time": "2022-01-25T12:34:27.828Z"
   },
   {
    "duration": 785,
    "start_time": "2022-01-25T12:35:30.870Z"
   },
   {
    "duration": 803,
    "start_time": "2022-01-25T12:42:22.097Z"
   },
   {
    "duration": 287,
    "start_time": "2022-01-25T12:42:44.045Z"
   },
   {
    "duration": 683,
    "start_time": "2022-01-25T12:43:09.229Z"
   },
   {
    "duration": 786,
    "start_time": "2022-01-25T12:44:24.100Z"
   },
   {
    "duration": 724,
    "start_time": "2022-01-25T12:44:46.899Z"
   },
   {
    "duration": 741,
    "start_time": "2022-01-25T12:44:58.773Z"
   },
   {
    "duration": 721,
    "start_time": "2022-01-25T12:45:06.636Z"
   },
   {
    "duration": 701,
    "start_time": "2022-01-25T12:45:18.924Z"
   },
   {
    "duration": 764,
    "start_time": "2022-01-25T12:49:18.784Z"
   },
   {
    "duration": 723,
    "start_time": "2022-01-25T12:52:38.210Z"
   },
   {
    "duration": 821,
    "start_time": "2022-01-25T12:52:51.640Z"
   },
   {
    "duration": 744,
    "start_time": "2022-01-25T12:55:55.883Z"
   },
   {
    "duration": 88,
    "start_time": "2022-01-25T12:58:44.649Z"
   },
   {
    "duration": 593,
    "start_time": "2022-01-25T12:58:51.180Z"
   },
   {
    "duration": 753,
    "start_time": "2022-01-25T12:58:59.104Z"
   },
   {
    "duration": 320,
    "start_time": "2022-01-25T13:04:35.439Z"
   },
   {
    "duration": 1638,
    "start_time": "2022-01-25T13:06:02.825Z"
   },
   {
    "duration": 1498,
    "start_time": "2022-01-25T13:07:05.931Z"
   },
   {
    "duration": 1511,
    "start_time": "2022-01-25T13:10:47.300Z"
   },
   {
    "duration": 729,
    "start_time": "2022-01-25T13:15:30.156Z"
   },
   {
    "duration": 718,
    "start_time": "2022-01-25T13:15:45.506Z"
   },
   {
    "duration": 730,
    "start_time": "2022-01-25T13:18:46.557Z"
   },
   {
    "duration": 759,
    "start_time": "2022-01-25T13:19:01.942Z"
   },
   {
    "duration": 714,
    "start_time": "2022-01-25T13:19:32.600Z"
   },
   {
    "duration": 403,
    "start_time": "2022-01-25T13:21:09.166Z"
   },
   {
    "duration": 17,
    "start_time": "2022-01-25T13:21:31.279Z"
   },
   {
    "duration": 267,
    "start_time": "2022-01-25T13:25:14.333Z"
   },
   {
    "duration": 312,
    "start_time": "2022-01-25T13:34:24.311Z"
   },
   {
    "duration": 320,
    "start_time": "2022-01-25T13:38:15.271Z"
   },
   {
    "duration": 4724,
    "start_time": "2022-01-25T13:53:03.618Z"
   },
   {
    "duration": 108,
    "start_time": "2022-01-25T13:53:28.612Z"
   },
   {
    "duration": 1026,
    "start_time": "2022-01-25T15:30:28.376Z"
   },
   {
    "duration": 96,
    "start_time": "2022-01-25T15:30:29.405Z"
   },
   {
    "duration": 143,
    "start_time": "2022-01-25T15:30:29.504Z"
   },
   {
    "duration": 30,
    "start_time": "2022-01-25T15:30:29.651Z"
   },
   {
    "duration": 9,
    "start_time": "2022-01-25T15:30:29.684Z"
   },
   {
    "duration": 127,
    "start_time": "2022-01-25T15:30:29.696Z"
   },
   {
    "duration": 11,
    "start_time": "2022-01-25T15:30:29.826Z"
   },
   {
    "duration": 107,
    "start_time": "2022-01-25T15:30:29.864Z"
   },
   {
    "duration": 11,
    "start_time": "2022-01-25T15:30:29.974Z"
   },
   {
    "duration": 7,
    "start_time": "2022-01-25T15:30:29.988Z"
   },
   {
    "duration": 19,
    "start_time": "2022-01-25T15:30:29.998Z"
   },
   {
    "duration": 14303,
    "start_time": "2022-01-25T15:30:30.019Z"
   },
   {
    "duration": 993,
    "start_time": "2022-01-25T15:30:44.325Z"
   },
   {
    "duration": 622,
    "start_time": "2022-01-25T15:30:45.320Z"
   },
   {
    "duration": 524,
    "start_time": "2022-01-25T15:30:45.945Z"
   },
   {
    "duration": 527,
    "start_time": "2022-01-25T15:30:46.472Z"
   },
   {
    "duration": 493,
    "start_time": "2022-01-25T15:30:47.002Z"
   },
   {
    "duration": 17,
    "start_time": "2022-01-25T15:30:47.497Z"
   },
   {
    "duration": 342,
    "start_time": "2022-01-25T15:30:47.517Z"
   },
   {
    "duration": 33,
    "start_time": "2022-01-25T15:30:47.864Z"
   },
   {
    "duration": 78,
    "start_time": "2022-01-25T15:30:47.900Z"
   },
   {
    "duration": 37,
    "start_time": "2022-01-25T15:30:47.981Z"
   },
   {
    "duration": 69,
    "start_time": "2022-01-25T15:30:48.024Z"
   },
   {
    "duration": 758,
    "start_time": "2022-01-25T15:30:48.096Z"
   },
   {
    "duration": 742,
    "start_time": "2022-01-25T15:30:48.857Z"
   },
   {
    "duration": 1795,
    "start_time": "2022-01-25T15:30:49.602Z"
   },
   {
    "duration": 752,
    "start_time": "2022-01-25T15:30:51.400Z"
   },
   {
    "duration": 431,
    "start_time": "2022-01-25T15:30:52.154Z"
   },
   {
    "duration": 250,
    "start_time": "2022-01-25T15:30:52.587Z"
   },
   {
    "duration": 318,
    "start_time": "2022-01-25T15:30:52.840Z"
   },
   {
    "duration": 320,
    "start_time": "2022-01-25T15:30:53.164Z"
   },
   {
    "duration": 864,
    "start_time": "2022-01-25T15:33:22.773Z"
   },
   {
    "duration": 94,
    "start_time": "2022-01-25T15:33:23.640Z"
   },
   {
    "duration": 138,
    "start_time": "2022-01-25T15:33:23.738Z"
   },
   {
    "duration": 17,
    "start_time": "2022-01-25T15:33:23.879Z"
   },
   {
    "duration": 15,
    "start_time": "2022-01-25T15:33:23.899Z"
   },
   {
    "duration": 113,
    "start_time": "2022-01-25T15:33:23.917Z"
   },
   {
    "duration": 31,
    "start_time": "2022-01-25T15:33:24.033Z"
   },
   {
    "duration": 109,
    "start_time": "2022-01-25T15:33:24.070Z"
   },
   {
    "duration": 11,
    "start_time": "2022-01-25T15:33:24.182Z"
   },
   {
    "duration": 12,
    "start_time": "2022-01-25T15:33:24.195Z"
   },
   {
    "duration": 31,
    "start_time": "2022-01-25T15:33:24.209Z"
   },
   {
    "duration": 14232,
    "start_time": "2022-01-25T15:33:24.243Z"
   },
   {
    "duration": 1012,
    "start_time": "2022-01-25T15:33:38.478Z"
   },
   {
    "duration": 609,
    "start_time": "2022-01-25T15:33:39.493Z"
   },
   {
    "duration": 548,
    "start_time": "2022-01-25T15:33:40.104Z"
   },
   {
    "duration": 536,
    "start_time": "2022-01-25T15:33:40.654Z"
   },
   {
    "duration": 490,
    "start_time": "2022-01-25T15:33:41.193Z"
   },
   {
    "duration": 16,
    "start_time": "2022-01-25T15:33:41.686Z"
   },
   {
    "duration": 350,
    "start_time": "2022-01-25T15:33:41.704Z"
   },
   {
    "duration": 35,
    "start_time": "2022-01-25T15:33:42.056Z"
   },
   {
    "duration": 78,
    "start_time": "2022-01-25T15:33:42.094Z"
   },
   {
    "duration": 36,
    "start_time": "2022-01-25T15:33:42.175Z"
   },
   {
    "duration": 73,
    "start_time": "2022-01-25T15:33:42.217Z"
   },
   {
    "duration": 716,
    "start_time": "2022-01-25T15:33:42.294Z"
   },
   {
    "duration": 743,
    "start_time": "2022-01-25T15:33:43.013Z"
   },
   {
    "duration": 1553,
    "start_time": "2022-01-25T15:33:43.758Z"
   },
   {
    "duration": 728,
    "start_time": "2022-01-25T15:33:45.314Z"
   },
   {
    "duration": 342,
    "start_time": "2022-01-25T15:33:46.045Z"
   },
   {
    "duration": 278,
    "start_time": "2022-01-25T15:33:46.389Z"
   },
   {
    "duration": 327,
    "start_time": "2022-01-25T15:33:46.670Z"
   },
   {
    "duration": 346,
    "start_time": "2022-01-25T15:33:47.000Z"
   },
   {
    "duration": 292,
    "start_time": "2022-01-25T15:45:44.631Z"
   },
   {
    "duration": 1635,
    "start_time": "2022-01-25T15:45:44.926Z"
   },
   {
    "duration": 4,
    "start_time": "2022-01-25T15:45:46.689Z"
   },
   {
    "duration": 85,
    "start_time": "2022-01-25T15:45:46.696Z"
   },
   {
    "duration": 136,
    "start_time": "2022-01-25T15:45:46.783Z"
   },
   {
    "duration": 44,
    "start_time": "2022-01-25T15:45:46.922Z"
   },
   {
    "duration": 7,
    "start_time": "2022-01-25T15:45:46.969Z"
   },
   {
    "duration": 110,
    "start_time": "2022-01-25T15:45:46.978Z"
   },
   {
    "duration": 13,
    "start_time": "2022-01-25T15:45:47.091Z"
   },
   {
    "duration": 122,
    "start_time": "2022-01-25T15:45:47.107Z"
   },
   {
    "duration": 33,
    "start_time": "2022-01-25T15:45:47.232Z"
   },
   {
    "duration": 8,
    "start_time": "2022-01-25T15:45:47.268Z"
   },
   {
    "duration": 30,
    "start_time": "2022-01-25T15:45:47.279Z"
   },
   {
    "duration": 15100,
    "start_time": "2022-01-25T15:45:47.312Z"
   },
   {
    "duration": 9835,
    "start_time": "2022-01-25T15:46:02.414Z"
   },
   {
    "duration": 559,
    "start_time": "2022-01-25T15:46:12.252Z"
   },
   {
    "duration": 572,
    "start_time": "2022-01-25T15:46:12.816Z"
   },
   {
    "duration": 565,
    "start_time": "2022-01-25T15:46:13.391Z"
   },
   {
    "duration": 492,
    "start_time": "2022-01-25T15:46:13.964Z"
   },
   {
    "duration": 18,
    "start_time": "2022-01-25T15:46:14.464Z"
   },
   {
    "duration": 338,
    "start_time": "2022-01-25T15:46:14.484Z"
   },
   {
    "duration": 50,
    "start_time": "2022-01-25T15:46:14.824Z"
   },
   {
    "duration": 34,
    "start_time": "2022-01-25T15:46:14.876Z"
   },
   {
    "duration": 70,
    "start_time": "2022-01-25T15:46:14.912Z"
   },
   {
    "duration": 31,
    "start_time": "2022-01-25T15:46:14.984Z"
   },
   {
    "duration": 759,
    "start_time": "2022-01-25T15:46:15.017Z"
   },
   {
    "duration": 728,
    "start_time": "2022-01-25T15:46:15.779Z"
   },
   {
    "duration": 1486,
    "start_time": "2022-01-25T15:46:16.510Z"
   },
   {
    "duration": 769,
    "start_time": "2022-01-25T15:46:17.999Z"
   },
   {
    "duration": 364,
    "start_time": "2022-01-25T15:46:18.770Z"
   },
   {
    "duration": 339,
    "start_time": "2022-01-25T15:46:19.138Z"
   },
   {
    "duration": 325,
    "start_time": "2022-01-25T15:46:19.481Z"
   },
   {
    "duration": 329,
    "start_time": "2022-01-25T15:46:19.808Z"
   },
   {
    "duration": 125,
    "start_time": "2022-01-25T15:46:20.139Z"
   },
   {
    "duration": 342,
    "start_time": "2022-01-25T15:49:41.253Z"
   },
   {
    "duration": 876,
    "start_time": "2022-01-25T15:57:01.271Z"
   },
   {
    "duration": 88,
    "start_time": "2022-01-25T15:57:02.150Z"
   },
   {
    "duration": 132,
    "start_time": "2022-01-25T15:57:02.241Z"
   },
   {
    "duration": 20,
    "start_time": "2022-01-25T15:57:02.376Z"
   },
   {
    "duration": 7,
    "start_time": "2022-01-25T15:57:02.398Z"
   },
   {
    "duration": 121,
    "start_time": "2022-01-25T15:57:02.407Z"
   },
   {
    "duration": 11,
    "start_time": "2022-01-25T15:57:02.531Z"
   },
   {
    "duration": 104,
    "start_time": "2022-01-25T15:57:02.566Z"
   },
   {
    "duration": 11,
    "start_time": "2022-01-25T15:57:02.673Z"
   },
   {
    "duration": 9,
    "start_time": "2022-01-25T15:57:02.686Z"
   },
   {
    "duration": 11,
    "start_time": "2022-01-25T15:57:02.697Z"
   },
   {
    "duration": 14159,
    "start_time": "2022-01-25T15:57:02.710Z"
   },
   {
    "duration": 1002,
    "start_time": "2022-01-25T15:57:16.871Z"
   },
   {
    "duration": 612,
    "start_time": "2022-01-25T15:57:17.875Z"
   },
   {
    "duration": 638,
    "start_time": "2022-01-25T15:57:18.489Z"
   },
   {
    "duration": 532,
    "start_time": "2022-01-25T15:57:19.129Z"
   },
   {
    "duration": 505,
    "start_time": "2022-01-25T15:57:19.665Z"
   },
   {
    "duration": 17,
    "start_time": "2022-01-25T15:57:20.173Z"
   },
   {
    "duration": 346,
    "start_time": "2022-01-25T15:57:20.193Z"
   },
   {
    "duration": 47,
    "start_time": "2022-01-25T15:57:20.541Z"
   },
   {
    "duration": 76,
    "start_time": "2022-01-25T15:57:20.591Z"
   },
   {
    "duration": 32,
    "start_time": "2022-01-25T15:57:20.669Z"
   },
   {
    "duration": 65,
    "start_time": "2022-01-25T15:57:20.706Z"
   },
   {
    "duration": 723,
    "start_time": "2022-01-25T15:57:20.774Z"
   },
   {
    "duration": 801,
    "start_time": "2022-01-25T15:57:21.500Z"
   },
   {
    "duration": 1630,
    "start_time": "2022-01-25T15:57:22.304Z"
   },
   {
    "duration": 750,
    "start_time": "2022-01-25T15:57:23.936Z"
   },
   {
    "duration": 319,
    "start_time": "2022-01-25T15:57:24.688Z"
   },
   {
    "duration": 268,
    "start_time": "2022-01-25T15:57:25.010Z"
   },
   {
    "duration": 332,
    "start_time": "2022-01-25T15:57:25.280Z"
   },
   {
    "duration": 335,
    "start_time": "2022-01-25T15:57:25.615Z"
   },
   {
    "duration": 660,
    "start_time": "2022-01-25T16:29:21.591Z"
   },
   {
    "duration": 1014,
    "start_time": "2022-01-25T16:31:44.983Z"
   },
   {
    "duration": 93,
    "start_time": "2022-01-25T16:31:46.000Z"
   },
   {
    "duration": 149,
    "start_time": "2022-01-25T16:31:46.100Z"
   },
   {
    "duration": 26,
    "start_time": "2022-01-25T16:31:46.252Z"
   },
   {
    "duration": 9,
    "start_time": "2022-01-25T16:31:46.281Z"
   },
   {
    "duration": 119,
    "start_time": "2022-01-25T16:31:46.293Z"
   },
   {
    "duration": 16,
    "start_time": "2022-01-25T16:31:46.418Z"
   },
   {
    "duration": 168,
    "start_time": "2022-01-25T16:31:46.438Z"
   },
   {
    "duration": 11,
    "start_time": "2022-01-25T16:31:46.608Z"
   },
   {
    "duration": 15,
    "start_time": "2022-01-25T16:31:46.621Z"
   },
   {
    "duration": 36,
    "start_time": "2022-01-25T16:31:46.638Z"
   },
   {
    "duration": 24131,
    "start_time": "2022-01-25T16:31:46.677Z"
   },
   {
    "duration": 1064,
    "start_time": "2022-01-25T16:32:10.812Z"
   },
   {
    "duration": 593,
    "start_time": "2022-01-25T16:32:11.879Z"
   },
   {
    "duration": 548,
    "start_time": "2022-01-25T16:32:12.475Z"
   },
   {
    "duration": 542,
    "start_time": "2022-01-25T16:32:13.025Z"
   },
   {
    "duration": 544,
    "start_time": "2022-01-25T16:32:13.571Z"
   },
   {
    "duration": 19,
    "start_time": "2022-01-25T16:32:14.118Z"
   },
   {
    "duration": 324,
    "start_time": "2022-01-25T16:32:14.164Z"
   },
   {
    "duration": 32,
    "start_time": "2022-01-25T16:32:14.490Z"
   },
   {
    "duration": 81,
    "start_time": "2022-01-25T16:32:14.526Z"
   },
   {
    "duration": 80,
    "start_time": "2022-01-25T16:32:14.615Z"
   },
   {
    "duration": 70,
    "start_time": "2022-01-25T16:32:14.699Z"
   },
   {
    "duration": 724,
    "start_time": "2022-01-25T16:32:14.772Z"
   },
   {
    "duration": 717,
    "start_time": "2022-01-25T16:32:15.498Z"
   },
   {
    "duration": 1536,
    "start_time": "2022-01-25T16:32:16.218Z"
   },
   {
    "duration": 784,
    "start_time": "2022-01-25T16:32:17.757Z"
   },
   {
    "duration": 528,
    "start_time": "2022-01-25T16:32:18.544Z"
   },
   {
    "duration": 321,
    "start_time": "2022-01-25T16:32:19.075Z"
   },
   {
    "duration": 352,
    "start_time": "2022-01-25T16:32:19.399Z"
   },
   {
    "duration": 343,
    "start_time": "2022-01-25T16:32:19.754Z"
   },
   {
    "duration": 1262,
    "start_time": "2022-01-25T16:44:17.058Z"
   },
   {
    "duration": 988,
    "start_time": "2022-01-25T16:44:18.323Z"
   },
   {
    "duration": 328,
    "start_time": "2022-01-25T16:44:19.314Z"
   },
   {
    "duration": 8957,
    "start_time": "2022-01-25T16:44:19.645Z"
   },
   {
    "duration": 314,
    "start_time": "2022-01-25T16:44:28.605Z"
   },
   {
    "duration": 321,
    "start_time": "2022-01-25T16:44:28.922Z"
   },
   {
    "duration": 123,
    "start_time": "2022-01-25T16:44:29.503Z"
   },
   {
    "duration": 309,
    "start_time": "2022-01-25T16:44:29.629Z"
   },
   {
    "duration": 416,
    "start_time": "2022-01-25T16:57:40.812Z"
   },
   {
    "duration": 282,
    "start_time": "2022-01-25T16:57:52.255Z"
   },
   {
    "duration": 281,
    "start_time": "2022-01-25T16:58:51.057Z"
   },
   {
    "duration": 878,
    "start_time": "2022-01-25T16:58:55.788Z"
   },
   {
    "duration": 87,
    "start_time": "2022-01-25T16:58:56.670Z"
   },
   {
    "duration": 135,
    "start_time": "2022-01-25T16:58:56.761Z"
   },
   {
    "duration": 19,
    "start_time": "2022-01-25T16:58:56.899Z"
   },
   {
    "duration": 8,
    "start_time": "2022-01-25T16:58:56.921Z"
   },
   {
    "duration": 113,
    "start_time": "2022-01-25T16:58:56.931Z"
   },
   {
    "duration": 23,
    "start_time": "2022-01-25T16:58:57.047Z"
   },
   {
    "duration": 115,
    "start_time": "2022-01-25T16:58:57.073Z"
   },
   {
    "duration": 10,
    "start_time": "2022-01-25T16:58:57.191Z"
   },
   {
    "duration": 11,
    "start_time": "2022-01-25T16:58:57.204Z"
   },
   {
    "duration": 17,
    "start_time": "2022-01-25T16:58:57.217Z"
   },
   {
    "duration": 13944,
    "start_time": "2022-01-25T16:58:57.264Z"
   },
   {
    "duration": 997,
    "start_time": "2022-01-25T16:59:11.211Z"
   },
   {
    "duration": 588,
    "start_time": "2022-01-25T16:59:12.210Z"
   },
   {
    "duration": 530,
    "start_time": "2022-01-25T16:59:12.801Z"
   },
   {
    "duration": 534,
    "start_time": "2022-01-25T16:59:13.333Z"
   },
   {
    "duration": 486,
    "start_time": "2022-01-25T16:59:13.870Z"
   },
   {
    "duration": 23,
    "start_time": "2022-01-25T16:59:14.358Z"
   },
   {
    "duration": 336,
    "start_time": "2022-01-25T16:59:14.384Z"
   },
   {
    "duration": 53,
    "start_time": "2022-01-25T16:59:14.723Z"
   },
   {
    "duration": 41,
    "start_time": "2022-01-25T16:59:14.779Z"
   },
   {
    "duration": 34,
    "start_time": "2022-01-25T16:59:14.866Z"
   },
   {
    "duration": 73,
    "start_time": "2022-01-25T16:59:14.904Z"
   },
   {
    "duration": 705,
    "start_time": "2022-01-25T16:59:14.980Z"
   },
   {
    "duration": 719,
    "start_time": "2022-01-25T16:59:15.687Z"
   },
   {
    "duration": 1506,
    "start_time": "2022-01-25T16:59:16.409Z"
   },
   {
    "duration": 728,
    "start_time": "2022-01-25T16:59:17.918Z"
   },
   {
    "duration": 372,
    "start_time": "2022-01-25T16:59:18.649Z"
   },
   {
    "duration": 276,
    "start_time": "2022-01-25T16:59:19.024Z"
   },
   {
    "duration": 336,
    "start_time": "2022-01-25T16:59:19.302Z"
   },
   {
    "duration": 318,
    "start_time": "2022-01-25T16:59:19.641Z"
   },
   {
    "duration": 119,
    "start_time": "2022-01-25T16:59:19.965Z"
   },
   {
    "duration": 400,
    "start_time": "2022-01-25T16:59:20.088Z"
   },
   {
    "duration": 1343,
    "start_time": "2022-01-25T16:59:20.490Z"
   },
   {
    "duration": 963,
    "start_time": "2022-01-25T16:59:21.836Z"
   },
   {
    "duration": 493,
    "start_time": "2022-01-26T17:34:30.603Z"
   },
   {
    "duration": 271,
    "start_time": "2022-01-26T17:35:32.877Z"
   },
   {
    "duration": 889,
    "start_time": "2022-01-26T17:35:38.818Z"
   },
   {
    "duration": 92,
    "start_time": "2022-01-26T17:35:39.709Z"
   },
   {
    "duration": 143,
    "start_time": "2022-01-26T17:35:39.804Z"
   },
   {
    "duration": 31,
    "start_time": "2022-01-26T17:35:39.950Z"
   },
   {
    "duration": 10,
    "start_time": "2022-01-26T17:35:39.983Z"
   },
   {
    "duration": 118,
    "start_time": "2022-01-26T17:35:39.996Z"
   },
   {
    "duration": 10,
    "start_time": "2022-01-26T17:35:40.117Z"
   },
   {
    "duration": 116,
    "start_time": "2022-01-26T17:35:40.130Z"
   },
   {
    "duration": 28,
    "start_time": "2022-01-26T17:35:40.252Z"
   },
   {
    "duration": 7,
    "start_time": "2022-01-26T17:35:40.283Z"
   },
   {
    "duration": 13,
    "start_time": "2022-01-26T17:35:40.293Z"
   },
   {
    "duration": 15536,
    "start_time": "2022-01-26T17:35:40.308Z"
   },
   {
    "duration": 1082,
    "start_time": "2022-01-26T17:35:55.847Z"
   },
   {
    "duration": 627,
    "start_time": "2022-01-26T17:35:56.931Z"
   },
   {
    "duration": 535,
    "start_time": "2022-01-26T17:35:57.560Z"
   },
   {
    "duration": 526,
    "start_time": "2022-01-26T17:35:58.097Z"
   },
   {
    "duration": 496,
    "start_time": "2022-01-26T17:35:58.625Z"
   },
   {
    "duration": 48,
    "start_time": "2022-01-26T17:35:59.124Z"
   },
   {
    "duration": 327,
    "start_time": "2022-01-26T17:35:59.175Z"
   },
   {
    "duration": 393,
    "start_time": "2022-01-26T17:35:59.504Z"
   },
   {
    "duration": 396,
    "start_time": "2022-01-26T17:40:38.261Z"
   },
   {
    "duration": 560,
    "start_time": "2022-01-26T17:49:40.120Z"
   },
   {
    "duration": 364,
    "start_time": "2022-01-26T17:50:14.105Z"
   },
   {
    "duration": 445,
    "start_time": "2022-01-26T17:51:42.370Z"
   },
   {
    "duration": 324,
    "start_time": "2022-01-26T17:52:40.012Z"
   },
   {
    "duration": 522,
    "start_time": "2022-01-26T17:54:59.955Z"
   },
   {
    "duration": 793,
    "start_time": "2022-01-26T17:55:08.606Z"
   },
   {
    "duration": 664,
    "start_time": "2022-01-26T17:55:18.796Z"
   },
   {
    "duration": 639,
    "start_time": "2022-01-26T17:55:58.509Z"
   },
   {
    "duration": 533,
    "start_time": "2022-01-26T17:56:15.341Z"
   },
   {
    "duration": 355,
    "start_time": "2022-01-26T17:56:52.113Z"
   },
   {
    "duration": 581,
    "start_time": "2022-01-26T17:57:17.488Z"
   },
   {
    "duration": 1091,
    "start_time": "2022-01-26T17:57:26.969Z"
   },
   {
    "duration": 984,
    "start_time": "2022-01-26T17:57:36.431Z"
   },
   {
    "duration": 1039,
    "start_time": "2022-01-26T17:57:43.433Z"
   },
   {
    "duration": 697,
    "start_time": "2022-01-26T17:57:53.709Z"
   },
   {
    "duration": 1307,
    "start_time": "2022-01-26T17:58:16.380Z"
   },
   {
    "duration": 745,
    "start_time": "2022-01-26T17:58:29.594Z"
   },
   {
    "duration": 991,
    "start_time": "2022-01-26T17:58:55.255Z"
   },
   {
    "duration": 698,
    "start_time": "2022-01-26T17:59:14.211Z"
   },
   {
    "duration": 590,
    "start_time": "2022-01-26T17:59:39.104Z"
   },
   {
    "duration": 292,
    "start_time": "2022-01-26T17:59:54.871Z"
   },
   {
    "duration": 507,
    "start_time": "2022-01-26T18:00:07.721Z"
   },
   {
    "duration": 507,
    "start_time": "2022-01-26T18:00:15.684Z"
   },
   {
    "duration": 633,
    "start_time": "2022-01-27T04:53:10.133Z"
   },
   {
    "duration": 70,
    "start_time": "2022-01-27T04:53:10.768Z"
   },
   {
    "duration": 91,
    "start_time": "2022-01-27T04:53:10.841Z"
   },
   {
    "duration": 14,
    "start_time": "2022-01-27T04:53:10.934Z"
   },
   {
    "duration": 8,
    "start_time": "2022-01-27T04:53:10.972Z"
   },
   {
    "duration": 49,
    "start_time": "2022-01-27T04:53:10.989Z"
   },
   {
    "duration": 8,
    "start_time": "2022-01-27T04:53:11.039Z"
   },
   {
    "duration": 77,
    "start_time": "2022-01-27T04:53:11.049Z"
   },
   {
    "duration": 7,
    "start_time": "2022-01-27T04:53:11.127Z"
   },
   {
    "duration": 4,
    "start_time": "2022-01-27T04:53:11.136Z"
   },
   {
    "duration": 9,
    "start_time": "2022-01-27T04:53:11.141Z"
   },
   {
    "duration": 9192,
    "start_time": "2022-01-27T04:53:11.172Z"
   },
   {
    "duration": 617,
    "start_time": "2022-01-27T04:53:20.371Z"
   },
   {
    "duration": 422,
    "start_time": "2022-01-27T04:53:20.990Z"
   },
   {
    "duration": 340,
    "start_time": "2022-01-27T04:53:21.414Z"
   },
   {
    "duration": 365,
    "start_time": "2022-01-27T04:53:21.756Z"
   },
   {
    "duration": 319,
    "start_time": "2022-01-27T04:53:22.122Z"
   },
   {
    "duration": 29,
    "start_time": "2022-01-27T04:53:22.443Z"
   },
   {
    "duration": 200,
    "start_time": "2022-01-27T04:53:22.474Z"
   },
   {
    "duration": 253,
    "start_time": "2022-01-27T04:53:22.676Z"
   },
   {
    "duration": 274,
    "start_time": "2022-01-27T04:53:22.931Z"
   },
   {
    "duration": 290,
    "start_time": "2022-01-27T04:53:23.207Z"
   },
   {
    "duration": 213,
    "start_time": "2022-01-27T04:53:23.500Z"
   },
   {
    "duration": 539,
    "start_time": "2022-01-27T04:53:23.715Z"
   },
   {
    "duration": 530,
    "start_time": "2022-01-27T04:53:24.256Z"
   },
   {
    "duration": 1142,
    "start_time": "2022-01-27T04:53:24.788Z"
   },
   {
    "duration": 529,
    "start_time": "2022-01-27T04:53:25.931Z"
   },
   {
    "duration": 220,
    "start_time": "2022-01-27T04:53:26.462Z"
   },
   {
    "duration": 173,
    "start_time": "2022-01-27T04:53:26.684Z"
   },
   {
    "duration": 212,
    "start_time": "2022-01-27T04:53:26.859Z"
   },
   {
    "duration": 209,
    "start_time": "2022-01-27T04:53:27.074Z"
   },
   {
    "duration": 68,
    "start_time": "2022-01-27T04:53:27.285Z"
   },
   {
    "duration": 240,
    "start_time": "2022-01-27T04:53:27.371Z"
   },
   {
    "duration": 881,
    "start_time": "2022-01-27T04:53:27.613Z"
   },
   {
    "duration": 707,
    "start_time": "2022-01-27T04:53:28.495Z"
   },
   {
    "duration": 202,
    "start_time": "2022-01-27T04:53:29.204Z"
   },
   {
    "duration": 171,
    "start_time": "2022-01-27T04:53:29.408Z"
   },
   {
    "duration": 212,
    "start_time": "2022-01-27T04:53:29.581Z"
   },
   {
    "duration": 196,
    "start_time": "2022-01-27T04:53:29.794Z"
   }
  ],
  "kernelspec": {
   "display_name": "Python 3 (ipykernel)",
   "language": "python",
   "name": "python3"
  },
  "language_info": {
   "codemirror_mode": {
    "name": "ipython",
    "version": 3
   },
   "file_extension": ".py",
   "mimetype": "text/x-python",
   "name": "python",
   "nbconvert_exporter": "python",
   "pygments_lexer": "ipython3",
   "version": "3.9.5"
  },
  "toc": {
   "base_numbering": 1,
   "nav_menu": {},
   "number_sections": false,
   "sideBar": true,
   "skip_h1_title": false,
   "title_cell": "Содержание",
   "title_sidebar": "Contents",
   "toc_cell": true,
   "toc_position": {
    "height": "calc(100% - 180px)",
    "left": "10px",
    "top": "150px",
    "width": "380px"
   },
   "toc_section_display": true,
   "toc_window_display": false
  }
 },
 "nbformat": 4,
 "nbformat_minor": 2
}
