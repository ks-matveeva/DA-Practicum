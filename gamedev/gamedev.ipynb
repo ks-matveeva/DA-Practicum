{
 "cells": [
  {
   "cell_type": "markdown",
   "metadata": {},
   "source": [
    "# GAMES. "
   ]
  },
  {
   "cell_type": "markdown",
   "metadata": {},
   "source": [
    "ЦЕЛЬ: выявить определяющие успешность\n",
    "игры закономерности. Это позволит сделать ставку на потенциально популярный\n",
    "продукт и спланировать рекламные кампании."
   ]
  },
  {
   "cell_type": "markdown",
   "metadata": {},
   "source": [
    "Магазин «Стримчик», который продаёт по всему миру компьютерные игры, собрал из открытых источников исторические данные о\n",
    "продажах игр, оценки пользователей и экспертов, жанры и платформы. Мне, как аналитику магазина, необходимо выявить определяющие успешность игры закономерности. Это позволит сделать ставку на потенциально популярный\n",
    "продукт и спланировать рекламные кампании на 2017 год. (мы как будто находимся в 2016))). План следующий:\n",
    "\n",
    "1. Знакомство с данными и изучение общей информации\n",
    "\n",
    "2. Предобработка данных\n",
    "\n",
    "3. Исследовательский анализ данных\n",
    "\n",
    "3.1. Потенциально прибыльные платформы\n",
    "\n",
    "3.2. Потенциально прибыльные жанры\n",
    "\n",
    "4. Портрет пользователя каждого региона\n",
    "\n",
    "4.1. Платформы по регионам\n",
    "\n",
    "4.2. Жанры по регионам\n",
    "\n",
    "4.3. Влияние ли рейтинга ESRB на продажи в отдельном регионе\n",
    "\n",
    "5. Проверка гипотез\n",
    "\n",
    "6. Общий вывод\n"
   ]
  },
  {
   "cell_type": "markdown",
   "metadata": {},
   "source": [
    "## Знакомство с данными и изучение общей информации."
   ]
  },
  {
   "cell_type": "code",
   "execution_count": 1,
   "metadata": {},
   "outputs": [],
   "source": [
    "#импортируем окружение\n",
    "import pandas as pd\n",
    "import numpy as np\n",
    "from matplotlib import pyplot as plt\n",
    "import seaborn as sns\n",
    "from scipy import stats as st"
   ]
  },
  {
   "cell_type": "code",
   "execution_count": 2,
   "metadata": {},
   "outputs": [
    {
     "data": {
      "text/html": [
       "<div>\n",
       "<style scoped>\n",
       "    .dataframe tbody tr th:only-of-type {\n",
       "        vertical-align: middle;\n",
       "    }\n",
       "\n",
       "    .dataframe tbody tr th {\n",
       "        vertical-align: top;\n",
       "    }\n",
       "\n",
       "    .dataframe thead th {\n",
       "        text-align: right;\n",
       "    }\n",
       "</style>\n",
       "<table border=\"1\" class=\"dataframe\">\n",
       "  <thead>\n",
       "    <tr style=\"text-align: right;\">\n",
       "      <th></th>\n",
       "      <th>Name</th>\n",
       "      <th>Platform</th>\n",
       "      <th>Year_of_Release</th>\n",
       "      <th>Genre</th>\n",
       "      <th>NA_sales</th>\n",
       "      <th>EU_sales</th>\n",
       "      <th>JP_sales</th>\n",
       "      <th>Other_sales</th>\n",
       "      <th>Critic_Score</th>\n",
       "      <th>User_Score</th>\n",
       "      <th>Rating</th>\n",
       "    </tr>\n",
       "  </thead>\n",
       "  <tbody>\n",
       "    <tr>\n",
       "      <td>0</td>\n",
       "      <td>Wii Sports</td>\n",
       "      <td>Wii</td>\n",
       "      <td>2006.0</td>\n",
       "      <td>Sports</td>\n",
       "      <td>41.36</td>\n",
       "      <td>28.96</td>\n",
       "      <td>3.77</td>\n",
       "      <td>8.45</td>\n",
       "      <td>76.0</td>\n",
       "      <td>8</td>\n",
       "      <td>E</td>\n",
       "    </tr>\n",
       "    <tr>\n",
       "      <td>1</td>\n",
       "      <td>Super Mario Bros.</td>\n",
       "      <td>NES</td>\n",
       "      <td>1985.0</td>\n",
       "      <td>Platform</td>\n",
       "      <td>29.08</td>\n",
       "      <td>3.58</td>\n",
       "      <td>6.81</td>\n",
       "      <td>0.77</td>\n",
       "      <td>NaN</td>\n",
       "      <td>NaN</td>\n",
       "      <td>NaN</td>\n",
       "    </tr>\n",
       "    <tr>\n",
       "      <td>2</td>\n",
       "      <td>Mario Kart Wii</td>\n",
       "      <td>Wii</td>\n",
       "      <td>2008.0</td>\n",
       "      <td>Racing</td>\n",
       "      <td>15.68</td>\n",
       "      <td>12.76</td>\n",
       "      <td>3.79</td>\n",
       "      <td>3.29</td>\n",
       "      <td>82.0</td>\n",
       "      <td>8.3</td>\n",
       "      <td>E</td>\n",
       "    </tr>\n",
       "    <tr>\n",
       "      <td>3</td>\n",
       "      <td>Wii Sports Resort</td>\n",
       "      <td>Wii</td>\n",
       "      <td>2009.0</td>\n",
       "      <td>Sports</td>\n",
       "      <td>15.61</td>\n",
       "      <td>10.93</td>\n",
       "      <td>3.28</td>\n",
       "      <td>2.95</td>\n",
       "      <td>80.0</td>\n",
       "      <td>8</td>\n",
       "      <td>E</td>\n",
       "    </tr>\n",
       "    <tr>\n",
       "      <td>4</td>\n",
       "      <td>Pokemon Red/Pokemon Blue</td>\n",
       "      <td>GB</td>\n",
       "      <td>1996.0</td>\n",
       "      <td>Role-Playing</td>\n",
       "      <td>11.27</td>\n",
       "      <td>8.89</td>\n",
       "      <td>10.22</td>\n",
       "      <td>1.00</td>\n",
       "      <td>NaN</td>\n",
       "      <td>NaN</td>\n",
       "      <td>NaN</td>\n",
       "    </tr>\n",
       "  </tbody>\n",
       "</table>\n",
       "</div>"
      ],
      "text/plain": [
       "                       Name Platform  Year_of_Release         Genre  NA_sales  \\\n",
       "0                Wii Sports      Wii           2006.0        Sports     41.36   \n",
       "1         Super Mario Bros.      NES           1985.0      Platform     29.08   \n",
       "2            Mario Kart Wii      Wii           2008.0        Racing     15.68   \n",
       "3         Wii Sports Resort      Wii           2009.0        Sports     15.61   \n",
       "4  Pokemon Red/Pokemon Blue       GB           1996.0  Role-Playing     11.27   \n",
       "\n",
       "   EU_sales  JP_sales  Other_sales  Critic_Score User_Score Rating  \n",
       "0     28.96      3.77         8.45          76.0          8      E  \n",
       "1      3.58      6.81         0.77           NaN        NaN    NaN  \n",
       "2     12.76      3.79         3.29          82.0        8.3      E  \n",
       "3     10.93      3.28         2.95          80.0          8      E  \n",
       "4      8.89     10.22         1.00           NaN        NaN    NaN  "
      ]
     },
     "metadata": {},
     "output_type": "display_data"
    },
    {
     "name": "stdout",
     "output_type": "stream",
     "text": [
      "<class 'pandas.core.frame.DataFrame'>\n",
      "RangeIndex: 16715 entries, 0 to 16714\n",
      "Data columns (total 11 columns):\n",
      "Name               16713 non-null object\n",
      "Platform           16715 non-null object\n",
      "Year_of_Release    16446 non-null float64\n",
      "Genre              16713 non-null object\n",
      "NA_sales           16715 non-null float64\n",
      "EU_sales           16715 non-null float64\n",
      "JP_sales           16715 non-null float64\n",
      "Other_sales        16715 non-null float64\n",
      "Critic_Score       8137 non-null float64\n",
      "User_Score         10014 non-null object\n",
      "Rating             9949 non-null object\n",
      "dtypes: float64(6), object(5)\n",
      "memory usage: 1.4+ MB\n"
     ]
    },
    {
     "data": {
      "text/html": [
       "<div>\n",
       "<style scoped>\n",
       "    .dataframe tbody tr th:only-of-type {\n",
       "        vertical-align: middle;\n",
       "    }\n",
       "\n",
       "    .dataframe tbody tr th {\n",
       "        vertical-align: top;\n",
       "    }\n",
       "\n",
       "    .dataframe thead th {\n",
       "        text-align: right;\n",
       "    }\n",
       "</style>\n",
       "<table border=\"1\" class=\"dataframe\">\n",
       "  <thead>\n",
       "    <tr style=\"text-align: right;\">\n",
       "      <th></th>\n",
       "      <th>Year_of_Release</th>\n",
       "      <th>NA_sales</th>\n",
       "      <th>EU_sales</th>\n",
       "      <th>JP_sales</th>\n",
       "      <th>Other_sales</th>\n",
       "      <th>Critic_Score</th>\n",
       "    </tr>\n",
       "  </thead>\n",
       "  <tbody>\n",
       "    <tr>\n",
       "      <td>count</td>\n",
       "      <td>16446.00</td>\n",
       "      <td>16715.00</td>\n",
       "      <td>16715.00</td>\n",
       "      <td>16715.00</td>\n",
       "      <td>16715.00</td>\n",
       "      <td>8137.00</td>\n",
       "    </tr>\n",
       "    <tr>\n",
       "      <td>mean</td>\n",
       "      <td>2006.48</td>\n",
       "      <td>0.26</td>\n",
       "      <td>0.15</td>\n",
       "      <td>0.08</td>\n",
       "      <td>0.05</td>\n",
       "      <td>68.97</td>\n",
       "    </tr>\n",
       "    <tr>\n",
       "      <td>std</td>\n",
       "      <td>5.88</td>\n",
       "      <td>0.81</td>\n",
       "      <td>0.50</td>\n",
       "      <td>0.31</td>\n",
       "      <td>0.19</td>\n",
       "      <td>13.94</td>\n",
       "    </tr>\n",
       "    <tr>\n",
       "      <td>min</td>\n",
       "      <td>1980.00</td>\n",
       "      <td>0.00</td>\n",
       "      <td>0.00</td>\n",
       "      <td>0.00</td>\n",
       "      <td>0.00</td>\n",
       "      <td>13.00</td>\n",
       "    </tr>\n",
       "    <tr>\n",
       "      <td>25%</td>\n",
       "      <td>2003.00</td>\n",
       "      <td>0.00</td>\n",
       "      <td>0.00</td>\n",
       "      <td>0.00</td>\n",
       "      <td>0.00</td>\n",
       "      <td>60.00</td>\n",
       "    </tr>\n",
       "    <tr>\n",
       "      <td>50%</td>\n",
       "      <td>2007.00</td>\n",
       "      <td>0.08</td>\n",
       "      <td>0.02</td>\n",
       "      <td>0.00</td>\n",
       "      <td>0.01</td>\n",
       "      <td>71.00</td>\n",
       "    </tr>\n",
       "    <tr>\n",
       "      <td>75%</td>\n",
       "      <td>2010.00</td>\n",
       "      <td>0.24</td>\n",
       "      <td>0.11</td>\n",
       "      <td>0.04</td>\n",
       "      <td>0.03</td>\n",
       "      <td>79.00</td>\n",
       "    </tr>\n",
       "    <tr>\n",
       "      <td>max</td>\n",
       "      <td>2016.00</td>\n",
       "      <td>41.36</td>\n",
       "      <td>28.96</td>\n",
       "      <td>10.22</td>\n",
       "      <td>10.57</td>\n",
       "      <td>98.00</td>\n",
       "    </tr>\n",
       "  </tbody>\n",
       "</table>\n",
       "</div>"
      ],
      "text/plain": [
       "       Year_of_Release  NA_sales  EU_sales  JP_sales  Other_sales  \\\n",
       "count         16446.00  16715.00  16715.00  16715.00     16715.00   \n",
       "mean           2006.48      0.26      0.15      0.08         0.05   \n",
       "std               5.88      0.81      0.50      0.31         0.19   \n",
       "min            1980.00      0.00      0.00      0.00         0.00   \n",
       "25%            2003.00      0.00      0.00      0.00         0.00   \n",
       "50%            2007.00      0.08      0.02      0.00         0.01   \n",
       "75%            2010.00      0.24      0.11      0.04         0.03   \n",
       "max            2016.00     41.36     28.96     10.22        10.57   \n",
       "\n",
       "       Critic_Score  \n",
       "count       8137.00  \n",
       "mean          68.97  \n",
       "std           13.94  \n",
       "min           13.00  \n",
       "25%           60.00  \n",
       "50%           71.00  \n",
       "75%           79.00  \n",
       "max           98.00  "
      ]
     },
     "execution_count": 2,
     "metadata": {},
     "output_type": "execute_result"
    }
   ],
   "source": [
    "data = pd.read_csv('/datasets/games.csv')\n",
    "display(data.head())\n",
    "data.info()\n",
    "data.describe().round(2)"
   ]
  },
  {
   "cell_type": "markdown",
   "metadata": {},
   "source": [
    "Видим табличку с 16715 строками и 11 колонками.\n",
    "\n",
    "В цели анализа указано \"успешность игры\". Исходя из табоички успешность будет складываться из продаж, оценки пользователей и оценки критиков. А факторы успешности - платформа, рейтинг(для кого игра) и жанр.\n",
    "\n",
    "В колонках Name, Year_of_Release, Genre, Critic_Score, User_Score и  Rating не хватает данных.\n",
    "\n",
    "Year_of_Release - почему-то float64. А User_Score и Rating имеют нехарактерный тип object. \n",
    "\n",
    "Видим, что первый год выпуска - 1980, крайний - 2016 (но мы помним, что по условиям задачи сейчас как будто 2017 год!))). Остальные значения пока ничего не говорят.\n",
    "\n",
    "Для собственного удобства внесу сюда описание данных:\n",
    "\n",
    "- Name — название игры\n",
    "- Platform — платформа\n",
    "- Year_of_Release — год выпуска\n",
    "- Genre — жанр игры\n",
    "- NA_sales — продажи в Северной Америке (миллионы проданных копий)\n",
    "- EU_sales — продажи в Европе (миллионы проданных копий)\n",
    "- JP_sales — продажи в Японии (миллионы проданных копий)\n",
    "- Other_sales — продажи в других странах (миллионы проданных копий)\n",
    "- Critic_Score — оценка критиков (максимум 100)\n",
    "- User_Score — оценка пользователей (максимум 10)\n",
    "- Rating — рейтинг от организации ESRB (англ. Entertainment Software Rating\n",
    "Board). Эта ассоциация определяет рейтинг компьютерных игр и присваивает\n",
    "им подходящую возрастную категорию."
   ]
  },
  {
   "cell_type": "code",
   "execution_count": 3,
   "metadata": {},
   "outputs": [
    {
     "data": {
      "text/plain": [
       "array(['E', nan, 'M', 'T', 'E10+', 'K-A', 'AO', 'EC', 'RP'], dtype=object)"
      ]
     },
     "execution_count": 3,
     "metadata": {},
     "output_type": "execute_result"
    }
   ],
   "source": [
    "#посмотрим типы рейтингов\n",
    "data['Rating'].unique()"
   ]
  },
  {
   "cell_type": "markdown",
   "metadata": {},
   "source": [
    "Надо выяснить, какие рейтинги бывают и как они расшифровываются. В описании данных этой информации нет, поэтому прибегаем к внешней \"разведке\"; выяснилось:\n",
    "\n",
    "- (E) Everyone - контент подходит для всех возрастов. 1998–present\n",
    "- (M) Mature 17+ - подходит для лиц в возрасте 17 лет и старше. 1994–present\n",
    "- (T) Teen - для детей от 13 лет и старше. 1994–present\n",
    "- (E10+) Everyone 10+ - для детей от 10 лет и старше. 2005–present\n",
    "- (AO) Adults Only 18+ - подходит только для лиц старше 18 лет. 1994–present.\n",
    "- (EC) Early Childhood - ориентированный на дошкольную аудиторию. 1994–2018 (для нашего датасета актуальный, мы же как будто в 2017)\n",
    "- (RP) Rating Pending - рейтинг до сих пор не присвоен. 1994–present\n",
    "\n",
    "Архивные рейтинги, не действующие сейчас:\n",
    "\n",
    "-  (K–A) Kids to Adults - нравятся и детям, и взрослым. Этот рейтинг использовался с 1994 по 1998 год, прежде чем он был заменен рейтингом для всех (E). \n",
    "\n",
    "Печально, что есть значение nan. Псмотрим далее, что с этим делать.\n",
    "\n",
    "Итак, посмотрели на таблицу, увидели пропуски, расшифровали рейтинги, приступаем к предобработке."
   ]
  },
  {
   "cell_type": "markdown",
   "metadata": {},
   "source": [
    "## Предобработка данных"
   ]
  },
  {
   "cell_type": "markdown",
   "metadata": {},
   "source": [
    "В задании поставлены следующие задачи:\n",
    "\n",
    "- Замените названия столбцов (приведите к нижнему регистру);\n",
    "- Преобразуйте данные в нужные типы. Опишите, в каких столбцах заменили\n",
    "тип данных и почему;\n",
    "- Обработайте пропуски при необходимости:\n",
    " - Объясните, почему заполнили пропуски определённым образом или\n",
    "почему не стали это делать;\n",
    " - Опишите причины, которые могли привести к пропускам;\n",
    " - Обратите внимание на аббревиатуру 'tbd' в столбце с оценкой\n",
    "пользователей. Отдельно разберите это значение и опишите, как его\n",
    "обработать;\n",
    "- Посчитайте суммарные продажи во всех регионах и запишите их в отдельный\n",
    "столбец."
   ]
  },
  {
   "cell_type": "code",
   "execution_count": 4,
   "metadata": {},
   "outputs": [
    {
     "data": {
      "text/plain": [
       "Index(['name', 'platform', 'year_of_release', 'genre', 'na_sales', 'eu_sales',\n",
       "       'jp_sales', 'other_sales', 'critic_score', 'user_score', 'rating'],\n",
       "      dtype='object')"
      ]
     },
     "metadata": {},
     "output_type": "display_data"
    }
   ],
   "source": [
    "# приведём названия столбцов к нижнему регистру\n",
    "data.columns = map(str.lower, data.columns)\n",
    "#проверим, всё ли получилось\n",
    "display(data.columns)"
   ]
  },
  {
   "cell_type": "markdown",
   "metadata": {},
   "source": [
    "Так как мне нужно было все стобцы переименовать, я применила не rename, а такой вариант."
   ]
  },
  {
   "cell_type": "code",
   "execution_count": 5,
   "metadata": {},
   "outputs": [
    {
     "data": {
      "text/plain": [
       "'пропусков в year_of_release:'"
      ]
     },
     "metadata": {},
     "output_type": "display_data"
    },
    {
     "data": {
      "text/plain": [
       "269"
      ]
     },
     "metadata": {},
     "output_type": "display_data"
    },
    {
     "data": {
      "text/html": [
       "<div>\n",
       "<style scoped>\n",
       "    .dataframe tbody tr th:only-of-type {\n",
       "        vertical-align: middle;\n",
       "    }\n",
       "\n",
       "    .dataframe tbody tr th {\n",
       "        vertical-align: top;\n",
       "    }\n",
       "\n",
       "    .dataframe thead th {\n",
       "        text-align: right;\n",
       "    }\n",
       "</style>\n",
       "<table border=\"1\" class=\"dataframe\">\n",
       "  <thead>\n",
       "    <tr style=\"text-align: right;\">\n",
       "      <th></th>\n",
       "      <th>name</th>\n",
       "      <th>platform</th>\n",
       "      <th>year_of_release</th>\n",
       "      <th>genre</th>\n",
       "      <th>na_sales</th>\n",
       "      <th>eu_sales</th>\n",
       "      <th>jp_sales</th>\n",
       "      <th>other_sales</th>\n",
       "      <th>critic_score</th>\n",
       "      <th>user_score</th>\n",
       "      <th>rating</th>\n",
       "    </tr>\n",
       "  </thead>\n",
       "  <tbody>\n",
       "    <tr>\n",
       "      <td>0</td>\n",
       "      <td>Wii Sports</td>\n",
       "      <td>Wii</td>\n",
       "      <td>2006</td>\n",
       "      <td>Sports</td>\n",
       "      <td>41.36</td>\n",
       "      <td>28.96</td>\n",
       "      <td>3.77</td>\n",
       "      <td>8.45</td>\n",
       "      <td>76.0</td>\n",
       "      <td>8</td>\n",
       "      <td>E</td>\n",
       "    </tr>\n",
       "    <tr>\n",
       "      <td>1</td>\n",
       "      <td>Super Mario Bros.</td>\n",
       "      <td>NES</td>\n",
       "      <td>1985</td>\n",
       "      <td>Platform</td>\n",
       "      <td>29.08</td>\n",
       "      <td>3.58</td>\n",
       "      <td>6.81</td>\n",
       "      <td>0.77</td>\n",
       "      <td>NaN</td>\n",
       "      <td>NaN</td>\n",
       "      <td>NaN</td>\n",
       "    </tr>\n",
       "    <tr>\n",
       "      <td>2</td>\n",
       "      <td>Mario Kart Wii</td>\n",
       "      <td>Wii</td>\n",
       "      <td>2008</td>\n",
       "      <td>Racing</td>\n",
       "      <td>15.68</td>\n",
       "      <td>12.76</td>\n",
       "      <td>3.79</td>\n",
       "      <td>3.29</td>\n",
       "      <td>82.0</td>\n",
       "      <td>8.3</td>\n",
       "      <td>E</td>\n",
       "    </tr>\n",
       "    <tr>\n",
       "      <td>3</td>\n",
       "      <td>Wii Sports Resort</td>\n",
       "      <td>Wii</td>\n",
       "      <td>2009</td>\n",
       "      <td>Sports</td>\n",
       "      <td>15.61</td>\n",
       "      <td>10.93</td>\n",
       "      <td>3.28</td>\n",
       "      <td>2.95</td>\n",
       "      <td>80.0</td>\n",
       "      <td>8</td>\n",
       "      <td>E</td>\n",
       "    </tr>\n",
       "    <tr>\n",
       "      <td>4</td>\n",
       "      <td>Pokemon Red/Pokemon Blue</td>\n",
       "      <td>GB</td>\n",
       "      <td>1996</td>\n",
       "      <td>Role-Playing</td>\n",
       "      <td>11.27</td>\n",
       "      <td>8.89</td>\n",
       "      <td>10.22</td>\n",
       "      <td>1.00</td>\n",
       "      <td>NaN</td>\n",
       "      <td>NaN</td>\n",
       "      <td>NaN</td>\n",
       "    </tr>\n",
       "  </tbody>\n",
       "</table>\n",
       "</div>"
      ],
      "text/plain": [
       "                       name platform  year_of_release         genre  na_sales  \\\n",
       "0                Wii Sports      Wii             2006        Sports     41.36   \n",
       "1         Super Mario Bros.      NES             1985      Platform     29.08   \n",
       "2            Mario Kart Wii      Wii             2008        Racing     15.68   \n",
       "3         Wii Sports Resort      Wii             2009        Sports     15.61   \n",
       "4  Pokemon Red/Pokemon Blue       GB             1996  Role-Playing     11.27   \n",
       "\n",
       "   eu_sales  jp_sales  other_sales  critic_score user_score rating  \n",
       "0     28.96      3.77         8.45          76.0          8      E  \n",
       "1      3.58      6.81         0.77           NaN        NaN    NaN  \n",
       "2     12.76      3.79         3.29          82.0        8.3      E  \n",
       "3     10.93      3.28         2.95          80.0          8      E  \n",
       "4      8.89     10.22         1.00           NaN        NaN    NaN  "
      ]
     },
     "metadata": {},
     "output_type": "display_data"
    },
    {
     "name": "stdout",
     "output_type": "stream",
     "text": [
      "<class 'pandas.core.frame.DataFrame'>\n",
      "Int64Index: 16446 entries, 0 to 16714\n",
      "Data columns (total 11 columns):\n",
      "name               16444 non-null object\n",
      "platform           16446 non-null object\n",
      "year_of_release    16446 non-null int64\n",
      "genre              16444 non-null object\n",
      "na_sales           16446 non-null float64\n",
      "eu_sales           16446 non-null float64\n",
      "jp_sales           16446 non-null float64\n",
      "other_sales        16446 non-null float64\n",
      "critic_score       7983 non-null float64\n",
      "user_score         9839 non-null object\n",
      "rating             9768 non-null object\n",
      "dtypes: float64(5), int64(1), object(5)\n",
      "memory usage: 1.5+ MB\n"
     ]
    }
   ],
   "source": [
    "#посмотрим, сколько пропусков в year_of_release\n",
    "display('пропусков в year_of_release:', data['year_of_release'].isna().sum())\n",
    "\n",
    "#непонятно, что это за пропуски, их всего 269, удалим эти строки\n",
    "data = data.dropna(subset=['year_of_release'])\n",
    "\n",
    "#преобразуем year_of_release в целое число чисто из соображений перфекционизма\n",
    "data['year_of_release'] = data['year_of_release'].astype(int)\n",
    "display(data.head())\n",
    "data.info()"
   ]
  },
  {
   "cell_type": "code",
   "execution_count": 6,
   "metadata": {},
   "outputs": [
    {
     "data": {
      "text/html": [
       "<div>\n",
       "<style scoped>\n",
       "    .dataframe tbody tr th:only-of-type {\n",
       "        vertical-align: middle;\n",
       "    }\n",
       "\n",
       "    .dataframe tbody tr th {\n",
       "        vertical-align: top;\n",
       "    }\n",
       "\n",
       "    .dataframe thead th {\n",
       "        text-align: right;\n",
       "    }\n",
       "</style>\n",
       "<table border=\"1\" class=\"dataframe\">\n",
       "  <thead>\n",
       "    <tr style=\"text-align: right;\">\n",
       "      <th></th>\n",
       "      <th>name</th>\n",
       "      <th>platform</th>\n",
       "      <th>year_of_release</th>\n",
       "      <th>genre</th>\n",
       "      <th>na_sales</th>\n",
       "      <th>eu_sales</th>\n",
       "      <th>jp_sales</th>\n",
       "      <th>other_sales</th>\n",
       "      <th>critic_score</th>\n",
       "      <th>user_score</th>\n",
       "      <th>rating</th>\n",
       "    </tr>\n",
       "  </thead>\n",
       "  <tbody>\n",
       "    <tr>\n",
       "      <td>0</td>\n",
       "      <td>Wii Sports</td>\n",
       "      <td>Wii</td>\n",
       "      <td>2006</td>\n",
       "      <td>Sports</td>\n",
       "      <td>41.36</td>\n",
       "      <td>28.96</td>\n",
       "      <td>3.77</td>\n",
       "      <td>8.45</td>\n",
       "      <td>76.0</td>\n",
       "      <td>8</td>\n",
       "      <td>E</td>\n",
       "    </tr>\n",
       "    <tr>\n",
       "      <td>1</td>\n",
       "      <td>Super Mario Bros.</td>\n",
       "      <td>NES</td>\n",
       "      <td>1985</td>\n",
       "      <td>Platform</td>\n",
       "      <td>29.08</td>\n",
       "      <td>3.58</td>\n",
       "      <td>6.81</td>\n",
       "      <td>0.77</td>\n",
       "      <td>NaN</td>\n",
       "      <td>NaN</td>\n",
       "      <td>NaN</td>\n",
       "    </tr>\n",
       "    <tr>\n",
       "      <td>2</td>\n",
       "      <td>Mario Kart Wii</td>\n",
       "      <td>Wii</td>\n",
       "      <td>2008</td>\n",
       "      <td>Racing</td>\n",
       "      <td>15.68</td>\n",
       "      <td>12.76</td>\n",
       "      <td>3.79</td>\n",
       "      <td>3.29</td>\n",
       "      <td>82.0</td>\n",
       "      <td>8.3</td>\n",
       "      <td>E</td>\n",
       "    </tr>\n",
       "    <tr>\n",
       "      <td>3</td>\n",
       "      <td>Wii Sports Resort</td>\n",
       "      <td>Wii</td>\n",
       "      <td>2009</td>\n",
       "      <td>Sports</td>\n",
       "      <td>15.61</td>\n",
       "      <td>10.93</td>\n",
       "      <td>3.28</td>\n",
       "      <td>2.95</td>\n",
       "      <td>80.0</td>\n",
       "      <td>8</td>\n",
       "      <td>E</td>\n",
       "    </tr>\n",
       "    <tr>\n",
       "      <td>4</td>\n",
       "      <td>Pokemon Red/Pokemon Blue</td>\n",
       "      <td>GB</td>\n",
       "      <td>1996</td>\n",
       "      <td>Role-Playing</td>\n",
       "      <td>11.27</td>\n",
       "      <td>8.89</td>\n",
       "      <td>10.22</td>\n",
       "      <td>1.00</td>\n",
       "      <td>NaN</td>\n",
       "      <td>NaN</td>\n",
       "      <td>NaN</td>\n",
       "    </tr>\n",
       "  </tbody>\n",
       "</table>\n",
       "</div>"
      ],
      "text/plain": [
       "                       name platform  year_of_release         genre  na_sales  \\\n",
       "0                Wii Sports      Wii             2006        Sports     41.36   \n",
       "1         Super Mario Bros.      NES             1985      Platform     29.08   \n",
       "2            Mario Kart Wii      Wii             2008        Racing     15.68   \n",
       "3         Wii Sports Resort      Wii             2009        Sports     15.61   \n",
       "4  Pokemon Red/Pokemon Blue       GB             1996  Role-Playing     11.27   \n",
       "\n",
       "   eu_sales  jp_sales  other_sales  critic_score user_score rating  \n",
       "0     28.96      3.77         8.45          76.0          8      E  \n",
       "1      3.58      6.81         0.77           NaN        NaN    NaN  \n",
       "2     12.76      3.79         3.29          82.0        8.3      E  \n",
       "3     10.93      3.28         2.95          80.0          8      E  \n",
       "4      8.89     10.22         1.00           NaN        NaN    NaN  "
      ]
     },
     "metadata": {},
     "output_type": "display_data"
    },
    {
     "name": "stdout",
     "output_type": "stream",
     "text": [
      "<class 'pandas.core.frame.DataFrame'>\n",
      "Int64Index: 16446 entries, 0 to 16714\n",
      "Data columns (total 11 columns):\n",
      "name               16446 non-null object\n",
      "platform           16446 non-null object\n",
      "year_of_release    16446 non-null int64\n",
      "genre              16446 non-null object\n",
      "na_sales           16446 non-null float64\n",
      "eu_sales           16446 non-null float64\n",
      "jp_sales           16446 non-null float64\n",
      "other_sales        16446 non-null float64\n",
      "critic_score       7983 non-null float64\n",
      "user_score         9839 non-null object\n",
      "rating             9768 non-null object\n",
      "dtypes: float64(5), int64(1), object(5)\n",
      "memory usage: 1.5+ MB\n"
     ]
    }
   ],
   "source": [
    "#есть 2 игры без названия, присвоим ей имя No Name\n",
    "data['name'] = data['name'].fillna('No Name')\n",
    "#то же сделаем с жанром, присвоим 2 безжанровым играм имя No Genre\n",
    "data['genre'] = data['genre'].fillna('No Genre')\n",
    "display(data.head())\n",
    "data.info()"
   ]
  },
  {
   "cell_type": "code",
   "execution_count": 7,
   "metadata": {},
   "outputs": [
    {
     "data": {
      "text/plain": [
       "array([76., nan, 82., 80., 89., 58., 87., 91., 61., 97., 95., 77., 88.,\n",
       "       83., 94., 93., 85., 86., 98., 96., 90., 84., 73., 74., 78., 92.,\n",
       "       71., 72., 68., 62., 49., 67., 81., 66., 56., 79., 70., 59., 64.,\n",
       "       75., 60., 63., 69., 50., 25., 42., 44., 55., 48., 57., 29., 47.,\n",
       "       65., 54., 20., 53., 37., 38., 33., 52., 30., 32., 43., 45., 51.,\n",
       "       40., 46., 39., 34., 41., 36., 31., 27., 35., 26., 19., 28., 23.,\n",
       "       24., 21., 17., 13.])"
      ]
     },
     "metadata": {},
     "output_type": "display_data"
    },
    {
     "data": {
      "text/plain": [
       "'пропусков в critic_score:'"
      ]
     },
     "metadata": {},
     "output_type": "display_data"
    },
    {
     "data": {
      "text/plain": [
       "8463"
      ]
     },
     "metadata": {},
     "output_type": "display_data"
    }
   ],
   "source": [
    "#будем разбираться с critic_score, где всего 7983 значений\n",
    "display(data['critic_score'].unique())\n",
    "display('пропусков в critic_score:', data['critic_score'].isna().sum())"
   ]
  },
  {
   "cell_type": "markdown",
   "metadata": {},
   "source": [
    "Пропуски в critic_score заполнять не будем ничем, т.к., возможно, это игры без оценки критиков."
   ]
  },
  {
   "cell_type": "code",
   "execution_count": 8,
   "metadata": {},
   "outputs": [
    {
     "data": {
      "text/plain": [
       "array(['8', nan, '8.3', '8.5', '6.6', '8.4', '8.6', '7.7', '6.3', '7.4',\n",
       "       '8.2', '9', '7.9', '8.1', '8.7', '7.1', '3.4', '5.3', '4.8', '3.2',\n",
       "       '8.9', '6.4', '7.8', '7.5', '2.6', '7.2', '9.2', '7', '7.3', '4.3',\n",
       "       '7.6', '5.7', '5', '9.1', '6.5', 'tbd', '8.8', '6.9', '9.4', '6.8',\n",
       "       '6.1', '6.7', '5.4', '4', '4.9', '4.5', '9.3', '6.2', '4.2', '6',\n",
       "       '3.7', '4.1', '5.8', '5.6', '5.5', '4.4', '4.6', '5.9', '3.9',\n",
       "       '3.1', '2.9', '5.2', '3.3', '4.7', '5.1', '3.5', '2.5', '1.9', '3',\n",
       "       '2.7', '2.2', '2', '9.5', '2.1', '3.6', '2.8', '1.8', '3.8', '0',\n",
       "       '1.6', '9.6', '2.4', '1.7', '1.1', '0.3', '1.5', '0.7', '1.2',\n",
       "       '2.3', '0.5', '1.3', '0.2', '0.6', '1.4', '0.9', '1', '9.7'],\n",
       "      dtype=object)"
      ]
     },
     "metadata": {},
     "output_type": "display_data"
    },
    {
     "data": {
      "text/plain": [
       "'пропусков в user_score:'"
      ]
     },
     "metadata": {},
     "output_type": "display_data"
    },
    {
     "data": {
      "text/plain": [
       "6607"
      ]
     },
     "metadata": {},
     "output_type": "display_data"
    }
   ],
   "source": [
    "#будем разбираться с user_score\n",
    "display(data['user_score'].unique())\n",
    "display('пропусков в user_score:', data['user_score'].isna().sum())"
   ]
  },
  {
   "cell_type": "markdown",
   "metadata": {},
   "source": [
    "NAN оставим как есть, а значения TBD (to be determined) заменим на NAN, раз эта информация ещё решается."
   ]
  },
  {
   "cell_type": "code",
   "execution_count": 9,
   "metadata": {},
   "outputs": [
    {
     "data": {
      "text/plain": [
       "array(['8', nan, '8.3', '8.5', '6.6', '8.4', '8.6', '7.7', '6.3', '7.4',\n",
       "       '8.2', '9', '7.9', '8.1', '8.7', '7.1', '3.4', '5.3', '4.8', '3.2',\n",
       "       '8.9', '6.4', '7.8', '7.5', '2.6', '7.2', '9.2', '7', '7.3', '4.3',\n",
       "       '7.6', '5.7', '5', '9.1', '6.5', '8.8', '6.9', '9.4', '6.8', '6.1',\n",
       "       '6.7', '5.4', '4', '4.9', '4.5', '9.3', '6.2', '4.2', '6', '3.7',\n",
       "       '4.1', '5.8', '5.6', '5.5', '4.4', '4.6', '5.9', '3.9', '3.1',\n",
       "       '2.9', '5.2', '3.3', '4.7', '5.1', '3.5', '2.5', '1.9', '3', '2.7',\n",
       "       '2.2', '2', '9.5', '2.1', '3.6', '2.8', '1.8', '3.8', '0', '1.6',\n",
       "       '9.6', '2.4', '1.7', '1.1', '0.3', '1.5', '0.7', '1.2', '2.3',\n",
       "       '0.5', '1.3', '0.2', '0.6', '1.4', '0.9', '1', '9.7'], dtype=object)"
      ]
     },
     "metadata": {},
     "output_type": "display_data"
    },
    {
     "data": {
      "text/plain": [
       "'пропусков в user_score:'"
      ]
     },
     "metadata": {},
     "output_type": "display_data"
    },
    {
     "data": {
      "text/plain": [
       "8983"
      ]
     },
     "metadata": {},
     "output_type": "display_data"
    }
   ],
   "source": [
    "data.loc[data['user_score'] == 'tbd', 'user_score'] = float('nan')\n",
    "#проверяем\n",
    "display(data['user_score'].unique())\n",
    "display('пропусков в user_score:', data['user_score'].isna().sum())"
   ]
  },
  {
   "cell_type": "code",
   "execution_count": 10,
   "metadata": {},
   "outputs": [
    {
     "data": {
      "text/plain": [
       "array(['E', nan, 'M', 'T', 'E10+', 'K-A', 'AO', 'EC', 'RP'], dtype=object)"
      ]
     },
     "metadata": {},
     "output_type": "display_data"
    },
    {
     "data": {
      "text/plain": [
       "'пропусков в rating:'"
      ]
     },
     "metadata": {},
     "output_type": "display_data"
    },
    {
     "data": {
      "text/plain": [
       "6678"
      ]
     },
     "metadata": {},
     "output_type": "display_data"
    }
   ],
   "source": [
    "#поработаем со столбцом rating\n",
    "display(data['rating'].unique())\n",
    "display('пропусков в rating:', data['rating'].isna().sum())"
   ]
  },
  {
   "cell_type": "code",
   "execution_count": 11,
   "metadata": {},
   "outputs": [
    {
     "data": {
      "text/plain": [
       "array(['E', 'No Rating', 'M', 'T', 'E10+', 'K-A', 'AO', 'EC', 'RP'],\n",
       "      dtype=object)"
      ]
     },
     "metadata": {},
     "output_type": "display_data"
    },
    {
     "data": {
      "text/plain": [
       "'пропусков в rating:'"
      ]
     },
     "metadata": {},
     "output_type": "display_data"
    },
    {
     "data": {
      "text/plain": [
       "0"
      ]
     },
     "metadata": {},
     "output_type": "display_data"
    }
   ],
   "source": [
    "#аббревиатуры я расшифровала выше, nan заменим на \"No Rating\"\n",
    "data['rating'] = data['rating'].fillna(value='No Rating')\n",
    "display(data['rating'].unique())\n",
    "display('пропусков в rating:', data['rating'].isna().sum())"
   ]
  },
  {
   "cell_type": "markdown",
   "metadata": {},
   "source": [
    "В столбце rating лучше всего заполнить пропуски заглушкой, потому что заполнение нулём или медианой исказит данные. Удаление тоже не вариант, т.к. игры без рейтинга тоже можно поанализировать. И , возможно, будет понятно, почему нет рейтинга.\n",
    "\n",
    "Возможные причины появления таких значений - рейтинг архивный, автор игры решил не присваивать рейтинг, технические причины..."
   ]
  },
  {
   "cell_type": "code",
   "execution_count": 12,
   "metadata": {},
   "outputs": [
    {
     "data": {
      "text/html": [
       "<div>\n",
       "<style scoped>\n",
       "    .dataframe tbody tr th:only-of-type {\n",
       "        vertical-align: middle;\n",
       "    }\n",
       "\n",
       "    .dataframe tbody tr th {\n",
       "        vertical-align: top;\n",
       "    }\n",
       "\n",
       "    .dataframe thead th {\n",
       "        text-align: right;\n",
       "    }\n",
       "</style>\n",
       "<table border=\"1\" class=\"dataframe\">\n",
       "  <thead>\n",
       "    <tr style=\"text-align: right;\">\n",
       "      <th></th>\n",
       "      <th>name</th>\n",
       "      <th>platform</th>\n",
       "      <th>year_of_release</th>\n",
       "      <th>genre</th>\n",
       "      <th>na_sales</th>\n",
       "      <th>eu_sales</th>\n",
       "      <th>jp_sales</th>\n",
       "      <th>other_sales</th>\n",
       "      <th>critic_score</th>\n",
       "      <th>user_score</th>\n",
       "      <th>rating</th>\n",
       "      <th>total_sales</th>\n",
       "    </tr>\n",
       "  </thead>\n",
       "  <tbody>\n",
       "    <tr>\n",
       "      <td>0</td>\n",
       "      <td>Wii Sports</td>\n",
       "      <td>Wii</td>\n",
       "      <td>2006</td>\n",
       "      <td>Sports</td>\n",
       "      <td>41.36</td>\n",
       "      <td>28.96</td>\n",
       "      <td>3.77</td>\n",
       "      <td>8.45</td>\n",
       "      <td>76.0</td>\n",
       "      <td>8</td>\n",
       "      <td>E</td>\n",
       "      <td>82.54</td>\n",
       "    </tr>\n",
       "    <tr>\n",
       "      <td>1</td>\n",
       "      <td>Super Mario Bros.</td>\n",
       "      <td>NES</td>\n",
       "      <td>1985</td>\n",
       "      <td>Platform</td>\n",
       "      <td>29.08</td>\n",
       "      <td>3.58</td>\n",
       "      <td>6.81</td>\n",
       "      <td>0.77</td>\n",
       "      <td>NaN</td>\n",
       "      <td>NaN</td>\n",
       "      <td>No Rating</td>\n",
       "      <td>40.24</td>\n",
       "    </tr>\n",
       "    <tr>\n",
       "      <td>2</td>\n",
       "      <td>Mario Kart Wii</td>\n",
       "      <td>Wii</td>\n",
       "      <td>2008</td>\n",
       "      <td>Racing</td>\n",
       "      <td>15.68</td>\n",
       "      <td>12.76</td>\n",
       "      <td>3.79</td>\n",
       "      <td>3.29</td>\n",
       "      <td>82.0</td>\n",
       "      <td>8.3</td>\n",
       "      <td>E</td>\n",
       "      <td>35.52</td>\n",
       "    </tr>\n",
       "    <tr>\n",
       "      <td>3</td>\n",
       "      <td>Wii Sports Resort</td>\n",
       "      <td>Wii</td>\n",
       "      <td>2009</td>\n",
       "      <td>Sports</td>\n",
       "      <td>15.61</td>\n",
       "      <td>10.93</td>\n",
       "      <td>3.28</td>\n",
       "      <td>2.95</td>\n",
       "      <td>80.0</td>\n",
       "      <td>8</td>\n",
       "      <td>E</td>\n",
       "      <td>32.77</td>\n",
       "    </tr>\n",
       "    <tr>\n",
       "      <td>4</td>\n",
       "      <td>Pokemon Red/Pokemon Blue</td>\n",
       "      <td>GB</td>\n",
       "      <td>1996</td>\n",
       "      <td>Role-Playing</td>\n",
       "      <td>11.27</td>\n",
       "      <td>8.89</td>\n",
       "      <td>10.22</td>\n",
       "      <td>1.00</td>\n",
       "      <td>NaN</td>\n",
       "      <td>NaN</td>\n",
       "      <td>No Rating</td>\n",
       "      <td>31.38</td>\n",
       "    </tr>\n",
       "  </tbody>\n",
       "</table>\n",
       "</div>"
      ],
      "text/plain": [
       "                       name platform  year_of_release         genre  na_sales  \\\n",
       "0                Wii Sports      Wii             2006        Sports     41.36   \n",
       "1         Super Mario Bros.      NES             1985      Platform     29.08   \n",
       "2            Mario Kart Wii      Wii             2008        Racing     15.68   \n",
       "3         Wii Sports Resort      Wii             2009        Sports     15.61   \n",
       "4  Pokemon Red/Pokemon Blue       GB             1996  Role-Playing     11.27   \n",
       "\n",
       "   eu_sales  jp_sales  other_sales  critic_score user_score     rating  \\\n",
       "0     28.96      3.77         8.45          76.0          8          E   \n",
       "1      3.58      6.81         0.77           NaN        NaN  No Rating   \n",
       "2     12.76      3.79         3.29          82.0        8.3          E   \n",
       "3     10.93      3.28         2.95          80.0          8          E   \n",
       "4      8.89     10.22         1.00           NaN        NaN  No Rating   \n",
       "\n",
       "   total_sales  \n",
       "0        82.54  \n",
       "1        40.24  \n",
       "2        35.52  \n",
       "3        32.77  \n",
       "4        31.38  "
      ]
     },
     "metadata": {},
     "output_type": "display_data"
    },
    {
     "name": "stdout",
     "output_type": "stream",
     "text": [
      "<class 'pandas.core.frame.DataFrame'>\n",
      "Int64Index: 16446 entries, 0 to 16714\n",
      "Data columns (total 12 columns):\n",
      "name               16446 non-null object\n",
      "platform           16446 non-null object\n",
      "year_of_release    16446 non-null int64\n",
      "genre              16446 non-null object\n",
      "na_sales           16446 non-null float64\n",
      "eu_sales           16446 non-null float64\n",
      "jp_sales           16446 non-null float64\n",
      "other_sales        16446 non-null float64\n",
      "critic_score       7983 non-null float64\n",
      "user_score         7463 non-null object\n",
      "rating             16446 non-null object\n",
      "total_sales        16446 non-null float64\n",
      "dtypes: float64(6), int64(1), object(5)\n",
      "memory usage: 1.6+ MB\n"
     ]
    }
   ],
   "source": [
    "#посчитаем суммарные продажи во всех регионах и запишем их в отдельный столбец\n",
    "data['total_sales'] = data['na_sales'] + data['eu_sales'] + data['jp_sales'] + data['other_sales']\n",
    "display(data.head())\n",
    "data.info()"
   ]
  },
  {
   "cell_type": "markdown",
   "metadata": {},
   "source": [
    "Итак,\n",
    "\n",
    "- названия столбцов приведены в змеиный регистр,\n",
    "- 269 строк с играми без указания года удалены,\n",
    "- двум играм и двум жанрам были присвоены названия No Name и No Genre, соответственно,\n",
    "- значения TBD (to be determined) заменены на NAN, \n",
    "- строки без рейтинга заменили на заглушку No Rating,\n",
    "- посчитаны суммарные продажи во всех регионах путём их сложения и записаны в отдельный столбец."
   ]
  },
  {
   "cell_type": "markdown",
   "metadata": {},
   "source": [
    "## Исследовательский анализ данных"
   ]
  },
  {
   "cell_type": "markdown",
   "metadata": {},
   "source": [
    "В задании поставлены следующие задачи:\n",
    "\n",
    "- Посмотрите, сколько игр выпускалось в разные годы. Важны ли данные за все\n",
    "периоды?\n",
    "- Посмотрите, как менялись продажи по платформам. Выберите платформы с\n",
    "наибольшими суммарными продажами и постройте распределение по годам. За какой характерный срок появляются новые и исчезают старые платформы?\n",
    "- Возьмите данные за соответствующий актуальный период. Актуальный\n",
    "период определите самостоятельно в результате исследования предыдущих\n",
    "вопросов. Основной фактор — эти данные помогут построить прогноз на 2017\n",
    "год.\n",
    "- Не учитывайте в работе данные за предыдущие годы.\n",
    "- Какие платформы лидируют по продажам, растут или падают? Выберите\n",
    "несколько потенциально прибыльных платформ.\n",
    "- Постройте график «ящик с усами» по глобальным продажам игр в разбивке по\n",
    "платформам. Опишите результат.\n",
    "- Посмотрите, как влияют на продажи внутри одной популярной платформы\n",
    "отзывы пользователей и критиков. Постройте диаграмму рассеяния и\n",
    "посчитайте корреляцию между отзывами и продажами. Сформулируйте\n",
    "выводы.\n",
    "- Соотнесите выводы с продажами игр на других платформах.\n",
    "- Посмотрите на общее распределение игр по жанрам. Что можно сказать о\n",
    "самых прибыльных жанрах? Выделяются ли жанры с высокими и низкими\n",
    "продажами?"
   ]
  },
  {
   "cell_type": "code",
   "execution_count": 13,
   "metadata": {},
   "outputs": [
    {
     "data": {
      "image/png": "[encoded data removed]",
      "text/plain": [
       "<Figure size 1368x576 with 1 Axes>"
      ]
     },
     "metadata": {
      "needs_background": "light"
     },
     "output_type": "display_data"
    }
   ],
   "source": [
    "#посмотрим, сколько игр выпускалось в разные годы нескучным способом с подписью значений на графике))\n",
    "\n",
    "from matplotlib.pyplot import figure\n",
    "c = data.groupby('year_of_release')['year_of_release'].count()\n",
    "ys = []\n",
    "xs = []\n",
    "inverse = [(key, value) for key, value in c.items()]\n",
    "\n",
    "\n",
    "for key, value in c.items():\n",
    "    ys.append(value)\n",
    "    xs.append(key)\n",
    "\n",
    "plt.figure(figsize=(19,8))\n",
    "\n",
    "plt.plot(xs,ys,color='y')\n",
    "\n",
    "# zip joins x and y coordinates in pairs\n",
    "for x,y in zip(xs,ys):\n",
    "\n",
    "    label = \"{:.0f}\".format(y)\n",
    "\n",
    "    plt.annotate(label, # this is the text\n",
    "                 (x,y), # these are the coordinates to position the label\n",
    "                 textcoords=\"offset points\", # how to position the text\n",
    "                 xytext=(0,10), # distance from text to points (x,y)\n",
    "                 ha='center') # horizontal alignment can be left, right or center\n",
    "\n",
    "plt.show()\n"
   ]
  },
  {
   "cell_type": "code",
   "execution_count": 14,
   "metadata": {},
   "outputs": [],
   "source": [
    "#посмотрим, сколько игр выпускалось в разные годы\n",
    "#data.groupby('year_of_release')['year_of_release'].count().plot()\n",
    "#data.groupby('year_of_release')['year_of_release'].count()"
   ]
  },
  {
   "cell_type": "markdown",
   "metadata": {},
   "source": [
    "На графике видно, что до начала 90-х игр выпускалось очень мало, и тренда на увеличение не было. В 1994 году произошёл резкий скачок почти в 2 раза, и цифра из двузначной превратилась в трёхзначную. В 2008 году было выпущено максимум компьютерных игр за историю человечества, после чего был драматический спад. В 2014-2015 - тренд на рост.\n",
    "\n",
    "Для прогнозирования в 2017 году данные до 1993 года включительно не очень актуальны. Удалим эти строки."
   ]
  },
  {
   "cell_type": "code",
   "execution_count": 15,
   "metadata": {},
   "outputs": [
    {
     "name": "stdout",
     "output_type": "stream",
     "text": [
      "<class 'pandas.core.frame.DataFrame'>\n",
      "Int64Index: 16079 entries, 0 to 16714\n",
      "Data columns (total 12 columns):\n",
      "name               16079 non-null object\n",
      "platform           16079 non-null object\n",
      "year_of_release    16079 non-null int64\n",
      "genre              16079 non-null object\n",
      "na_sales           16079 non-null float64\n",
      "eu_sales           16079 non-null float64\n",
      "jp_sales           16079 non-null float64\n",
      "other_sales        16079 non-null float64\n",
      "critic_score       7980 non-null float64\n",
      "user_score         7460 non-null object\n",
      "rating             16079 non-null object\n",
      "total_sales        16079 non-null float64\n",
      "dtypes: float64(6), int64(1), object(5)\n",
      "memory usage: 1.6+ MB\n"
     ]
    }
   ],
   "source": [
    "data = data.query('year_of_release > 1993')\n",
    "data.info()"
   ]
  },
  {
   "cell_type": "markdown",
   "metadata": {},
   "source": [
    "Удалилось совсем мало строк, осталось 16079.\n",
    "\n",
    "\n",
    "Перейдём к анализу того, как менялись продажи по платформам. Выберем платформы с наибольшими суммарными продажами и построим распределение по годам."
   ]
  },
  {
   "cell_type": "code",
   "execution_count": 16,
   "metadata": {},
   "outputs": [
    {
     "data": {
      "text/plain": [
       "Index(['3DS', 'PSP', 'GBA', 'PS4', 'PS', 'DS', 'Wii', 'PS3', 'X360', 'PS2'], dtype='object', name='platform')"
      ]
     },
     "metadata": {},
     "output_type": "display_data"
    }
   ],
   "source": [
    "#платформы с наибольшими суммарными продажами\n",
    "top_10 = data.groupby('platform').agg({'total_sales': 'sum'}).sort_values(by = 'total_sales').tail(10).index\n",
    "display(top_10)"
   ]
  },
  {
   "cell_type": "code",
   "execution_count": 17,
   "metadata": {},
   "outputs": [
    {
     "data": {
      "text/plain": [
       "<matplotlib.axes._subplots.AxesSubplot at 0x7fcd45d89810>"
      ]
     },
     "execution_count": 17,
     "metadata": {},
     "output_type": "execute_result"
    },
    {
     "data": {
      "image/png": "[encoded data removed]",
      "text/plain": [
       "<Figure size 432x288 with 1 Axes>"
      ]
     },
     "metadata": {
      "needs_background": "light"
     },
     "output_type": "display_data"
    }
   ],
   "source": [
    "data.query('platform == \"PS2\"').groupby('year_of_release')['year_of_release'].count().plot()\n",
    "#data.query('platform == \"PS2\"').describe().round(2)"
   ]
  },
  {
   "cell_type": "code",
   "execution_count": 18,
   "metadata": {},
   "outputs": [
    {
     "data": {
      "text/plain": [
       "<matplotlib.axes._subplots.AxesSubplot at 0x7fcd3d4517d0>"
      ]
     },
     "execution_count": 18,
     "metadata": {},
     "output_type": "execute_result"
    },
    {
     "data": {
      "image/png": "[encoded data removed]",
      "text/plain": [
       "<Figure size 432x288 with 1 Axes>"
      ]
     },
     "metadata": {
      "needs_background": "light"
     },
     "output_type": "display_data"
    }
   ],
   "source": [
    "data.query('platform == \"X360\"').groupby('year_of_release')['year_of_release'].count().plot()"
   ]
  },
  {
   "cell_type": "code",
   "execution_count": 19,
   "metadata": {},
   "outputs": [
    {
     "data": {
      "text/plain": [
       "<matplotlib.legend.Legend at 0x7fcd3d404910>"
      ]
     },
     "execution_count": 19,
     "metadata": {},
     "output_type": "execute_result"
    },
    {
     "data": {
      "image/png": "[encoded data removed]",
      "text/plain": [
       "<Figure size 432x288 with 1 Axes>"
      ]
     },
     "metadata": {
      "needs_background": "light"
     },
     "output_type": "display_data"
    }
   ],
   "source": [
    "#скучно делать каждый график отдельно, сделаем топ-10 на одном\n",
    "for platform in top_10:\n",
    "  c = data.query('platform == @platform').groupby('year_of_release')['year_of_release'].count()\n",
    "  plt.plot(c)\n",
    "plt.legend(top_10)"
   ]
  },
  {
   "cell_type": "markdown",
   "metadata": {},
   "source": [
    "Виден типичный жизненный цикл всего: старт, рост, зрелость, упадок. И примерно на середине цикла -упадок. Значит, половина жизненного цикла игр - это рост. \n",
    "\n",
    "7 из топ-10 сосредоточены в период 2005-2015. Видимо, это расцвет игровой индустрии."
   ]
  },
  {
   "cell_type": "code",
   "execution_count": 20,
   "metadata": {},
   "outputs": [
    {
     "data": {
      "text/plain": [
       "year_of_release    3.075\n",
       "dtype: float64"
      ]
     },
     "execution_count": 20,
     "metadata": {},
     "output_type": "execute_result"
    }
   ],
   "source": [
    "#минимальные значимые продажи в миллионах\n",
    "min_sales = 10\n",
    "#суммарные продажи в год выше порога\n",
    "report = data.groupby(['platform', 'year_of_release']).agg({'total_sales': 'sum'}).query('total_sales > @min_sales')\n",
    "#среднее число лет выше порога продаж, деленное на 2\n",
    "report.reset_index().groupby('platform').agg({'year_of_release': 'nunique'}).mean() / 2"
   ]
  },
  {
   "cell_type": "markdown",
   "metadata": {},
   "source": [
    "В среднем жизненный цикл платформы - 6 лет, из которых 3 года она расцветает.\n",
    "\n",
    "Чтобы построить прогноз на 2017 год, возьмем данные за 2014, 2015 и 2016 годы."
   ]
  },
  {
   "cell_type": "markdown",
   "metadata": {},
   "source": [
    "### Потенциально прибыльные платформы"
   ]
  },
  {
   "cell_type": "code",
   "execution_count": 21,
   "metadata": {},
   "outputs": [
    {
     "data": {
      "text/plain": [
       "<matplotlib.legend.Legend at 0x7fcd3d369410>"
      ]
     },
     "execution_count": 21,
     "metadata": {},
     "output_type": "execute_result"
    },
    {
     "data": {
      "image/png": "[encoded data removed]",
      "text/plain": [
       "<Figure size 1296x576 with 1 Axes>"
      ]
     },
     "metadata": {
      "needs_background": "light"
     },
     "output_type": "display_data"
    }
   ],
   "source": [
    "#Выберем несколько потенциально прибыльных платформ\n",
    "plt.figure(figsize=(18,8))\n",
    "for platform in top_10:\n",
    "  c = data.query('platform == @platform and year_of_release>2013').groupby('year_of_release')['total_sales'].sum()\n",
    "  plt.plot(c)\n",
    "plt.legend(top_10)"
   ]
  },
  {
   "cell_type": "markdown",
   "metadata": {},
   "source": [
    "Видим, что PS4 пока на высоте, но уже снижается. 3DS и PS3 плавно снижаются."
   ]
  },
  {
   "cell_type": "code",
   "execution_count": 22,
   "metadata": {},
   "outputs": [
    {
     "data": {
      "text/plain": [
       "Text(0.5, 1.0, 'PS4')"
      ]
     },
     "execution_count": 22,
     "metadata": {},
     "output_type": "execute_result"
    },
    {
     "data": {
      "image/png": "[encoded data removed]",
      "text/plain": [
       "<Figure size 432x288 with 1 Axes>"
      ]
     },
     "metadata": {
      "needs_background": "light"
     },
     "output_type": "display_data"
    }
   ],
   "source": [
    "data.query('platform == \"PS4\" and year_of_release>2010').groupby('year_of_release')['total_sales'].sum().plot()\n",
    "plt.title('PS4')"
   ]
  },
  {
   "cell_type": "markdown",
   "metadata": {},
   "source": [
    "Да, PS4 недавно находилась на пике. Впереди предвидится спад. Но в краткосрочной перспективе её можно рассматривать."
   ]
  },
  {
   "cell_type": "code",
   "execution_count": 23,
   "metadata": {},
   "outputs": [
    {
     "data": {
      "text/plain": [
       "Text(0.5, 1.0, 'X360')"
      ]
     },
     "execution_count": 23,
     "metadata": {},
     "output_type": "execute_result"
    },
    {
     "data": {
      "image/png": "[encoded data removed]",
      "text/plain": [
       "<Figure size 432x288 with 1 Axes>"
      ]
     },
     "metadata": {
      "needs_background": "light"
     },
     "output_type": "display_data"
    }
   ],
   "source": [
    "data.query('platform == \"X360\" and year_of_release>2010').groupby('year_of_release')['total_sales'].sum().plot()\n",
    "plt.title('X360')"
   ]
  },
  {
   "cell_type": "markdown",
   "metadata": {},
   "source": [
    "X360  - неподходящий вариант."
   ]
  },
  {
   "cell_type": "code",
   "execution_count": 24,
   "metadata": {},
   "outputs": [
    {
     "data": {
      "text/plain": [
       "Text(0.5, 1.0, 'Wii')"
      ]
     },
     "execution_count": 24,
     "metadata": {},
     "output_type": "execute_result"
    },
    {
     "data": {
      "image/png": "[encoded data removed]",
      "text/plain": [
       "<Figure size 432x288 with 1 Axes>"
      ]
     },
     "metadata": {
      "needs_background": "light"
     },
     "output_type": "display_data"
    }
   ],
   "source": [
    "data.query('platform == \"Wii\" and year_of_release>2010').groupby('year_of_release')['total_sales'].sum().plot()\n",
    "plt.title('Wii')"
   ]
  },
  {
   "cell_type": "markdown",
   "metadata": {},
   "source": [
    "Wii тоже не вариант. "
   ]
  },
  {
   "cell_type": "code",
   "execution_count": 25,
   "metadata": {},
   "outputs": [
    {
     "data": {
      "text/plain": [
       "Text(0.5, 1.0, '3DS')"
      ]
     },
     "execution_count": 25,
     "metadata": {},
     "output_type": "execute_result"
    },
    {
     "data": {
      "image/png": "[encoded data removed]",
      "text/plain": [
       "<Figure size 432x288 with 1 Axes>"
      ]
     },
     "metadata": {
      "needs_background": "light"
     },
     "output_type": "display_data"
    }
   ],
   "source": [
    "data.query('platform == \"3DS\" and year_of_release>2010').groupby('year_of_release')['total_sales'].sum().plot()\n",
    "plt.title('3DS')"
   ]
  },
  {
   "cell_type": "markdown",
   "metadata": {},
   "source": [
    "У 3DS есть ещё небольшой потенциал и есть куда падать))"
   ]
  },
  {
   "cell_type": "code",
   "execution_count": 26,
   "metadata": {},
   "outputs": [
    {
     "data": {
      "text/plain": [
       "Text(0.5, 1.0, 'PS3')"
      ]
     },
     "execution_count": 26,
     "metadata": {},
     "output_type": "execute_result"
    },
    {
     "data": {
      "image/png": "[encoded data removed]",
      "text/plain": [
       "<Figure size 432x288 with 1 Axes>"
      ]
     },
     "metadata": {
      "needs_background": "light"
     },
     "output_type": "display_data"
    }
   ],
   "source": [
    "data.query('platform == \"PS3\" and year_of_release>2010').groupby('year_of_release')['total_sales'].sum().plot()\n",
    "plt.title('PS3')"
   ]
  },
  {
   "cell_type": "markdown",
   "metadata": {},
   "source": [
    "PS3 примерно в таком же состоянии как и 3DS.\n",
    "\n",
    "Итак, берём в расчёт 3DS и , конечно же, PS4."
   ]
  },
  {
   "cell_type": "code",
   "execution_count": 27,
   "metadata": {},
   "outputs": [
    {
     "name": "stderr",
     "output_type": "stream",
     "text": [
      "/opt/conda/lib/python3.7/site-packages/numpy/core/_asarray.py:83: VisibleDeprecationWarning: Creating an ndarray from ragged nested sequences (which is a list-or-tuple of lists-or-tuples-or ndarrays with different lengths or shapes) is deprecated. If you meant to do this, you must specify 'dtype=object' when creating the ndarray\n",
      "  return array(a, dtype, copy=False, order=order)\n"
     ]
    },
    {
     "data": {
      "image/png": "[encoded data removed]",
      "text/plain": [
       "<Figure size 720x720 with 1 Axes>"
      ]
     },
     "metadata": {
      "needs_background": "light"
     },
     "output_type": "display_data"
    }
   ],
   "source": [
    "#Построим «ящик с усами» по глобальным продажам игр в разбивке по платформам\n",
    "data.query('year_of_release>2010').boxplot(column='total_sales', by='platform', figsize=(10,10))\n",
    "plt.ylim(0,2)\n",
    "plt.xlabel('platform')\n",
    "plt.ylabel('total_sales')\n",
    "plt.title('Диаграмма размаха для платформ в период с 2011 по 2016 годы')\n",
    "plt.show()"
   ]
  },
  {
   "cell_type": "markdown",
   "metadata": {},
   "source": [
    "У PS4 и X360 самые высокие границы выбросов.\n",
    "\n",
    "Самые высокие медианные значения у X360, Wii, WiU, PS4, PS3 и XOne.\n",
    "\n",
    "Самые \"жирные\" с точки зрения выручки - PS3, PS3, X360, XOne."
   ]
  },
  {
   "cell_type": "code",
   "execution_count": 28,
   "metadata": {},
   "outputs": [
    {
     "data": {
      "text/plain": [
       "'корреляция оценки критиков с продажами'"
      ]
     },
     "metadata": {},
     "output_type": "display_data"
    },
    {
     "data": {
      "text/plain": [
       "0.25"
      ]
     },
     "metadata": {},
     "output_type": "display_data"
    },
    {
     "data": {
      "text/plain": [
       "'корреляция оценки пользователей с продажами'"
      ]
     },
     "metadata": {},
     "output_type": "display_data"
    },
    {
     "data": {
      "text/plain": [
       "0.09"
      ]
     },
     "metadata": {},
     "output_type": "display_data"
    },
    {
     "data": {
      "image/png": "[encoded data removed]",
      "text/plain": [
       "<Figure size 432x288 with 1 Axes>"
      ]
     },
     "metadata": {
      "needs_background": "light"
     },
     "output_type": "display_data"
    }
   ],
   "source": [
    "#оценим влияние отзывов пользователей и критиков на PS4, PS3, 3DS\n",
    "#Построим диаграмму рассеяния\n",
    "data['user_score'] = data['user_score'].astype(float)\n",
    "ax = data.query('platform == \"PS4\"').plot(x='critic_score', y='user_score', style='o', label='PS4')\n",
    "data.query('platform == \"PS3\"').plot(x='critic_score', y='user_score', style='x', ax=ax, label='PS3')\n",
    "data.query('platform == \"3DS\"').plot(kind='scatter', x='critic_score', y='user_score', color='green', ax=ax, label='3DS')\n",
    "plt.legend()\n",
    "\n",
    "#посчитаем корреляцию между отзывами и продажами\n",
    "display('корреляция оценки критиков с продажами', data['critic_score'].corr(data['total_sales']).round(2))\n",
    "display('корреляция оценки пользователей с продажами', data['user_score'].corr(data['total_sales']).round(2))"
   ]
  },
  {
   "cell_type": "markdown",
   "metadata": {},
   "source": [
    "На диаграмме рассеяния видим скопление точек справа вверху, что говорит о тесной взаимосвязи оценки критиков с оценками пользователей по всем трём платформам.\n",
    "\n",
    "Корреляция оценки критиков с продажами = 0.25 (положительная, несильная, то есть чем выше оценки критиков, тем выше продажи, но это не очень сильная зависимость).\n",
    "\n",
    "Корреляция оценки пользователей с продажами = 0.09 (тоже положительная, но близка к нулю).\n",
    "\n",
    "Корреляция не означает каузацию, поэтому продавцы игр зарабатывают миллиарды особо не завися от оценок пользователей или критиков. Вернее, оценки пользователей и критиков не являются причиной сверхдоходов."
   ]
  },
  {
   "cell_type": "code",
   "execution_count": 29,
   "metadata": {
    "scrolled": true
   },
   "outputs": [
    {
     "name": "stdout",
     "output_type": "stream",
     "text": [
      "корр-я оценки критиков с продажами для PS4: 0.40656790206178095\n",
      "корр-я оценки пользователей с продажами для PS4: -0.031957110204556424\n",
      "корр-я оценки критиков с продажами для PS3: 0.4327589578997135\n",
      "корр-я оценки пользователей с продажами для PS3: 0.12841562938563028\n",
      "корр-я оценки критиков с продажами для 3DS: 0.3487397305984834\n",
      "корр-я оценки пользователей с продажами для 3DS: 0.22207843643390882\n"
     ]
    },
    {
     "data": {
      "image/png": "[encoded data removed]",
      "text/plain": [
       "<Figure size 432x288 with 1 Axes>"
      ]
     },
     "metadata": {
      "needs_background": "light"
     },
     "output_type": "display_data"
    },
    {
     "data": {
      "image/png": "[encoded data removed]",
      "text/plain": [
       "<Figure size 432x288 with 1 Axes>"
      ]
     },
     "metadata": {
      "needs_background": "light"
     },
     "output_type": "display_data"
    },
    {
     "data": {
      "image/png": "[encoded data removed]",
      "text/plain": [
       "<Figure size 432x288 with 1 Axes>"
      ]
     },
     "metadata": {
      "needs_background": "light"
     },
     "output_type": "display_data"
    }
   ],
   "source": [
    "def ggg(platform_from_arr):\n",
    "    data_corr = data.query(f'platform == \"{platform_from_arr}\"')\n",
    "    data_corr.plot(x='critic_score', y='user_score', kind='scatter', title=platform_from_arr)\n",
    "    m = f'корр-я оценки критиков с продажами для ' + str(platform_from_arr) + ': ' + str(data_corr['critic_score'].corr(data_corr['total_sales']))\n",
    "    n = 'корр-я оценки пользователей с продажами для ' + str(platform_from_arr) + ': ' + str(data_corr['user_score'].corr(data_corr['total_sales']))\n",
    "    print(str(m), n, sep='\\n')\n",
    "\n",
    "arr = [\"PS4\", \"PS3\", \"3DS\"]\n",
    "\n",
    "for i in arr:\n",
    "  ggg(i)"
   ]
  },
  {
   "cell_type": "markdown",
   "metadata": {},
   "source": [
    "Оценки критиков более коррелируют с продажами, чем оценки пользователей."
   ]
  },
  {
   "cell_type": "markdown",
   "metadata": {},
   "source": [
    "### Потенциально прибыльные жанры"
   ]
  },
  {
   "cell_type": "code",
   "execution_count": 1,
   "metadata": {},
   "outputs": [],
   "source": [
    "#посмотрим на общее распределение игр по жанрам\n",
    "\n",
    "#data['genre'].hist(bins=30, figsize=(12,10))\n",
    "\n",
    "#data_g = data.query('year_of_release>2013')\n",
    "#data_g['genre'].hist(bins=30, figsize=(12,10))"
   ]
  },
  {
   "cell_type": "code",
   "execution_count": 52,
   "metadata": {},
   "outputs": [
    {
     "data": {
      "text/plain": [
       "<matplotlib.axes._subplots.AxesSubplot at 0x7fcd3d141bd0>"
      ]
     },
     "execution_count": 52,
     "metadata": {},
     "output_type": "execute_result"
    },
    {
     "data": {
      "image/png": "[encoded data removed]",
      "text/plain": [
       "<Figure size 432x288 with 1 Axes>"
      ]
     },
     "metadata": {
      "needs_background": "light"
     },
     "output_type": "display_data"
    }
   ],
   "source": [
    "actual_data = data.query('year_of_release > 2013')\n",
    "platform_sales = actual_data.pivot_table(index='genre', values='total_sales', aggfunc='sum').sort_values(by = 'total_sales')\n",
    "platform_sales.plot(kind = 'bar')"
   ]
  },
  {
   "cell_type": "markdown",
   "metadata": {},
   "source": [
    "Итак, в **исследовательском анализе** выяснилось:\n",
    "\n",
    "- до 1994 года было выпущено мало игр, данные до 1994 года удалены, т.к. не представляют интереса для анализа. Максимальное количество игр за всю историю было в 2008 году;\n",
    "\n",
    "- топ-10 игр по выручке - '3DS', 'PSP', 'GBA', 'PS4', 'PS', 'DS', 'Wii', 'PS3', 'X360', 'PS2';\n",
    "\n",
    "- в среднем жизненный цикл платформы - 6 лет, из которых 3 года она расцветает. Поэтому чтобы построить прогноз на 2017 год, берём данные за 2014, 2015 и 2016 годы;\n",
    "\n",
    "- самые \"жирные\" с точки зрения выручки - PS3, PS3, X360, XOne, но их жизненный цикл закончен. В динамике наиболее перспективные платформы: 3DS, PS3 и , конечно же, PS4 (самая перспективная);\n",
    "\n",
    "- Корреляция оценки критиков с продажами = 0.25. Корреляция оценки пользователей с продажами = 0.09. Оценки пользователей и критиков не являются причиной сверхдоходов;\n",
    "\n",
    "- За весь период Action и Sport самые популярные. А за актуальный период - Action, Role-Playing, Adventure, Sports, Shooter and Misc. То есть произошло некое разнообразие жанров."
   ]
  },
  {
   "cell_type": "markdown",
   "metadata": {},
   "source": [
    "## Портрет пользователя каждого региона\n",
    "\n",
    "В данном разделе определим для пользователя каждого региона (NA, EU, JP):\n",
    "\n",
    "- Самые популярные платформы (топ-5). Опишем различия в долях продаж.\n",
    "\n",
    "- Самые популярные жанры (топ-5). Поясним разницу.\n",
    "\n",
    "- Ответим на вопрос, влияет ли рейтинг ESRB на продажи в отдельном регионе."
   ]
  },
  {
   "cell_type": "code",
   "execution_count": 31,
   "metadata": {},
   "outputs": [
    {
     "data": {
      "text/html": [
       "<div>\n",
       "<style scoped>\n",
       "    .dataframe tbody tr th:only-of-type {\n",
       "        vertical-align: middle;\n",
       "    }\n",
       "\n",
       "    .dataframe tbody tr th {\n",
       "        vertical-align: top;\n",
       "    }\n",
       "\n",
       "    .dataframe thead th {\n",
       "        text-align: right;\n",
       "    }\n",
       "</style>\n",
       "<table border=\"1\" class=\"dataframe\">\n",
       "  <thead>\n",
       "    <tr style=\"text-align: right;\">\n",
       "      <th></th>\n",
       "      <th>name</th>\n",
       "      <th>platform</th>\n",
       "      <th>year_of_release</th>\n",
       "      <th>genre</th>\n",
       "      <th>na_sales</th>\n",
       "      <th>eu_sales</th>\n",
       "      <th>jp_sales</th>\n",
       "      <th>other_sales</th>\n",
       "      <th>critic_score</th>\n",
       "      <th>user_score</th>\n",
       "      <th>rating</th>\n",
       "      <th>total_sales</th>\n",
       "    </tr>\n",
       "  </thead>\n",
       "  <tbody>\n",
       "    <tr>\n",
       "      <td>0</td>\n",
       "      <td>Wii Sports</td>\n",
       "      <td>Wii</td>\n",
       "      <td>2006</td>\n",
       "      <td>Sports</td>\n",
       "      <td>41.36</td>\n",
       "      <td>28.96</td>\n",
       "      <td>3.77</td>\n",
       "      <td>8.45</td>\n",
       "      <td>76.0</td>\n",
       "      <td>8.0</td>\n",
       "      <td>E</td>\n",
       "      <td>82.54</td>\n",
       "    </tr>\n",
       "    <tr>\n",
       "      <td>2</td>\n",
       "      <td>Mario Kart Wii</td>\n",
       "      <td>Wii</td>\n",
       "      <td>2008</td>\n",
       "      <td>Racing</td>\n",
       "      <td>15.68</td>\n",
       "      <td>12.76</td>\n",
       "      <td>3.79</td>\n",
       "      <td>3.29</td>\n",
       "      <td>82.0</td>\n",
       "      <td>8.3</td>\n",
       "      <td>E</td>\n",
       "      <td>35.52</td>\n",
       "    </tr>\n",
       "    <tr>\n",
       "      <td>3</td>\n",
       "      <td>Wii Sports Resort</td>\n",
       "      <td>Wii</td>\n",
       "      <td>2009</td>\n",
       "      <td>Sports</td>\n",
       "      <td>15.61</td>\n",
       "      <td>10.93</td>\n",
       "      <td>3.28</td>\n",
       "      <td>2.95</td>\n",
       "      <td>80.0</td>\n",
       "      <td>8.0</td>\n",
       "      <td>E</td>\n",
       "      <td>32.77</td>\n",
       "    </tr>\n",
       "    <tr>\n",
       "      <td>4</td>\n",
       "      <td>Pokemon Red/Pokemon Blue</td>\n",
       "      <td>GB</td>\n",
       "      <td>1996</td>\n",
       "      <td>Role-Playing</td>\n",
       "      <td>11.27</td>\n",
       "      <td>8.89</td>\n",
       "      <td>10.22</td>\n",
       "      <td>1.00</td>\n",
       "      <td>NaN</td>\n",
       "      <td>NaN</td>\n",
       "      <td>No Rating</td>\n",
       "      <td>31.38</td>\n",
       "    </tr>\n",
       "    <tr>\n",
       "      <td>6</td>\n",
       "      <td>New Super Mario Bros.</td>\n",
       "      <td>DS</td>\n",
       "      <td>2006</td>\n",
       "      <td>Platform</td>\n",
       "      <td>11.28</td>\n",
       "      <td>9.14</td>\n",
       "      <td>6.50</td>\n",
       "      <td>2.88</td>\n",
       "      <td>89.0</td>\n",
       "      <td>8.5</td>\n",
       "      <td>E</td>\n",
       "      <td>29.80</td>\n",
       "    </tr>\n",
       "  </tbody>\n",
       "</table>\n",
       "</div>"
      ],
      "text/plain": [
       "                       name platform  year_of_release         genre  na_sales  \\\n",
       "0                Wii Sports      Wii             2006        Sports     41.36   \n",
       "2            Mario Kart Wii      Wii             2008        Racing     15.68   \n",
       "3         Wii Sports Resort      Wii             2009        Sports     15.61   \n",
       "4  Pokemon Red/Pokemon Blue       GB             1996  Role-Playing     11.27   \n",
       "6     New Super Mario Bros.       DS             2006      Platform     11.28   \n",
       "\n",
       "   eu_sales  jp_sales  other_sales  critic_score  user_score     rating  \\\n",
       "0     28.96      3.77         8.45          76.0         8.0          E   \n",
       "2     12.76      3.79         3.29          82.0         8.3          E   \n",
       "3     10.93      3.28         2.95          80.0         8.0          E   \n",
       "4      8.89     10.22         1.00           NaN         NaN  No Rating   \n",
       "6      9.14      6.50         2.88          89.0         8.5          E   \n",
       "\n",
       "   total_sales  \n",
       "0        82.54  \n",
       "2        35.52  \n",
       "3        32.77  \n",
       "4        31.38  \n",
       "6        29.80  "
      ]
     },
     "metadata": {},
     "output_type": "display_data"
    },
    {
     "name": "stdout",
     "output_type": "stream",
     "text": [
      "<class 'pandas.core.frame.DataFrame'>\n",
      "Int64Index: 16079 entries, 0 to 16714\n",
      "Data columns (total 12 columns):\n",
      "name               16079 non-null object\n",
      "platform           16079 non-null object\n",
      "year_of_release    16079 non-null int64\n",
      "genre              16079 non-null object\n",
      "na_sales           16079 non-null float64\n",
      "eu_sales           16079 non-null float64\n",
      "jp_sales           16079 non-null float64\n",
      "other_sales        16079 non-null float64\n",
      "critic_score       7980 non-null float64\n",
      "user_score         7460 non-null float64\n",
      "rating             16079 non-null object\n",
      "total_sales        16079 non-null float64\n",
      "dtypes: float64(7), int64(1), object(4)\n",
      "memory usage: 1.6+ MB\n"
     ]
    }
   ],
   "source": [
    "display(data.head())\n",
    "data.info()"
   ]
  },
  {
   "cell_type": "markdown",
   "metadata": {},
   "source": [
    "### Платформы по регионам"
   ]
  },
  {
   "cell_type": "code",
   "execution_count": 32,
   "metadata": {},
   "outputs": [
    {
     "data": {
      "text/html": [
       "<div>\n",
       "<style scoped>\n",
       "    .dataframe tbody tr th:only-of-type {\n",
       "        vertical-align: middle;\n",
       "    }\n",
       "\n",
       "    .dataframe tbody tr th {\n",
       "        vertical-align: top;\n",
       "    }\n",
       "\n",
       "    .dataframe thead th {\n",
       "        text-align: right;\n",
       "    }\n",
       "</style>\n",
       "<table border=\"1\" class=\"dataframe\">\n",
       "  <thead>\n",
       "    <tr style=\"text-align: right;\">\n",
       "      <th>platform</th>\n",
       "      <th>3DS</th>\n",
       "      <th>PC</th>\n",
       "      <th>PS3</th>\n",
       "      <th>PS4</th>\n",
       "      <th>PSP</th>\n",
       "      <th>PSV</th>\n",
       "      <th>Wii</th>\n",
       "      <th>WiiU</th>\n",
       "      <th>X360</th>\n",
       "      <th>XOne</th>\n",
       "    </tr>\n",
       "    <tr>\n",
       "      <th>year_of_release</th>\n",
       "      <th></th>\n",
       "      <th></th>\n",
       "      <th></th>\n",
       "      <th></th>\n",
       "      <th></th>\n",
       "      <th></th>\n",
       "      <th></th>\n",
       "      <th></th>\n",
       "      <th></th>\n",
       "      <th></th>\n",
       "    </tr>\n",
       "  </thead>\n",
       "  <tbody>\n",
       "    <tr>\n",
       "      <td>2014</td>\n",
       "      <td>12.33</td>\n",
       "      <td>3.51</td>\n",
       "      <td>16.39</td>\n",
       "      <td>34.75</td>\n",
       "      <td>0.0</td>\n",
       "      <td>1.98</td>\n",
       "      <td>1.59</td>\n",
       "      <td>10.50</td>\n",
       "      <td>20.25</td>\n",
       "      <td>30.97</td>\n",
       "    </tr>\n",
       "    <tr>\n",
       "      <td>2015</td>\n",
       "      <td>6.17</td>\n",
       "      <td>2.36</td>\n",
       "      <td>4.99</td>\n",
       "      <td>42.37</td>\n",
       "      <td>0.0</td>\n",
       "      <td>0.39</td>\n",
       "      <td>0.43</td>\n",
       "      <td>6.76</td>\n",
       "      <td>7.36</td>\n",
       "      <td>36.03</td>\n",
       "    </tr>\n",
       "    <tr>\n",
       "      <td>2016</td>\n",
       "      <td>4.14</td>\n",
       "      <td>1.36</td>\n",
       "      <td>0.67</td>\n",
       "      <td>21.49</td>\n",
       "      <td>NaN</td>\n",
       "      <td>0.15</td>\n",
       "      <td>0.06</td>\n",
       "      <td>2.10</td>\n",
       "      <td>0.69</td>\n",
       "      <td>14.27</td>\n",
       "    </tr>\n",
       "  </tbody>\n",
       "</table>\n",
       "</div>"
      ],
      "text/plain": [
       "platform           3DS    PC    PS3    PS4  PSP   PSV   Wii   WiiU   X360  \\\n",
       "year_of_release                                                             \n",
       "2014             12.33  3.51  16.39  34.75  0.0  1.98  1.59  10.50  20.25   \n",
       "2015              6.17  2.36   4.99  42.37  0.0  0.39  0.43   6.76   7.36   \n",
       "2016              4.14  1.36   0.67  21.49  NaN  0.15  0.06   2.10   0.69   \n",
       "\n",
       "platform          XOne  \n",
       "year_of_release         \n",
       "2014             30.97  \n",
       "2015             36.03  \n",
       "2016             14.27  "
      ]
     },
     "metadata": {},
     "output_type": "display_data"
    },
    {
     "data": {
      "text/plain": [
       "'Самые популярные платформы в Северной Америке:'"
      ]
     },
     "metadata": {},
     "output_type": "display_data"
    },
    {
     "data": {
      "text/plain": [
       "Index(['PS3', '3DS', 'X360', 'XOne', 'PS4'], dtype='object', name='platform')"
      ]
     },
     "metadata": {},
     "output_type": "display_data"
    },
    {
     "name": "stderr",
     "output_type": "stream",
     "text": [
      "/opt/conda/lib/python3.7/site-packages/numpy/core/_asarray.py:83: VisibleDeprecationWarning: Creating an ndarray from ragged nested sequences (which is a list-or-tuple of lists-or-tuples-or ndarrays with different lengths or shapes) is deprecated. If you meant to do this, you must specify 'dtype=object' when creating the ndarray\n",
      "  return array(a, dtype, copy=False, order=order)\n"
     ]
    },
    {
     "data": {
      "image/png": "[encoded data removed]",
      "text/plain": [
       "<Figure size 720x720 with 1 Axes>"
      ]
     },
     "metadata": {
      "needs_background": "light"
     },
     "output_type": "display_data"
    }
   ],
   "source": [
    "#посмотрим на продажи в Сев.Америке в актуальный период\n",
    "data_NA = data.query('year_of_release>2013').pivot_table(index=['year_of_release'], columns='platform', values='na_sales', aggfunc='sum')\n",
    "display(data_NA)\n",
    "\n",
    "#посчитаем топ-5 платформ в Сев.Америке в актуальный период\n",
    "top_5_NA = data.query('year_of_release>2013').groupby('platform').agg({'na_sales': 'sum'}).sort_values(by = 'na_sales').tail(5).index\n",
    "display('Самые популярные платформы в Северной Америке:', top_5_NA)\n",
    "\n",
    "#для бОльшей наглядности и информативности по медиане построим боксплот\n",
    "data_NA.boxplot(figsize=(10,10))\n",
    "plt.xlabel('platform')\n",
    "plt.ylabel('na_sales')\n",
    "plt.title('Диаграмма размаха для платформ в Сев.Америке в актуальный период')\n",
    "plt.show()"
   ]
  },
  {
   "cell_type": "code",
   "execution_count": 33,
   "metadata": {},
   "outputs": [
    {
     "data": {
      "text/html": [
       "<div>\n",
       "<style scoped>\n",
       "    .dataframe tbody tr th:only-of-type {\n",
       "        vertical-align: middle;\n",
       "    }\n",
       "\n",
       "    .dataframe tbody tr th {\n",
       "        vertical-align: top;\n",
       "    }\n",
       "\n",
       "    .dataframe thead th {\n",
       "        text-align: right;\n",
       "    }\n",
       "</style>\n",
       "<table border=\"1\" class=\"dataframe\">\n",
       "  <thead>\n",
       "    <tr style=\"text-align: right;\">\n",
       "      <th>platform</th>\n",
       "      <th>3DS</th>\n",
       "      <th>PC</th>\n",
       "      <th>PS3</th>\n",
       "      <th>PS4</th>\n",
       "      <th>PSP</th>\n",
       "      <th>PSV</th>\n",
       "      <th>Wii</th>\n",
       "      <th>WiiU</th>\n",
       "      <th>X360</th>\n",
       "      <th>XOne</th>\n",
       "    </tr>\n",
       "    <tr>\n",
       "      <th>year_of_release</th>\n",
       "      <th></th>\n",
       "      <th></th>\n",
       "      <th></th>\n",
       "      <th></th>\n",
       "      <th></th>\n",
       "      <th></th>\n",
       "      <th></th>\n",
       "      <th></th>\n",
       "      <th></th>\n",
       "      <th></th>\n",
       "    </tr>\n",
       "  </thead>\n",
       "  <tbody>\n",
       "    <tr>\n",
       "      <td>2014</td>\n",
       "      <td>8.73</td>\n",
       "      <td>8.87</td>\n",
       "      <td>18.24</td>\n",
       "      <td>46.50</td>\n",
       "      <td>0.0</td>\n",
       "      <td>2.45</td>\n",
       "      <td>1.86</td>\n",
       "      <td>6.66</td>\n",
       "      <td>11.28</td>\n",
       "      <td>18.15</td>\n",
       "    </tr>\n",
       "    <tr>\n",
       "      <td>2015</td>\n",
       "      <td>5.06</td>\n",
       "      <td>5.57</td>\n",
       "      <td>6.04</td>\n",
       "      <td>51.76</td>\n",
       "      <td>0.0</td>\n",
       "      <td>0.69</td>\n",
       "      <td>0.62</td>\n",
       "      <td>5.01</td>\n",
       "      <td>3.50</td>\n",
       "      <td>18.47</td>\n",
       "    </tr>\n",
       "    <tr>\n",
       "      <td>2016</td>\n",
       "      <td>2.33</td>\n",
       "      <td>3.53</td>\n",
       "      <td>1.26</td>\n",
       "      <td>31.78</td>\n",
       "      <td>NaN</td>\n",
       "      <td>0.39</td>\n",
       "      <td>0.11</td>\n",
       "      <td>1.48</td>\n",
       "      <td>0.71</td>\n",
       "      <td>9.63</td>\n",
       "    </tr>\n",
       "  </tbody>\n",
       "</table>\n",
       "</div>"
      ],
      "text/plain": [
       "platform          3DS    PC    PS3    PS4  PSP   PSV   Wii  WiiU   X360   XOne\n",
       "year_of_release                                                               \n",
       "2014             8.73  8.87  18.24  46.50  0.0  2.45  1.86  6.66  11.28  18.15\n",
       "2015             5.06  5.57   6.04  51.76  0.0  0.69  0.62  5.01   3.50  18.47\n",
       "2016             2.33  3.53   1.26  31.78  NaN  0.39  0.11  1.48   0.71   9.63"
      ]
     },
     "metadata": {},
     "output_type": "display_data"
    },
    {
     "data": {
      "text/plain": [
       "'Самые популярные платформы в Европе:'"
      ]
     },
     "metadata": {},
     "output_type": "display_data"
    },
    {
     "data": {
      "text/plain": [
       "Index(['3DS', 'PC', 'PS3', 'XOne', 'PS4'], dtype='object', name='platform')"
      ]
     },
     "metadata": {},
     "output_type": "display_data"
    },
    {
     "name": "stderr",
     "output_type": "stream",
     "text": [
      "/opt/conda/lib/python3.7/site-packages/numpy/core/_asarray.py:83: VisibleDeprecationWarning: Creating an ndarray from ragged nested sequences (which is a list-or-tuple of lists-or-tuples-or ndarrays with different lengths or shapes) is deprecated. If you meant to do this, you must specify 'dtype=object' when creating the ndarray\n",
      "  return array(a, dtype, copy=False, order=order)\n"
     ]
    },
    {
     "data": {
      "image/png": "[encoded data removed]",
      "text/plain": [
       "<Figure size 720x720 with 1 Axes>"
      ]
     },
     "metadata": {
      "needs_background": "light"
     },
     "output_type": "display_data"
    }
   ],
   "source": [
    "#посмотрим на продажи в Европе в актуальный период\n",
    "data_EU = data.query('year_of_release>2013').pivot_table(index=['year_of_release'], columns='platform', values='eu_sales', aggfunc='sum')\n",
    "display(data_EU)\n",
    "\n",
    "#посчитаем топ-5 платформ в Европе в актуальный период\n",
    "top_5_EU = data.query('year_of_release>2013').groupby('platform').agg({'eu_sales': 'sum'}).sort_values(by = 'eu_sales').tail(5).index\n",
    "display('Самые популярные платформы в Европе:', top_5_EU)\n",
    "\n",
    "#для бОльшей наглядности и информативности по медиане построим боксплот\n",
    "data_EU.boxplot(figsize=(10,10))\n",
    "plt.xlabel('platform')\n",
    "plt.ylabel('eu_sales')\n",
    "plt.title('Диаграмма размаха для платформ в Европе в актуальный период')\n",
    "plt.show()"
   ]
  },
  {
   "cell_type": "code",
   "execution_count": 34,
   "metadata": {},
   "outputs": [
    {
     "data": {
      "text/html": [
       "<div>\n",
       "<style scoped>\n",
       "    .dataframe tbody tr th:only-of-type {\n",
       "        vertical-align: middle;\n",
       "    }\n",
       "\n",
       "    .dataframe tbody tr th {\n",
       "        vertical-align: top;\n",
       "    }\n",
       "\n",
       "    .dataframe thead th {\n",
       "        text-align: right;\n",
       "    }\n",
       "</style>\n",
       "<table border=\"1\" class=\"dataframe\">\n",
       "  <thead>\n",
       "    <tr style=\"text-align: right;\">\n",
       "      <th>platform</th>\n",
       "      <th>3DS</th>\n",
       "      <th>PC</th>\n",
       "      <th>PS3</th>\n",
       "      <th>PS4</th>\n",
       "      <th>PSP</th>\n",
       "      <th>PSV</th>\n",
       "      <th>Wii</th>\n",
       "      <th>WiiU</th>\n",
       "      <th>X360</th>\n",
       "      <th>XOne</th>\n",
       "    </tr>\n",
       "    <tr>\n",
       "      <th>year_of_release</th>\n",
       "      <th></th>\n",
       "      <th></th>\n",
       "      <th></th>\n",
       "      <th></th>\n",
       "      <th></th>\n",
       "      <th></th>\n",
       "      <th></th>\n",
       "      <th></th>\n",
       "      <th></th>\n",
       "      <th></th>\n",
       "    </tr>\n",
       "  </thead>\n",
       "  <tbody>\n",
       "    <tr>\n",
       "      <td>2014</td>\n",
       "      <td>20.69</td>\n",
       "      <td>0.0</td>\n",
       "      <td>6.25</td>\n",
       "      <td>2.97</td>\n",
       "      <td>0.24</td>\n",
       "      <td>6.13</td>\n",
       "      <td>0.0</td>\n",
       "      <td>3.19</td>\n",
       "      <td>0.08</td>\n",
       "      <td>0.14</td>\n",
       "    </tr>\n",
       "    <tr>\n",
       "      <td>2015</td>\n",
       "      <td>15.52</td>\n",
       "      <td>0.0</td>\n",
       "      <td>3.67</td>\n",
       "      <td>6.31</td>\n",
       "      <td>0.12</td>\n",
       "      <td>4.85</td>\n",
       "      <td>0.0</td>\n",
       "      <td>3.45</td>\n",
       "      <td>0.00</td>\n",
       "      <td>0.17</td>\n",
       "    </tr>\n",
       "    <tr>\n",
       "      <td>2016</td>\n",
       "      <td>8.03</td>\n",
       "      <td>0.0</td>\n",
       "      <td>1.30</td>\n",
       "      <td>5.74</td>\n",
       "      <td>NaN</td>\n",
       "      <td>3.56</td>\n",
       "      <td>0.0</td>\n",
       "      <td>0.67</td>\n",
       "      <td>0.00</td>\n",
       "      <td>0.01</td>\n",
       "    </tr>\n",
       "  </tbody>\n",
       "</table>\n",
       "</div>"
      ],
      "text/plain": [
       "platform           3DS   PC   PS3   PS4   PSP   PSV  Wii  WiiU  X360  XOne\n",
       "year_of_release                                                           \n",
       "2014             20.69  0.0  6.25  2.97  0.24  6.13  0.0  3.19  0.08  0.14\n",
       "2015             15.52  0.0  3.67  6.31  0.12  4.85  0.0  3.45  0.00  0.17\n",
       "2016              8.03  0.0  1.30  5.74   NaN  3.56  0.0  0.67  0.00  0.01"
      ]
     },
     "metadata": {},
     "output_type": "display_data"
    },
    {
     "data": {
      "text/plain": [
       "'Самые популярные платформы в Японии:'"
      ]
     },
     "metadata": {},
     "output_type": "display_data"
    },
    {
     "data": {
      "text/plain": [
       "Index(['WiiU', 'PS3', 'PSV', 'PS4', '3DS'], dtype='object', name='platform')"
      ]
     },
     "metadata": {},
     "output_type": "display_data"
    },
    {
     "name": "stderr",
     "output_type": "stream",
     "text": [
      "/opt/conda/lib/python3.7/site-packages/numpy/core/_asarray.py:83: VisibleDeprecationWarning: Creating an ndarray from ragged nested sequences (which is a list-or-tuple of lists-or-tuples-or ndarrays with different lengths or shapes) is deprecated. If you meant to do this, you must specify 'dtype=object' when creating the ndarray\n",
      "  return array(a, dtype, copy=False, order=order)\n"
     ]
    },
    {
     "data": {
      "image/png": "[encoded data removed]",
      "text/plain": [
       "<Figure size 720x720 with 1 Axes>"
      ]
     },
     "metadata": {
      "needs_background": "light"
     },
     "output_type": "display_data"
    }
   ],
   "source": [
    "#посмотрим на продажи в Японии в актуальный период\n",
    "data_JP = data.query('year_of_release>2013').pivot_table(index=['year_of_release'], columns='platform', values='jp_sales', aggfunc='sum')\n",
    "display(data_JP)\n",
    "\n",
    "#посчитаем топ-5 платформ в Японии в актуальный период\n",
    "top_5_JP = data.query('year_of_release>2013').groupby('platform').agg({'jp_sales': 'sum'}).sort_values(by = 'jp_sales').tail(5).index\n",
    "display('Самые популярные платформы в Японии:', top_5_JP)\n",
    "\n",
    "#для бОльшей наглядности и информативности по медиане построим боксплот\n",
    "data_JP.boxplot(figsize=(10,10))\n",
    "plt.xlabel('platform')\n",
    "plt.ylabel('jp_sales')\n",
    "plt.title('Диаграмма размаха для платформ в Японии в актуальный период')\n",
    "plt.show()"
   ]
  },
  {
   "cell_type": "markdown",
   "metadata": {},
   "source": [
    "Самые популярные платформы в Северной Америке: 'PS3', '3DS', 'X360', 'XOne', 'PS4'.\n",
    "\n",
    "Самые популярные платформы в Европе: '3DS', 'PC', 'PS3', 'XOne', 'PS4'.\n",
    "\n",
    "Самые популярные платформы в Японии: 'WiiU', 'PS3', 'PSV', 'PS4', '3DS'.\n",
    "\n",
    "PS4 - лидер на североамериканском и европейском рынках (его ящик с усами улетел далеко ввысь к 40-50 млн проданных копий), на втором месте XOne. А японцы любят 3DS. Различия в продажах связаны, в первую очередь, с огромной разницей в численности населения между регионами. А во-вторых, возможно, с тем, что японцы предпочитают портативные варианты игр, какой является 3DS, в отличие от американцев и европейцев, которым нужен полный формат."
   ]
  },
  {
   "cell_type": "code",
   "execution_count": 35,
   "metadata": {},
   "outputs": [],
   "source": [
    "#sns.barplot(data=top_5_NA, x='platform', y='na_sales', label='na_sales', ax = ax1)\n",
    "#sns.barplot(data=top_5_EU, x='platform', y='eu_sales', label='eu_sales', ax = ax2)\n",
    "#sns.barplot(data=top_5_JP, x='platform', y='jp_sales', label='jp_sales', ax = ax3)"
   ]
  },
  {
   "cell_type": "markdown",
   "metadata": {},
   "source": [
    "### Жанры по регионам"
   ]
  },
  {
   "cell_type": "code",
   "execution_count": 36,
   "metadata": {},
   "outputs": [
    {
     "data": {
      "text/html": [
       "<div>\n",
       "<style scoped>\n",
       "    .dataframe tbody tr th:only-of-type {\n",
       "        vertical-align: middle;\n",
       "    }\n",
       "\n",
       "    .dataframe tbody tr th {\n",
       "        vertical-align: top;\n",
       "    }\n",
       "\n",
       "    .dataframe thead th {\n",
       "        text-align: right;\n",
       "    }\n",
       "</style>\n",
       "<table border=\"1\" class=\"dataframe\">\n",
       "  <thead>\n",
       "    <tr style=\"text-align: right;\">\n",
       "      <th>genre</th>\n",
       "      <th>Action</th>\n",
       "      <th>Adventure</th>\n",
       "      <th>Fighting</th>\n",
       "      <th>Misc</th>\n",
       "      <th>Platform</th>\n",
       "      <th>Puzzle</th>\n",
       "      <th>Racing</th>\n",
       "      <th>Role-Playing</th>\n",
       "      <th>Shooter</th>\n",
       "      <th>Simulation</th>\n",
       "      <th>Sports</th>\n",
       "      <th>Strategy</th>\n",
       "    </tr>\n",
       "    <tr>\n",
       "      <th>year_of_release</th>\n",
       "      <th></th>\n",
       "      <th></th>\n",
       "      <th></th>\n",
       "      <th></th>\n",
       "      <th></th>\n",
       "      <th></th>\n",
       "      <th></th>\n",
       "      <th></th>\n",
       "      <th></th>\n",
       "      <th></th>\n",
       "      <th></th>\n",
       "      <th></th>\n",
       "    </tr>\n",
       "  </thead>\n",
       "  <tbody>\n",
       "    <tr>\n",
       "      <td>2014</td>\n",
       "      <td>38.85</td>\n",
       "      <td>1.80</td>\n",
       "      <td>6.89</td>\n",
       "      <td>9.47</td>\n",
       "      <td>3.01</td>\n",
       "      <td>0.59</td>\n",
       "      <td>5.92</td>\n",
       "      <td>13.65</td>\n",
       "      <td>30.84</td>\n",
       "      <td>1.27</td>\n",
       "      <td>19.82</td>\n",
       "      <td>0.16</td>\n",
       "    </tr>\n",
       "    <tr>\n",
       "      <td>2015</td>\n",
       "      <td>24.39</td>\n",
       "      <td>2.89</td>\n",
       "      <td>3.70</td>\n",
       "      <td>4.82</td>\n",
       "      <td>2.49</td>\n",
       "      <td>0.06</td>\n",
       "      <td>2.09</td>\n",
       "      <td>13.93</td>\n",
       "      <td>31.94</td>\n",
       "      <td>1.20</td>\n",
       "      <td>18.77</td>\n",
       "      <td>0.58</td>\n",
       "    </tr>\n",
       "    <tr>\n",
       "      <td>2016</td>\n",
       "      <td>9.29</td>\n",
       "      <td>0.95</td>\n",
       "      <td>1.84</td>\n",
       "      <td>0.76</td>\n",
       "      <td>1.29</td>\n",
       "      <td>0.00</td>\n",
       "      <td>0.73</td>\n",
       "      <td>5.89</td>\n",
       "      <td>16.24</td>\n",
       "      <td>0.16</td>\n",
       "      <td>7.54</td>\n",
       "      <td>0.24</td>\n",
       "    </tr>\n",
       "  </tbody>\n",
       "</table>\n",
       "</div>"
      ],
      "text/plain": [
       "genre            Action  Adventure  Fighting  Misc  Platform  Puzzle  Racing  \\\n",
       "year_of_release                                                                \n",
       "2014              38.85       1.80      6.89  9.47      3.01    0.59    5.92   \n",
       "2015              24.39       2.89      3.70  4.82      2.49    0.06    2.09   \n",
       "2016               9.29       0.95      1.84  0.76      1.29    0.00    0.73   \n",
       "\n",
       "genre            Role-Playing  Shooter  Simulation  Sports  Strategy  \n",
       "year_of_release                                                       \n",
       "2014                    13.65    30.84        1.27   19.82      0.16  \n",
       "2015                    13.93    31.94        1.20   18.77      0.58  \n",
       "2016                     5.89    16.24        0.16    7.54      0.24  "
      ]
     },
     "metadata": {},
     "output_type": "display_data"
    },
    {
     "data": {
      "text/plain": [
       "'Самые популярные жанры в Северной Америке:'"
      ]
     },
     "metadata": {},
     "output_type": "display_data"
    },
    {
     "data": {
      "text/plain": [
       "Index(['Misc', 'Role-Playing', 'Sports', 'Action', 'Shooter'], dtype='object', name='genre')"
      ]
     },
     "metadata": {},
     "output_type": "display_data"
    },
    {
     "data": {
      "image/png": "[encoded data removed]",
      "text/plain": [
       "<Figure size 720x720 with 1 Axes>"
      ]
     },
     "metadata": {
      "needs_background": "light"
     },
     "output_type": "display_data"
    }
   ],
   "source": [
    "#посмотрим на популярные жанры в Сев.Америке в актуальный период\n",
    "genre_NA = data.query('year_of_release>2013').pivot_table(index=['year_of_release'], columns='genre', values='na_sales', aggfunc='sum')\n",
    "display(genre_NA)\n",
    "\n",
    "#посчитаем топ-5 жанров в Сев.Америке в актуальный период\n",
    "top_5_genre_NA = data.query('year_of_release>2013').groupby('genre').agg({'na_sales': 'sum'}).sort_values(by = 'na_sales').tail(5).index\n",
    "display('Самые популярные жанры в Северной Америке:', top_5_genre_NA)\n",
    "\n",
    "#для бОльшей наглядности и информативности по медиане построим боксплот\n",
    "genre_NA.boxplot(figsize=(10,10))\n",
    "plt.xlabel('genre')\n",
    "plt.ylabel('na_sales')\n",
    "plt.title('Диаграмма размаха для жанров в Сев.Америке в актуальный период')\n",
    "plt.show()"
   ]
  },
  {
   "cell_type": "code",
   "execution_count": 37,
   "metadata": {},
   "outputs": [
    {
     "data": {
      "text/html": [
       "<div>\n",
       "<style scoped>\n",
       "    .dataframe tbody tr th:only-of-type {\n",
       "        vertical-align: middle;\n",
       "    }\n",
       "\n",
       "    .dataframe tbody tr th {\n",
       "        vertical-align: top;\n",
       "    }\n",
       "\n",
       "    .dataframe thead th {\n",
       "        text-align: right;\n",
       "    }\n",
       "</style>\n",
       "<table border=\"1\" class=\"dataframe\">\n",
       "  <thead>\n",
       "    <tr style=\"text-align: right;\">\n",
       "      <th>genre</th>\n",
       "      <th>Action</th>\n",
       "      <th>Adventure</th>\n",
       "      <th>Fighting</th>\n",
       "      <th>Misc</th>\n",
       "      <th>Platform</th>\n",
       "      <th>Puzzle</th>\n",
       "      <th>Racing</th>\n",
       "      <th>Role-Playing</th>\n",
       "      <th>Shooter</th>\n",
       "      <th>Simulation</th>\n",
       "      <th>Sports</th>\n",
       "      <th>Strategy</th>\n",
       "    </tr>\n",
       "    <tr>\n",
       "      <th>year_of_release</th>\n",
       "      <th></th>\n",
       "      <th></th>\n",
       "      <th></th>\n",
       "      <th></th>\n",
       "      <th></th>\n",
       "      <th></th>\n",
       "      <th></th>\n",
       "      <th></th>\n",
       "      <th></th>\n",
       "      <th></th>\n",
       "      <th></th>\n",
       "      <th></th>\n",
       "    </tr>\n",
       "  </thead>\n",
       "  <tbody>\n",
       "    <tr>\n",
       "      <td>2014</td>\n",
       "      <td>39.86</td>\n",
       "      <td>1.82</td>\n",
       "      <td>2.97</td>\n",
       "      <td>8.60</td>\n",
       "      <td>3.60</td>\n",
       "      <td>0.39</td>\n",
       "      <td>7.61</td>\n",
       "      <td>10.96</td>\n",
       "      <td>25.24</td>\n",
       "      <td>3.56</td>\n",
       "      <td>17.91</td>\n",
       "      <td>0.22</td>\n",
       "    </tr>\n",
       "    <tr>\n",
       "      <td>2015</td>\n",
       "      <td>24.14</td>\n",
       "      <td>3.35</td>\n",
       "      <td>2.38</td>\n",
       "      <td>3.60</td>\n",
       "      <td>1.81</td>\n",
       "      <td>0.12</td>\n",
       "      <td>4.75</td>\n",
       "      <td>12.93</td>\n",
       "      <td>24.38</td>\n",
       "      <td>2.47</td>\n",
       "      <td>15.81</td>\n",
       "      <td>0.98</td>\n",
       "    </tr>\n",
       "    <tr>\n",
       "      <td>2016</td>\n",
       "      <td>10.68</td>\n",
       "      <td>1.32</td>\n",
       "      <td>1.34</td>\n",
       "      <td>0.66</td>\n",
       "      <td>1.39</td>\n",
       "      <td>0.01</td>\n",
       "      <td>1.77</td>\n",
       "      <td>4.28</td>\n",
       "      <td>15.90</td>\n",
       "      <td>1.27</td>\n",
       "      <td>12.01</td>\n",
       "      <td>0.59</td>\n",
       "    </tr>\n",
       "  </tbody>\n",
       "</table>\n",
       "</div>"
      ],
      "text/plain": [
       "genre            Action  Adventure  Fighting  Misc  Platform  Puzzle  Racing  \\\n",
       "year_of_release                                                                \n",
       "2014              39.86       1.82      2.97  8.60      3.60    0.39    7.61   \n",
       "2015              24.14       3.35      2.38  3.60      1.81    0.12    4.75   \n",
       "2016              10.68       1.32      1.34  0.66      1.39    0.01    1.77   \n",
       "\n",
       "genre            Role-Playing  Shooter  Simulation  Sports  Strategy  \n",
       "year_of_release                                                       \n",
       "2014                    10.96    25.24        3.56   17.91      0.22  \n",
       "2015                    12.93    24.38        2.47   15.81      0.98  \n",
       "2016                     4.28    15.90        1.27   12.01      0.59  "
      ]
     },
     "metadata": {},
     "output_type": "display_data"
    },
    {
     "data": {
      "text/plain": [
       "'Самые популярные жанры в Европе:'"
      ]
     },
     "metadata": {},
     "output_type": "display_data"
    },
    {
     "data": {
      "text/plain": [
       "Index(['Racing', 'Role-Playing', 'Sports', 'Shooter', 'Action'], dtype='object', name='genre')"
      ]
     },
     "metadata": {},
     "output_type": "display_data"
    },
    {
     "data": {
      "image/png": "[encoded data removed]",
      "text/plain": [
       "<Figure size 720x720 with 1 Axes>"
      ]
     },
     "metadata": {
      "needs_background": "light"
     },
     "output_type": "display_data"
    }
   ],
   "source": [
    "#посмотрим на популярные жанры в Европе в актуальный период\n",
    "genre_EU = data.query('year_of_release>2013').pivot_table(index=['year_of_release'], columns='genre', values='eu_sales', aggfunc='sum')\n",
    "display(genre_EU)\n",
    "\n",
    "#посчитаем топ-5 жанров в Сев.Америке в актуальный период\n",
    "top_5_genre_EU = data.query('year_of_release>2013').groupby('genre').agg({'eu_sales': 'sum'}).sort_values(by = 'eu_sales').tail(5).index\n",
    "display('Самые популярные жанры в Европе:', top_5_genre_EU)\n",
    "\n",
    "#для бОльшей наглядности и информативности по медиане построим боксплот\n",
    "genre_EU.boxplot(figsize=(10,10))\n",
    "plt.xlabel('genre')\n",
    "plt.ylabel('eu_sales')\n",
    "plt.title('Диаграмма размаха для жанров в Европе в актуальный период')\n",
    "plt.show()"
   ]
  },
  {
   "cell_type": "code",
   "execution_count": 38,
   "metadata": {},
   "outputs": [
    {
     "data": {
      "text/html": [
       "<div>\n",
       "<style scoped>\n",
       "    .dataframe tbody tr th:only-of-type {\n",
       "        vertical-align: middle;\n",
       "    }\n",
       "\n",
       "    .dataframe tbody tr th {\n",
       "        vertical-align: top;\n",
       "    }\n",
       "\n",
       "    .dataframe thead th {\n",
       "        text-align: right;\n",
       "    }\n",
       "</style>\n",
       "<table border=\"1\" class=\"dataframe\">\n",
       "  <thead>\n",
       "    <tr style=\"text-align: right;\">\n",
       "      <th>genre</th>\n",
       "      <th>Action</th>\n",
       "      <th>Adventure</th>\n",
       "      <th>Fighting</th>\n",
       "      <th>Misc</th>\n",
       "      <th>Platform</th>\n",
       "      <th>Puzzle</th>\n",
       "      <th>Racing</th>\n",
       "      <th>Role-Playing</th>\n",
       "      <th>Shooter</th>\n",
       "      <th>Simulation</th>\n",
       "      <th>Sports</th>\n",
       "      <th>Strategy</th>\n",
       "    </tr>\n",
       "    <tr>\n",
       "      <th>year_of_release</th>\n",
       "      <th></th>\n",
       "      <th></th>\n",
       "      <th></th>\n",
       "      <th></th>\n",
       "      <th></th>\n",
       "      <th></th>\n",
       "      <th></th>\n",
       "      <th></th>\n",
       "      <th></th>\n",
       "      <th></th>\n",
       "      <th></th>\n",
       "      <th></th>\n",
       "    </tr>\n",
       "  </thead>\n",
       "  <tbody>\n",
       "    <tr>\n",
       "      <td>2014</td>\n",
       "      <td>6.53</td>\n",
       "      <td>1.38</td>\n",
       "      <td>4.83</td>\n",
       "      <td>2.42</td>\n",
       "      <td>1.27</td>\n",
       "      <td>0.41</td>\n",
       "      <td>1.47</td>\n",
       "      <td>17.75</td>\n",
       "      <td>1.08</td>\n",
       "      <td>0.38</td>\n",
       "      <td>1.61</td>\n",
       "      <td>0.56</td>\n",
       "    </tr>\n",
       "    <tr>\n",
       "      <td>2015</td>\n",
       "      <td>15.98</td>\n",
       "      <td>1.04</td>\n",
       "      <td>0.79</td>\n",
       "      <td>2.15</td>\n",
       "      <td>1.31</td>\n",
       "      <td>0.52</td>\n",
       "      <td>0.28</td>\n",
       "      <td>6.80</td>\n",
       "      <td>2.73</td>\n",
       "      <td>1.60</td>\n",
       "      <td>0.73</td>\n",
       "      <td>0.16</td>\n",
       "    </tr>\n",
       "    <tr>\n",
       "      <td>2016</td>\n",
       "      <td>7.07</td>\n",
       "      <td>1.18</td>\n",
       "      <td>0.75</td>\n",
       "      <td>1.04</td>\n",
       "      <td>0.11</td>\n",
       "      <td>0.00</td>\n",
       "      <td>0.01</td>\n",
       "      <td>6.61</td>\n",
       "      <td>1.06</td>\n",
       "      <td>0.33</td>\n",
       "      <td>0.92</td>\n",
       "      <td>0.23</td>\n",
       "    </tr>\n",
       "  </tbody>\n",
       "</table>\n",
       "</div>"
      ],
      "text/plain": [
       "genre            Action  Adventure  Fighting  Misc  Platform  Puzzle  Racing  \\\n",
       "year_of_release                                                                \n",
       "2014               6.53       1.38      4.83  2.42      1.27    0.41    1.47   \n",
       "2015              15.98       1.04      0.79  2.15      1.31    0.52    0.28   \n",
       "2016               7.07       1.18      0.75  1.04      0.11    0.00    0.01   \n",
       "\n",
       "genre            Role-Playing  Shooter  Simulation  Sports  Strategy  \n",
       "year_of_release                                                       \n",
       "2014                    17.75     1.08        0.38    1.61      0.56  \n",
       "2015                     6.80     2.73        1.60    0.73      0.16  \n",
       "2016                     6.61     1.06        0.33    0.92      0.23  "
      ]
     },
     "metadata": {},
     "output_type": "display_data"
    },
    {
     "data": {
      "text/plain": [
       "'Самые популярные жанры в Японии:'"
      ]
     },
     "metadata": {},
     "output_type": "display_data"
    },
    {
     "data": {
      "text/plain": [
       "Index(['Shooter', 'Misc', 'Fighting', 'Action', 'Role-Playing'], dtype='object', name='genre')"
      ]
     },
     "metadata": {},
     "output_type": "display_data"
    },
    {
     "data": {
      "image/png": "[encoded data removed]",
      "text/plain": [
       "<Figure size 720x720 with 1 Axes>"
      ]
     },
     "metadata": {
      "needs_background": "light"
     },
     "output_type": "display_data"
    }
   ],
   "source": [
    "#посмотрим на популярные жанры в Японии в актуальный период\n",
    "genre_JP = data.query('year_of_release>2013').pivot_table(index=['year_of_release'], columns='genre', values='jp_sales', aggfunc='sum')\n",
    "display(genre_JP)\n",
    "\n",
    "#посчитаем топ-5 жанров в Японии в актуальный период\n",
    "top_5_genre_EU = data.query('year_of_release>2013').groupby('genre').agg({'jp_sales': 'sum'}).sort_values(by = 'jp_sales').tail(5).index\n",
    "display('Самые популярные жанры в Японии:', top_5_genre_EU)\n",
    "\n",
    "#для бОльшей наглядности и информативности по медиане построим боксплот\n",
    "genre_JP.boxplot(figsize=(10,10))\n",
    "plt.xlabel('genre')\n",
    "plt.ylabel('jp_sales')\n",
    "plt.title('Диаграмма размаха для жанров в Японии в актуальный период')\n",
    "plt.show()"
   ]
  },
  {
   "cell_type": "markdown",
   "metadata": {},
   "source": [
    "Самые популярные жанры в Северной Америке: 'Misc', 'Role-Playing', 'Sports', 'Action', 'Shooter'.\n",
    "\n",
    "Самые популярные жанры в Европе: 'Racing', 'Role-Playing', 'Sports', 'Shooter', 'Action'.\n",
    "\n",
    "Самые популярные жанры в Японии: 'Shooter', 'Misc', 'Fighting', 'Action', 'Role-Playing'.\n",
    "\n",
    "Sports', 'Action', 'Shooter' - преобладают в Европе и Сев.Америке. А Япония снова отличается в предпочтениях: у них самый популярный жанр Role-Playing. Полагаю, что разница связана с различием в менталитете, традициях, структуре населения."
   ]
  },
  {
   "cell_type": "markdown",
   "metadata": {},
   "source": [
    "### Влияние ли рейтинга ESRB на продажи в отдельном регионе"
   ]
  },
  {
   "cell_type": "code",
   "execution_count": 39,
   "metadata": {},
   "outputs": [
    {
     "data": {
      "text/html": [
       "<div>\n",
       "<style scoped>\n",
       "    .dataframe tbody tr th:only-of-type {\n",
       "        vertical-align: middle;\n",
       "    }\n",
       "\n",
       "    .dataframe tbody tr th {\n",
       "        vertical-align: top;\n",
       "    }\n",
       "\n",
       "    .dataframe thead th {\n",
       "        text-align: right;\n",
       "    }\n",
       "</style>\n",
       "<table border=\"1\" class=\"dataframe\">\n",
       "  <thead>\n",
       "    <tr style=\"text-align: right;\">\n",
       "      <th></th>\n",
       "      <th>total_sales</th>\n",
       "    </tr>\n",
       "    <tr>\n",
       "      <th>rating</th>\n",
       "      <th></th>\n",
       "    </tr>\n",
       "  </thead>\n",
       "  <tbody>\n",
       "    <tr>\n",
       "      <td>AO</td>\n",
       "      <td>1.960</td>\n",
       "    </tr>\n",
       "    <tr>\n",
       "      <td>E</td>\n",
       "      <td>0.200</td>\n",
       "    </tr>\n",
       "    <tr>\n",
       "      <td>E10+</td>\n",
       "      <td>0.205</td>\n",
       "    </tr>\n",
       "    <tr>\n",
       "      <td>EC</td>\n",
       "      <td>0.220</td>\n",
       "    </tr>\n",
       "    <tr>\n",
       "      <td>K-A</td>\n",
       "      <td>1.910</td>\n",
       "    </tr>\n",
       "    <tr>\n",
       "      <td>M</td>\n",
       "      <td>0.310</td>\n",
       "    </tr>\n",
       "    <tr>\n",
       "      <td>No Rating</td>\n",
       "      <td>0.100</td>\n",
       "    </tr>\n",
       "    <tr>\n",
       "      <td>RP</td>\n",
       "      <td>0.040</td>\n",
       "    </tr>\n",
       "    <tr>\n",
       "      <td>T</td>\n",
       "      <td>0.200</td>\n",
       "    </tr>\n",
       "  </tbody>\n",
       "</table>\n",
       "</div>"
      ],
      "text/plain": [
       "           total_sales\n",
       "rating                \n",
       "AO               1.960\n",
       "E                0.200\n",
       "E10+             0.205\n",
       "EC               0.220\n",
       "K-A              1.910\n",
       "M                0.310\n",
       "No Rating        0.100\n",
       "RP               0.040\n",
       "T                0.200"
      ]
     },
     "metadata": {},
     "output_type": "display_data"
    },
    {
     "data": {
      "text/plain": [
       "<matplotlib.axes._subplots.AxesSubplot at 0x7fc5a31cf3d0>"
      ]
     },
     "execution_count": 39,
     "metadata": {},
     "output_type": "execute_result"
    },
    {
     "data": {
      "image/png": "[encoded data removed]",
      "text/plain": [
       "<Figure size 432x288 with 1 Axes>"
      ]
     },
     "metadata": {
      "needs_background": "light"
     },
     "output_type": "display_data"
    }
   ],
   "source": [
    "#сначала посмотрим в целом на рейтинги по всему датасету за период с 1994 по 2016\n",
    "report = data.groupby('rating').agg({'total_sales': 'median'})\n",
    "display(report)\n",
    "report.plot(kind = 'bar')"
   ]
  },
  {
   "cell_type": "markdown",
   "metadata": {},
   "source": [
    "(AO) Adults Only 18+ - имеет наибольшие продажи за период с 1994 по 2016 годы.\n",
    "\n",
    "Также (K–A) Kids to Adults - нравятся и детям, и взрослым. Этот рейтинг использовался с 1994 по 1998 год, прежде чем он был заменен рейтингом для всех (E)."
   ]
  },
  {
   "cell_type": "code",
   "execution_count": 40,
   "metadata": {},
   "outputs": [
    {
     "data": {
      "text/html": [
       "<div>\n",
       "<style scoped>\n",
       "    .dataframe tbody tr th:only-of-type {\n",
       "        vertical-align: middle;\n",
       "    }\n",
       "\n",
       "    .dataframe tbody tr th {\n",
       "        vertical-align: top;\n",
       "    }\n",
       "\n",
       "    .dataframe thead th {\n",
       "        text-align: right;\n",
       "    }\n",
       "</style>\n",
       "<table border=\"1\" class=\"dataframe\">\n",
       "  <thead>\n",
       "    <tr style=\"text-align: right;\">\n",
       "      <th></th>\n",
       "      <th>na_sales</th>\n",
       "    </tr>\n",
       "    <tr>\n",
       "      <th>rating</th>\n",
       "      <th></th>\n",
       "    </tr>\n",
       "  </thead>\n",
       "  <tbody>\n",
       "    <tr>\n",
       "      <td>E</td>\n",
       "      <td>0.05</td>\n",
       "    </tr>\n",
       "    <tr>\n",
       "      <td>E10+</td>\n",
       "      <td>0.10</td>\n",
       "    </tr>\n",
       "    <tr>\n",
       "      <td>M</td>\n",
       "      <td>0.12</td>\n",
       "    </tr>\n",
       "    <tr>\n",
       "      <td>No Rating</td>\n",
       "      <td>0.00</td>\n",
       "    </tr>\n",
       "    <tr>\n",
       "      <td>T</td>\n",
       "      <td>0.03</td>\n",
       "    </tr>\n",
       "  </tbody>\n",
       "</table>\n",
       "</div>"
      ],
      "text/plain": [
       "           na_sales\n",
       "rating             \n",
       "E              0.05\n",
       "E10+           0.10\n",
       "M              0.12\n",
       "No Rating      0.00\n",
       "T              0.03"
      ]
     },
     "metadata": {},
     "output_type": "display_data"
    },
    {
     "data": {
      "text/plain": [
       "<matplotlib.axes._subplots.AxesSubplot at 0x7fc5a3045d50>"
      ]
     },
     "execution_count": 40,
     "metadata": {},
     "output_type": "execute_result"
    },
    {
     "data": {
      "image/png": "[encoded data removed]",
      "text/plain": [
       "<Figure size 432x288 with 1 Axes>"
      ]
     },
     "metadata": {
      "needs_background": "light"
     },
     "output_type": "display_data"
    }
   ],
   "source": [
    "#теперь посмотрим на рейтинги по Сев.Америке за период с 2014 по 2016\n",
    "report_NA = data.query('year_of_release>2013').groupby('rating').agg({'na_sales': 'median'})\n",
    "display(report_NA)\n",
    "report_NA.plot(kind = 'bar')"
   ]
  },
  {
   "cell_type": "markdown",
   "metadata": {},
   "source": [
    "Наиболее популярны игры для (M) Mature 17+ - подходит для лиц в возрасте 17 лет и старше. Также (E10+) Everyone 10+ - для детей от 10 лет и старше."
   ]
  },
  {
   "cell_type": "code",
   "execution_count": 41,
   "metadata": {},
   "outputs": [
    {
     "data": {
      "text/html": [
       "<div>\n",
       "<style scoped>\n",
       "    .dataframe tbody tr th:only-of-type {\n",
       "        vertical-align: middle;\n",
       "    }\n",
       "\n",
       "    .dataframe tbody tr th {\n",
       "        vertical-align: top;\n",
       "    }\n",
       "\n",
       "    .dataframe thead th {\n",
       "        text-align: right;\n",
       "    }\n",
       "</style>\n",
       "<table border=\"1\" class=\"dataframe\">\n",
       "  <thead>\n",
       "    <tr style=\"text-align: right;\">\n",
       "      <th></th>\n",
       "      <th>eu_sales</th>\n",
       "    </tr>\n",
       "    <tr>\n",
       "      <th>rating</th>\n",
       "      <th></th>\n",
       "    </tr>\n",
       "  </thead>\n",
       "  <tbody>\n",
       "    <tr>\n",
       "      <td>E</td>\n",
       "      <td>0.05</td>\n",
       "    </tr>\n",
       "    <tr>\n",
       "      <td>E10+</td>\n",
       "      <td>0.09</td>\n",
       "    </tr>\n",
       "    <tr>\n",
       "      <td>M</td>\n",
       "      <td>0.12</td>\n",
       "    </tr>\n",
       "    <tr>\n",
       "      <td>No Rating</td>\n",
       "      <td>0.00</td>\n",
       "    </tr>\n",
       "    <tr>\n",
       "      <td>T</td>\n",
       "      <td>0.04</td>\n",
       "    </tr>\n",
       "  </tbody>\n",
       "</table>\n",
       "</div>"
      ],
      "text/plain": [
       "           eu_sales\n",
       "rating             \n",
       "E              0.05\n",
       "E10+           0.09\n",
       "M              0.12\n",
       "No Rating      0.00\n",
       "T              0.04"
      ]
     },
     "metadata": {},
     "output_type": "display_data"
    },
    {
     "data": {
      "text/plain": [
       "<matplotlib.axes._subplots.AxesSubplot at 0x7fc5a2fcd550>"
      ]
     },
     "execution_count": 41,
     "metadata": {},
     "output_type": "execute_result"
    },
    {
     "data": {
      "image/png": "[encoded data removed]",
      "text/plain": [
       "<Figure size 432x288 with 1 Axes>"
      ]
     },
     "metadata": {
      "needs_background": "light"
     },
     "output_type": "display_data"
    }
   ],
   "source": [
    "#теперь посмотрим на рейтинги по Европе за период с 2014 по 2016\n",
    "report_EU = data.query('year_of_release>2013').groupby('rating').agg({'eu_sales': 'median'})\n",
    "display(report_EU)\n",
    "report_EU.plot(kind = 'bar')"
   ]
  },
  {
   "cell_type": "markdown",
   "metadata": {},
   "source": [
    "В Европе картина схожа с североамериканской."
   ]
  },
  {
   "cell_type": "code",
   "execution_count": 42,
   "metadata": {},
   "outputs": [
    {
     "data": {
      "text/html": [
       "<div>\n",
       "<style scoped>\n",
       "    .dataframe tbody tr th:only-of-type {\n",
       "        vertical-align: middle;\n",
       "    }\n",
       "\n",
       "    .dataframe tbody tr th {\n",
       "        vertical-align: top;\n",
       "    }\n",
       "\n",
       "    .dataframe thead th {\n",
       "        text-align: right;\n",
       "    }\n",
       "</style>\n",
       "<table border=\"1\" class=\"dataframe\">\n",
       "  <thead>\n",
       "    <tr style=\"text-align: right;\">\n",
       "      <th></th>\n",
       "      <th>jp_sales</th>\n",
       "    </tr>\n",
       "    <tr>\n",
       "      <th>rating</th>\n",
       "      <th></th>\n",
       "    </tr>\n",
       "  </thead>\n",
       "  <tbody>\n",
       "    <tr>\n",
       "      <td>E</td>\n",
       "      <td>0.00</td>\n",
       "    </tr>\n",
       "    <tr>\n",
       "      <td>E10+</td>\n",
       "      <td>0.00</td>\n",
       "    </tr>\n",
       "    <tr>\n",
       "      <td>M</td>\n",
       "      <td>0.00</td>\n",
       "    </tr>\n",
       "    <tr>\n",
       "      <td>No Rating</td>\n",
       "      <td>0.02</td>\n",
       "    </tr>\n",
       "    <tr>\n",
       "      <td>T</td>\n",
       "      <td>0.01</td>\n",
       "    </tr>\n",
       "  </tbody>\n",
       "</table>\n",
       "</div>"
      ],
      "text/plain": [
       "           jp_sales\n",
       "rating             \n",
       "E              0.00\n",
       "E10+           0.00\n",
       "M              0.00\n",
       "No Rating      0.02\n",
       "T              0.01"
      ]
     },
     "metadata": {},
     "output_type": "display_data"
    },
    {
     "data": {
      "text/plain": [
       "<matplotlib.axes._subplots.AxesSubplot at 0x7fc5a31cfa50>"
      ]
     },
     "execution_count": 42,
     "metadata": {},
     "output_type": "execute_result"
    },
    {
     "data": {
      "image/png": "[encoded data removed]",
      "text/plain": [
       "<Figure size 432x288 with 1 Axes>"
      ]
     },
     "metadata": {
      "needs_background": "light"
     },
     "output_type": "display_data"
    }
   ],
   "source": [
    "#теперь посмотрим на рейтинги по Японии за период с 2014 по 2016\n",
    "report_JP = data.query('year_of_release>2013').groupby('rating').agg({'jp_sales': 'median'})\n",
    "display(report_JP)\n",
    "report_JP.plot(kind = 'bar')"
   ]
  },
  {
   "cell_type": "markdown",
   "metadata": {},
   "source": [
    "По Японии медианные продажи очень низкие. Плюс то, что много игр падают в No Rating намекает на то, что, возможно, у японцев есть какая-то своя система рейтингов. Также видим, что  известный нам рейтинг (T) Teen - для детей от 13 лет и старше - популярен в Японии.\n",
    "\n",
    "Таким образом, рейтинг влияет на продажи. По Европе и Сев.Америке одинаково популярны игры с рейтингом (M) и (E10+). Полагаю, что и в Японии примерно то же самое. Взрослая и платёжеспособная аудитория - таргет для производителей игр."
   ]
  },
  {
   "cell_type": "markdown",
   "metadata": {},
   "source": [
    "## Проверка гипотез"
   ]
  },
  {
   "cell_type": "markdown",
   "metadata": {},
   "source": [
    "Будем проверять такие гипотезы:\n",
    "\n",
    "- Средние пользовательские рейтинги платформ Xbox One и PC одинаковые;\n",
    "\n",
    "- Средние пользовательские рейтинги жанров Action (англ. «действие», экшенигры) и Sports (англ. «спортивные соревнования») разные.\n",
    "\n",
    "Также будет пояснено, как сформулирована нулевая и альтернативная гипотезы и\n",
    "какой критерий применён для проверки гипотез и почему.\n",
    "\n",
    "Нулевая гипотеза всегда строится для условиях равенства. Поэтому:\n",
    "\n",
    " **Н0**: Средние пользовательские рейтинги платформ Xbox One и PC одинаковые.\n",
    "\n",
    " **Н1**: Средние пользовательские рейтинги платформ Xbox One и PC отличаются.\n",
    "\n",
    "Будет использован критерий alpha = 0,05, это общепринятое пороговое значение, будем использовать его."
   ]
  },
  {
   "cell_type": "code",
   "execution_count": 43,
   "metadata": {},
   "outputs": [
    {
     "name": "stderr",
     "output_type": "stream",
     "text": [
      "/opt/conda/lib/python3.7/site-packages/ipykernel_launcher.py:3: UserWarning: Boolean Series key will be reindexed to match DataFrame index.\n",
      "  This is separate from the ipykernel package so we can avoid doing imports until\n",
      "/opt/conda/lib/python3.7/site-packages/ipykernel_launcher.py:4: UserWarning: Boolean Series key will be reindexed to match DataFrame index.\n",
      "  after removing the cwd from sys.path.\n"
     ]
    }
   ],
   "source": [
    "#data.info()\n",
    "#сформируем соответствующий срез\n",
    "pc_user_score = data.query('year_of_release>2013')[data['platform'] == 'PC']\n",
    "xone_user_score = data.query('year_of_release>2013')[data['platform'] == 'XOne']\n",
    "\n",
    "#display(pc_user_score.isna().sum())\n",
    "#display(xone_user_score.isna().sum())\n",
    "\n",
    "#удалим NAN\n",
    "pc_user_score = pc_user_score.dropna(subset=['critic_score', 'user_score'])\n",
    "xone_user_score = xone_user_score.dropna(subset=['critic_score', 'user_score'])\n",
    "\n",
    "#display(pc_user_score.isna().sum())\n",
    "#display(xone_user_score.isna().sum())"
   ]
  },
  {
   "cell_type": "code",
   "execution_count": 44,
   "metadata": {},
   "outputs": [
    {
     "name": "stdout",
     "output_type": "stream",
     "text": [
      "p-значение:  0.1403785186826978\n",
      "Не получилось отвергнуть нулевую гипотезу\n"
     ]
    }
   ],
   "source": [
    "alpha = 0.05\n",
    "\n",
    "results = st.ttest_ind(\n",
    "    pc_user_score['user_score'], \n",
    "    xone_user_score['user_score'], equal_var = False)\n",
    "\n",
    "print('p-значение: ', results.pvalue)\n",
    " \n",
    "if results.pvalue < alpha:\n",
    "    print(\"Отвергаем нулевую гипотезу\")\n",
    "else:\n",
    "    print(\"Не получилось отвергнуть нулевую гипотезу\") \n"
   ]
  },
  {
   "cell_type": "markdown",
   "metadata": {},
   "source": [
    "p-значение меньше критического уровня стат.значимости , значит *Средние пользовательские рейтинги платформ Xbox One и PC одинаковые*."
   ]
  },
  {
   "cell_type": "code",
   "execution_count": 45,
   "metadata": {},
   "outputs": [
    {
     "data": {
      "text/plain": [
       "'Средний пользовательский рейтинг Xbox One в актуальный период:'"
      ]
     },
     "metadata": {},
     "output_type": "display_data"
    },
    {
     "data": {
      "text/plain": [
       "6.594545454545454"
      ]
     },
     "metadata": {},
     "output_type": "display_data"
    },
    {
     "data": {
      "text/plain": [
       "'Средний пользовательский рейтинг PC в актуальный период:'"
      ]
     },
     "metadata": {},
     "output_type": "display_data"
    },
    {
     "data": {
      "text/plain": [
       "6.298360655737704"
      ]
     },
     "metadata": {},
     "output_type": "display_data"
    }
   ],
   "source": [
    "#посмотрим на средние значения\n",
    "display('Средний пользовательский рейтинг Xbox One в актуальный период:', data.query('platform == \"XOne\" and year_of_release>2013')['user_score'].mean())\n",
    "display('Средний пользовательский рейтинг PC в актуальный период:', data.query('platform == \"PC\" and year_of_release>2013')['user_score'].mean())"
   ]
  },
  {
   "cell_type": "markdown",
   "metadata": {},
   "source": [
    "Почти одинаковый.\n",
    "\n",
    "Далее проверим:\n",
    "\n",
    "**Н0**: Средние пользовательские рейтинги жанров Action и Sports одинаковые\n",
    "\n",
    "**Н1**: Средние пользовательские рейтинги жанров Action и Sports разные."
   ]
  },
  {
   "cell_type": "code",
   "execution_count": 46,
   "metadata": {},
   "outputs": [
    {
     "name": "stderr",
     "output_type": "stream",
     "text": [
      "/opt/conda/lib/python3.7/site-packages/ipykernel_launcher.py:2: UserWarning: Boolean Series key will be reindexed to match DataFrame index.\n",
      "  \n",
      "/opt/conda/lib/python3.7/site-packages/ipykernel_launcher.py:3: UserWarning: Boolean Series key will be reindexed to match DataFrame index.\n",
      "  This is separate from the ipykernel package so we can avoid doing imports until\n"
     ]
    }
   ],
   "source": [
    "#сформируем соответствующий срез\n",
    "action_user_score = data.query('year_of_release>2013')[data['genre'] == 'Action']\n",
    "sports_user_score = data.query('year_of_release>2013')[data['genre'] == 'Sports']\n",
    "\n",
    "#удалим NAN\n",
    "action_user_score = action_user_score.dropna(subset=['user_score'])\n",
    "sports_user_score = sports_user_score.dropna(subset=['user_score'])\n",
    "\n",
    "#display(action_user_score.isna().sum())\n",
    "#display(sports_user_score.isna().sum())"
   ]
  },
  {
   "cell_type": "code",
   "execution_count": 47,
   "metadata": {},
   "outputs": [
    {
     "name": "stdout",
     "output_type": "stream",
     "text": [
      "p-значение:  1.1825550382644557e-14\n",
      "Отвергаем нулевую гипотезу\n"
     ]
    }
   ],
   "source": [
    "alpha = 0.05\n",
    "\n",
    "results = st.ttest_ind(\n",
    "    action_user_score['user_score'], \n",
    "    sports_user_score['user_score'], equal_var = False)\n",
    "\n",
    "print('p-значение: ', results.pvalue)\n",
    " \n",
    "if results.pvalue < alpha:\n",
    "    print(\"Отвергаем нулевую гипотезу\")\n",
    "else:\n",
    "    print(\"Не получилось отвергнуть нулевую гипотезу\") \n"
   ]
  },
  {
   "cell_type": "markdown",
   "metadata": {},
   "source": [
    "Значит, Средние пользовательские рейтинги жанров Action и Sports отличаются."
   ]
  },
  {
   "cell_type": "code",
   "execution_count": 48,
   "metadata": {},
   "outputs": [
    {
     "data": {
      "text/plain": [
       "'Средний пользовательский рейтинг Action в актуальный период:'"
      ]
     },
     "metadata": {},
     "output_type": "display_data"
    },
    {
     "data": {
      "text/plain": [
       "6.760606060606061"
      ]
     },
     "metadata": {},
     "output_type": "display_data"
    },
    {
     "data": {
      "text/plain": [
       "'Средний пользовательский рейтинг Sports в актуальный период:'"
      ]
     },
     "metadata": {},
     "output_type": "display_data"
    },
    {
     "data": {
      "text/plain": [
       "5.225196850393701"
      ]
     },
     "metadata": {},
     "output_type": "display_data"
    }
   ],
   "source": [
    "#посмотрим на средние значения\n",
    "display('Средний пользовательский рейтинг Action в актуальный период:', data.query('genre == \"Action\" and year_of_release>2013')['user_score'].mean())\n",
    "display('Средний пользовательский рейтинг Sports в актуальный период:', data.query('genre == \"Sports\" and year_of_release>2013')['user_score'].mean())"
   ]
  },
  {
   "cell_type": "markdown",
   "metadata": {},
   "source": [
    "Таким образом, средние пользовательские рейтинги жанров Action и Sports: 6.7 и 5.2 соответственно. Отличаются."
   ]
  },
  {
   "cell_type": "markdown",
   "metadata": {},
   "source": [
    "## Общий вывод"
   ]
  },
  {
   "cell_type": "markdown",
   "metadata": {},
   "source": [
    "Итак, был изучен датафрейм, состоящий из 16715 строк и 11 колонок, содержащий в себе информацию об играх с 1980 по 2016 год. Данные имели региональную характеристику, количественные оценки критиков и пользователей, уровень продаж, присвоенный рейтинг, жанр и дату выпуска.\n",
    "\n",
    "В качестве **предобработки** данных было проведено:\n",
    "\n",
    "- названия столбцов приведены в змеиный регистр,\n",
    "- 269 строк с играми без указания года удалены,\n",
    "- двум играм и двум жанрам были присвоены названия No Name и No Genre, соответственно,\n",
    "- значения TBD (to be determined) заменены на NAN,\n",
    "- строки без рейтинга заменили на заглушку No Rating,\n",
    "посчитаны суммарные продажи во всех регионах путём их сложения и записаны в отдельный столбец.\n",
    "\n",
    "В **исследовательском анализе** выяснилось:\n",
    "\n",
    "- до 1994 года было выпущено мало игр, данные до 1994 года удалены, т.к. не представляют интереса для анализа. Максимальное количество игр за всю историю было в 2008 году;\n",
    "\n",
    "- топ-10 игр по выручке - '3DS', 'PSP', 'GBA', 'PS4', 'PS', 'DS', 'Wii', 'PS3', 'X360', 'PS2';\n",
    "\n",
    "- в среднем жизненный цикл платформы - 6 лет, из которых 3 года она расцветает. Поэтому чтобы построить прогноз на 2017 год, берём данные за 2014, 2015 и 2016 годы;\n",
    "\n",
    "- самые \"жирные\" с точки зрения выручки - PS3, PS3, X360, XOne, но их жизненный цикл закончен. В динамике наиболее перспективные платформы: 3DS, PS3 и , конечно же, PS4 (самая перспективная);\n",
    "\n",
    "- Корреляция оценки критиков с продажами = 0.25. Корреляция оценки пользователей с продажами = 0.09. Оценки пользователей и критиков не являются причиной сверхдоходов;\n",
    "\n",
    "- За весь период Action и Sport самые популярные. А за актуальный период - Action, Role-Playing, Adventure, Sports, Shooter and Misc. То есть произошло некое разнообразие жанров.\n",
    "\n",
    "Далее был создан **портрет пользователя** каждого региона.\n",
    "\n",
    "**Платформы**\n",
    "\n",
    "Самые популярные платформы в Северной Америке: 'PS3', '3DS', 'X360', 'XOne', 'PS4'.\n",
    "\n",
    "Самые популярные платформы в Европе: '3DS', 'PC', 'PS3', 'XOne', 'PS4'.\n",
    "\n",
    "Самые популярные платформы в Японии: 'WiiU', 'PS3', 'PSV', 'PS4', '3DS'.\n",
    "\n",
    "PS4 - лидер на североамериканском и европейском рынках (его ящик с усами улетел далеко ввысь к 40-50 млн проданных копий), на втором месте XOne. А японцы любят 3DS. Различия в продажах связаны, в первую очередь, с огромной разницей в численности населения между регионами. А во-вторых, возможно, с тем, что японцы предпочитают портативные варианты игр, какой является 3DS, в отличие от американцев и европейцев, которым нужен полный формат.\n",
    "\n",
    "**Жанры**\n",
    "\n",
    "Самые популярные жанры в Северной Америке: 'Misc', 'Role-Playing', 'Sports', 'Action', 'Shooter'.\n",
    "\n",
    "Самые популярные жанры в Европе: 'Racing', 'Role-Playing', 'Sports', 'Shooter', 'Action'.\n",
    "\n",
    "Самые популярные жанры в Японии: 'Shooter', 'Misc', 'Fighting', 'Action', 'Role-Playing'.\n",
    "\n",
    "Sports', 'Action', 'Shooter' - преобладают в Европе и Сев.Америке. А Япония снова отличается в предпочтениях: у них самый популярный жанр Role-Playing. Полагаю, что разница связана с различием в менталитете, традициях, структуре населения.\n",
    "\n",
    "Выяснилось, что **рейтинг** влияет на продажи. По Европе и Сев.Америке одинаково популярны игры с рейтингом (M) и (E10+). Полагаю, что и в Японии примерно то же самое. Взрослая и платёжеспособная аудитория - таргет для производителей игр.\n",
    "\n",
    "При проверке **гипотез** стало ясно, что:\n",
    "\n",
    "- Средние пользовательские рейтинги платформ Xbox One и PC одинаковые.\n",
    "- Средние пользовательские рейтинги жанров Action и Sports отличаются.."
   ]
  }
 ],
 "metadata": {
  "ExecuteTimeLog": [
   {
    "duration": 95,
    "start_time": "2022-02-11T15:07:57.653Z"
   },
   {
    "duration": 1452,
    "start_time": "2022-02-11T15:08:52.839Z"
   },
   {
    "duration": 111,
    "start_time": "2022-02-11T15:09:24.584Z"
   },
   {
    "duration": 6,
    "start_time": "2022-02-11T15:10:21.009Z"
   },
   {
    "duration": 8,
    "start_time": "2022-02-11T15:11:41.340Z"
   },
   {
    "duration": 39,
    "start_time": "2022-02-11T15:12:06.264Z"
   },
   {
    "duration": 36,
    "start_time": "2022-02-11T15:12:38.130Z"
   },
   {
    "duration": 11,
    "start_time": "2022-02-11T15:13:09.570Z"
   },
   {
    "duration": 14,
    "start_time": "2022-02-11T15:13:37.448Z"
   },
   {
    "duration": 18,
    "start_time": "2022-02-11T15:14:10.215Z"
   },
   {
    "duration": 13,
    "start_time": "2022-02-11T15:14:34.823Z"
   },
   {
    "duration": 14,
    "start_time": "2022-02-11T15:14:50.748Z"
   },
   {
    "duration": 49,
    "start_time": "2022-02-11T15:15:22.619Z"
   },
   {
    "duration": 628,
    "start_time": "2022-02-11T15:16:40.165Z"
   },
   {
    "duration": 3,
    "start_time": "2022-02-11T15:16:55.078Z"
   },
   {
    "duration": 752,
    "start_time": "2022-02-11T15:17:33.429Z"
   },
   {
    "duration": 19,
    "start_time": "2022-02-11T15:17:51.392Z"
   },
   {
    "duration": 11,
    "start_time": "2022-02-11T15:18:42.040Z"
   },
   {
    "duration": 251,
    "start_time": "2022-02-11T15:19:00.157Z"
   },
   {
    "duration": 297,
    "start_time": "2022-02-11T15:19:11.728Z"
   },
   {
    "duration": 399,
    "start_time": "2022-02-11T15:19:23.264Z"
   },
   {
    "duration": 20,
    "start_time": "2022-02-11T15:19:52.026Z"
   },
   {
    "duration": 726,
    "start_time": "2022-02-11T15:20:32.359Z"
   },
   {
    "duration": 306,
    "start_time": "2022-02-11T15:20:55.945Z"
   },
   {
    "duration": 345,
    "start_time": "2022-02-11T15:21:19.303Z"
   },
   {
    "duration": 253,
    "start_time": "2022-02-11T15:21:40.059Z"
   },
   {
    "duration": 270,
    "start_time": "2022-02-11T15:22:00.312Z"
   },
   {
    "duration": 258,
    "start_time": "2022-02-11T15:22:20.708Z"
   },
   {
    "duration": 665,
    "start_time": "2022-02-11T15:22:45.244Z"
   },
   {
    "duration": 506,
    "start_time": "2022-02-11T15:23:10.872Z"
   },
   {
    "duration": 522,
    "start_time": "2022-02-11T15:48:37.963Z"
   },
   {
    "duration": 1507,
    "start_time": "2022-02-11T15:48:46.601Z"
   },
   {
    "duration": 114,
    "start_time": "2022-02-11T15:48:48.110Z"
   },
   {
    "duration": 20,
    "start_time": "2022-02-11T15:48:48.228Z"
   },
   {
    "duration": 6,
    "start_time": "2022-02-11T15:48:48.250Z"
   },
   {
    "duration": 37,
    "start_time": "2022-02-11T15:48:48.258Z"
   },
   {
    "duration": 71,
    "start_time": "2022-02-11T15:48:48.297Z"
   },
   {
    "duration": 10,
    "start_time": "2022-02-11T15:48:48.370Z"
   },
   {
    "duration": 11,
    "start_time": "2022-02-11T15:48:48.384Z"
   },
   {
    "duration": 58,
    "start_time": "2022-02-11T15:48:48.398Z"
   },
   {
    "duration": 11,
    "start_time": "2022-02-11T15:48:48.459Z"
   },
   {
    "duration": 15,
    "start_time": "2022-02-11T15:48:48.472Z"
   },
   {
    "duration": 85,
    "start_time": "2022-02-11T15:48:48.490Z"
   },
   {
    "duration": 744,
    "start_time": "2022-02-11T15:48:48.578Z"
   },
   {
    "duration": 3,
    "start_time": "2022-02-11T15:48:49.325Z"
   },
   {
    "duration": 38,
    "start_time": "2022-02-11T15:48:49.331Z"
   },
   {
    "duration": 10,
    "start_time": "2022-02-11T15:48:49.372Z"
   },
   {
    "duration": 279,
    "start_time": "2022-02-11T15:48:49.384Z"
   },
   {
    "duration": 283,
    "start_time": "2022-02-11T15:48:49.666Z"
   },
   {
    "duration": 405,
    "start_time": "2022-02-11T15:48:49.952Z"
   },
   {
    "duration": 22,
    "start_time": "2022-02-11T15:48:50.360Z"
   },
   {
    "duration": 640,
    "start_time": "2022-02-11T15:48:50.384Z"
   },
   {
    "duration": 309,
    "start_time": "2022-02-11T15:48:51.027Z"
   },
   {
    "duration": 302,
    "start_time": "2022-02-11T15:48:51.340Z"
   },
   {
    "duration": 353,
    "start_time": "2022-02-11T15:48:51.650Z"
   },
   {
    "duration": 302,
    "start_time": "2022-02-11T15:48:52.005Z"
   },
   {
    "duration": 307,
    "start_time": "2022-02-11T15:48:52.310Z"
   },
   {
    "duration": 715,
    "start_time": "2022-02-11T15:48:52.619Z"
   },
   {
    "duration": 499,
    "start_time": "2022-02-11T15:48:53.337Z"
   },
   {
    "duration": 1464,
    "start_time": "2022-02-11T15:49:56.727Z"
   },
   {
    "duration": 117,
    "start_time": "2022-02-11T15:49:58.194Z"
   },
   {
    "duration": 6,
    "start_time": "2022-02-11T15:49:58.318Z"
   },
   {
    "duration": 23,
    "start_time": "2022-02-11T15:49:58.327Z"
   },
   {
    "duration": 59,
    "start_time": "2022-02-11T15:49:58.353Z"
   },
   {
    "duration": 48,
    "start_time": "2022-02-11T15:49:58.414Z"
   },
   {
    "duration": 12,
    "start_time": "2022-02-11T15:49:58.466Z"
   },
   {
    "duration": 14,
    "start_time": "2022-02-11T15:49:58.481Z"
   },
   {
    "duration": 62,
    "start_time": "2022-02-11T15:49:58.497Z"
   },
   {
    "duration": 15,
    "start_time": "2022-02-11T15:49:58.561Z"
   },
   {
    "duration": 12,
    "start_time": "2022-02-11T15:49:58.578Z"
   },
   {
    "duration": 70,
    "start_time": "2022-02-11T15:49:58.592Z"
   },
   {
    "duration": 609,
    "start_time": "2022-02-11T15:49:58.665Z"
   },
   {
    "duration": 3,
    "start_time": "2022-02-11T15:49:59.276Z"
   },
   {
    "duration": 22,
    "start_time": "2022-02-11T15:49:59.281Z"
   },
   {
    "duration": 9,
    "start_time": "2022-02-11T15:49:59.306Z"
   },
   {
    "duration": 289,
    "start_time": "2022-02-11T15:49:59.317Z"
   },
   {
    "duration": 289,
    "start_time": "2022-02-11T15:49:59.610Z"
   },
   {
    "duration": 409,
    "start_time": "2022-02-11T15:49:59.902Z"
   },
   {
    "duration": 37,
    "start_time": "2022-02-11T15:50:00.313Z"
   },
   {
    "duration": 640,
    "start_time": "2022-02-11T15:50:00.352Z"
   },
   {
    "duration": 331,
    "start_time": "2022-02-11T15:50:00.996Z"
   },
   {
    "duration": 300,
    "start_time": "2022-02-11T15:50:01.330Z"
   },
   {
    "duration": 363,
    "start_time": "2022-02-11T15:50:01.633Z"
   },
   {
    "duration": 473,
    "start_time": "2022-02-11T15:50:01.998Z"
   },
   {
    "duration": 300,
    "start_time": "2022-02-11T15:50:02.473Z"
   },
   {
    "duration": 798,
    "start_time": "2022-02-11T15:50:02.777Z"
   },
   {
    "duration": 568,
    "start_time": "2022-02-11T15:50:03.578Z"
   },
   {
    "duration": 660,
    "start_time": "2022-02-11T15:55:54.853Z"
   },
   {
    "duration": 633,
    "start_time": "2022-02-11T15:56:27.522Z"
   },
   {
    "duration": 691,
    "start_time": "2022-02-11T15:56:48.777Z"
   },
   {
    "duration": 627,
    "start_time": "2022-02-11T15:57:04.050Z"
   },
   {
    "duration": 3,
    "start_time": "2022-02-11T15:57:24.894Z"
   },
   {
    "duration": 281,
    "start_time": "2022-02-11T15:57:49.296Z"
   },
   {
    "duration": 568,
    "start_time": "2022-02-11T15:58:07.097Z"
   },
   {
    "duration": 271,
    "start_time": "2022-02-11T15:58:17.830Z"
   },
   {
    "duration": 376,
    "start_time": "2022-02-11T15:58:52.265Z"
   },
   {
    "duration": 1583,
    "start_time": "2022-02-11T15:59:10.592Z"
   },
   {
    "duration": 172,
    "start_time": "2022-02-11T15:59:12.178Z"
   },
   {
    "duration": 10,
    "start_time": "2022-02-11T15:59:12.354Z"
   },
   {
    "duration": 9,
    "start_time": "2022-02-11T15:59:12.367Z"
   },
   {
    "duration": 81,
    "start_time": "2022-02-11T15:59:12.380Z"
   },
   {
    "duration": 35,
    "start_time": "2022-02-11T15:59:12.464Z"
   },
   {
    "duration": 49,
    "start_time": "2022-02-11T15:59:12.502Z"
   },
   {
    "duration": 12,
    "start_time": "2022-02-11T15:59:12.557Z"
   },
   {
    "duration": 18,
    "start_time": "2022-02-11T15:59:12.571Z"
   },
   {
    "duration": 58,
    "start_time": "2022-02-11T15:59:12.592Z"
   },
   {
    "duration": 14,
    "start_time": "2022-02-11T15:59:12.652Z"
   },
   {
    "duration": 35,
    "start_time": "2022-02-11T15:59:12.668Z"
   },
   {
    "duration": 657,
    "start_time": "2022-02-11T15:59:12.706Z"
   },
   {
    "duration": 4,
    "start_time": "2022-02-11T15:59:13.366Z"
   },
   {
    "duration": 22,
    "start_time": "2022-02-11T15:59:13.373Z"
   },
   {
    "duration": 13,
    "start_time": "2022-02-11T15:59:13.398Z"
   },
   {
    "duration": 287,
    "start_time": "2022-02-11T15:59:13.450Z"
   },
   {
    "duration": 310,
    "start_time": "2022-02-11T15:59:13.740Z"
   },
   {
    "duration": 435,
    "start_time": "2022-02-11T15:59:14.054Z"
   },
   {
    "duration": 24,
    "start_time": "2022-02-11T15:59:14.491Z"
   },
   {
    "duration": 664,
    "start_time": "2022-02-11T15:59:14.517Z"
   },
   {
    "duration": 322,
    "start_time": "2022-02-11T15:59:15.184Z"
   },
   {
    "duration": 309,
    "start_time": "2022-02-11T15:59:15.513Z"
   },
   {
    "duration": 404,
    "start_time": "2022-02-11T15:59:15.826Z"
   },
   {
    "duration": 296,
    "start_time": "2022-02-11T15:59:16.233Z"
   },
   {
    "duration": 313,
    "start_time": "2022-02-11T15:59:16.532Z"
   },
   {
    "duration": 792,
    "start_time": "2022-02-11T15:59:16.852Z"
   },
   {
    "duration": 566,
    "start_time": "2022-02-11T15:59:17.649Z"
   },
   {
    "duration": 362,
    "start_time": "2022-02-11T16:04:23.315Z"
   },
   {
    "duration": 286,
    "start_time": "2022-02-11T16:04:38.225Z"
   },
   {
    "duration": 432,
    "start_time": "2022-02-11T16:05:11.212Z"
   },
   {
    "duration": 1808,
    "start_time": "2022-02-11T16:06:37.221Z"
   },
   {
    "duration": 123,
    "start_time": "2022-02-11T16:06:39.032Z"
   },
   {
    "duration": 8,
    "start_time": "2022-02-11T16:06:39.159Z"
   },
   {
    "duration": 6,
    "start_time": "2022-02-11T16:06:39.170Z"
   },
   {
    "duration": 82,
    "start_time": "2022-02-11T16:06:39.180Z"
   },
   {
    "duration": 34,
    "start_time": "2022-02-11T16:06:39.265Z"
   },
   {
    "duration": 47,
    "start_time": "2022-02-11T16:06:39.303Z"
   },
   {
    "duration": 13,
    "start_time": "2022-02-11T16:06:39.356Z"
   },
   {
    "duration": 18,
    "start_time": "2022-02-11T16:06:39.372Z"
   },
   {
    "duration": 63,
    "start_time": "2022-02-11T16:06:39.393Z"
   },
   {
    "duration": 15,
    "start_time": "2022-02-11T16:06:39.458Z"
   },
   {
    "duration": 74,
    "start_time": "2022-02-11T16:06:39.475Z"
   },
   {
    "duration": 661,
    "start_time": "2022-02-11T16:06:39.552Z"
   },
   {
    "duration": 2,
    "start_time": "2022-02-11T16:06:40.216Z"
   },
   {
    "duration": 38,
    "start_time": "2022-02-11T16:06:40.221Z"
   },
   {
    "duration": 12,
    "start_time": "2022-02-11T16:06:40.262Z"
   },
   {
    "duration": 336,
    "start_time": "2022-02-11T16:06:40.277Z"
   },
   {
    "duration": 302,
    "start_time": "2022-02-11T16:06:40.615Z"
   },
   {
    "duration": 444,
    "start_time": "2022-02-11T16:06:40.920Z"
   },
   {
    "duration": 21,
    "start_time": "2022-02-11T16:06:41.366Z"
   },
   {
    "duration": 745,
    "start_time": "2022-02-11T16:06:41.390Z"
   },
   {
    "duration": 348,
    "start_time": "2022-02-11T16:06:42.137Z"
   },
   {
    "duration": 318,
    "start_time": "2022-02-11T16:06:42.492Z"
   },
   {
    "duration": 421,
    "start_time": "2022-02-11T16:06:42.813Z"
   },
   {
    "duration": 306,
    "start_time": "2022-02-11T16:06:43.237Z"
   },
   {
    "duration": 316,
    "start_time": "2022-02-11T16:06:43.549Z"
   },
   {
    "duration": 833,
    "start_time": "2022-02-11T16:06:43.869Z"
   },
   {
    "duration": 548,
    "start_time": "2022-02-11T16:06:44.706Z"
   },
   {
    "duration": 1454,
    "start_time": "2022-02-11T16:35:47.148Z"
   },
   {
    "duration": 117,
    "start_time": "2022-02-11T16:35:48.605Z"
   },
   {
    "duration": 26,
    "start_time": "2022-02-11T16:35:48.726Z"
   },
   {
    "duration": 9,
    "start_time": "2022-02-11T16:35:48.755Z"
   },
   {
    "duration": 41,
    "start_time": "2022-02-11T16:35:48.766Z"
   },
   {
    "duration": 68,
    "start_time": "2022-02-11T16:35:48.810Z"
   },
   {
    "duration": 11,
    "start_time": "2022-02-11T16:35:48.881Z"
   },
   {
    "duration": 54,
    "start_time": "2022-02-11T16:35:48.899Z"
   },
   {
    "duration": 23,
    "start_time": "2022-02-11T16:35:48.957Z"
   },
   {
    "duration": 14,
    "start_time": "2022-02-11T16:35:48.984Z"
   },
   {
    "duration": 58,
    "start_time": "2022-02-11T16:35:49.001Z"
   },
   {
    "duration": 56,
    "start_time": "2022-02-11T16:35:49.062Z"
   },
   {
    "duration": 628,
    "start_time": "2022-02-11T16:35:49.121Z"
   },
   {
    "duration": 3,
    "start_time": "2022-02-11T16:35:49.751Z"
   },
   {
    "duration": 25,
    "start_time": "2022-02-11T16:35:49.757Z"
   },
   {
    "duration": 13,
    "start_time": "2022-02-11T16:35:49.786Z"
   },
   {
    "duration": 314,
    "start_time": "2022-02-11T16:35:49.802Z"
   },
   {
    "duration": 284,
    "start_time": "2022-02-11T16:35:50.119Z"
   },
   {
    "duration": 409,
    "start_time": "2022-02-11T16:35:50.406Z"
   },
   {
    "duration": 36,
    "start_time": "2022-02-11T16:35:50.818Z"
   },
   {
    "duration": 648,
    "start_time": "2022-02-11T16:35:50.857Z"
   },
   {
    "duration": 297,
    "start_time": "2022-02-11T16:35:51.508Z"
   },
   {
    "duration": 320,
    "start_time": "2022-02-11T16:35:51.811Z"
   },
   {
    "duration": 353,
    "start_time": "2022-02-11T16:35:52.148Z"
   },
   {
    "duration": 283,
    "start_time": "2022-02-11T16:35:52.504Z"
   },
   {
    "duration": 283,
    "start_time": "2022-02-11T16:35:52.790Z"
   },
   {
    "duration": 676,
    "start_time": "2022-02-11T16:35:53.075Z"
   },
   {
    "duration": 546,
    "start_time": "2022-02-11T16:35:53.753Z"
   },
   {
    "duration": 1476,
    "start_time": "2022-02-11T18:04:49.530Z"
   },
   {
    "duration": 117,
    "start_time": "2022-02-11T18:04:51.009Z"
   },
   {
    "duration": 19,
    "start_time": "2022-02-11T18:04:51.129Z"
   },
   {
    "duration": 12,
    "start_time": "2022-02-11T18:04:51.151Z"
   },
   {
    "duration": 71,
    "start_time": "2022-02-11T18:04:51.166Z"
   },
   {
    "duration": 34,
    "start_time": "2022-02-11T18:04:51.240Z"
   },
   {
    "duration": 23,
    "start_time": "2022-02-11T18:04:51.277Z"
   },
   {
    "duration": 19,
    "start_time": "2022-02-11T18:04:51.304Z"
   },
   {
    "duration": 19,
    "start_time": "2022-02-11T18:04:51.351Z"
   },
   {
    "duration": 11,
    "start_time": "2022-02-11T18:04:51.373Z"
   },
   {
    "duration": 63,
    "start_time": "2022-02-11T18:04:51.387Z"
   },
   {
    "duration": 40,
    "start_time": "2022-02-11T18:04:51.453Z"
   },
   {
    "duration": 628,
    "start_time": "2022-02-11T18:04:51.495Z"
   },
   {
    "duration": 3,
    "start_time": "2022-02-11T18:04:52.125Z"
   },
   {
    "duration": 32,
    "start_time": "2022-02-11T18:04:52.130Z"
   },
   {
    "duration": 11,
    "start_time": "2022-02-11T18:04:52.164Z"
   },
   {
    "duration": 313,
    "start_time": "2022-02-11T18:04:52.177Z"
   },
   {
    "duration": 294,
    "start_time": "2022-02-11T18:04:52.492Z"
   },
   {
    "duration": 404,
    "start_time": "2022-02-11T18:04:52.788Z"
   },
   {
    "duration": 21,
    "start_time": "2022-02-11T18:04:53.194Z"
   },
   {
    "duration": 669,
    "start_time": "2022-02-11T18:04:53.218Z"
   },
   {
    "duration": 312,
    "start_time": "2022-02-11T18:04:53.890Z"
   },
   {
    "duration": 293,
    "start_time": "2022-02-11T18:04:54.207Z"
   },
   {
    "duration": 352,
    "start_time": "2022-02-11T18:04:54.503Z"
   },
   {
    "duration": 291,
    "start_time": "2022-02-11T18:04:54.858Z"
   },
   {
    "duration": 287,
    "start_time": "2022-02-11T18:04:55.152Z"
   },
   {
    "duration": 689,
    "start_time": "2022-02-11T18:04:55.442Z"
   },
   {
    "duration": 502,
    "start_time": "2022-02-11T18:04:56.133Z"
   },
   {
    "duration": 1440,
    "start_time": "2022-02-11T18:06:24.666Z"
   },
   {
    "duration": 117,
    "start_time": "2022-02-11T18:06:26.108Z"
   },
   {
    "duration": 7,
    "start_time": "2022-02-11T18:06:26.228Z"
   },
   {
    "duration": 6,
    "start_time": "2022-02-11T18:06:26.249Z"
   },
   {
    "duration": 44,
    "start_time": "2022-02-11T18:06:26.259Z"
   },
   {
    "duration": 67,
    "start_time": "2022-02-11T18:06:26.305Z"
   },
   {
    "duration": 14,
    "start_time": "2022-02-11T18:06:26.375Z"
   },
   {
    "duration": 58,
    "start_time": "2022-02-11T18:06:26.392Z"
   },
   {
    "duration": 21,
    "start_time": "2022-02-11T18:06:26.455Z"
   },
   {
    "duration": 13,
    "start_time": "2022-02-11T18:06:26.481Z"
   },
   {
    "duration": 65,
    "start_time": "2022-02-11T18:06:26.497Z"
   },
   {
    "duration": 40,
    "start_time": "2022-02-11T18:06:26.565Z"
   },
   {
    "duration": 669,
    "start_time": "2022-02-11T18:06:26.608Z"
   },
   {
    "duration": 4,
    "start_time": "2022-02-11T18:06:27.280Z"
   },
   {
    "duration": 24,
    "start_time": "2022-02-11T18:06:27.287Z"
   },
   {
    "duration": 38,
    "start_time": "2022-02-11T18:06:27.314Z"
   },
   {
    "duration": 296,
    "start_time": "2022-02-11T18:06:27.355Z"
   },
   {
    "duration": 293,
    "start_time": "2022-02-11T18:06:27.655Z"
   },
   {
    "duration": 417,
    "start_time": "2022-02-11T18:06:27.951Z"
   },
   {
    "duration": 21,
    "start_time": "2022-02-11T18:06:28.370Z"
   },
   {
    "duration": 642,
    "start_time": "2022-02-11T18:06:28.394Z"
   },
   {
    "duration": 292,
    "start_time": "2022-02-11T18:06:29.039Z"
   },
   {
    "duration": 402,
    "start_time": "2022-02-11T18:06:29.333Z"
   },
   {
    "duration": 373,
    "start_time": "2022-02-11T18:06:29.737Z"
   },
   {
    "duration": 285,
    "start_time": "2022-02-11T18:06:30.113Z"
   },
   {
    "duration": 293,
    "start_time": "2022-02-11T18:06:30.401Z"
   },
   {
    "duration": 714,
    "start_time": "2022-02-11T18:06:30.702Z"
   },
   {
    "duration": 491,
    "start_time": "2022-02-11T18:06:31.419Z"
   },
   {
    "duration": 3,
    "start_time": "2022-02-11T18:06:31.912Z"
   },
   {
    "duration": 769,
    "start_time": "2022-02-11T18:06:31.918Z"
   },
   {
    "duration": 730,
    "start_time": "2022-02-11T18:06:32.689Z"
   },
   {
    "duration": 39,
    "start_time": "2022-02-11T18:06:33.421Z"
   },
   {
    "duration": 824,
    "start_time": "2022-02-11T18:06:33.462Z"
   },
   {
    "duration": 664,
    "start_time": "2022-02-11T18:06:34.289Z"
   },
   {
    "duration": 632,
    "start_time": "2022-02-11T18:06:34.956Z"
   },
   {
    "duration": 3,
    "start_time": "2022-02-11T18:06:35.591Z"
   },
   {
    "duration": 702,
    "start_time": "2022-02-11T18:06:35.596Z"
   },
   {
    "duration": 704,
    "start_time": "2022-02-11T18:06:36.300Z"
   },
   {
    "duration": 730,
    "start_time": "2022-02-11T18:06:37.007Z"
   },
   {
    "duration": 417,
    "start_time": "2022-02-11T18:06:37.739Z"
   },
   {
    "duration": 292,
    "start_time": "2022-02-11T18:06:38.160Z"
   },
   {
    "duration": 283,
    "start_time": "2022-02-11T18:06:38.455Z"
   },
   {
    "duration": 299,
    "start_time": "2022-02-11T18:06:38.742Z"
   },
   {
    "duration": 18,
    "start_time": "2022-02-11T18:06:39.048Z"
   },
   {
    "duration": 9,
    "start_time": "2022-02-11T18:06:39.068Z"
   },
   {
    "duration": 22,
    "start_time": "2022-02-11T18:06:39.079Z"
   },
   {
    "duration": 230,
    "start_time": "2022-02-11T18:06:39.103Z"
   },
   {
    "duration": 4522,
    "start_time": "2022-02-11T18:06:34.814Z"
   },
   {
    "duration": 4516,
    "start_time": "2022-02-11T18:06:34.822Z"
   },
   {
    "duration": 4510,
    "start_time": "2022-02-11T18:06:34.829Z"
   },
   {
    "duration": 98,
    "start_time": "2022-02-11T18:08:10.249Z"
   },
   {
    "duration": 125,
    "start_time": "2022-02-11T18:08:21.908Z"
   },
   {
    "duration": 137,
    "start_time": "2022-02-11T18:08:32.576Z"
   },
   {
    "duration": 101,
    "start_time": "2022-02-11T18:09:12.630Z"
   },
   {
    "duration": 1124,
    "start_time": "2022-02-12T04:02:26.149Z"
   },
   {
    "duration": 83,
    "start_time": "2022-02-12T04:02:27.275Z"
   },
   {
    "duration": 5,
    "start_time": "2022-02-12T04:02:27.360Z"
   },
   {
    "duration": 11,
    "start_time": "2022-02-12T04:02:27.368Z"
   },
   {
    "duration": 48,
    "start_time": "2022-02-12T04:02:27.381Z"
   },
   {
    "duration": 24,
    "start_time": "2022-02-12T04:02:27.431Z"
   },
   {
    "duration": 8,
    "start_time": "2022-02-12T04:02:27.456Z"
   },
   {
    "duration": 43,
    "start_time": "2022-02-12T04:02:27.467Z"
   },
   {
    "duration": 13,
    "start_time": "2022-02-12T04:02:27.513Z"
   },
   {
    "duration": 10,
    "start_time": "2022-02-12T04:02:27.528Z"
   },
   {
    "duration": 13,
    "start_time": "2022-02-12T04:02:27.540Z"
   },
   {
    "duration": 62,
    "start_time": "2022-02-12T04:02:27.555Z"
   },
   {
    "duration": 412,
    "start_time": "2022-02-12T04:02:27.619Z"
   },
   {
    "duration": 2,
    "start_time": "2022-02-12T04:02:28.033Z"
   },
   {
    "duration": 20,
    "start_time": "2022-02-12T04:02:28.037Z"
   },
   {
    "duration": 7,
    "start_time": "2022-02-12T04:02:28.059Z"
   },
   {
    "duration": 190,
    "start_time": "2022-02-12T04:02:28.068Z"
   },
   {
    "duration": 187,
    "start_time": "2022-02-12T04:02:28.259Z"
   },
   {
    "duration": 290,
    "start_time": "2022-02-12T04:02:28.448Z"
   },
   {
    "duration": 16,
    "start_time": "2022-02-12T04:02:28.740Z"
   },
   {
    "duration": 449,
    "start_time": "2022-02-12T04:02:28.758Z"
   },
   {
    "duration": 200,
    "start_time": "2022-02-12T04:02:29.209Z"
   },
   {
    "duration": 195,
    "start_time": "2022-02-12T04:02:29.414Z"
   },
   {
    "duration": 256,
    "start_time": "2022-02-12T04:02:29.612Z"
   },
   {
    "duration": 193,
    "start_time": "2022-02-12T04:02:29.871Z"
   },
   {
    "duration": 194,
    "start_time": "2022-02-12T04:02:30.067Z"
   },
   {
    "duration": 464,
    "start_time": "2022-02-12T04:02:30.264Z"
   },
   {
    "duration": 424,
    "start_time": "2022-02-12T04:02:30.731Z"
   },
   {
    "duration": 1154,
    "start_time": "2022-02-12T04:07:23.153Z"
   },
   {
    "duration": 85,
    "start_time": "2022-02-12T04:07:24.310Z"
   },
   {
    "duration": 12,
    "start_time": "2022-02-12T04:07:24.398Z"
   },
   {
    "duration": 12,
    "start_time": "2022-02-12T04:07:24.412Z"
   },
   {
    "duration": 38,
    "start_time": "2022-02-12T04:07:24.426Z"
   },
   {
    "duration": 43,
    "start_time": "2022-02-12T04:07:24.466Z"
   },
   {
    "duration": 9,
    "start_time": "2022-02-12T04:07:24.511Z"
   },
   {
    "duration": 17,
    "start_time": "2022-02-12T04:07:24.523Z"
   },
   {
    "duration": 15,
    "start_time": "2022-02-12T04:07:24.542Z"
   },
   {
    "duration": 48,
    "start_time": "2022-02-12T04:07:24.559Z"
   },
   {
    "duration": 11,
    "start_time": "2022-02-12T04:07:24.610Z"
   },
   {
    "duration": 27,
    "start_time": "2022-02-12T04:07:24.623Z"
   },
   {
    "duration": 428,
    "start_time": "2022-02-12T04:07:24.652Z"
   },
   {
    "duration": 3,
    "start_time": "2022-02-12T04:07:25.082Z"
   },
   {
    "duration": 30,
    "start_time": "2022-02-12T04:07:25.086Z"
   },
   {
    "duration": 9,
    "start_time": "2022-02-12T04:07:25.118Z"
   },
   {
    "duration": 190,
    "start_time": "2022-02-12T04:07:25.128Z"
   },
   {
    "duration": 189,
    "start_time": "2022-02-12T04:07:25.320Z"
   },
   {
    "duration": 277,
    "start_time": "2022-02-12T04:07:25.511Z"
   },
   {
    "duration": 25,
    "start_time": "2022-02-12T04:07:25.790Z"
   },
   {
    "duration": 421,
    "start_time": "2022-02-12T04:07:25.817Z"
   },
   {
    "duration": 195,
    "start_time": "2022-02-12T04:07:26.241Z"
   },
   {
    "duration": 193,
    "start_time": "2022-02-12T04:07:26.440Z"
   },
   {
    "duration": 259,
    "start_time": "2022-02-12T04:07:26.636Z"
   },
   {
    "duration": 192,
    "start_time": "2022-02-12T04:07:26.897Z"
   },
   {
    "duration": 196,
    "start_time": "2022-02-12T04:07:27.091Z"
   },
   {
    "duration": 466,
    "start_time": "2022-02-12T04:07:27.289Z"
   },
   {
    "duration": 417,
    "start_time": "2022-02-12T04:07:27.757Z"
   },
   {
    "duration": 2,
    "start_time": "2022-02-12T04:07:28.176Z"
   },
   {
    "duration": 484,
    "start_time": "2022-02-12T04:07:28.180Z"
   },
   {
    "duration": 473,
    "start_time": "2022-02-12T04:07:28.666Z"
   },
   {
    "duration": 21,
    "start_time": "2022-02-12T04:07:29.141Z"
   },
   {
    "duration": 506,
    "start_time": "2022-02-12T04:07:29.164Z"
   },
   {
    "duration": 424,
    "start_time": "2022-02-12T04:07:29.673Z"
   },
   {
    "duration": 415,
    "start_time": "2022-02-12T04:07:30.099Z"
   },
   {
    "duration": 3,
    "start_time": "2022-02-12T04:07:30.517Z"
   },
   {
    "duration": 467,
    "start_time": "2022-02-12T04:07:30.522Z"
   },
   {
    "duration": 484,
    "start_time": "2022-02-12T04:07:30.992Z"
   },
   {
    "duration": 471,
    "start_time": "2022-02-12T04:07:31.478Z"
   },
   {
    "duration": 465,
    "start_time": "2022-02-12T04:07:31.951Z"
   },
   {
    "duration": 189,
    "start_time": "2022-02-12T04:07:32.420Z"
   },
   {
    "duration": 186,
    "start_time": "2022-02-12T04:07:32.612Z"
   },
   {
    "duration": 197,
    "start_time": "2022-02-12T04:07:32.800Z"
   },
   {
    "duration": 13,
    "start_time": "2022-02-12T04:07:33.007Z"
   },
   {
    "duration": 10,
    "start_time": "2022-02-12T04:07:33.021Z"
   },
   {
    "duration": 21,
    "start_time": "2022-02-12T04:07:33.033Z"
   },
   {
    "duration": 80,
    "start_time": "2022-02-12T04:07:33.055Z"
   },
   {
    "duration": 4693,
    "start_time": "2022-02-12T04:07:28.444Z"
   },
   {
    "duration": 4690,
    "start_time": "2022-02-12T04:07:28.449Z"
   },
   {
    "duration": 4687,
    "start_time": "2022-02-12T04:07:28.453Z"
   },
   {
    "duration": 77,
    "start_time": "2022-02-12T04:10:35.099Z"
   },
   {
    "duration": 84,
    "start_time": "2022-02-12T04:10:45.061Z"
   },
   {
    "duration": 99,
    "start_time": "2022-02-12T06:02:12.583Z"
   },
   {
    "duration": 16,
    "start_time": "2022-02-12T06:02:33.328Z"
   },
   {
    "duration": 328,
    "start_time": "2022-02-12T06:02:39.000Z"
   },
   {
    "duration": 1282,
    "start_time": "2022-02-12T06:03:20.700Z"
   },
   {
    "duration": 90,
    "start_time": "2022-02-12T06:03:21.984Z"
   },
   {
    "duration": 5,
    "start_time": "2022-02-12T06:03:22.077Z"
   },
   {
    "duration": 25,
    "start_time": "2022-02-12T06:03:22.084Z"
   },
   {
    "duration": 43,
    "start_time": "2022-02-12T06:03:22.111Z"
   },
   {
    "duration": 29,
    "start_time": "2022-02-12T06:03:22.156Z"
   },
   {
    "duration": 10,
    "start_time": "2022-02-12T06:03:22.206Z"
   },
   {
    "duration": 16,
    "start_time": "2022-02-12T06:03:22.218Z"
   },
   {
    "duration": 14,
    "start_time": "2022-02-12T06:03:22.237Z"
   },
   {
    "duration": 9,
    "start_time": "2022-02-12T06:03:22.254Z"
   },
   {
    "duration": 53,
    "start_time": "2022-02-12T06:03:22.265Z"
   },
   {
    "duration": 28,
    "start_time": "2022-02-12T06:03:22.320Z"
   },
   {
    "duration": 435,
    "start_time": "2022-02-12T06:03:22.351Z"
   },
   {
    "duration": 2,
    "start_time": "2022-02-12T06:03:22.788Z"
   },
   {
    "duration": 32,
    "start_time": "2022-02-12T06:03:22.792Z"
   },
   {
    "duration": 8,
    "start_time": "2022-02-12T06:03:22.826Z"
   },
   {
    "duration": 203,
    "start_time": "2022-02-12T06:03:22.836Z"
   },
   {
    "duration": 200,
    "start_time": "2022-02-12T06:03:23.041Z"
   },
   {
    "duration": 290,
    "start_time": "2022-02-12T06:03:23.243Z"
   },
   {
    "duration": 17,
    "start_time": "2022-02-12T06:03:23.535Z"
   },
   {
    "duration": 441,
    "start_time": "2022-02-12T06:03:23.553Z"
   },
   {
    "duration": 203,
    "start_time": "2022-02-12T06:03:23.996Z"
   },
   {
    "duration": 193,
    "start_time": "2022-02-12T06:03:24.201Z"
   },
   {
    "duration": 258,
    "start_time": "2022-02-12T06:03:24.396Z"
   },
   {
    "duration": 191,
    "start_time": "2022-02-12T06:03:24.656Z"
   },
   {
    "duration": 192,
    "start_time": "2022-02-12T06:03:24.849Z"
   },
   {
    "duration": 468,
    "start_time": "2022-02-12T06:03:25.045Z"
   },
   {
    "duration": 364,
    "start_time": "2022-02-12T06:03:25.516Z"
   },
   {
    "duration": 3,
    "start_time": "2022-02-12T06:03:25.882Z"
   },
   {
    "duration": 514,
    "start_time": "2022-02-12T06:03:25.887Z"
   },
   {
    "duration": 496,
    "start_time": "2022-02-12T06:03:26.403Z"
   },
   {
    "duration": 25,
    "start_time": "2022-02-12T06:03:26.901Z"
   },
   {
    "duration": 523,
    "start_time": "2022-02-12T06:03:26.928Z"
   },
   {
    "duration": 425,
    "start_time": "2022-02-12T06:03:27.453Z"
   },
   {
    "duration": 429,
    "start_time": "2022-02-12T06:03:27.880Z"
   },
   {
    "duration": 3,
    "start_time": "2022-02-12T06:03:28.311Z"
   },
   {
    "duration": 506,
    "start_time": "2022-02-12T06:03:28.316Z"
   },
   {
    "duration": 461,
    "start_time": "2022-02-12T06:03:28.824Z"
   },
   {
    "duration": 454,
    "start_time": "2022-02-12T06:03:29.287Z"
   },
   {
    "duration": 302,
    "start_time": "2022-02-12T06:03:29.743Z"
   },
   {
    "duration": 183,
    "start_time": "2022-02-12T06:03:30.047Z"
   },
   {
    "duration": 229,
    "start_time": "2022-02-12T06:03:30.232Z"
   },
   {
    "duration": 286,
    "start_time": "2022-02-12T06:03:30.463Z"
   },
   {
    "duration": 63,
    "start_time": "2022-02-12T06:03:30.751Z"
   },
   {
    "duration": 14,
    "start_time": "2022-02-12T06:03:30.815Z"
   },
   {
    "duration": 25,
    "start_time": "2022-02-12T06:03:30.831Z"
   },
   {
    "duration": 103,
    "start_time": "2022-02-12T06:03:30.857Z"
   },
   {
    "duration": 5194,
    "start_time": "2022-02-12T06:03:25.768Z"
   },
   {
    "duration": 5191,
    "start_time": "2022-02-12T06:03:25.772Z"
   },
   {
    "duration": 5188,
    "start_time": "2022-02-12T06:03:25.776Z"
   },
   {
    "duration": 18,
    "start_time": "2022-02-12T06:03:59.071Z"
   },
   {
    "duration": 14,
    "start_time": "2022-02-12T06:04:45.367Z"
   },
   {
    "duration": 6,
    "start_time": "2022-02-12T06:04:50.176Z"
   },
   {
    "duration": 1112,
    "start_time": "2022-02-18T10:08:38.604Z"
   },
   {
    "duration": 90,
    "start_time": "2022-02-18T10:08:39.717Z"
   },
   {
    "duration": 5,
    "start_time": "2022-02-18T10:08:39.809Z"
   },
   {
    "duration": 6,
    "start_time": "2022-02-18T10:08:39.816Z"
   },
   {
    "duration": 55,
    "start_time": "2022-02-18T10:08:39.824Z"
   },
   {
    "duration": 23,
    "start_time": "2022-02-18T10:08:39.881Z"
   },
   {
    "duration": 10,
    "start_time": "2022-02-18T10:08:39.906Z"
   },
   {
    "duration": 42,
    "start_time": "2022-02-18T10:08:39.918Z"
   },
   {
    "duration": 12,
    "start_time": "2022-02-18T10:08:46.065Z"
   },
   {
    "duration": 3,
    "start_time": "2022-02-18T11:41:15.609Z"
   },
   {
    "duration": 93,
    "start_time": "2022-02-18T11:41:15.614Z"
   },
   {
    "duration": 5,
    "start_time": "2022-02-18T11:41:15.709Z"
   },
   {
    "duration": 8,
    "start_time": "2022-02-18T11:41:15.716Z"
   },
   {
    "duration": 54,
    "start_time": "2022-02-18T11:41:15.725Z"
   },
   {
    "duration": 21,
    "start_time": "2022-02-18T11:41:15.781Z"
   },
   {
    "duration": 9,
    "start_time": "2022-02-18T11:41:15.804Z"
   },
   {
    "duration": 8,
    "start_time": "2022-02-18T11:41:15.815Z"
   },
   {
    "duration": 44,
    "start_time": "2022-02-18T11:41:15.825Z"
   },
   {
    "duration": 7,
    "start_time": "2022-02-18T11:41:15.871Z"
   },
   {
    "duration": 8,
    "start_time": "2022-02-18T11:41:15.880Z"
   },
   {
    "duration": 23,
    "start_time": "2022-02-18T11:41:15.890Z"
   },
   {
    "duration": 444,
    "start_time": "2022-02-18T11:41:15.915Z"
   },
   {
    "duration": 2,
    "start_time": "2022-02-18T11:41:16.361Z"
   },
   {
    "duration": 21,
    "start_time": "2022-02-18T11:41:16.365Z"
   },
   {
    "duration": 8,
    "start_time": "2022-02-18T11:41:16.388Z"
   },
   {
    "duration": 210,
    "start_time": "2022-02-18T11:41:16.397Z"
   },
   {
    "duration": 192,
    "start_time": "2022-02-18T11:41:16.609Z"
   },
   {
    "duration": 284,
    "start_time": "2022-02-18T11:41:16.803Z"
   },
   {
    "duration": 16,
    "start_time": "2022-02-18T11:41:17.089Z"
   },
   {
    "duration": 442,
    "start_time": "2022-02-18T11:41:17.107Z"
   },
   {
    "duration": 222,
    "start_time": "2022-02-18T11:41:17.551Z"
   },
   {
    "duration": 188,
    "start_time": "2022-02-18T11:41:17.775Z"
   },
   {
    "duration": 259,
    "start_time": "2022-02-18T11:41:17.965Z"
   },
   {
    "duration": 189,
    "start_time": "2022-02-18T11:41:18.225Z"
   },
   {
    "duration": 193,
    "start_time": "2022-02-18T11:41:18.415Z"
   },
   {
    "duration": 481,
    "start_time": "2022-02-18T11:41:18.612Z"
   },
   {
    "duration": 415,
    "start_time": "2022-02-18T11:41:19.096Z"
   },
   {
    "duration": 3,
    "start_time": "2022-02-18T11:41:19.513Z"
   },
   {
    "duration": 497,
    "start_time": "2022-02-18T11:41:19.518Z"
   },
   {
    "duration": 502,
    "start_time": "2022-02-18T11:41:20.016Z"
   },
   {
    "duration": 20,
    "start_time": "2022-02-18T11:41:20.519Z"
   },
   {
    "duration": 520,
    "start_time": "2022-02-18T11:41:20.541Z"
   },
   {
    "duration": 420,
    "start_time": "2022-02-18T11:41:21.063Z"
   },
   {
    "duration": 415,
    "start_time": "2022-02-18T11:41:21.485Z"
   },
   {
    "duration": 2,
    "start_time": "2022-02-18T11:41:21.901Z"
   },
   {
    "duration": 461,
    "start_time": "2022-02-18T11:41:21.905Z"
   },
   {
    "duration": 473,
    "start_time": "2022-02-18T11:41:22.368Z"
   },
   {
    "duration": 466,
    "start_time": "2022-02-18T11:41:22.843Z"
   },
   {
    "duration": 300,
    "start_time": "2022-02-18T11:41:23.311Z"
   },
   {
    "duration": 188,
    "start_time": "2022-02-18T11:41:23.613Z"
   },
   {
    "duration": 189,
    "start_time": "2022-02-18T11:41:23.803Z"
   },
   {
    "duration": 198,
    "start_time": "2022-02-18T11:41:23.994Z"
   },
   {
    "duration": 15,
    "start_time": "2022-02-18T11:41:27.520Z"
   },
   {
    "duration": 6,
    "start_time": "2022-02-18T11:42:24.116Z"
   },
   {
    "duration": 10,
    "start_time": "2022-02-18T11:42:25.432Z"
   },
   {
    "duration": 6,
    "start_time": "2022-02-18T11:42:25.740Z"
   },
   {
    "duration": 12,
    "start_time": "2022-02-18T11:42:28.930Z"
   },
   {
    "duration": 11,
    "start_time": "2022-02-18T11:42:33.548Z"
   },
   {
    "duration": 6,
    "start_time": "2022-02-18T11:42:33.894Z"
   },
   {
    "duration": 3,
    "start_time": "2022-02-18T11:42:44.351Z"
   },
   {
    "duration": 109,
    "start_time": "2022-02-18T11:42:44.356Z"
   },
   {
    "duration": 6,
    "start_time": "2022-02-18T11:42:44.468Z"
   },
   {
    "duration": 7,
    "start_time": "2022-02-18T11:42:44.476Z"
   },
   {
    "duration": 30,
    "start_time": "2022-02-18T11:42:44.485Z"
   },
   {
    "duration": 63,
    "start_time": "2022-02-18T11:42:44.517Z"
   },
   {
    "duration": 8,
    "start_time": "2022-02-18T11:42:44.582Z"
   },
   {
    "duration": 9,
    "start_time": "2022-02-18T11:42:44.593Z"
   },
   {
    "duration": 55,
    "start_time": "2022-02-18T11:42:44.604Z"
   },
   {
    "duration": 8,
    "start_time": "2022-02-18T11:42:44.661Z"
   },
   {
    "duration": 10,
    "start_time": "2022-02-18T11:42:44.671Z"
   },
   {
    "duration": 24,
    "start_time": "2022-02-18T11:42:44.683Z"
   },
   {
    "duration": 467,
    "start_time": "2022-02-18T11:42:44.709Z"
   },
   {
    "duration": 3,
    "start_time": "2022-02-18T11:42:45.177Z"
   },
   {
    "duration": 20,
    "start_time": "2022-02-18T11:42:45.182Z"
   },
   {
    "duration": 9,
    "start_time": "2022-02-18T11:42:45.204Z"
   },
   {
    "duration": 211,
    "start_time": "2022-02-18T11:42:45.215Z"
   },
   {
    "duration": 197,
    "start_time": "2022-02-18T11:42:45.428Z"
   },
   {
    "duration": 266,
    "start_time": "2022-02-18T11:42:45.627Z"
   },
   {
    "duration": 13,
    "start_time": "2022-02-18T11:42:45.895Z"
   },
   {
    "duration": 428,
    "start_time": "2022-02-18T11:42:45.910Z"
   },
   {
    "duration": 202,
    "start_time": "2022-02-18T11:42:46.340Z"
   },
   {
    "duration": 190,
    "start_time": "2022-02-18T11:42:46.546Z"
   },
   {
    "duration": 206,
    "start_time": "2022-02-18T11:42:46.738Z"
   },
   {
    "duration": 297,
    "start_time": "2022-02-18T11:42:46.945Z"
   },
   {
    "duration": 191,
    "start_time": "2022-02-18T11:42:47.243Z"
   },
   {
    "duration": 476,
    "start_time": "2022-02-18T11:42:47.435Z"
   },
   {
    "duration": 416,
    "start_time": "2022-02-18T11:42:47.913Z"
   },
   {
    "duration": 2,
    "start_time": "2022-02-18T11:42:48.331Z"
   },
   {
    "duration": 500,
    "start_time": "2022-02-18T11:42:48.335Z"
   },
   {
    "duration": 499,
    "start_time": "2022-02-18T11:42:48.837Z"
   },
   {
    "duration": 28,
    "start_time": "2022-02-18T11:42:49.338Z"
   },
   {
    "duration": 418,
    "start_time": "2022-02-18T11:42:49.368Z"
   },
   {
    "duration": 555,
    "start_time": "2022-02-18T11:42:49.789Z"
   },
   {
    "duration": 442,
    "start_time": "2022-02-18T11:42:50.346Z"
   },
   {
    "duration": 2,
    "start_time": "2022-02-18T11:42:50.791Z"
   },
   {
    "duration": 484,
    "start_time": "2022-02-18T11:42:50.795Z"
   },
   {
    "duration": 462,
    "start_time": "2022-02-18T11:42:51.281Z"
   },
   {
    "duration": 455,
    "start_time": "2022-02-18T11:42:51.745Z"
   },
   {
    "duration": 198,
    "start_time": "2022-02-18T11:42:52.203Z"
   },
   {
    "duration": 179,
    "start_time": "2022-02-18T11:42:52.403Z"
   },
   {
    "duration": 188,
    "start_time": "2022-02-18T11:42:52.584Z"
   },
   {
    "duration": 189,
    "start_time": "2022-02-18T11:42:52.774Z"
   },
   {
    "duration": 11,
    "start_time": "2022-02-18T11:42:52.965Z"
   },
   {
    "duration": 5,
    "start_time": "2022-02-18T11:42:52.977Z"
   },
   {
    "duration": 15,
    "start_time": "2022-02-18T11:42:52.984Z"
   },
   {
    "duration": 16,
    "start_time": "2022-02-18T11:42:53.001Z"
   },
   {
    "duration": 8,
    "start_time": "2022-02-18T11:42:53.020Z"
   },
   {
    "duration": 177,
    "start_time": "2022-02-18T11:42:53.030Z"
   },
   {
    "duration": 178,
    "start_time": "2022-02-18T11:58:43.176Z"
   },
   {
    "duration": 1073,
    "start_time": "2022-02-18T11:58:46.449Z"
   },
   {
    "duration": 81,
    "start_time": "2022-02-18T11:58:47.524Z"
   },
   {
    "duration": 4,
    "start_time": "2022-02-18T11:58:47.607Z"
   },
   {
    "duration": 8,
    "start_time": "2022-02-18T11:58:47.613Z"
   },
   {
    "duration": 44,
    "start_time": "2022-02-18T11:58:47.623Z"
   },
   {
    "duration": 22,
    "start_time": "2022-02-18T11:58:47.668Z"
   },
   {
    "duration": 9,
    "start_time": "2022-02-18T11:58:47.692Z"
   },
   {
    "duration": 9,
    "start_time": "2022-02-18T11:58:47.704Z"
   },
   {
    "duration": 48,
    "start_time": "2022-02-18T11:58:47.715Z"
   },
   {
    "duration": 7,
    "start_time": "2022-02-18T11:58:47.765Z"
   },
   {
    "duration": 11,
    "start_time": "2022-02-18T11:58:47.774Z"
   },
   {
    "duration": 24,
    "start_time": "2022-02-18T11:58:47.787Z"
   },
   {
    "duration": 422,
    "start_time": "2022-02-18T11:58:47.813Z"
   },
   {
    "duration": 2,
    "start_time": "2022-02-18T11:58:48.238Z"
   },
   {
    "duration": 26,
    "start_time": "2022-02-18T11:58:48.242Z"
   },
   {
    "duration": 9,
    "start_time": "2022-02-18T11:58:48.270Z"
   },
   {
    "duration": 191,
    "start_time": "2022-02-18T11:58:48.281Z"
   },
   {
    "duration": 186,
    "start_time": "2022-02-18T11:58:48.474Z"
   },
   {
    "duration": 268,
    "start_time": "2022-02-18T11:58:48.662Z"
   },
   {
    "duration": 29,
    "start_time": "2022-02-18T11:58:48.932Z"
   },
   {
    "duration": 410,
    "start_time": "2022-02-18T11:58:48.963Z"
   },
   {
    "duration": 198,
    "start_time": "2022-02-18T11:58:49.375Z"
   },
   {
    "duration": 193,
    "start_time": "2022-02-18T11:58:49.576Z"
   },
   {
    "duration": 264,
    "start_time": "2022-02-18T11:58:49.771Z"
   },
   {
    "duration": 192,
    "start_time": "2022-02-18T11:58:50.037Z"
   },
   {
    "duration": 198,
    "start_time": "2022-02-18T11:58:50.231Z"
   },
   {
    "duration": 486,
    "start_time": "2022-02-18T11:58:50.432Z"
   },
   {
    "duration": 394,
    "start_time": "2022-02-18T11:58:50.920Z"
   },
   {
    "duration": 2,
    "start_time": "2022-02-18T11:58:51.316Z"
   },
   {
    "duration": 291,
    "start_time": "2022-02-18T13:07:51.857Z"
   },
   {
    "duration": 2116,
    "start_time": "2022-02-18T13:07:59.196Z"
   },
   {
    "duration": 122,
    "start_time": "2022-02-18T13:08:01.315Z"
   },
   {
    "duration": 22,
    "start_time": "2022-02-18T13:08:01.440Z"
   },
   {
    "duration": 14,
    "start_time": "2022-02-18T13:08:01.465Z"
   },
   {
    "duration": 73,
    "start_time": "2022-02-18T13:08:01.482Z"
   },
   {
    "duration": 36,
    "start_time": "2022-02-18T13:08:01.558Z"
   },
   {
    "duration": 53,
    "start_time": "2022-02-18T13:08:01.596Z"
   },
   {
    "duration": 56,
    "start_time": "2022-02-18T13:08:01.653Z"
   },
   {
    "duration": 45,
    "start_time": "2022-02-18T13:08:01.714Z"
   },
   {
    "duration": 17,
    "start_time": "2022-02-18T13:08:01.762Z"
   },
   {
    "duration": 57,
    "start_time": "2022-02-18T13:08:01.794Z"
   },
   {
    "duration": 51,
    "start_time": "2022-02-18T13:08:01.855Z"
   },
   {
    "duration": 683,
    "start_time": "2022-02-18T13:08:01.909Z"
   },
   {
    "duration": 4,
    "start_time": "2022-02-18T13:08:02.594Z"
   },
   {
    "duration": 43,
    "start_time": "2022-02-18T13:08:02.600Z"
   },
   {
    "duration": 14,
    "start_time": "2022-02-18T13:08:02.646Z"
   },
   {
    "duration": 285,
    "start_time": "2022-02-18T13:08:02.663Z"
   },
   {
    "duration": 295,
    "start_time": "2022-02-18T13:08:02.950Z"
   },
   {
    "duration": 422,
    "start_time": "2022-02-18T13:08:03.248Z"
   },
   {
    "duration": 35,
    "start_time": "2022-02-18T13:08:03.672Z"
   },
   {
    "duration": 693,
    "start_time": "2022-02-18T13:08:03.709Z"
   },
   {
    "duration": 978,
    "start_time": "2022-02-18T13:08:04.405Z"
   },
   {
    "duration": 708,
    "start_time": "2022-02-18T13:09:33.278Z"
   },
   {
    "duration": 742,
    "start_time": "2022-02-18T13:09:43.604Z"
   },
   {
    "duration": 327,
    "start_time": "2022-02-18T13:15:34.179Z"
   },
   {
    "duration": 393,
    "start_time": "2022-02-18T13:17:18.095Z"
   },
   {
    "duration": 287,
    "start_time": "2022-02-18T13:17:41.427Z"
   },
   {
    "duration": 274,
    "start_time": "2022-02-18T13:17:58.913Z"
   },
   {
    "duration": 292,
    "start_time": "2022-02-18T13:19:48.387Z"
   },
   {
    "duration": 3705,
    "start_time": "2022-02-18T13:29:53.492Z"
   },
   {
    "duration": 1590,
    "start_time": "2022-02-18T13:36:04.909Z"
   },
   {
    "duration": 127,
    "start_time": "2022-02-18T13:36:06.502Z"
   },
   {
    "duration": 6,
    "start_time": "2022-02-18T13:36:06.633Z"
   },
   {
    "duration": 10,
    "start_time": "2022-02-18T13:36:06.642Z"
   },
   {
    "duration": 72,
    "start_time": "2022-02-18T13:36:06.655Z"
   },
   {
    "duration": 33,
    "start_time": "2022-02-18T13:36:06.730Z"
   },
   {
    "duration": 33,
    "start_time": "2022-02-18T13:36:06.766Z"
   },
   {
    "duration": 22,
    "start_time": "2022-02-18T13:36:06.803Z"
   },
   {
    "duration": 39,
    "start_time": "2022-02-18T13:36:06.828Z"
   },
   {
    "duration": 31,
    "start_time": "2022-02-18T13:36:06.870Z"
   },
   {
    "duration": 38,
    "start_time": "2022-02-18T13:36:06.904Z"
   },
   {
    "duration": 57,
    "start_time": "2022-02-18T13:36:06.944Z"
   },
   {
    "duration": 685,
    "start_time": "2022-02-18T13:36:07.003Z"
   },
   {
    "duration": 3,
    "start_time": "2022-02-18T13:36:07.694Z"
   },
   {
    "duration": 22,
    "start_time": "2022-02-18T13:36:07.699Z"
   },
   {
    "duration": 11,
    "start_time": "2022-02-18T13:36:07.723Z"
   },
   {
    "duration": 320,
    "start_time": "2022-02-18T13:36:07.736Z"
   },
   {
    "duration": 295,
    "start_time": "2022-02-18T13:36:08.059Z"
   },
   {
    "duration": 416,
    "start_time": "2022-02-18T13:36:08.357Z"
   },
   {
    "duration": 32,
    "start_time": "2022-02-18T13:36:08.776Z"
   },
   {
    "duration": 654,
    "start_time": "2022-02-18T13:36:08.810Z"
   },
   {
    "duration": 292,
    "start_time": "2022-02-18T13:36:09.466Z"
   },
   {
    "duration": 294,
    "start_time": "2022-02-18T13:36:09.764Z"
   },
   {
    "duration": 359,
    "start_time": "2022-02-18T13:36:10.061Z"
   },
   {
    "duration": 284,
    "start_time": "2022-02-18T13:36:10.423Z"
   },
   {
    "duration": 311,
    "start_time": "2022-02-18T13:36:10.710Z"
   },
   {
    "duration": 749,
    "start_time": "2022-02-18T13:36:11.024Z"
   },
   {
    "duration": 602,
    "start_time": "2022-02-18T13:36:11.776Z"
   },
   {
    "duration": 1530,
    "start_time": "2022-02-18T13:41:40.444Z"
   },
   {
    "duration": 144,
    "start_time": "2022-02-18T13:41:41.977Z"
   },
   {
    "duration": 7,
    "start_time": "2022-02-18T13:41:42.124Z"
   },
   {
    "duration": 16,
    "start_time": "2022-02-18T13:41:42.134Z"
   },
   {
    "duration": 84,
    "start_time": "2022-02-18T13:41:42.153Z"
   },
   {
    "duration": 56,
    "start_time": "2022-02-18T13:41:42.240Z"
   },
   {
    "duration": 10,
    "start_time": "2022-02-18T13:41:42.299Z"
   },
   {
    "duration": 12,
    "start_time": "2022-02-18T13:41:42.313Z"
   },
   {
    "duration": 18,
    "start_time": "2022-02-18T13:41:42.328Z"
   },
   {
    "duration": 57,
    "start_time": "2022-02-18T13:41:42.348Z"
   },
   {
    "duration": 17,
    "start_time": "2022-02-18T13:41:42.407Z"
   },
   {
    "duration": 88,
    "start_time": "2022-02-18T13:41:42.427Z"
   },
   {
    "duration": 684,
    "start_time": "2022-02-18T13:41:42.518Z"
   },
   {
    "duration": 3,
    "start_time": "2022-02-18T13:41:43.205Z"
   },
   {
    "duration": 27,
    "start_time": "2022-02-18T13:41:43.212Z"
   },
   {
    "duration": 11,
    "start_time": "2022-02-18T13:41:43.241Z"
   },
   {
    "duration": 337,
    "start_time": "2022-02-18T13:41:43.255Z"
   },
   {
    "duration": 309,
    "start_time": "2022-02-18T13:41:43.594Z"
   },
   {
    "duration": 488,
    "start_time": "2022-02-18T13:41:43.906Z"
   },
   {
    "duration": 31,
    "start_time": "2022-02-18T13:41:44.397Z"
   },
   {
    "duration": 923,
    "start_time": "2022-02-18T13:41:44.432Z"
   },
   {
    "duration": 304,
    "start_time": "2022-02-18T13:41:45.358Z"
   },
   {
    "duration": 298,
    "start_time": "2022-02-18T13:41:45.668Z"
   },
   {
    "duration": 351,
    "start_time": "2022-02-18T13:41:45.969Z"
   },
   {
    "duration": 271,
    "start_time": "2022-02-18T13:41:46.322Z"
   },
   {
    "duration": 300,
    "start_time": "2022-02-18T13:41:46.596Z"
   },
   {
    "duration": 715,
    "start_time": "2022-02-18T13:41:46.899Z"
   },
   {
    "duration": 520,
    "start_time": "2022-02-18T13:41:47.617Z"
   },
   {
    "duration": 3,
    "start_time": "2022-02-18T13:41:48.140Z"
   },
   {
    "duration": 7,
    "start_time": "2022-02-18T13:41:48.145Z"
   },
   {
    "duration": 10,
    "start_time": "2022-02-18T13:41:48.154Z"
   },
   {
    "duration": 50,
    "start_time": "2022-02-18T13:41:48.167Z"
   },
   {
    "duration": 933,
    "start_time": "2022-02-18T13:41:48.220Z"
   },
   {
    "duration": 768,
    "start_time": "2022-02-18T13:41:49.157Z"
   },
   {
    "duration": 747,
    "start_time": "2022-02-18T13:41:49.927Z"
   },
   {
    "duration": 3,
    "start_time": "2022-02-18T13:41:50.678Z"
   },
   {
    "duration": 1435,
    "start_time": "2022-02-18T13:41:50.685Z"
   },
   {
    "duration": 763,
    "start_time": "2022-02-18T13:41:52.123Z"
   },
   {
    "duration": 862,
    "start_time": "2022-02-18T13:41:52.889Z"
   },
   {
    "duration": 310,
    "start_time": "2022-02-18T13:41:53.754Z"
   },
   {
    "duration": 302,
    "start_time": "2022-02-18T13:41:54.066Z"
   },
   {
    "duration": 299,
    "start_time": "2022-02-18T13:41:54.372Z"
   },
   {
    "duration": 471,
    "start_time": "2022-02-18T13:41:54.674Z"
   },
   {
    "duration": 18,
    "start_time": "2022-02-18T13:41:55.148Z"
   },
   {
    "duration": 26,
    "start_time": "2022-02-18T13:41:55.169Z"
   },
   {
    "duration": 23,
    "start_time": "2022-02-18T13:41:55.198Z"
   },
   {
    "duration": 16,
    "start_time": "2022-02-18T13:41:55.224Z"
   },
   {
    "duration": 8,
    "start_time": "2022-02-18T13:41:55.242Z"
   },
   {
    "duration": 124,
    "start_time": "2022-02-18T13:41:55.294Z"
   },
   {
    "duration": 4,
    "start_time": "2022-02-18T13:43:42.956Z"
   },
   {
    "duration": 409,
    "start_time": "2022-02-18T13:43:49.907Z"
   },
   {
    "duration": 304,
    "start_time": "2022-02-18T14:13:54.069Z"
   },
   {
    "duration": 1502,
    "start_time": "2022-02-18T14:14:12.604Z"
   },
   {
    "duration": 161,
    "start_time": "2022-02-18T14:14:14.109Z"
   },
   {
    "duration": 19,
    "start_time": "2022-02-18T14:14:14.274Z"
   },
   {
    "duration": 7,
    "start_time": "2022-02-18T14:14:14.297Z"
   },
   {
    "duration": 93,
    "start_time": "2022-02-18T14:14:14.307Z"
   },
   {
    "duration": 34,
    "start_time": "2022-02-18T14:14:14.403Z"
   },
   {
    "duration": 10,
    "start_time": "2022-02-18T14:14:14.440Z"
   },
   {
    "duration": 49,
    "start_time": "2022-02-18T14:14:14.455Z"
   },
   {
    "duration": 19,
    "start_time": "2022-02-18T14:14:14.508Z"
   },
   {
    "duration": 13,
    "start_time": "2022-02-18T14:14:14.530Z"
   },
   {
    "duration": 14,
    "start_time": "2022-02-18T14:14:14.594Z"
   },
   {
    "duration": 39,
    "start_time": "2022-02-18T14:14:14.611Z"
   },
   {
    "duration": 715,
    "start_time": "2022-02-18T14:14:14.652Z"
   },
   {
    "duration": 3,
    "start_time": "2022-02-18T14:14:15.370Z"
   },
   {
    "duration": 29,
    "start_time": "2022-02-18T14:14:15.376Z"
   },
   {
    "duration": 10,
    "start_time": "2022-02-18T14:14:15.407Z"
   },
   {
    "duration": 317,
    "start_time": "2022-02-18T14:14:15.420Z"
   },
   {
    "duration": 316,
    "start_time": "2022-02-18T14:14:15.739Z"
   },
   {
    "duration": 407,
    "start_time": "2022-02-18T14:14:16.059Z"
   },
   {
    "duration": 30,
    "start_time": "2022-02-18T14:14:16.469Z"
   },
   {
    "duration": 775,
    "start_time": "2022-02-18T14:14:16.502Z"
   },
   {
    "duration": 309,
    "start_time": "2022-02-18T14:14:17.280Z"
   },
   {
    "duration": 299,
    "start_time": "2022-02-18T14:14:17.594Z"
   },
   {
    "duration": 354,
    "start_time": "2022-02-18T14:14:17.896Z"
   },
   {
    "duration": 287,
    "start_time": "2022-02-18T14:14:18.253Z"
   },
   {
    "duration": 315,
    "start_time": "2022-02-18T14:14:18.543Z"
   },
   {
    "duration": 760,
    "start_time": "2022-02-18T14:14:18.861Z"
   },
   {
    "duration": 542,
    "start_time": "2022-02-18T14:14:19.623Z"
   },
   {
    "duration": 3,
    "start_time": "2022-02-18T14:14:20.167Z"
   },
   {
    "duration": 45,
    "start_time": "2022-02-18T14:14:20.172Z"
   },
   {
    "duration": 690,
    "start_time": "2022-02-18T14:14:20.219Z"
   },
   {
    "duration": 684,
    "start_time": "2022-02-18T14:14:20.912Z"
   },
   {
    "duration": 787,
    "start_time": "2022-02-18T14:14:21.599Z"
   },
   {
    "duration": 4,
    "start_time": "2022-02-18T14:14:22.392Z"
   },
   {
    "duration": 770,
    "start_time": "2022-02-18T14:14:22.398Z"
   },
   {
    "duration": 763,
    "start_time": "2022-02-18T14:14:23.171Z"
   },
   {
    "duration": 765,
    "start_time": "2022-02-18T14:14:23.937Z"
   },
   {
    "duration": 368,
    "start_time": "2022-02-18T14:14:24.704Z"
   },
   {
    "duration": 281,
    "start_time": "2022-02-18T14:14:46.924Z"
   },
   {
    "duration": 6131,
    "start_time": "2022-02-18T14:19:02.467Z"
   },
   {
    "duration": 306,
    "start_time": "2022-02-18T14:19:30.035Z"
   },
   {
    "duration": 26,
    "start_time": "2022-02-18T16:38:04.597Z"
   },
   {
    "duration": 24,
    "start_time": "2022-02-18T16:44:38.262Z"
   },
   {
    "duration": 8,
    "start_time": "2022-02-18T16:44:50.280Z"
   },
   {
    "duration": 21,
    "start_time": "2022-02-18T16:46:49.223Z"
   },
   {
    "duration": 21,
    "start_time": "2022-02-18T16:47:19.044Z"
   },
   {
    "duration": 26,
    "start_time": "2022-02-18T16:49:21.523Z"
   },
   {
    "duration": 7,
    "start_time": "2022-02-18T16:49:26.626Z"
   },
   {
    "duration": 22,
    "start_time": "2022-02-18T16:52:35.058Z"
   },
   {
    "duration": 447,
    "start_time": "2022-02-18T17:06:50.323Z"
   },
   {
    "duration": 728,
    "start_time": "2022-02-18T17:08:04.988Z"
   },
   {
    "duration": 494,
    "start_time": "2022-02-18T17:10:53.578Z"
   },
   {
    "duration": 453,
    "start_time": "2022-02-18T17:13:58.284Z"
   },
   {
    "duration": 453,
    "start_time": "2022-02-18T17:14:30.897Z"
   },
   {
    "duration": 402,
    "start_time": "2022-02-18T17:19:08.887Z"
   },
   {
    "duration": 490,
    "start_time": "2022-02-18T17:19:50.454Z"
   },
   {
    "duration": 397,
    "start_time": "2022-02-18T17:20:41.728Z"
   },
   {
    "duration": 1210,
    "start_time": "2022-02-18T18:13:39.829Z"
   },
   {
    "duration": 322,
    "start_time": "2022-02-18T18:30:09.787Z"
   },
   {
    "duration": 1445,
    "start_time": "2022-02-18T18:35:30.027Z"
   },
   {
    "duration": 124,
    "start_time": "2022-02-18T18:35:31.475Z"
   },
   {
    "duration": 7,
    "start_time": "2022-02-18T18:35:31.602Z"
   },
   {
    "duration": 10,
    "start_time": "2022-02-18T18:35:31.612Z"
   },
   {
    "duration": 80,
    "start_time": "2022-02-18T18:35:31.625Z"
   },
   {
    "duration": 36,
    "start_time": "2022-02-18T18:35:31.708Z"
   },
   {
    "duration": 10,
    "start_time": "2022-02-18T18:35:31.746Z"
   },
   {
    "duration": 11,
    "start_time": "2022-02-18T18:35:31.795Z"
   },
   {
    "duration": 20,
    "start_time": "2022-02-18T18:35:31.808Z"
   },
   {
    "duration": 14,
    "start_time": "2022-02-18T18:35:31.831Z"
   },
   {
    "duration": 53,
    "start_time": "2022-02-18T18:35:31.847Z"
   },
   {
    "duration": 34,
    "start_time": "2022-02-18T18:35:31.902Z"
   },
   {
    "duration": 687,
    "start_time": "2022-02-18T18:35:31.938Z"
   },
   {
    "duration": 2,
    "start_time": "2022-02-18T18:35:32.627Z"
   },
   {
    "duration": 31,
    "start_time": "2022-02-18T18:35:32.633Z"
   },
   {
    "duration": 28,
    "start_time": "2022-02-18T18:35:32.667Z"
   },
   {
    "duration": 285,
    "start_time": "2022-02-18T18:35:32.697Z"
   },
   {
    "duration": 304,
    "start_time": "2022-02-18T18:35:32.992Z"
   },
   {
    "duration": 426,
    "start_time": "2022-02-18T18:35:33.298Z"
   },
   {
    "duration": 28,
    "start_time": "2022-02-18T18:35:33.726Z"
   },
   {
    "duration": 648,
    "start_time": "2022-02-18T18:35:33.756Z"
   },
   {
    "duration": 303,
    "start_time": "2022-02-18T18:35:34.406Z"
   },
   {
    "duration": 301,
    "start_time": "2022-02-18T18:35:34.714Z"
   },
   {
    "duration": 369,
    "start_time": "2022-02-18T18:35:35.019Z"
   },
   {
    "duration": 279,
    "start_time": "2022-02-18T18:35:35.394Z"
   },
   {
    "duration": 305,
    "start_time": "2022-02-18T18:35:35.675Z"
   },
   {
    "duration": 720,
    "start_time": "2022-02-18T18:35:35.983Z"
   },
   {
    "duration": 530,
    "start_time": "2022-02-18T18:35:36.705Z"
   },
   {
    "duration": 1186,
    "start_time": "2022-02-18T18:35:37.237Z"
   },
   {
    "duration": 3,
    "start_time": "2022-02-18T18:35:38.426Z"
   },
   {
    "duration": 49,
    "start_time": "2022-02-18T18:35:38.432Z"
   },
   {
    "duration": 691,
    "start_time": "2022-02-18T18:35:38.484Z"
   },
   {
    "duration": 772,
    "start_time": "2022-02-18T18:35:39.178Z"
   },
   {
    "duration": 686,
    "start_time": "2022-02-18T18:35:39.953Z"
   },
   {
    "duration": 3,
    "start_time": "2022-02-18T18:35:40.641Z"
   },
   {
    "duration": 750,
    "start_time": "2022-02-18T18:35:40.646Z"
   },
   {
    "duration": 751,
    "start_time": "2022-02-18T18:35:41.399Z"
   },
   {
    "duration": 742,
    "start_time": "2022-02-18T18:35:42.152Z"
   },
   {
    "duration": 333,
    "start_time": "2022-02-18T18:35:42.896Z"
   },
   {
    "duration": 288,
    "start_time": "2022-02-18T18:35:43.231Z"
   },
   {
    "duration": 396,
    "start_time": "2022-02-18T18:35:43.522Z"
   },
   {
    "duration": 313,
    "start_time": "2022-02-18T18:35:43.920Z"
   },
   {
    "duration": 26,
    "start_time": "2022-02-18T18:35:44.236Z"
   },
   {
    "duration": 28,
    "start_time": "2022-02-18T18:35:44.266Z"
   },
   {
    "duration": 24,
    "start_time": "2022-02-18T18:35:44.297Z"
   },
   {
    "duration": 24,
    "start_time": "2022-02-18T18:35:44.324Z"
   },
   {
    "duration": 48,
    "start_time": "2022-02-18T18:35:44.350Z"
   },
   {
    "duration": 25,
    "start_time": "2022-02-18T18:35:44.402Z"
   },
   {
    "duration": 1947,
    "start_time": "2022-02-19T13:08:08.785Z"
   },
   {
    "duration": 210,
    "start_time": "2022-02-19T13:08:10.734Z"
   },
   {
    "duration": 6,
    "start_time": "2022-02-19T13:08:10.948Z"
   },
   {
    "duration": 38,
    "start_time": "2022-02-19T13:08:10.957Z"
   },
   {
    "duration": 41,
    "start_time": "2022-02-19T13:08:10.998Z"
   },
   {
    "duration": 69,
    "start_time": "2022-02-19T13:08:11.042Z"
   },
   {
    "duration": 10,
    "start_time": "2022-02-19T13:08:11.113Z"
   },
   {
    "duration": 13,
    "start_time": "2022-02-19T13:08:11.126Z"
   },
   {
    "duration": 61,
    "start_time": "2022-02-19T13:08:11.144Z"
   },
   {
    "duration": 12,
    "start_time": "2022-02-19T13:08:11.209Z"
   },
   {
    "duration": 13,
    "start_time": "2022-02-19T13:08:11.223Z"
   },
   {
    "duration": 83,
    "start_time": "2022-02-19T13:08:11.239Z"
   },
   {
    "duration": 659,
    "start_time": "2022-02-19T13:08:11.324Z"
   },
   {
    "duration": 9,
    "start_time": "2022-02-19T13:08:11.985Z"
   },
   {
    "duration": 31,
    "start_time": "2022-02-19T13:08:11.996Z"
   },
   {
    "duration": 10,
    "start_time": "2022-02-19T13:08:12.029Z"
   },
   {
    "duration": 292,
    "start_time": "2022-02-19T13:08:12.041Z"
   },
   {
    "duration": 307,
    "start_time": "2022-02-19T13:08:12.336Z"
   },
   {
    "duration": 426,
    "start_time": "2022-02-19T13:08:12.646Z"
   },
   {
    "duration": 34,
    "start_time": "2022-02-19T13:08:13.074Z"
   },
   {
    "duration": 691,
    "start_time": "2022-02-19T13:08:13.111Z"
   },
   {
    "duration": 349,
    "start_time": "2022-02-19T13:08:13.805Z"
   },
   {
    "duration": 373,
    "start_time": "2022-02-19T13:08:14.157Z"
   },
   {
    "duration": 363,
    "start_time": "2022-02-19T13:08:14.533Z"
   },
   {
    "duration": 288,
    "start_time": "2022-02-19T13:08:14.898Z"
   },
   {
    "duration": 294,
    "start_time": "2022-02-19T13:08:15.189Z"
   },
   {
    "duration": 789,
    "start_time": "2022-02-19T13:08:15.487Z"
   },
   {
    "duration": 524,
    "start_time": "2022-02-19T13:08:16.279Z"
   },
   {
    "duration": 1225,
    "start_time": "2022-02-19T13:08:16.805Z"
   },
   {
    "duration": 4,
    "start_time": "2022-02-19T13:08:18.032Z"
   },
   {
    "duration": 27,
    "start_time": "2022-02-19T13:10:09.318Z"
   },
   {
    "duration": 7,
    "start_time": "2022-02-19T13:10:29.973Z"
   },
   {
    "duration": 24,
    "start_time": "2022-02-19T13:10:39.765Z"
   },
   {
    "duration": 376,
    "start_time": "2022-02-19T13:11:08.380Z"
   },
   {
    "duration": 237,
    "start_time": "2022-02-19T13:11:15.604Z"
   },
   {
    "duration": 231,
    "start_time": "2022-02-19T13:11:45.197Z"
   },
   {
    "duration": 17,
    "start_time": "2022-02-19T13:13:20.873Z"
   },
   {
    "duration": 23,
    "start_time": "2022-02-19T13:13:25.695Z"
   },
   {
    "duration": 21,
    "start_time": "2022-02-19T13:13:42.776Z"
   },
   {
    "duration": 23,
    "start_time": "2022-02-19T13:13:50.398Z"
   },
   {
    "duration": 344,
    "start_time": "2022-02-19T13:13:58.509Z"
   },
   {
    "duration": 528,
    "start_time": "2022-02-19T13:14:09.514Z"
   },
   {
    "duration": 351,
    "start_time": "2022-02-19T13:14:17.110Z"
   },
   {
    "duration": 329,
    "start_time": "2022-02-19T13:14:52.125Z"
   },
   {
    "duration": 5896,
    "start_time": "2022-02-19T13:15:46.698Z"
   },
   {
    "duration": 26,
    "start_time": "2022-02-19T13:15:59.009Z"
   },
   {
    "duration": 367,
    "start_time": "2022-02-19T13:16:07.305Z"
   },
   {
    "duration": 28,
    "start_time": "2022-02-19T13:16:12.161Z"
   },
   {
    "duration": 411,
    "start_time": "2022-02-19T13:16:22.385Z"
   },
   {
    "duration": 330,
    "start_time": "2022-02-19T13:16:57.080Z"
   },
   {
    "duration": 255,
    "start_time": "2022-02-19T13:17:05.017Z"
   },
   {
    "duration": 360,
    "start_time": "2022-02-19T13:17:13.300Z"
   },
   {
    "duration": 3,
    "start_time": "2022-09-20T10:22:06.738Z"
   }
  ],
  "kernelspec": {
   "display_name": "Python 3 (ipykernel)",
   "language": "python",
   "name": "python3"
  },
  "language_info": {
   "codemirror_mode": {
    "name": "ipython",
    "version": 3
   },
   "file_extension": ".py",
   "mimetype": "text/x-python",
   "name": "python",
   "nbconvert_exporter": "python",
   "pygments_lexer": "ipython3",
   "version": "3.9.5"
  },
  "toc": {
   "base_numbering": 1,
   "nav_menu": {},
   "number_sections": true,
   "sideBar": true,
   "skip_h1_title": true,
   "title_cell": "Table of Contents",
   "title_sidebar": "Contents",
   "toc_cell": false,
   "toc_position": {
    "height": "calc(100% - 180px)",
    "left": "10px",
    "top": "150px",
    "width": "289.6px"
   },
   "toc_section_display": true,
   "toc_window_display": false
  }
 },
 "nbformat": 4,
 "nbformat_minor": 2
}
