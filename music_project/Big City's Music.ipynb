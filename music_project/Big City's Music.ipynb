{
 "cells": [
  {
   "cell_type": "markdown",
   "metadata": {
    "id": "E0vqbgi9ay0H"
   },
   "source": [
    "# Яндекс.Музыка: сравнение двух столиц"
   ]
  },
  {
   "cell_type": "markdown",
   "metadata": {
    "id": "VUC88oWjTJw2"
   },
   "source": [
    "Сравнение Москвы и Петербурга окружено мифами. Например:\n",
    " * Москва — мегаполис, подчинённый жёсткому ритму рабочей недели;\n",
    " * Петербург — культурная столица, со своими вкусами.\n",
    "\n",
    "На данных Яндекс.Музыки будет проведено сравнение поведения пользователей двух столиц.\n",
    "\n",
    "**Цель исследования** — проверим три гипотезы:\n",
    "1. Активность пользователей зависит от дня недели. Причём в Москве и Петербурге это проявляется по-разному.\n",
    "2. В понедельник утром в Москве преобладают одни жанры, а в Петербурге — другие. Так же и вечером пятницы преобладают разные жанры — в зависимости от города. \n",
    "3. Москва и Петербург предпочитают разные жанры музыки. В Москве чаще слушают поп-музыку, в Петербурге — русский рэп.\n",
    "\n",
    "**Ход исследования**\n",
    "\n",
    "Данные о поведении пользователей будут получены из файла `yandex_music_project.csv`. О качестве данных ничего не известно. Поэтому перед проверкой гипотез понадобится обзор данных. \n",
    "\n",
    "Проверим данные на ошибки и оценим их влияние на исследование. Затем, на этапе предобработки  поищем возможность исправить самые критичные ошибки данных.\n",
    " \n",
    "Таким образом, исследование пройдёт в три этапа:\n",
    " 1. Обзор данных.\n",
    " 2. Предобработка данных.\n",
    " 3. Проверка гипотез.\n",
    "\n"
   ]
  },
  {
   "cell_type": "markdown",
   "metadata": {
    "id": "Ml1hmfXC_Zcs"
   },
   "source": [
    "## Обзор данных"
   ]
  },
  {
   "cell_type": "markdown",
   "metadata": {
    "id": "57eAOGIz_Zcs"
   },
   "source": [
    "Основной инструмент аналитика — `pandas`. Импортируем эту библиотеку."
   ]
  },
  {
   "cell_type": "code",
   "execution_count": 45,
   "metadata": {
    "id": "AXN7PHPN_Zcs"
   },
   "outputs": [],
   "source": [
    "import pandas as pd"
   ]
  },
  {
   "cell_type": "markdown",
   "metadata": {
    "id": "SG23P8tt_Zcs"
   },
   "source": [
    "Прочитаем файл `yandex_music_project.csv` из папки `/datasets` и сохраним его в переменной `df`:"
   ]
  },
  {
   "cell_type": "code",
   "execution_count": 46,
   "metadata": {
    "id": "fFVu7vqh_Zct"
   },
   "outputs": [],
   "source": [
    "df = pd.read_csv('https://code.s3.yandex.net/datasets/yandex_music_project.csv')"
   ]
  },
  {
   "cell_type": "markdown",
   "metadata": {
    "id": "rDoOMd3uTqnZ"
   },
   "source": [
    "Выведем на экран первые десять строк таблицы:"
   ]
  },
  {
   "cell_type": "code",
   "execution_count": 47,
   "metadata": {
    "id": "oWTVX3gW_Zct"
   },
   "outputs": [
    {
     "data": {
      "text/html": [
       "<div>\n",
       "<style scoped>\n",
       "    .dataframe tbody tr th:only-of-type {\n",
       "        vertical-align: middle;\n",
       "    }\n",
       "\n",
       "    .dataframe tbody tr th {\n",
       "        vertical-align: top;\n",
       "    }\n",
       "\n",
       "    .dataframe thead th {\n",
       "        text-align: right;\n",
       "    }\n",
       "</style>\n",
       "<table border=\"1\" class=\"dataframe\">\n",
       "  <thead>\n",
       "    <tr style=\"text-align: right;\">\n",
       "      <th></th>\n",
       "      <th>userID</th>\n",
       "      <th>Track</th>\n",
       "      <th>artist</th>\n",
       "      <th>genre</th>\n",
       "      <th>City</th>\n",
       "      <th>time</th>\n",
       "      <th>Day</th>\n",
       "    </tr>\n",
       "  </thead>\n",
       "  <tbody>\n",
       "    <tr>\n",
       "      <th>0</th>\n",
       "      <td>FFB692EC</td>\n",
       "      <td>Kamigata To Boots</td>\n",
       "      <td>The Mass Missile</td>\n",
       "      <td>rock</td>\n",
       "      <td>Saint-Petersburg</td>\n",
       "      <td>20:28:33</td>\n",
       "      <td>Wednesday</td>\n",
       "    </tr>\n",
       "    <tr>\n",
       "      <th>1</th>\n",
       "      <td>55204538</td>\n",
       "      <td>Delayed Because of Accident</td>\n",
       "      <td>Andreas Rönnberg</td>\n",
       "      <td>rock</td>\n",
       "      <td>Moscow</td>\n",
       "      <td>14:07:09</td>\n",
       "      <td>Friday</td>\n",
       "    </tr>\n",
       "    <tr>\n",
       "      <th>2</th>\n",
       "      <td>20EC38</td>\n",
       "      <td>Funiculì funiculà</td>\n",
       "      <td>Mario Lanza</td>\n",
       "      <td>pop</td>\n",
       "      <td>Saint-Petersburg</td>\n",
       "      <td>20:58:07</td>\n",
       "      <td>Wednesday</td>\n",
       "    </tr>\n",
       "    <tr>\n",
       "      <th>3</th>\n",
       "      <td>A3DD03C9</td>\n",
       "      <td>Dragons in the Sunset</td>\n",
       "      <td>Fire + Ice</td>\n",
       "      <td>folk</td>\n",
       "      <td>Saint-Petersburg</td>\n",
       "      <td>08:37:09</td>\n",
       "      <td>Monday</td>\n",
       "    </tr>\n",
       "    <tr>\n",
       "      <th>4</th>\n",
       "      <td>E2DC1FAE</td>\n",
       "      <td>Soul People</td>\n",
       "      <td>Space Echo</td>\n",
       "      <td>dance</td>\n",
       "      <td>Moscow</td>\n",
       "      <td>08:34:34</td>\n",
       "      <td>Monday</td>\n",
       "    </tr>\n",
       "    <tr>\n",
       "      <th>5</th>\n",
       "      <td>842029A1</td>\n",
       "      <td>Преданная</td>\n",
       "      <td>IMPERVTOR</td>\n",
       "      <td>rusrap</td>\n",
       "      <td>Saint-Petersburg</td>\n",
       "      <td>13:09:41</td>\n",
       "      <td>Friday</td>\n",
       "    </tr>\n",
       "    <tr>\n",
       "      <th>6</th>\n",
       "      <td>4CB90AA5</td>\n",
       "      <td>True</td>\n",
       "      <td>Roman Messer</td>\n",
       "      <td>dance</td>\n",
       "      <td>Moscow</td>\n",
       "      <td>13:00:07</td>\n",
       "      <td>Wednesday</td>\n",
       "    </tr>\n",
       "    <tr>\n",
       "      <th>7</th>\n",
       "      <td>F03E1C1F</td>\n",
       "      <td>Feeling This Way</td>\n",
       "      <td>Polina Griffith</td>\n",
       "      <td>dance</td>\n",
       "      <td>Moscow</td>\n",
       "      <td>20:47:49</td>\n",
       "      <td>Wednesday</td>\n",
       "    </tr>\n",
       "    <tr>\n",
       "      <th>8</th>\n",
       "      <td>8FA1D3BE</td>\n",
       "      <td>И вновь продолжается бой</td>\n",
       "      <td>NaN</td>\n",
       "      <td>ruspop</td>\n",
       "      <td>Moscow</td>\n",
       "      <td>09:17:40</td>\n",
       "      <td>Friday</td>\n",
       "    </tr>\n",
       "    <tr>\n",
       "      <th>9</th>\n",
       "      <td>E772D5C0</td>\n",
       "      <td>Pessimist</td>\n",
       "      <td>NaN</td>\n",
       "      <td>dance</td>\n",
       "      <td>Saint-Petersburg</td>\n",
       "      <td>21:20:49</td>\n",
       "      <td>Wednesday</td>\n",
       "    </tr>\n",
       "  </tbody>\n",
       "</table>\n",
       "</div>"
      ],
      "text/plain": [
       "     userID                        Track            artist   genre  \\\n",
       "0  FFB692EC            Kamigata To Boots  The Mass Missile    rock   \n",
       "1  55204538  Delayed Because of Accident  Andreas Rönnberg    rock   \n",
       "2    20EC38            Funiculì funiculà       Mario Lanza     pop   \n",
       "3  A3DD03C9        Dragons in the Sunset        Fire + Ice    folk   \n",
       "4  E2DC1FAE                  Soul People        Space Echo   dance   \n",
       "5  842029A1                    Преданная         IMPERVTOR  rusrap   \n",
       "6  4CB90AA5                         True      Roman Messer   dance   \n",
       "7  F03E1C1F             Feeling This Way   Polina Griffith   dance   \n",
       "8  8FA1D3BE     И вновь продолжается бой               NaN  ruspop   \n",
       "9  E772D5C0                    Pessimist               NaN   dance   \n",
       "\n",
       "             City        time        Day  \n",
       "0  Saint-Petersburg  20:28:33  Wednesday  \n",
       "1            Moscow  14:07:09     Friday  \n",
       "2  Saint-Petersburg  20:58:07  Wednesday  \n",
       "3  Saint-Petersburg  08:37:09     Monday  \n",
       "4            Moscow  08:34:34     Monday  \n",
       "5  Saint-Petersburg  13:09:41     Friday  \n",
       "6            Moscow  13:00:07  Wednesday  \n",
       "7            Moscow  20:47:49  Wednesday  \n",
       "8            Moscow  09:17:40     Friday  \n",
       "9  Saint-Petersburg  21:20:49  Wednesday  "
      ]
     },
     "metadata": {},
     "output_type": "display_data"
    }
   ],
   "source": [
    "display(df.head(10))"
   ]
  },
  {
   "cell_type": "markdown",
   "metadata": {
    "id": "EO73Kwic_Zct"
   },
   "source": [
    "Одной командой получим общую информацию о таблице:"
   ]
  },
  {
   "cell_type": "code",
   "execution_count": 48,
   "metadata": {
    "id": "DSf2kIb-_Zct"
   },
   "outputs": [
    {
     "name": "stdout",
     "output_type": "stream",
     "text": [
      "<class 'pandas.core.frame.DataFrame'>\n",
      "RangeIndex: 65079 entries, 0 to 65078\n",
      "Data columns (total 7 columns):\n",
      " #   Column    Non-Null Count  Dtype \n",
      "---  ------    --------------  ----- \n",
      " 0     userID  65079 non-null  object\n",
      " 1   Track     63848 non-null  object\n",
      " 2   artist    57876 non-null  object\n",
      " 3   genre     63881 non-null  object\n",
      " 4     City    65079 non-null  object\n",
      " 5   time      65079 non-null  object\n",
      " 6   Day       65079 non-null  object\n",
      "dtypes: object(7)\n",
      "memory usage: 3.5+ MB\n"
     ]
    }
   ],
   "source": [
    "df.info()"
   ]
  },
  {
   "cell_type": "markdown",
   "metadata": {
    "id": "TaQ2Iwbr_Zct"
   },
   "source": [
    "Итак, в таблице семь столбцов. Тип данных во всех столбцах — `object`.\n",
    "\n",
    "Согласно документации к данным:\n",
    "* `userID` — идентификатор пользователя;\n",
    "* `Track` — название трека;  \n",
    "* `artist` — имя исполнителя;\n",
    "* `genre` — название жанра;\n",
    "* `City` — город пользователя;\n",
    "* `time` — время начала прослушивания;\n",
    "* `Day` — день недели.\n",
    "\n",
    "В названиях колонок видны три нарушения стиля:\n",
    "1. Строчные буквы сочетаются с прописными.\n",
    "2. Встречаются пробелы.\n",
    "3. Слитное написание в смешанном регистре идентификатора пользователя. Стиль - это 'user_id' !\n",
    "\n",
    "\n",
    "\n",
    "Количество значений в столбцах различается. Значит, в данных есть пропущенные значения.\n"
   ]
  },
  {
   "cell_type": "markdown",
   "metadata": {
    "id": "MCB6-dXG_Zct"
   },
   "source": [
    "**Выводы**\n",
    "\n",
    "В каждой строке таблицы — данные о прослушанном треке. Часть колонок описывает саму композицию: название, исполнителя и жанр. Остальные данные рассказывают о пользователе: из какого он города, когда он слушал музыку. \n",
    "\n",
    "Предварительно можно утверждать, что, данных достаточно для проверки гипотез. Но встречаются пропуски в данных, а в названиях колонок — расхождения с хорошим стилем.\n",
    "\n",
    "Чтобы двигаться дальше, нужно устранить проблемы в данных."
   ]
  },
  {
   "cell_type": "markdown",
   "metadata": {
    "id": "SjYF6Ub9_Zct"
   },
   "source": [
    "## Предобработка данных\n",
    "Исправим стиль в заголовках столбцов, исключим пропуски. Затем проверим данные на дубликаты."
   ]
  },
  {
   "cell_type": "markdown",
   "metadata": {
    "id": "dIaKXr29_Zct"
   },
   "source": [
    "### Стиль заголовков\n",
    "Выведем на экран названия столбцов:"
   ]
  },
  {
   "cell_type": "code",
   "execution_count": 49,
   "metadata": {
    "id": "oKOTdF_Q_Zct"
   },
   "outputs": [
    {
     "data": {
      "text/plain": [
       "Index(['  userID', 'Track', 'artist', 'genre', '  City  ', 'time', 'Day'], dtype='object')"
      ]
     },
     "metadata": {},
     "output_type": "display_data"
    }
   ],
   "source": [
    "display(df.columns)"
   ]
  },
  {
   "cell_type": "markdown",
   "metadata": {
    "id": "zj5534cv_Zct"
   },
   "source": [
    "Приведём названия в соответствие с хорошим стилем:\n",
    "* несколько слов в названии запишем в «змеином_регистре»,\n",
    "* все символы сделаем строчными,\n",
    "* устраним пробелы.\n",
    "\n",
    "Для этого переименуем колонки так:\n",
    "* `'  userID'` → `'user_id'`;\n",
    "* `'Track'` → `'track'`;\n",
    "* `'  City  '` → `'city'`;\n",
    "* `'Day'` → `'day'`."
   ]
  },
  {
   "cell_type": "code",
   "execution_count": 50,
   "metadata": {
    "id": "ISlFqs5y_Zct",
    "scrolled": false
   },
   "outputs": [],
   "source": [
    "df = df.rename(columns = {'  userID':'user_id', 'Track':'track', '  City  ':'city', 'Day':'day'})# переименование столбцов"
   ]
  },
  {
   "cell_type": "markdown",
   "metadata": {
    "id": "1dqbh00J_Zct"
   },
   "source": [
    "Проверим результат. Для этого ещё раз выведем на экран названия столбцов:"
   ]
  },
  {
   "cell_type": "code",
   "execution_count": 51,
   "metadata": {
    "id": "d4NOAmTW_Zct"
   },
   "outputs": [
    {
     "data": {
      "text/plain": [
       "Index(['user_id', 'track', 'artist', 'genre', 'city', 'time', 'day'], dtype='object')"
      ]
     },
     "metadata": {},
     "output_type": "display_data"
    }
   ],
   "source": [
    "display(df.columns)"
   ]
  },
  {
   "cell_type": "markdown",
   "metadata": {
    "id": "5ISfbcfY_Zct"
   },
   "source": [
    "### Пропуски значений\n",
    "Сначала посчитаем, сколько в таблице пропущенных значений. Для этого достаточно двух методов `pandas`:"
   ]
  },
  {
   "cell_type": "code",
   "execution_count": 52,
   "metadata": {
    "id": "RskX29qr_Zct"
   },
   "outputs": [
    {
     "data": {
      "text/plain": [
       "user_id       0\n",
       "track      1231\n",
       "artist     7203\n",
       "genre      1198\n",
       "city          0\n",
       "time          0\n",
       "day           0\n",
       "dtype: int64"
      ]
     },
     "execution_count": 52,
     "metadata": {},
     "output_type": "execute_result"
    }
   ],
   "source": [
    "df.isna().sum()"
   ]
  },
  {
   "cell_type": "markdown",
   "metadata": {
    "id": "qubhgnlO_Zct"
   },
   "source": [
    "Не все пропущенные значения влияют на исследование. Так в `track` и `artist` пропуски не важны для нашей работы. Достаточно заменить их явными обозначениями.\n",
    "\n",
    "Но пропуски в `genre` могут помешать сравнению музыкальных вкусов в Москве и Санкт-Петербурге. На практике было бы правильно установить причину пропусков и восстановить данные. Такой возможности нет в учебном проекте. Придётся:\n",
    "* заполнить и эти пропуски явными обозначениями,\n",
    "* оценить, насколько они повредят расчётам. "
   ]
  },
  {
   "cell_type": "markdown",
   "metadata": {
    "id": "fSv2laPA_Zct"
   },
   "source": [
    "Заменим пропущенные значения в столбцах `track`, `artist` и `genre` на строку `'unknown'`. Для этого создадим список `columns_to_replace`, переберём его элементы циклом `for` и для каждого столбца выполним замену пропущенных значений:"
   ]
  },
  {
   "cell_type": "code",
   "execution_count": 53,
   "metadata": {
    "id": "KplB5qWs_Zct"
   },
   "outputs": [],
   "source": [
    "columns_to_replace = ['track', 'artist', 'genre']\n",
    "for i in  columns_to_replace:\n",
    "    df[i] = df[i].fillna('unknown')\n"
   ]
  },
  {
   "cell_type": "markdown",
   "metadata": {
    "id": "Ilsm-MZo_Zct"
   },
   "source": [
    "Убедимся, что в таблице не осталось пропусков. Для этого ещё раз посчитаем пропущенные значения."
   ]
  },
  {
   "cell_type": "code",
   "execution_count": 54,
   "metadata": {
    "id": "Tq4nYRX4_Zct"
   },
   "outputs": [
    {
     "data": {
      "text/plain": [
       "user_id    0\n",
       "track      0\n",
       "artist     0\n",
       "genre      0\n",
       "city       0\n",
       "time       0\n",
       "day        0\n",
       "dtype: int64"
      ]
     },
     "execution_count": 54,
     "metadata": {},
     "output_type": "execute_result"
    }
   ],
   "source": [
    "df.isna().sum()"
   ]
  },
  {
   "cell_type": "markdown",
   "metadata": {
    "id": "BWKRtBJ3_Zct"
   },
   "source": [
    "### Дубликаты\n",
    "Посчитаем явные дубликаты в таблице одной командой:"
   ]
  },
  {
   "cell_type": "code",
   "execution_count": 55,
   "metadata": {
    "id": "36eES_S0_Zct"
   },
   "outputs": [
    {
     "data": {
      "text/plain": [
       "3826"
      ]
     },
     "execution_count": 55,
     "metadata": {},
     "output_type": "execute_result"
    }
   ],
   "source": [
    "df.duplicated().sum()"
   ]
  },
  {
   "cell_type": "markdown",
   "metadata": {
    "id": "Ot25h6XR_Zct"
   },
   "source": [
    "Вызовем специальный метод `pandas`, чтобы удалить явные дубликаты:"
   ]
  },
  {
   "cell_type": "code",
   "execution_count": 56,
   "metadata": {
    "id": "exFHq6tt_Zct"
   },
   "outputs": [],
   "source": [
    "df = df.drop_duplicates().reset_index(drop = True)"
   ]
  },
  {
   "cell_type": "markdown",
   "metadata": {
    "id": "Im2YwBEG_Zct"
   },
   "source": [
    "Ещё раз посчитаем явные дубликаты в таблице — убедимся, что полностью от них избавились:"
   ]
  },
  {
   "cell_type": "code",
   "execution_count": 57,
   "metadata": {
    "id": "-8PuNWQ0_Zct"
   },
   "outputs": [
    {
     "data": {
      "text/plain": [
       "0"
      ]
     },
     "execution_count": 57,
     "metadata": {},
     "output_type": "execute_result"
    }
   ],
   "source": [
    "df.duplicated().sum()"
   ]
  },
  {
   "cell_type": "markdown",
   "metadata": {
    "id": "QlFBsxAr_Zct"
   },
   "source": [
    "Теперь избавимся от неявных дубликатов в колонке `genre`. Например, название одного и того же жанра может быть записано немного по-разному. Такие ошибки тоже повлияют на результат исследования."
   ]
  },
  {
   "cell_type": "markdown",
   "metadata": {
    "id": "eSjWwsOh_Zct"
   },
   "source": [
    "Выведем на экран список уникальных названий жанров, отсортированный в алфавитном порядке. Для этого:\n",
    "* извлечём нужный столбец датафрейма, \n",
    "* применим к нему метод сортировки,\n",
    "* для отсортированного столбца вызовем метод, который вернёт уникальные значения из столбца."
   ]
  },
  {
   "cell_type": "code",
   "execution_count": 58,
   "metadata": {
    "id": "JIUcqzZN_Zct"
   },
   "outputs": [
    {
     "data": {
      "text/plain": [
       "array(['acid', 'acoustic', 'action', 'adult', 'africa', 'afrikaans',\n",
       "       'alternative', 'alternativepunk', 'ambient', 'americana',\n",
       "       'animated', 'anime', 'arabesk', 'arabic', 'arena',\n",
       "       'argentinetango', 'art', 'audiobook', 'author', 'avantgarde',\n",
       "       'axé', 'baile', 'balkan', 'beats', 'bigroom', 'black', 'bluegrass',\n",
       "       'blues', 'bollywood', 'bossa', 'brazilian', 'breakbeat', 'breaks',\n",
       "       'broadway', 'cantautori', 'cantopop', 'canzone', 'caribbean',\n",
       "       'caucasian', 'celtic', 'chamber', 'chanson', 'children', 'chill',\n",
       "       'chinese', 'choral', 'christian', 'christmas', 'classical',\n",
       "       'classicmetal', 'club', 'colombian', 'comedy', 'conjazz',\n",
       "       'contemporary', 'country', 'cuban', 'dance', 'dancehall',\n",
       "       'dancepop', 'dark', 'death', 'deep', 'deutschrock', 'deutschspr',\n",
       "       'dirty', 'disco', 'dnb', 'documentary', 'downbeat', 'downtempo',\n",
       "       'drum', 'dub', 'dubstep', 'eastern', 'easy', 'electronic',\n",
       "       'electropop', 'emo', 'entehno', 'epicmetal', 'estrada', 'ethnic',\n",
       "       'eurofolk', 'european', 'experimental', 'extrememetal', 'fado',\n",
       "       'fairytail', 'film', 'fitness', 'flamenco', 'folk', 'folklore',\n",
       "       'folkmetal', 'folkrock', 'folktronica', 'forró', 'frankreich',\n",
       "       'französisch', 'french', 'funk', 'future', 'gangsta', 'garage',\n",
       "       'german', 'ghazal', 'gitarre', 'glitch', 'gospel', 'gothic',\n",
       "       'grime', 'grunge', 'gypsy', 'handsup', \"hard'n'heavy\", 'hardcore',\n",
       "       'hardstyle', 'hardtechno', 'hip', 'hip-hop', 'hiphop',\n",
       "       'historisch', 'holiday', 'hop', 'horror', 'house', 'hymn', 'idm',\n",
       "       'independent', 'indian', 'indie', 'indipop', 'industrial',\n",
       "       'inspirational', 'instrumental', 'international', 'irish', 'jam',\n",
       "       'japanese', 'jazz', 'jewish', 'jpop', 'jungle', 'k-pop',\n",
       "       'karadeniz', 'karaoke', 'kayokyoku', 'korean', 'laiko', 'latin',\n",
       "       'latino', 'leftfield', 'local', 'lounge', 'loungeelectronic',\n",
       "       'lovers', 'malaysian', 'mandopop', 'marschmusik', 'meditative',\n",
       "       'mediterranean', 'melodic', 'metal', 'metalcore', 'mexican',\n",
       "       'middle', 'minimal', 'miscellaneous', 'modern', 'mood', 'mpb',\n",
       "       'muslim', 'native', 'neoklassik', 'neue', 'new', 'newage',\n",
       "       'newwave', 'nu', 'nujazz', 'numetal', 'oceania', 'old', 'opera',\n",
       "       'orchestral', 'other', 'piano', 'podcasts', 'pop', 'popdance',\n",
       "       'popelectronic', 'popeurodance', 'poprussian', 'post',\n",
       "       'posthardcore', 'postrock', 'power', 'progmetal', 'progressive',\n",
       "       'psychedelic', 'punjabi', 'punk', 'quebecois', 'ragga', 'ram',\n",
       "       'rancheras', 'rap', 'rave', 'reggae', 'reggaeton', 'regional',\n",
       "       'relax', 'religious', 'retro', 'rhythm', 'rnb', 'rnr', 'rock',\n",
       "       'rockabilly', 'rockalternative', 'rockindie', 'rockother',\n",
       "       'romance', 'roots', 'ruspop', 'rusrap', 'rusrock', 'russian',\n",
       "       'salsa', 'samba', 'scenic', 'schlager', 'self', 'sertanejo',\n",
       "       'shanson', 'shoegazing', 'showtunes', 'singer', 'ska', 'skarock',\n",
       "       'slow', 'smooth', 'soft', 'soul', 'soulful', 'sound', 'soundtrack',\n",
       "       'southern', 'specialty', 'speech', 'spiritual', 'sport',\n",
       "       'stonerrock', 'surf', 'swing', 'synthpop', 'synthrock',\n",
       "       'sängerportrait', 'tango', 'tanzorchester', 'taraftar', 'tatar',\n",
       "       'tech', 'techno', 'teen', 'thrash', 'top', 'traditional',\n",
       "       'tradjazz', 'trance', 'tribal', 'trip', 'triphop', 'tropical',\n",
       "       'türk', 'türkçe', 'ukrrock', 'unknown', 'urban', 'uzbek',\n",
       "       'variété', 'vi', 'videogame', 'vocal', 'western', 'world',\n",
       "       'worldbeat', 'ïîï', 'электроника'], dtype=object)"
      ]
     },
     "execution_count": 58,
     "metadata": {},
     "output_type": "execute_result"
    }
   ],
   "source": [
    "df['genre'].sort_values().unique()"
   ]
  },
  {
   "cell_type": "markdown",
   "metadata": {
    "id": "qej-Qmuo_Zct"
   },
   "source": [
    "Просмотрим список и найдём неявные дубликаты названия `hiphop`. Это могут быть названия с ошибками или альтернативные названия того же жанра.\n",
    "\n",
    "Видим следующие неявные дубликаты:\n",
    "* *hip*,\n",
    "* *hop*,\n",
    "* *hip-hop*.\n",
    "\n",
    "Чтобы очистить от них таблицу, напишем функцию `replace_wrong_genres()` с двумя параметрами: \n",
    "* `wrong_genres` — список дубликатов,\n",
    "* `correct_genre` — строка с правильным значением.\n",
    "\n",
    "Функция должна исправить колонку `genre` в таблице `df`: заменить каждое значение из списка `wrong_genres` на значение из `correct_genre`."
   ]
  },
  {
   "cell_type": "code",
   "execution_count": 59,
   "metadata": {
    "id": "ErNDkmns_Zct"
   },
   "outputs": [],
   "source": [
    "def replace_wrong_genres(wrong_genres, correct_genre):\n",
    "    for wrong_genre in wrong_genres:\n",
    "        df['genre'] = df['genre'].replace(wrong_genre, correct_genre)\n"
   ]
  },
  {
   "cell_type": "markdown",
   "metadata": {
    "id": "aDoBJxbA_Zct"
   },
   "source": [
    "Вызовем `replace_wrong_genres()` и передадим ей такие аргументы, чтобы она устранила неявные дубликаты: вместо `hip`, `hop` и `hip-hop` в таблице должно быть значение `hiphop`:"
   ]
  },
  {
   "cell_type": "code",
   "execution_count": 60,
   "metadata": {
    "id": "YN5i2hpmSo09"
   },
   "outputs": [],
   "source": [
    "duplicates = ['hip', 'hop', 'hip-hop']\n",
    "name = 'hiphop'\n",
    "replace_wrong_genres(duplicates, name)"
   ]
  },
  {
   "cell_type": "markdown",
   "metadata": {
    "id": "zQKF16_RG15m"
   },
   "source": [
    "Проверим, что заменили неправильные названия:\n",
    "\n",
    "*   hip\n",
    "*   hop\n",
    "*   hip-hop\n",
    "\n",
    "Выведем отсортированный список уникальных значений столбца `genre`:"
   ]
  },
  {
   "cell_type": "code",
   "execution_count": 61,
   "metadata": {
    "id": "wvixALnFG15m"
   },
   "outputs": [
    {
     "data": {
      "text/plain": [
       "array(['acid', 'acoustic', 'action', 'adult', 'africa', 'afrikaans',\n",
       "       'alternative', 'alternativepunk', 'ambient', 'americana',\n",
       "       'animated', 'anime', 'arabesk', 'arabic', 'arena',\n",
       "       'argentinetango', 'art', 'audiobook', 'author', 'avantgarde',\n",
       "       'axé', 'baile', 'balkan', 'beats', 'bigroom', 'black', 'bluegrass',\n",
       "       'blues', 'bollywood', 'bossa', 'brazilian', 'breakbeat', 'breaks',\n",
       "       'broadway', 'cantautori', 'cantopop', 'canzone', 'caribbean',\n",
       "       'caucasian', 'celtic', 'chamber', 'chanson', 'children', 'chill',\n",
       "       'chinese', 'choral', 'christian', 'christmas', 'classical',\n",
       "       'classicmetal', 'club', 'colombian', 'comedy', 'conjazz',\n",
       "       'contemporary', 'country', 'cuban', 'dance', 'dancehall',\n",
       "       'dancepop', 'dark', 'death', 'deep', 'deutschrock', 'deutschspr',\n",
       "       'dirty', 'disco', 'dnb', 'documentary', 'downbeat', 'downtempo',\n",
       "       'drum', 'dub', 'dubstep', 'eastern', 'easy', 'electronic',\n",
       "       'electropop', 'emo', 'entehno', 'epicmetal', 'estrada', 'ethnic',\n",
       "       'eurofolk', 'european', 'experimental', 'extrememetal', 'fado',\n",
       "       'fairytail', 'film', 'fitness', 'flamenco', 'folk', 'folklore',\n",
       "       'folkmetal', 'folkrock', 'folktronica', 'forró', 'frankreich',\n",
       "       'französisch', 'french', 'funk', 'future', 'gangsta', 'garage',\n",
       "       'german', 'ghazal', 'gitarre', 'glitch', 'gospel', 'gothic',\n",
       "       'grime', 'grunge', 'gypsy', 'handsup', \"hard'n'heavy\", 'hardcore',\n",
       "       'hardstyle', 'hardtechno', 'hiphop', 'historisch', 'holiday',\n",
       "       'horror', 'house', 'hymn', 'idm', 'independent', 'indian', 'indie',\n",
       "       'indipop', 'industrial', 'inspirational', 'instrumental',\n",
       "       'international', 'irish', 'jam', 'japanese', 'jazz', 'jewish',\n",
       "       'jpop', 'jungle', 'k-pop', 'karadeniz', 'karaoke', 'kayokyoku',\n",
       "       'korean', 'laiko', 'latin', 'latino', 'leftfield', 'local',\n",
       "       'lounge', 'loungeelectronic', 'lovers', 'malaysian', 'mandopop',\n",
       "       'marschmusik', 'meditative', 'mediterranean', 'melodic', 'metal',\n",
       "       'metalcore', 'mexican', 'middle', 'minimal', 'miscellaneous',\n",
       "       'modern', 'mood', 'mpb', 'muslim', 'native', 'neoklassik', 'neue',\n",
       "       'new', 'newage', 'newwave', 'nu', 'nujazz', 'numetal', 'oceania',\n",
       "       'old', 'opera', 'orchestral', 'other', 'piano', 'podcasts', 'pop',\n",
       "       'popdance', 'popelectronic', 'popeurodance', 'poprussian', 'post',\n",
       "       'posthardcore', 'postrock', 'power', 'progmetal', 'progressive',\n",
       "       'psychedelic', 'punjabi', 'punk', 'quebecois', 'ragga', 'ram',\n",
       "       'rancheras', 'rap', 'rave', 'reggae', 'reggaeton', 'regional',\n",
       "       'relax', 'religious', 'retro', 'rhythm', 'rnb', 'rnr', 'rock',\n",
       "       'rockabilly', 'rockalternative', 'rockindie', 'rockother',\n",
       "       'romance', 'roots', 'ruspop', 'rusrap', 'rusrock', 'russian',\n",
       "       'salsa', 'samba', 'scenic', 'schlager', 'self', 'sertanejo',\n",
       "       'shanson', 'shoegazing', 'showtunes', 'singer', 'ska', 'skarock',\n",
       "       'slow', 'smooth', 'soft', 'soul', 'soulful', 'sound', 'soundtrack',\n",
       "       'southern', 'specialty', 'speech', 'spiritual', 'sport',\n",
       "       'stonerrock', 'surf', 'swing', 'synthpop', 'synthrock',\n",
       "       'sängerportrait', 'tango', 'tanzorchester', 'taraftar', 'tatar',\n",
       "       'tech', 'techno', 'teen', 'thrash', 'top', 'traditional',\n",
       "       'tradjazz', 'trance', 'tribal', 'trip', 'triphop', 'tropical',\n",
       "       'türk', 'türkçe', 'ukrrock', 'unknown', 'urban', 'uzbek',\n",
       "       'variété', 'vi', 'videogame', 'vocal', 'western', 'world',\n",
       "       'worldbeat', 'ïîï', 'электроника'], dtype=object)"
      ]
     },
     "metadata": {},
     "output_type": "display_data"
    }
   ],
   "source": [
    "display(df['genre'].sort_values().unique())"
   ]
  },
  {
   "cell_type": "markdown",
   "metadata": {
    "id": "jz6a9-7HQUDd"
   },
   "source": [
    "**Выводы**\n",
    "\n",
    "Предобработка обнаружила три проблемы в данных:\n",
    "\n",
    "- нарушения в стиле заголовков,\n",
    "- пропущенные значения,\n",
    "- дубликаты — явные и неявные. (Также существуют дубликаты в других жанрах.)\n",
    "\n",
    "Мы исправили заголовки, чтобы упростить работу с таблицей. Без дубликатов исследование станет более точным.\n",
    "\n",
    "Пропущенные значения мы заменили на `'unknown'`. Ещё предстоит увидеть, не повредят ли исследованию пропуски в колонке `genre`.\n",
    "\n",
    "Теперь можно перейти к проверке гипотез. "
   ]
  },
  {
   "cell_type": "markdown",
   "metadata": {
    "id": "WttZHXH0SqKk"
   },
   "source": [
    "## Проверка гипотез"
   ]
  },
  {
   "cell_type": "markdown",
   "metadata": {
    "id": "Im936VVi_Zcu"
   },
   "source": [
    "### Сравнение поведения пользователей двух столиц"
   ]
  },
  {
   "cell_type": "markdown",
   "metadata": {
    "id": "nwt_MuaL_Zcu"
   },
   "source": [
    "Первая гипотеза утверждает, что пользователи по-разному слушают музыку в Москве и Санкт-Петербурге. Проверим это предположение по данным о трёх днях недели — понедельнике, среде и пятнице. Для этого:\n",
    "\n",
    "* Разделим пользователей Москвы и Санкт-Петербурга\n",
    "* Сравним, сколько треков послушала каждая группа пользователей в понедельник, среду и пятницу.\n"
   ]
  },
  {
   "cell_type": "markdown",
   "metadata": {
    "id": "8Dw_YMmT_Zcu"
   },
   "source": [
    "Для тренировки сначала выполним каждый из расчётов по отдельности. \n",
    "\n",
    "Оценим активность пользователей в каждом городе. Сгруппируем данные по городу и посчитаем прослушивания в каждой группе."
   ]
  },
  {
   "cell_type": "code",
   "execution_count": 62,
   "metadata": {
    "id": "0_Qs96oh_Zcu"
   },
   "outputs": [
    {
     "data": {
      "text/plain": [
       "'Прослушиваний в Москве:'"
      ]
     },
     "metadata": {},
     "output_type": "display_data"
    },
    {
     "data": {
      "text/plain": [
       "42741"
      ]
     },
     "metadata": {},
     "output_type": "display_data"
    },
    {
     "data": {
      "text/plain": [
       "'Прослушиваний в Санкт-Петербурге:'"
      ]
     },
     "metadata": {},
     "output_type": "display_data"
    },
    {
     "data": {
      "text/plain": [
       "18512"
      ]
     },
     "metadata": {},
     "output_type": "display_data"
    }
   ],
   "source": [
    "moscow_listening = df[df['city'] == 'Moscow']['city'].count()\n",
    "display('Прослушиваний в Москве:', moscow_listening)\n",
    "\n",
    "petersburg_listening = df[df['city'] == 'Saint-Petersburg']['city'].count()\n",
    "display('Прослушиваний в Санкт-Петербурге:', petersburg_listening)\n"
   ]
  },
  {
   "cell_type": "markdown",
   "metadata": {
    "id": "dzli3w8o_Zcu"
   },
   "source": [
    "В Москве прослушиваний больше, чем в Петербурге. Из этого не следует, что московские пользователи чаще слушают музыку. Просто самих пользователей в Москве больше.\n",
    "\n",
    "Теперь сгруппируем данные по дню недели и подсчитаем прослушивания в понедельник, среду и пятницу. Учтём, что в данных есть информация только о прослушиваниях только за эти дни.\n"
   ]
  },
  {
   "cell_type": "code",
   "execution_count": 63,
   "metadata": {
    "id": "uZMKjiJz_Zcu"
   },
   "outputs": [
    {
     "data": {
      "text/plain": [
       "'По понедельникам в обоих городах слушают:'"
      ]
     },
     "metadata": {},
     "output_type": "display_data"
    },
    {
     "data": {
      "text/plain": [
       "21354"
      ]
     },
     "metadata": {},
     "output_type": "display_data"
    },
    {
     "data": {
      "text/plain": [
       "'По средам в обоих городах слушают:'"
      ]
     },
     "metadata": {},
     "output_type": "display_data"
    },
    {
     "data": {
      "text/plain": [
       "18059"
      ]
     },
     "metadata": {},
     "output_type": "display_data"
    },
    {
     "data": {
      "text/plain": [
       "'По пятницам в обоих городах слушают:'"
      ]
     },
     "metadata": {},
     "output_type": "display_data"
    },
    {
     "data": {
      "text/plain": [
       "21840"
      ]
     },
     "metadata": {},
     "output_type": "display_data"
    }
   ],
   "source": [
    "#display(df.head(10))\n",
    "monday_listening = df[df['day'] == 'Monday']['day'].count()\n",
    "display('По понедельникам в обоих городах слушают:', monday_listening)\n",
    "wednesday_listening = df[df['day'] == 'Wednesday']['day'].count()\n",
    "display('По средам в обоих городах слушают:', wednesday_listening)\n",
    "friday_listening = df[df['day'] == 'Friday']['day'].count()\n",
    "display('По пятницам в обоих городах слушают:', friday_listening)\n"
   ]
  },
  {
   "cell_type": "markdown",
   "metadata": {
    "id": "cC2tNrlL_Zcu"
   },
   "source": [
    "В среднем пользователи из двух городов менее активны по средам. Но картина может измениться, если рассмотреть каждый город в отдельности."
   ]
  },
  {
   "cell_type": "markdown",
   "metadata": {
    "id": "POzs8bGa_Zcu"
   },
   "source": [
    "Мы видели, как работает группировка по городу и по дням недели. Теперь напишем функцию, которая объединит два эти расчёта.\n",
    "\n",
    "Создадим функцию `number_tracks()`, которая посчитает прослушивания для заданного дня и города. Ей понадобятся два параметра:\n",
    "* день недели,\n",
    "* название города.\n",
    "\n",
    "В функции сохраним в переменную строки исходной таблицы, у которых значение:\n",
    "  * в колонке `day` равно параметру `day`,\n",
    "  * в колонке `city` равно параметру `city`.\n",
    "\n",
    "Для этого применим последовательную фильтрацию с логической индексацией.\n",
    "\n",
    "Затем посчитаем значения в столбце `user_id` получившейся таблицы. Результат сохраним в новую переменную. Вернём эту переменную из функции."
   ]
  },
  {
   "cell_type": "code",
   "execution_count": 64,
   "metadata": {
    "id": "Nz3GdQB1_Zcu"
   },
   "outputs": [],
   "source": [
    "def number_tracks(day, city):\n",
    "    track_list = df[df['day'] == day]\n",
    "    track_list = track_list[track_list['city'] == city]\n",
    "    track_list_count = track_list['user_id'].count()\n",
    "    return track_list_count"
   ]
  },
  {
   "cell_type": "markdown",
   "metadata": {
    "id": "ytf7xFrFJQ2r"
   },
   "source": [
    "Вызовем `number_tracks()` шесть раз, меняя значение параметров — так, чтобы получить данные для каждого города в каждый из трёх дней."
   ]
  },
  {
   "cell_type": "code",
   "execution_count": 65,
   "metadata": {
    "id": "rJcRATNQ_Zcu"
   },
   "outputs": [
    {
     "data": {
      "text/plain": [
       "'Количество прослушиваний в Москве по понедельникам:'"
      ]
     },
     "metadata": {},
     "output_type": "display_data"
    },
    {
     "data": {
      "text/plain": [
       "15740"
      ]
     },
     "metadata": {},
     "output_type": "display_data"
    }
   ],
   "source": [
    "moscow_monday = number_tracks('Monday', 'Moscow')\n",
    "display('Количество прослушиваний в Москве по понедельникам:', moscow_monday)"
   ]
  },
  {
   "cell_type": "code",
   "execution_count": 66,
   "metadata": {
    "id": "hq_ncZ5T_Zcu"
   },
   "outputs": [
    {
     "data": {
      "text/plain": [
       "'Количество прослушиваний в Санкт-Петербурге по понедельникам:'"
      ]
     },
     "metadata": {},
     "output_type": "display_data"
    },
    {
     "data": {
      "text/plain": [
       "5614"
      ]
     },
     "metadata": {},
     "output_type": "display_data"
    }
   ],
   "source": [
    "petersburg_monday = number_tracks('Monday', 'Saint-Petersburg')\n",
    "display('Количество прослушиваний в Санкт-Петербурге по понедельникам:', petersburg_monday)"
   ]
  },
  {
   "cell_type": "code",
   "execution_count": 67,
   "metadata": {
    "id": "_NTy2VPU_Zcu"
   },
   "outputs": [
    {
     "data": {
      "text/plain": [
       "'Количество прослушиваний в Москве по средам:'"
      ]
     },
     "metadata": {},
     "output_type": "display_data"
    },
    {
     "data": {
      "text/plain": [
       "11056"
      ]
     },
     "metadata": {},
     "output_type": "display_data"
    }
   ],
   "source": [
    "moscow_wednesday = number_tracks('Wednesday', 'Moscow')\n",
    "display('Количество прослушиваний в Москве по средам:', moscow_wednesday)"
   ]
  },
  {
   "cell_type": "code",
   "execution_count": 68,
   "metadata": {
    "id": "j2y3TAwo_Zcu"
   },
   "outputs": [
    {
     "data": {
      "text/plain": [
       "'Количество прослушиваний в Санкт-Петербурге по средам:'"
      ]
     },
     "metadata": {},
     "output_type": "display_data"
    },
    {
     "data": {
      "text/plain": [
       "7003"
      ]
     },
     "metadata": {},
     "output_type": "display_data"
    }
   ],
   "source": [
    "petersburg_wednesday = number_tracks('Wednesday', 'Saint-Petersburg')\n",
    "display('Количество прослушиваний в Санкт-Петербурге по средам:', petersburg_wednesday)"
   ]
  },
  {
   "cell_type": "code",
   "execution_count": 69,
   "metadata": {
    "id": "vYDw5u_K_Zcu"
   },
   "outputs": [
    {
     "data": {
      "text/plain": [
       "'Количество прослушиваний в Москве по пятницам:'"
      ]
     },
     "metadata": {},
     "output_type": "display_data"
    },
    {
     "data": {
      "text/plain": [
       "15945"
      ]
     },
     "metadata": {},
     "output_type": "display_data"
    }
   ],
   "source": [
    "moscow_friday = number_tracks('Friday', 'Moscow')\n",
    "display('Количество прослушиваний в Москве по пятницам:', moscow_friday)"
   ]
  },
  {
   "cell_type": "code",
   "execution_count": 70,
   "metadata": {
    "id": "8_yzFtW3_Zcu"
   },
   "outputs": [
    {
     "data": {
      "text/plain": [
       "'Количество прослушиваний в Санкт-Петербурге по пятницам:'"
      ]
     },
     "metadata": {},
     "output_type": "display_data"
    },
    {
     "data": {
      "text/plain": [
       "5895"
      ]
     },
     "metadata": {},
     "output_type": "display_data"
    }
   ],
   "source": [
    "petersburg_friday = number_tracks('Friday', 'Saint-Petersburg')\n",
    "display('Количество прослушиваний в Санкт-Петербурге по пятницам:', petersburg_friday)"
   ]
  },
  {
   "cell_type": "markdown",
   "metadata": {
    "id": "7QXffbO-_Zcu"
   },
   "source": [
    "Создадим c помощью конструктора `pd.DataFrame` таблицу, где\n",
    "* названия колонок — `['city', 'monday', 'wednesday', 'friday']`;\n",
    "* данные — результаты, которые мы получили с помощью `number_tracks`."
   ]
  },
  {
   "cell_type": "code",
   "execution_count": 71,
   "metadata": {
    "id": "APAcLpOr_Zcu"
   },
   "outputs": [
    {
     "data": {
      "text/html": [
       "<div>\n",
       "<style scoped>\n",
       "    .dataframe tbody tr th:only-of-type {\n",
       "        vertical-align: middle;\n",
       "    }\n",
       "\n",
       "    .dataframe tbody tr th {\n",
       "        vertical-align: top;\n",
       "    }\n",
       "\n",
       "    .dataframe thead th {\n",
       "        text-align: right;\n",
       "    }\n",
       "</style>\n",
       "<table border=\"1\" class=\"dataframe\">\n",
       "  <thead>\n",
       "    <tr style=\"text-align: right;\">\n",
       "      <th></th>\n",
       "      <th>city</th>\n",
       "      <th>monday</th>\n",
       "      <th>wednesday</th>\n",
       "      <th>friday</th>\n",
       "    </tr>\n",
       "  </thead>\n",
       "  <tbody>\n",
       "    <tr>\n",
       "      <th>0</th>\n",
       "      <td>Moscow</td>\n",
       "      <td>15740</td>\n",
       "      <td>11056</td>\n",
       "      <td>15945</td>\n",
       "    </tr>\n",
       "    <tr>\n",
       "      <th>1</th>\n",
       "      <td>Saint-Petersburg</td>\n",
       "      <td>5614</td>\n",
       "      <td>7003</td>\n",
       "      <td>5895</td>\n",
       "    </tr>\n",
       "  </tbody>\n",
       "</table>\n",
       "</div>"
      ],
      "text/plain": [
       "               city  monday  wednesday  friday\n",
       "0            Moscow   15740      11056   15945\n",
       "1  Saint-Petersburg    5614       7003    5895"
      ]
     },
     "metadata": {},
     "output_type": "display_data"
    }
   ],
   "source": [
    "column = ['city', 'monday', 'wednesday', 'friday']\n",
    "dataset = []\n",
    "list_city = ['Moscow', 'Saint-Petersburg']\n",
    "list_days = ['Monday', 'Wednesday', 'Friday']\n",
    " \n",
    "for city in list_city:\n",
    "    city_day = [city]\n",
    "    for days in list_days:\n",
    "        city_day.append(number_tracks(days,city))\n",
    "    dataset.append(city_day)\n",
    " \n",
    "display(pd.DataFrame(data=dataset, columns=column))"
   ]
  },
  {
   "cell_type": "markdown",
   "metadata": {
    "id": "-EgPIHYu_Zcu"
   },
   "source": [
    "**Выводы**\n",
    "\n",
    "Данные показывают разницу поведения пользователей:\n",
    "\n",
    "- В Москве пик прослушиваний приходится на понедельник и пятницу, а в среду заметен спад.\n",
    "- В Петербурге, наоборот, больше слушают музыку по средам. Активность в понедельник и пятницу здесь почти в равной мере уступает среде.\n",
    "\n",
    "Значит, данные говорят в пользу первой гипотезы."
   ]
  },
  {
   "cell_type": "markdown",
   "metadata": {
    "id": "atZAxtq4_Zcu"
   },
   "source": [
    "### Музыка в начале и в конце недели"
   ]
  },
  {
   "cell_type": "markdown",
   "metadata": {
    "id": "eXrQqXFH_Zcu"
   },
   "source": [
    "Согласно второй гипотезе, утром в понедельник в Москве преобладают одни жанры, а в Петербурге — другие. Так же и вечером пятницы преобладают разные жанры — в зависимости от города."
   ]
  },
  {
   "cell_type": "markdown",
   "metadata": {
    "id": "S8UcW6Hw_Zcu"
   },
   "source": [
    "Сохраним таблицы с данными в две переменные:\n",
    "* по Москве — в `moscow_general`;\n",
    "* по Санкт-Петербургу — в `spb_general`."
   ]
  },
  {
   "cell_type": "code",
   "execution_count": 72,
   "metadata": {
    "id": "qeaFfM_P_Zcu"
   },
   "outputs": [],
   "source": [
    "moscow_general = df[df['city'] == 'Moscow']"
   ]
  },
  {
   "cell_type": "code",
   "execution_count": 73,
   "metadata": {
    "id": "ORaVRKto_Zcu"
   },
   "outputs": [],
   "source": [
    "spb_general = df[df['city'] == 'Saint-Petersburg']"
   ]
  },
  {
   "cell_type": "markdown",
   "metadata": {
    "id": "MEJV-CX2_Zcu"
   },
   "source": [
    "Создадим функцию `genre_weekday()` с четырьмя параметрами:\n",
    "* таблица (датафрейм) с данными,\n",
    "* день недели,\n",
    "* начальная временная метка в формате 'hh:mm', \n",
    "* последняя временная метка в формате 'hh:mm'.\n",
    "\n",
    "Функция должна вернуть информацию о топ-10 жанров тех треков, которые прослушивали в указанный день, в промежутке между двумя отметками времени."
   ]
  },
  {
   "cell_type": "code",
   "execution_count": 74,
   "metadata": {
    "id": "laJT9BYl_Zcu"
   },
   "outputs": [],
   "source": [
    "def genre_weekday(table, day, time1, time2):\n",
    "    genre_df = table[table['day'] == day]\n",
    "    genre_df = genre_df[genre_df['time'] > time1]\n",
    "    genre_df = genre_df[genre_df['time'] < time2]\n",
    "    genre_df_count = genre_df.groupby('genre')['track'].count()\n",
    "    genre_df_sorted = genre_df_count.sort_values(ascending = False)\n",
    "    return genre_df_sorted.head(10)"
   ]
  },
  {
   "cell_type": "markdown",
   "metadata": {
    "id": "la2s2_PF_Zcu"
   },
   "source": [
    "Cравним результаты функции `genre_weekday()` для Москвы и Санкт-Петербурга в понедельник утром (с 7:00 до 11:00) и в пятницу вечером (с 17:00 до 23:00):"
   ]
  },
  {
   "cell_type": "code",
   "execution_count": 75,
   "metadata": {
    "id": "yz7itPUQ_Zcu"
   },
   "outputs": [
    {
     "data": {
      "text/plain": [
       "genre\n",
       "pop            781\n",
       "dance          549\n",
       "electronic     480\n",
       "rock           474\n",
       "hiphop         286\n",
       "ruspop         186\n",
       "world          181\n",
       "rusrap         175\n",
       "alternative    164\n",
       "unknown        161\n",
       "Name: track, dtype: int64"
      ]
     },
     "execution_count": 75,
     "metadata": {},
     "output_type": "execute_result"
    }
   ],
   "source": [
    "genre_weekday(moscow_general, 'Monday', '07:00', '11:00')"
   ]
  },
  {
   "cell_type": "code",
   "execution_count": 76,
   "metadata": {
    "id": "kwUcHPdy_Zcu"
   },
   "outputs": [
    {
     "data": {
      "text/plain": [
       "genre\n",
       "pop            218\n",
       "dance          182\n",
       "rock           162\n",
       "electronic     147\n",
       "hiphop          80\n",
       "ruspop          64\n",
       "alternative     58\n",
       "rusrap          55\n",
       "jazz            44\n",
       "classical       40\n",
       "Name: track, dtype: int64"
      ]
     },
     "execution_count": 76,
     "metadata": {},
     "output_type": "execute_result"
    }
   ],
   "source": [
    "genre_weekday(spb_general, 'Monday', '07:00', '11:00')"
   ]
  },
  {
   "cell_type": "code",
   "execution_count": 77,
   "metadata": {
    "id": "EzXVRE1o_Zcu"
   },
   "outputs": [
    {
     "data": {
      "text/plain": [
       "genre\n",
       "pop            713\n",
       "rock           517\n",
       "dance          495\n",
       "electronic     482\n",
       "hiphop         273\n",
       "world          208\n",
       "ruspop         170\n",
       "alternative    163\n",
       "classical      163\n",
       "rusrap         142\n",
       "Name: track, dtype: int64"
      ]
     },
     "execution_count": 77,
     "metadata": {},
     "output_type": "execute_result"
    }
   ],
   "source": [
    "genre_weekday(moscow_general, 'Friday', '17:00', '23:00')"
   ]
  },
  {
   "cell_type": "code",
   "execution_count": 78,
   "metadata": {
    "id": "JZaEKu5v_Zcu"
   },
   "outputs": [
    {
     "data": {
      "text/plain": [
       "genre\n",
       "pop            256\n",
       "electronic     216\n",
       "rock           216\n",
       "dance          210\n",
       "hiphop          97\n",
       "alternative     63\n",
       "jazz            61\n",
       "classical       60\n",
       "rusrap          59\n",
       "world           54\n",
       "Name: track, dtype: int64"
      ]
     },
     "execution_count": 78,
     "metadata": {},
     "output_type": "execute_result"
    }
   ],
   "source": [
    "genre_weekday(spb_general, 'Friday', '17:00', '23:00')"
   ]
  },
  {
   "cell_type": "markdown",
   "metadata": {
    "id": "wrCe4MNX_Zcu"
   },
   "source": [
    "**Выводы**\n",
    "\n",
    "Если сравнить топ-10 жанров в понедельник утром, можно сделать такие выводы:\n",
    "\n",
    "1. В Москве и Петербурге слушают похожую музыку. Единственное отличие — в московский рейтинг вошёл жанр “world”, а в петербургский — джаз и классика.\n",
    "\n",
    "2. В Москве пропущенных значений оказалось так много, что значение `'unknown'` заняло десятое место среди самых популярных жанров. Значит, пропущенные значения занимают существенную долю в данных и угрожают достоверности исследования.\n",
    "\n",
    "Вечер пятницы не меняет эту картину. Некоторые жанры поднимаются немного выше, другие спускаются, но в целом топ-10 остаётся тем же самым.\n",
    "\n",
    "Таким образом, вторая гипотеза подтвердилась лишь частично:\n",
    "* Пользователи слушают похожую музыку в начале недели и в конце.\n",
    "* Разница между Москвой и Петербургом не слишком выражена. В Москве чаще слушают русскую популярную музыку, в Петербурге — джаз.\n",
    "\n",
    "Однако пропуски в данных ставят под сомнение этот результат. В Москве их так много, что рейтинг топ-10 мог бы выглядеть иначе, если бы не утерянные  данные о жанрах."
   ]
  },
  {
   "cell_type": "markdown",
   "metadata": {
    "id": "JolODAqr_Zcu"
   },
   "source": [
    "### Жанровые предпочтения в Москве и Петербурге\n",
    "\n",
    "Гипотеза: Петербург — столица рэпа, музыку этого жанра там слушают чаще, чем в Москве.  А Москва — город контрастов, в котором, тем не менее, преобладает поп-музыка."
   ]
  },
  {
   "cell_type": "markdown",
   "metadata": {
    "id": "DlegSvaT_Zcu"
   },
   "source": [
    "Сгруппируем таблицу `moscow_general` по жанру и посчитаем прослушивания треков каждого жанра методом `count()`. Затем отсортируем результат в порядке убывания и сохраним его в таблице `moscow_genres`."
   ]
  },
  {
   "cell_type": "code",
   "execution_count": 79,
   "metadata": {
    "id": "r19lIPke_Zcu"
   },
   "outputs": [],
   "source": [
    "moscow_genres = moscow_general.groupby('genre')['genre'].count().sort_values(ascending = False)"
   ]
  },
  {
   "cell_type": "markdown",
   "metadata": {
    "id": "6kMuomxTiIr8"
   },
   "source": [
    "Выведем на экран первые десять строк `moscow_genres`:"
   ]
  },
  {
   "cell_type": "code",
   "execution_count": 80,
   "metadata": {
    "id": "WhCSooF8_Zcv"
   },
   "outputs": [
    {
     "data": {
      "text/plain": [
       "genre\n",
       "pop            5892\n",
       "dance          4435\n",
       "rock           3965\n",
       "electronic     3786\n",
       "hiphop         2096\n",
       "classical      1616\n",
       "world          1432\n",
       "alternative    1379\n",
       "ruspop         1372\n",
       "rusrap         1161\n",
       "Name: genre, dtype: int64"
      ]
     },
     "metadata": {},
     "output_type": "display_data"
    }
   ],
   "source": [
    "display(moscow_genres.head(10))"
   ]
  },
  {
   "cell_type": "markdown",
   "metadata": {
    "id": "cnPG2vnN_Zcv"
   },
   "source": [
    "Теперь повторим то же и для Петербурга.\n",
    "\n",
    "Сгруппируем таблицу `spb_general` по жанру. Посчитаем прослушивания треков каждого жанра. Результат отсортируем в порядке убывания и сохраним в таблице `spb_genres`:\n"
   ]
  },
  {
   "cell_type": "code",
   "execution_count": 81,
   "metadata": {
    "id": "gluLIpE7_Zcv"
   },
   "outputs": [],
   "source": [
    "spb_genres = spb_general.groupby('genre')['genre'].count().sort_values(ascending = False)"
   ]
  },
  {
   "cell_type": "markdown",
   "metadata": {
    "id": "5Doha_ODgyQ8"
   },
   "source": [
    "Выведем на экран первые десять строк `spb_genres`:"
   ]
  },
  {
   "cell_type": "code",
   "execution_count": 82,
   "metadata": {
    "id": "uaGJHjVU_Zcv"
   },
   "outputs": [
    {
     "data": {
      "text/plain": [
       "genre\n",
       "pop            2431\n",
       "dance          1932\n",
       "rock           1879\n",
       "electronic     1736\n",
       "hiphop          960\n",
       "alternative     649\n",
       "classical       646\n",
       "rusrap          564\n",
       "ruspop          538\n",
       "world           515\n",
       "Name: genre, dtype: int64"
      ]
     },
     "metadata": {},
     "output_type": "display_data"
    }
   ],
   "source": [
    "display(spb_genres.head(10))"
   ]
  },
  {
   "cell_type": "markdown",
   "metadata": {
    "id": "RY51YJYu_Zcv"
   },
   "source": [
    "**Выводы**"
   ]
  },
  {
   "cell_type": "markdown",
   "metadata": {
    "id": "nVhnJEm__Zcv"
   },
   "source": [
    "Гипотеза частично подтвердилась:\n",
    "* Поп-музыка — самый популярный жанр в Москве, как и предполагала гипотеза. Более того, в топ-10 жанров встречается близкий жанр — русская популярная музыка.\n",
    "* Вопреки ожиданиям, рэп одинаково популярен в Москве и Петербурге. \n"
   ]
  },
  {
   "cell_type": "markdown",
   "metadata": {
    "id": "ykKQ0N65_Zcv"
   },
   "source": [
    "## Итоги исследования"
   ]
  },
  {
   "cell_type": "markdown",
   "metadata": {
    "id": "tjUwbHb3_Zcv"
   },
   "source": [
    "Были проверены три гипотезы и установлено, что:\n",
    "\n",
    "1. День недели по-разному влияет на активность пользователей в Москве и Петербурге. \n",
    "\n",
    "Первая гипотеза полностью подтвердилась.\n",
    "\n",
    "2. Музыкальные предпочтения не сильно меняются в течение недели — будь то Москва или Петербург. Небольшие различия заметны в начале недели, по понедельникам:\n",
    "* в Москве слушают музыку жанра “world”,\n",
    "* в Петербурге — джаз и классику.\n",
    "\n",
    "Таким образом, вторая гипотеза подтвердилась лишь отчасти. Этот результат мог оказаться иным, если бы не пропуски в данных.\n",
    "\n",
    "3. Во вкусах пользователей Москвы и Петербурга больше общего чем различий. Вопреки ожиданиям, предпочтения жанров в Петербурге напоминают московские.\n",
    "\n",
    "Третья гипотеза не подтвердилась. Если различия в предпочтениях и существуют, на основной массе пользователей они незаметны.\n",
    "\n",
    "**На практике исследования содержат проверки статистических гипотез.**\n",
    "Из данных одного сервиса не всегда можно сделать вывод о всех жителях города.\n",
    "Проверки статистических гипотез покажут, насколько они достоверны, исходя из имеющихся данных. "
   ]
  }
 ],
 "metadata": {
  "ExecuteTimeLog": [
   {
    "duration": 343,
    "start_time": "2021-12-09T15:55:20.613Z"
   },
   {
    "duration": 711,
    "start_time": "2021-12-09T15:56:27.664Z"
   },
   {
    "duration": 162,
    "start_time": "2021-12-09T15:56:28.378Z"
   },
   {
    "duration": 24,
    "start_time": "2021-12-09T15:56:28.543Z"
   },
   {
    "duration": 3,
    "start_time": "2021-12-09T15:56:48.154Z"
   },
   {
    "duration": 184,
    "start_time": "2021-12-09T15:56:48.160Z"
   },
   {
    "duration": 17,
    "start_time": "2021-12-09T15:56:48.347Z"
   },
   {
    "duration": 30,
    "start_time": "2021-12-09T15:57:07.692Z"
   },
   {
    "duration": 4,
    "start_time": "2021-12-09T15:57:41.615Z"
   },
   {
    "duration": 168,
    "start_time": "2021-12-09T15:57:44.644Z"
   },
   {
    "duration": 15,
    "start_time": "2021-12-09T15:57:47.352Z"
   },
   {
    "duration": 6,
    "start_time": "2021-12-09T16:11:47.074Z"
   },
   {
    "duration": 42,
    "start_time": "2021-12-09T16:16:50.145Z"
   },
   {
    "duration": 6,
    "start_time": "2021-12-09T16:17:39.373Z"
   },
   {
    "duration": 3,
    "start_time": "2021-12-09T16:18:39.455Z"
   },
   {
    "duration": 209,
    "start_time": "2021-12-09T16:18:39.461Z"
   },
   {
    "duration": 17,
    "start_time": "2021-12-09T16:18:39.673Z"
   },
   {
    "duration": 48,
    "start_time": "2021-12-09T16:18:39.692Z"
   },
   {
    "duration": 6,
    "start_time": "2021-12-09T16:18:39.742Z"
   },
   {
    "duration": 40,
    "start_time": "2021-12-09T16:18:39.750Z"
   },
   {
    "duration": 4,
    "start_time": "2021-12-09T16:19:18.447Z"
   },
   {
    "duration": 6,
    "start_time": "2021-12-09T16:20:09.164Z"
   },
   {
    "duration": 3,
    "start_time": "2021-12-09T16:31:49.978Z"
   },
   {
    "duration": 224,
    "start_time": "2021-12-09T16:31:49.984Z"
   },
   {
    "duration": 27,
    "start_time": "2021-12-09T16:31:50.212Z"
   },
   {
    "duration": 53,
    "start_time": "2021-12-09T16:31:50.242Z"
   },
   {
    "duration": 25,
    "start_time": "2021-12-09T16:31:50.298Z"
   },
   {
    "duration": 35,
    "start_time": "2021-12-09T16:31:50.326Z"
   },
   {
    "duration": 5,
    "start_time": "2021-12-09T16:31:50.363Z"
   },
   {
    "duration": 4,
    "start_time": "2021-12-09T16:31:50.371Z"
   },
   {
    "duration": 10,
    "start_time": "2021-12-09T16:31:50.378Z"
   },
   {
    "duration": 34,
    "start_time": "2021-12-09T16:31:50.391Z"
   },
   {
    "duration": 7,
    "start_time": "2021-12-09T16:31:50.427Z"
   },
   {
    "duration": 7,
    "start_time": "2021-12-09T16:31:50.437Z"
   },
   {
    "duration": 7,
    "start_time": "2021-12-09T16:31:50.446Z"
   },
   {
    "duration": 6,
    "start_time": "2021-12-09T16:31:50.455Z"
   },
   {
    "duration": 7,
    "start_time": "2021-12-09T16:31:50.463Z"
   },
   {
    "duration": 8,
    "start_time": "2021-12-09T16:31:50.473Z"
   },
   {
    "duration": 6,
    "start_time": "2021-12-09T16:31:50.483Z"
   },
   {
    "duration": 35,
    "start_time": "2021-12-09T16:31:50.491Z"
   },
   {
    "duration": 5,
    "start_time": "2021-12-09T16:31:50.528Z"
   },
   {
    "duration": 15,
    "start_time": "2021-12-09T16:31:50.536Z"
   },
   {
    "duration": 23,
    "start_time": "2021-12-09T16:31:50.554Z"
   },
   {
    "duration": 12,
    "start_time": "2021-12-09T16:31:50.580Z"
   },
   {
    "duration": 9,
    "start_time": "2021-12-09T16:31:50.594Z"
   },
   {
    "duration": 8,
    "start_time": "2021-12-09T16:31:50.605Z"
   },
   {
    "duration": 12,
    "start_time": "2021-12-09T16:31:50.616Z"
   },
   {
    "duration": 13,
    "start_time": "2021-12-09T16:31:50.630Z"
   },
   {
    "duration": 3,
    "start_time": "2021-12-09T16:31:50.648Z"
   },
   {
    "duration": 8,
    "start_time": "2021-12-09T16:31:50.653Z"
   },
   {
    "duration": 10,
    "start_time": "2021-12-09T16:31:50.664Z"
   },
   {
    "duration": 11,
    "start_time": "2021-12-09T16:31:50.676Z"
   },
   {
    "duration": 14,
    "start_time": "2021-12-09T16:31:50.689Z"
   },
   {
    "duration": 19,
    "start_time": "2021-12-09T16:31:50.705Z"
   },
   {
    "duration": 12,
    "start_time": "2021-12-09T16:31:50.726Z"
   },
   {
    "duration": 8,
    "start_time": "2021-12-09T16:31:50.740Z"
   },
   {
    "duration": 5,
    "start_time": "2021-12-09T16:31:50.750Z"
   },
   {
    "duration": 10,
    "start_time": "2021-12-09T16:31:50.757Z"
   },
   {
    "duration": 9,
    "start_time": "2021-12-09T16:31:50.769Z"
   },
   {
    "duration": 6,
    "start_time": "2021-12-09T16:31:50.780Z"
   },
   {
    "duration": 338,
    "start_time": "2021-12-09T16:35:46.514Z"
   },
   {
    "duration": 4,
    "start_time": "2021-12-09T16:35:54.655Z"
   },
   {
    "duration": 32,
    "start_time": "2021-12-09T16:36:46.455Z"
   },
   {
    "duration": 5,
    "start_time": "2021-12-09T16:37:01.778Z"
   },
   {
    "duration": 5,
    "start_time": "2021-12-09T16:42:51.374Z"
   },
   {
    "duration": 20,
    "start_time": "2021-12-09T16:44:12.780Z"
   },
   {
    "duration": 5,
    "start_time": "2021-12-09T16:44:17.237Z"
   },
   {
    "duration": 31,
    "start_time": "2021-12-09T17:40:06.125Z"
   },
   {
    "duration": 21,
    "start_time": "2021-12-09T17:54:17.564Z"
   },
   {
    "duration": 32,
    "start_time": "2021-12-09T17:54:50.431Z"
   },
   {
    "duration": 78,
    "start_time": "2021-12-09T17:58:15.152Z"
   },
   {
    "duration": 88,
    "start_time": "2021-12-09T18:07:44.671Z"
   },
   {
    "duration": 69,
    "start_time": "2021-12-09T18:08:00.712Z"
   },
   {
    "duration": 10,
    "start_time": "2021-12-09T18:14:40.866Z"
   },
   {
    "duration": 15,
    "start_time": "2021-12-09T18:39:06.768Z"
   },
   {
    "duration": 14,
    "start_time": "2021-12-09T18:39:17.633Z"
   },
   {
    "duration": 13,
    "start_time": "2021-12-09T18:39:40.761Z"
   },
   {
    "duration": 61,
    "start_time": "2021-12-09T18:44:12.213Z"
   },
   {
    "duration": 319,
    "start_time": "2021-12-10T05:28:24.185Z"
   },
   {
    "duration": 261,
    "start_time": "2021-12-10T05:28:51.711Z"
   },
   {
    "duration": 97,
    "start_time": "2021-12-10T05:35:57.157Z"
   },
   {
    "duration": 257,
    "start_time": "2021-12-10T05:36:15.470Z"
   },
   {
    "duration": 264,
    "start_time": "2021-12-10T05:37:57.729Z"
   },
   {
    "duration": 278,
    "start_time": "2021-12-10T05:40:11.996Z"
   },
   {
    "duration": 273,
    "start_time": "2021-12-10T05:40:42.322Z"
   },
   {
    "duration": 272,
    "start_time": "2021-12-10T05:43:06.121Z"
   },
   {
    "duration": 272,
    "start_time": "2021-12-10T05:43:19.823Z"
   },
   {
    "duration": 252,
    "start_time": "2021-12-10T05:45:59.251Z"
   },
   {
    "duration": 276,
    "start_time": "2021-12-10T05:46:18.792Z"
   },
   {
    "duration": 154,
    "start_time": "2021-12-10T05:46:38.845Z"
   },
   {
    "duration": 94,
    "start_time": "2021-12-10T05:46:49.332Z"
   },
   {
    "duration": 278,
    "start_time": "2021-12-10T05:48:50.698Z"
   },
   {
    "duration": 551,
    "start_time": "2021-12-10T05:48:59.468Z"
   },
   {
    "duration": 254,
    "start_time": "2021-12-10T05:49:23.417Z"
   },
   {
    "duration": 751,
    "start_time": "2021-12-10T05:54:00.227Z"
   },
   {
    "duration": 267,
    "start_time": "2021-12-10T05:55:08.827Z"
   },
   {
    "duration": 251,
    "start_time": "2021-12-10T05:59:10.703Z"
   },
   {
    "duration": 330,
    "start_time": "2021-12-10T06:00:03.667Z"
   },
   {
    "duration": 264,
    "start_time": "2021-12-10T06:01:40.597Z"
   },
   {
    "duration": 268,
    "start_time": "2021-12-10T06:04:18.017Z"
   },
   {
    "duration": 332,
    "start_time": "2021-12-10T06:04:48.747Z"
   },
   {
    "duration": 391,
    "start_time": "2021-12-10T06:05:34.487Z"
   },
   {
    "duration": 592,
    "start_time": "2021-12-10T06:09:12.396Z"
   },
   {
    "duration": 135,
    "start_time": "2021-12-10T06:09:12.990Z"
   },
   {
    "duration": 20,
    "start_time": "2021-12-10T06:09:13.128Z"
   },
   {
    "duration": 25,
    "start_time": "2021-12-10T06:09:13.150Z"
   },
   {
    "duration": 4,
    "start_time": "2021-12-10T06:09:13.177Z"
   },
   {
    "duration": 23,
    "start_time": "2021-12-10T06:09:13.182Z"
   },
   {
    "duration": 7,
    "start_time": "2021-12-10T06:09:13.207Z"
   },
   {
    "duration": 45,
    "start_time": "2021-12-10T06:09:13.216Z"
   },
   {
    "duration": 17,
    "start_time": "2021-12-10T06:09:13.264Z"
   },
   {
    "duration": 28,
    "start_time": "2021-12-10T06:09:13.283Z"
   },
   {
    "duration": 79,
    "start_time": "2021-12-10T06:09:13.313Z"
   },
   {
    "duration": 79,
    "start_time": "2021-12-10T06:09:13.394Z"
   },
   {
    "duration": 52,
    "start_time": "2021-12-10T06:09:13.475Z"
   },
   {
    "duration": 17,
    "start_time": "2021-12-10T06:09:13.528Z"
   },
   {
    "duration": 11,
    "start_time": "2021-12-10T06:09:13.547Z"
   },
   {
    "duration": 20,
    "start_time": "2021-12-10T06:09:13.560Z"
   },
   {
    "duration": 55,
    "start_time": "2021-12-10T06:09:13.582Z"
   },
   {
    "duration": 22,
    "start_time": "2021-12-10T06:09:19.327Z"
   },
   {
    "duration": 13,
    "start_time": "2021-12-10T06:09:37.498Z"
   },
   {
    "duration": 14,
    "start_time": "2021-12-10T06:09:42.167Z"
   },
   {
    "duration": 14,
    "start_time": "2021-12-10T06:09:47.977Z"
   },
   {
    "duration": 14,
    "start_time": "2021-12-10T06:09:52.987Z"
   },
   {
    "duration": 15,
    "start_time": "2021-12-10T06:11:40.307Z"
   },
   {
    "duration": 21,
    "start_time": "2021-12-10T06:13:01.827Z"
   },
   {
    "duration": 312,
    "start_time": "2021-12-10T06:14:37.987Z"
   },
   {
    "duration": 14,
    "start_time": "2021-12-10T06:15:34.668Z"
   },
   {
    "duration": 17,
    "start_time": "2021-12-10T06:15:45.125Z"
   },
   {
    "duration": 25,
    "start_time": "2021-12-10T06:16:34.035Z"
   },
   {
    "duration": 94,
    "start_time": "2021-12-10T06:17:51.067Z"
   },
   {
    "duration": 29,
    "start_time": "2021-12-10T06:18:00.068Z"
   },
   {
    "duration": 93,
    "start_time": "2021-12-10T06:18:16.747Z"
   },
   {
    "duration": 91,
    "start_time": "2021-12-10T06:18:27.317Z"
   },
   {
    "duration": 92,
    "start_time": "2021-12-10T06:18:46.346Z"
   },
   {
    "duration": 85,
    "start_time": "2021-12-10T06:18:54.237Z"
   },
   {
    "duration": 26,
    "start_time": "2021-12-10T06:19:16.500Z"
   },
   {
    "duration": 87,
    "start_time": "2021-12-10T06:22:05.895Z"
   },
   {
    "duration": 26,
    "start_time": "2021-12-10T06:22:10.577Z"
   },
   {
    "duration": 27,
    "start_time": "2021-12-10T06:22:17.098Z"
   },
   {
    "duration": 27,
    "start_time": "2021-12-10T06:22:54.828Z"
   },
   {
    "duration": 11,
    "start_time": "2021-12-10T06:27:36.166Z"
   },
   {
    "duration": 25,
    "start_time": "2021-12-10T06:30:49.720Z"
   },
   {
    "duration": 23,
    "start_time": "2021-12-10T06:31:18.187Z"
   },
   {
    "duration": 32,
    "start_time": "2021-12-10T06:32:33.897Z"
   },
   {
    "duration": 44,
    "start_time": "2021-12-10T06:33:38.147Z"
   },
   {
    "duration": 34,
    "start_time": "2021-12-10T06:34:21.865Z"
   },
   {
    "duration": 92,
    "start_time": "2021-12-10T06:51:26.388Z"
   },
   {
    "duration": 3,
    "start_time": "2021-12-10T06:51:32.868Z"
   },
   {
    "duration": 8,
    "start_time": "2021-12-10T06:53:55.647Z"
   },
   {
    "duration": 8,
    "start_time": "2021-12-10T06:54:13.937Z"
   },
   {
    "duration": 9,
    "start_time": "2021-12-10T06:55:09.077Z"
   },
   {
    "duration": 10,
    "start_time": "2021-12-10T06:59:55.815Z"
   },
   {
    "duration": 2,
    "start_time": "2021-12-10T08:25:34.958Z"
   },
   {
    "duration": 130,
    "start_time": "2021-12-10T08:25:34.962Z"
   },
   {
    "duration": 10,
    "start_time": "2021-12-10T08:25:35.094Z"
   },
   {
    "duration": 25,
    "start_time": "2021-12-10T08:25:35.106Z"
   },
   {
    "duration": 12,
    "start_time": "2021-12-10T08:25:35.133Z"
   },
   {
    "duration": 19,
    "start_time": "2021-12-10T08:25:35.147Z"
   },
   {
    "duration": 6,
    "start_time": "2021-12-10T08:25:35.167Z"
   },
   {
    "duration": 23,
    "start_time": "2021-12-10T08:25:35.175Z"
   },
   {
    "duration": 16,
    "start_time": "2021-12-10T08:25:35.201Z"
   },
   {
    "duration": 24,
    "start_time": "2021-12-10T08:25:35.244Z"
   },
   {
    "duration": 53,
    "start_time": "2021-12-10T08:25:35.269Z"
   },
   {
    "duration": 79,
    "start_time": "2021-12-10T08:25:35.323Z"
   },
   {
    "duration": 54,
    "start_time": "2021-12-10T08:25:35.404Z"
   },
   {
    "duration": 6,
    "start_time": "2021-12-10T08:25:35.460Z"
   },
   {
    "duration": 2,
    "start_time": "2021-12-10T08:25:35.468Z"
   },
   {
    "duration": 12,
    "start_time": "2021-12-10T08:25:35.472Z"
   },
   {
    "duration": 59,
    "start_time": "2021-12-10T08:25:35.486Z"
   },
   {
    "duration": 25,
    "start_time": "2021-12-10T08:25:35.547Z"
   },
   {
    "duration": 33,
    "start_time": "2021-12-10T08:25:35.573Z"
   },
   {
    "duration": 3,
    "start_time": "2021-12-10T08:25:35.608Z"
   },
   {
    "duration": 18,
    "start_time": "2021-12-10T08:25:39.896Z"
   },
   {
    "duration": 18,
    "start_time": "2021-12-10T08:25:56.306Z"
   },
   {
    "duration": 16,
    "start_time": "2021-12-10T08:32:01.217Z"
   },
   {
    "duration": 2,
    "start_time": "2021-12-10T08:32:10.667Z"
   },
   {
    "duration": 166,
    "start_time": "2021-12-10T08:32:10.671Z"
   },
   {
    "duration": 11,
    "start_time": "2021-12-10T08:32:10.839Z"
   },
   {
    "duration": 60,
    "start_time": "2021-12-10T08:32:10.851Z"
   },
   {
    "duration": 21,
    "start_time": "2021-12-10T08:32:10.913Z"
   },
   {
    "duration": 52,
    "start_time": "2021-12-10T08:32:10.935Z"
   },
   {
    "duration": 16,
    "start_time": "2021-12-10T08:32:10.989Z"
   },
   {
    "duration": 51,
    "start_time": "2021-12-10T08:32:11.006Z"
   },
   {
    "duration": 31,
    "start_time": "2021-12-10T08:32:11.060Z"
   },
   {
    "duration": 31,
    "start_time": "2021-12-10T08:32:11.093Z"
   },
   {
    "duration": 77,
    "start_time": "2021-12-10T08:32:11.126Z"
   },
   {
    "duration": 60,
    "start_time": "2021-12-10T08:32:11.204Z"
   },
   {
    "duration": 51,
    "start_time": "2021-12-10T08:32:11.266Z"
   },
   {
    "duration": 7,
    "start_time": "2021-12-10T08:32:11.318Z"
   },
   {
    "duration": 20,
    "start_time": "2021-12-10T08:32:11.326Z"
   },
   {
    "duration": 47,
    "start_time": "2021-12-10T08:32:11.348Z"
   },
   {
    "duration": 66,
    "start_time": "2021-12-10T08:32:11.396Z"
   },
   {
    "duration": 48,
    "start_time": "2021-12-10T08:32:11.464Z"
   },
   {
    "duration": 34,
    "start_time": "2021-12-10T08:32:11.514Z"
   },
   {
    "duration": 7,
    "start_time": "2021-12-10T08:32:11.550Z"
   },
   {
    "duration": 51,
    "start_time": "2021-12-10T08:32:11.559Z"
   },
   {
    "duration": 17,
    "start_time": "2021-12-10T08:35:23.967Z"
   },
   {
    "duration": 16,
    "start_time": "2021-12-10T08:37:10.989Z"
   },
   {
    "duration": 18,
    "start_time": "2021-12-10T08:40:11.228Z"
   },
   {
    "duration": 17,
    "start_time": "2021-12-10T08:41:24.328Z"
   },
   {
    "duration": 599,
    "start_time": "2021-12-10T08:54:33.621Z"
   },
   {
    "duration": 73,
    "start_time": "2021-12-10T08:55:47.738Z"
   },
   {
    "duration": 2,
    "start_time": "2021-12-10T08:56:50.769Z"
   },
   {
    "duration": 144,
    "start_time": "2021-12-10T08:56:50.774Z"
   },
   {
    "duration": 12,
    "start_time": "2021-12-10T08:56:50.920Z"
   },
   {
    "duration": 31,
    "start_time": "2021-12-10T08:56:50.934Z"
   },
   {
    "duration": 5,
    "start_time": "2021-12-10T08:56:50.968Z"
   },
   {
    "duration": 16,
    "start_time": "2021-12-10T08:56:50.975Z"
   },
   {
    "duration": 5,
    "start_time": "2021-12-10T08:56:50.993Z"
   },
   {
    "duration": 64,
    "start_time": "2021-12-10T08:56:51.001Z"
   },
   {
    "duration": 16,
    "start_time": "2021-12-10T08:56:51.068Z"
   },
   {
    "duration": 24,
    "start_time": "2021-12-10T08:56:51.086Z"
   },
   {
    "duration": 74,
    "start_time": "2021-12-10T08:56:51.112Z"
   },
   {
    "duration": 70,
    "start_time": "2021-12-10T08:56:51.188Z"
   },
   {
    "duration": 53,
    "start_time": "2021-12-10T08:56:51.259Z"
   },
   {
    "duration": 9,
    "start_time": "2021-12-10T08:56:51.314Z"
   },
   {
    "duration": 22,
    "start_time": "2021-12-10T08:56:51.324Z"
   },
   {
    "duration": 20,
    "start_time": "2021-12-10T08:56:51.348Z"
   },
   {
    "duration": 45,
    "start_time": "2021-12-10T08:56:51.370Z"
   },
   {
    "duration": 41,
    "start_time": "2021-12-10T08:56:51.418Z"
   },
   {
    "duration": 37,
    "start_time": "2021-12-10T08:56:51.461Z"
   },
   {
    "duration": 3,
    "start_time": "2021-12-10T08:56:51.500Z"
   },
   {
    "duration": 51,
    "start_time": "2021-12-10T08:56:51.505Z"
   },
   {
    "duration": 16,
    "start_time": "2021-12-10T08:56:51.558Z"
   },
   {
    "duration": 25,
    "start_time": "2021-12-10T08:56:51.576Z"
   },
   {
    "duration": 18,
    "start_time": "2021-12-10T08:56:51.603Z"
   },
   {
    "duration": 38,
    "start_time": "2021-12-10T08:56:51.623Z"
   },
   {
    "duration": 16,
    "start_time": "2021-12-10T08:56:51.663Z"
   },
   {
    "duration": 304,
    "start_time": "2021-12-10T11:32:10.830Z"
   },
   {
    "duration": 656,
    "start_time": "2021-12-10T11:32:18.490Z"
   },
   {
    "duration": 152,
    "start_time": "2021-12-10T11:32:19.149Z"
   },
   {
    "duration": 19,
    "start_time": "2021-12-10T11:32:19.303Z"
   },
   {
    "duration": 44,
    "start_time": "2021-12-10T11:32:19.324Z"
   },
   {
    "duration": 16,
    "start_time": "2021-12-10T11:32:19.370Z"
   },
   {
    "duration": 38,
    "start_time": "2021-12-10T11:32:19.388Z"
   },
   {
    "duration": 17,
    "start_time": "2021-12-10T11:32:19.429Z"
   },
   {
    "duration": 64,
    "start_time": "2021-12-10T11:32:19.448Z"
   },
   {
    "duration": 31,
    "start_time": "2021-12-10T11:32:19.516Z"
   },
   {
    "duration": 26,
    "start_time": "2021-12-10T11:32:19.550Z"
   },
   {
    "duration": 88,
    "start_time": "2021-12-10T11:32:19.578Z"
   },
   {
    "duration": 76,
    "start_time": "2021-12-10T11:32:19.668Z"
   },
   {
    "duration": 53,
    "start_time": "2021-12-10T11:32:19.746Z"
   },
   {
    "duration": 7,
    "start_time": "2021-12-10T11:32:19.800Z"
   },
   {
    "duration": 10,
    "start_time": "2021-12-10T11:32:19.809Z"
   },
   {
    "duration": 45,
    "start_time": "2021-12-10T11:32:19.821Z"
   },
   {
    "duration": 92,
    "start_time": "2021-12-10T11:32:19.868Z"
   },
   {
    "duration": 40,
    "start_time": "2021-12-10T11:32:19.962Z"
   },
   {
    "duration": 51,
    "start_time": "2021-12-10T11:32:20.004Z"
   },
   {
    "duration": 4,
    "start_time": "2021-12-10T11:32:20.056Z"
   },
   {
    "duration": 47,
    "start_time": "2021-12-10T11:32:20.061Z"
   },
   {
    "duration": 35,
    "start_time": "2021-12-10T11:32:20.110Z"
   },
   {
    "duration": 35,
    "start_time": "2021-12-10T11:32:20.146Z"
   },
   {
    "duration": 29,
    "start_time": "2021-12-10T11:32:20.183Z"
   },
   {
    "duration": 22,
    "start_time": "2021-12-10T11:32:20.214Z"
   },
   {
    "duration": 27,
    "start_time": "2021-12-10T11:32:20.237Z"
   },
   {
    "duration": 91,
    "start_time": "2021-12-10T11:32:20.268Z"
   },
   {
    "duration": 14,
    "start_time": "2021-12-10T11:32:23.720Z"
   },
   {
    "duration": 17,
    "start_time": "2021-12-10T11:32:42.818Z"
   },
   {
    "duration": 11,
    "start_time": "2021-12-10T11:36:25.860Z"
   },
   {
    "duration": 10,
    "start_time": "2021-12-10T11:36:27.817Z"
   },
   {
    "duration": 4,
    "start_time": "2021-12-10T11:50:16.940Z"
   },
   {
    "duration": 4,
    "start_time": "2021-12-10T11:55:19.885Z"
   },
   {
    "duration": 594,
    "start_time": "2021-12-10T11:57:29.492Z"
   },
   {
    "duration": 596,
    "start_time": "2021-12-10T11:58:43.840Z"
   },
   {
    "duration": 2,
    "start_time": "2021-12-10T11:58:54.722Z"
   },
   {
    "duration": 140,
    "start_time": "2021-12-10T11:58:54.726Z"
   },
   {
    "duration": 11,
    "start_time": "2021-12-10T11:58:54.868Z"
   },
   {
    "duration": 23,
    "start_time": "2021-12-10T11:58:54.881Z"
   },
   {
    "duration": 4,
    "start_time": "2021-12-10T11:58:54.906Z"
   },
   {
    "duration": 37,
    "start_time": "2021-12-10T11:58:54.912Z"
   },
   {
    "duration": 3,
    "start_time": "2021-12-10T11:58:54.951Z"
   },
   {
    "duration": 29,
    "start_time": "2021-12-10T11:58:54.956Z"
   },
   {
    "duration": 18,
    "start_time": "2021-12-10T11:58:54.988Z"
   },
   {
    "duration": 41,
    "start_time": "2021-12-10T11:58:55.008Z"
   },
   {
    "duration": 53,
    "start_time": "2021-12-10T11:58:55.051Z"
   },
   {
    "duration": 79,
    "start_time": "2021-12-10T11:58:55.106Z"
   },
   {
    "duration": 58,
    "start_time": "2021-12-10T11:58:55.187Z"
   },
   {
    "duration": 8,
    "start_time": "2021-12-10T11:58:55.247Z"
   },
   {
    "duration": 3,
    "start_time": "2021-12-10T11:58:55.257Z"
   },
   {
    "duration": 11,
    "start_time": "2021-12-10T11:58:55.262Z"
   },
   {
    "duration": 39,
    "start_time": "2021-12-10T11:58:55.275Z"
   },
   {
    "duration": 28,
    "start_time": "2021-12-10T11:58:55.344Z"
   },
   {
    "duration": 36,
    "start_time": "2021-12-10T11:58:55.374Z"
   },
   {
    "duration": 4,
    "start_time": "2021-12-10T11:58:55.445Z"
   },
   {
    "duration": 47,
    "start_time": "2021-12-10T11:58:55.451Z"
   },
   {
    "duration": 18,
    "start_time": "2021-12-10T11:58:55.500Z"
   },
   {
    "duration": 42,
    "start_time": "2021-12-10T11:58:55.519Z"
   },
   {
    "duration": 21,
    "start_time": "2021-12-10T11:58:55.563Z"
   },
   {
    "duration": 26,
    "start_time": "2021-12-10T11:58:55.585Z"
   },
   {
    "duration": 22,
    "start_time": "2021-12-10T11:58:55.612Z"
   },
   {
    "duration": 73,
    "start_time": "2021-12-10T11:58:55.637Z"
   },
   {
    "duration": 32,
    "start_time": "2021-12-10T11:58:55.712Z"
   },
   {
    "duration": 9,
    "start_time": "2021-12-10T11:58:55.746Z"
   },
   {
    "duration": 8,
    "start_time": "2021-12-10T11:58:55.756Z"
   },
   {
    "duration": 47,
    "start_time": "2021-12-10T11:58:55.766Z"
   },
   {
    "duration": 21,
    "start_time": "2021-12-10T11:58:55.815Z"
   },
   {
    "duration": 16,
    "start_time": "2021-12-10T11:58:55.838Z"
   },
   {
    "duration": 13,
    "start_time": "2021-12-10T11:59:08.730Z"
   },
   {
    "duration": 4,
    "start_time": "2021-12-10T12:01:17.171Z"
   },
   {
    "duration": 2,
    "start_time": "2021-12-10T12:01:24.840Z"
   },
   {
    "duration": 161,
    "start_time": "2021-12-10T12:01:24.848Z"
   },
   {
    "duration": 11,
    "start_time": "2021-12-10T12:01:25.011Z"
   },
   {
    "duration": 49,
    "start_time": "2021-12-10T12:01:25.025Z"
   },
   {
    "duration": 14,
    "start_time": "2021-12-10T12:01:25.076Z"
   },
   {
    "duration": 28,
    "start_time": "2021-12-10T12:01:25.091Z"
   },
   {
    "duration": 4,
    "start_time": "2021-12-10T12:01:25.120Z"
   },
   {
    "duration": 40,
    "start_time": "2021-12-10T12:01:25.126Z"
   },
   {
    "duration": 23,
    "start_time": "2021-12-10T12:01:25.167Z"
   },
   {
    "duration": 29,
    "start_time": "2021-12-10T12:01:25.193Z"
   },
   {
    "duration": 79,
    "start_time": "2021-12-10T12:01:25.225Z"
   },
   {
    "duration": 89,
    "start_time": "2021-12-10T12:01:25.306Z"
   },
   {
    "duration": 72,
    "start_time": "2021-12-10T12:01:25.397Z"
   },
   {
    "duration": 9,
    "start_time": "2021-12-10T12:01:25.471Z"
   },
   {
    "duration": 4,
    "start_time": "2021-12-10T12:01:25.482Z"
   },
   {
    "duration": 12,
    "start_time": "2021-12-10T12:01:25.488Z"
   },
   {
    "duration": 68,
    "start_time": "2021-12-10T12:01:25.502Z"
   },
   {
    "duration": 31,
    "start_time": "2021-12-10T12:01:25.573Z"
   },
   {
    "duration": 64,
    "start_time": "2021-12-10T12:01:25.606Z"
   },
   {
    "duration": 4,
    "start_time": "2021-12-10T12:01:25.671Z"
   },
   {
    "duration": 27,
    "start_time": "2021-12-10T12:01:25.676Z"
   },
   {
    "duration": 41,
    "start_time": "2021-12-10T12:01:25.705Z"
   },
   {
    "duration": 17,
    "start_time": "2021-12-10T12:01:25.748Z"
   },
   {
    "duration": 16,
    "start_time": "2021-12-10T12:01:25.767Z"
   },
   {
    "duration": 18,
    "start_time": "2021-12-10T12:01:25.784Z"
   },
   {
    "duration": 51,
    "start_time": "2021-12-10T12:01:25.804Z"
   },
   {
    "duration": 73,
    "start_time": "2021-12-10T12:01:25.857Z"
   },
   {
    "duration": 15,
    "start_time": "2021-12-10T12:01:25.945Z"
   },
   {
    "duration": 25,
    "start_time": "2021-12-10T12:01:25.962Z"
   },
   {
    "duration": 11,
    "start_time": "2021-12-10T12:01:25.989Z"
   },
   {
    "duration": 618,
    "start_time": "2021-12-10T12:01:26.002Z"
   },
   {
    "duration": 3987,
    "start_time": "2021-12-10T12:01:22.634Z"
   },
   {
    "duration": 3986,
    "start_time": "2021-12-10T12:01:22.636Z"
   },
   {
    "duration": 4,
    "start_time": "2021-12-10T12:02:15.421Z"
   },
   {
    "duration": 1268,
    "start_time": "2021-12-10T12:02:25.177Z"
   },
   {
    "duration": 4,
    "start_time": "2021-12-10T12:03:47.100Z"
   },
   {
    "duration": 2,
    "start_time": "2021-12-10T12:03:55.903Z"
   },
   {
    "duration": 148,
    "start_time": "2021-12-10T12:03:55.907Z"
   },
   {
    "duration": 14,
    "start_time": "2021-12-10T12:03:56.058Z"
   },
   {
    "duration": 27,
    "start_time": "2021-12-10T12:03:56.074Z"
   },
   {
    "duration": 4,
    "start_time": "2021-12-10T12:03:56.102Z"
   },
   {
    "duration": 41,
    "start_time": "2021-12-10T12:03:56.108Z"
   },
   {
    "duration": 4,
    "start_time": "2021-12-10T12:03:56.150Z"
   },
   {
    "duration": 25,
    "start_time": "2021-12-10T12:03:56.156Z"
   },
   {
    "duration": 17,
    "start_time": "2021-12-10T12:03:56.184Z"
   },
   {
    "duration": 47,
    "start_time": "2021-12-10T12:03:56.203Z"
   },
   {
    "duration": 52,
    "start_time": "2021-12-10T12:03:56.252Z"
   },
   {
    "duration": 77,
    "start_time": "2021-12-10T12:03:56.305Z"
   },
   {
    "duration": 48,
    "start_time": "2021-12-10T12:03:56.384Z"
   },
   {
    "duration": 14,
    "start_time": "2021-12-10T12:03:56.433Z"
   },
   {
    "duration": 2,
    "start_time": "2021-12-10T12:03:56.449Z"
   },
   {
    "duration": 16,
    "start_time": "2021-12-10T12:03:56.453Z"
   },
   {
    "duration": 40,
    "start_time": "2021-12-10T12:03:56.470Z"
   },
   {
    "duration": 46,
    "start_time": "2021-12-10T12:03:56.512Z"
   },
   {
    "duration": 35,
    "start_time": "2021-12-10T12:03:56.559Z"
   },
   {
    "duration": 3,
    "start_time": "2021-12-10T12:03:56.595Z"
   },
   {
    "duration": 50,
    "start_time": "2021-12-10T12:03:56.600Z"
   },
   {
    "duration": 17,
    "start_time": "2021-12-10T12:03:56.652Z"
   },
   {
    "duration": 16,
    "start_time": "2021-12-10T12:03:56.671Z"
   },
   {
    "duration": 16,
    "start_time": "2021-12-10T12:03:56.689Z"
   },
   {
    "duration": 51,
    "start_time": "2021-12-10T12:03:56.707Z"
   },
   {
    "duration": 17,
    "start_time": "2021-12-10T12:03:56.760Z"
   },
   {
    "duration": 98,
    "start_time": "2021-12-10T12:03:56.781Z"
   },
   {
    "duration": 16,
    "start_time": "2021-12-10T12:03:56.881Z"
   },
   {
    "duration": 8,
    "start_time": "2021-12-10T12:03:56.899Z"
   },
   {
    "duration": 26,
    "start_time": "2021-12-10T12:03:56.909Z"
   },
   {
    "duration": 41,
    "start_time": "2021-12-10T12:03:56.936Z"
   },
   {
    "duration": 12,
    "start_time": "2021-12-10T12:03:56.979Z"
   },
   {
    "duration": 33,
    "start_time": "2021-12-10T12:03:56.993Z"
   },
   {
    "duration": 12,
    "start_time": "2021-12-10T12:04:33.890Z"
   },
   {
    "duration": 326,
    "start_time": "2021-12-10T12:13:19.458Z"
   },
   {
    "duration": 7,
    "start_time": "2021-12-10T12:13:32.456Z"
   },
   {
    "duration": 8,
    "start_time": "2021-12-10T12:14:09.684Z"
   },
   {
    "duration": 277,
    "start_time": "2021-12-10T12:14:36.830Z"
   },
   {
    "duration": 5,
    "start_time": "2021-12-10T12:15:41.291Z"
   },
   {
    "duration": 362,
    "start_time": "2021-12-10T12:17:24.321Z"
   },
   {
    "duration": 2,
    "start_time": "2021-12-10T12:17:29.549Z"
   },
   {
    "duration": 159,
    "start_time": "2021-12-10T12:17:29.553Z"
   },
   {
    "duration": 9,
    "start_time": "2021-12-10T12:17:29.714Z"
   },
   {
    "duration": 35,
    "start_time": "2021-12-10T12:17:29.725Z"
   },
   {
    "duration": 3,
    "start_time": "2021-12-10T12:17:29.762Z"
   },
   {
    "duration": 22,
    "start_time": "2021-12-10T12:17:29.767Z"
   },
   {
    "duration": 4,
    "start_time": "2021-12-10T12:17:29.790Z"
   },
   {
    "duration": 48,
    "start_time": "2021-12-10T12:17:29.795Z"
   },
   {
    "duration": 33,
    "start_time": "2021-12-10T12:17:29.845Z"
   },
   {
    "duration": 23,
    "start_time": "2021-12-10T12:17:29.881Z"
   },
   {
    "duration": 66,
    "start_time": "2021-12-10T12:17:29.905Z"
   },
   {
    "duration": 82,
    "start_time": "2021-12-10T12:17:29.973Z"
   },
   {
    "duration": 59,
    "start_time": "2021-12-10T12:17:30.056Z"
   },
   {
    "duration": 7,
    "start_time": "2021-12-10T12:17:30.117Z"
   },
   {
    "duration": 22,
    "start_time": "2021-12-10T12:17:30.125Z"
   },
   {
    "duration": 25,
    "start_time": "2021-12-10T12:17:30.149Z"
   },
   {
    "duration": 49,
    "start_time": "2021-12-10T12:17:30.176Z"
   },
   {
    "duration": 42,
    "start_time": "2021-12-10T12:17:30.227Z"
   },
   {
    "duration": 42,
    "start_time": "2021-12-10T12:17:30.271Z"
   },
   {
    "duration": 29,
    "start_time": "2021-12-10T12:17:30.315Z"
   },
   {
    "duration": 27,
    "start_time": "2021-12-10T12:17:30.346Z"
   },
   {
    "duration": 25,
    "start_time": "2021-12-10T12:17:30.374Z"
   },
   {
    "duration": 36,
    "start_time": "2021-12-10T12:17:30.401Z"
   },
   {
    "duration": 40,
    "start_time": "2021-12-10T12:17:30.438Z"
   },
   {
    "duration": 26,
    "start_time": "2021-12-10T12:17:30.480Z"
   },
   {
    "duration": 23,
    "start_time": "2021-12-10T12:17:30.507Z"
   },
   {
    "duration": 68,
    "start_time": "2021-12-10T12:17:30.532Z"
   },
   {
    "duration": 14,
    "start_time": "2021-12-10T12:17:30.602Z"
   },
   {
    "duration": 11,
    "start_time": "2021-12-10T12:17:30.617Z"
   },
   {
    "duration": 29,
    "start_time": "2021-12-10T12:17:30.630Z"
   },
   {
    "duration": 52,
    "start_time": "2021-12-10T12:17:30.661Z"
   },
   {
    "duration": 21,
    "start_time": "2021-12-10T12:17:30.714Z"
   },
   {
    "duration": 22,
    "start_time": "2021-12-10T12:17:30.737Z"
   },
   {
    "duration": 38,
    "start_time": "2021-12-10T12:17:30.761Z"
   },
   {
    "duration": 20,
    "start_time": "2021-12-10T12:17:30.801Z"
   },
   {
    "duration": 18,
    "start_time": "2021-12-10T12:17:30.822Z"
   },
   {
    "duration": 26,
    "start_time": "2021-12-10T12:17:30.842Z"
   },
   {
    "duration": 5,
    "start_time": "2021-12-10T12:17:37.830Z"
   },
   {
    "duration": 3,
    "start_time": "2021-12-10T12:21:56.294Z"
   },
   {
    "duration": 145,
    "start_time": "2021-12-10T12:21:56.302Z"
   },
   {
    "duration": 10,
    "start_time": "2021-12-10T12:21:56.449Z"
   },
   {
    "duration": 27,
    "start_time": "2021-12-10T12:21:56.462Z"
   },
   {
    "duration": 3,
    "start_time": "2021-12-10T12:21:56.491Z"
   },
   {
    "duration": 20,
    "start_time": "2021-12-10T12:21:56.496Z"
   },
   {
    "duration": 4,
    "start_time": "2021-12-10T12:21:56.518Z"
   },
   {
    "duration": 27,
    "start_time": "2021-12-10T12:21:56.545Z"
   },
   {
    "duration": 23,
    "start_time": "2021-12-10T12:21:56.573Z"
   },
   {
    "duration": 47,
    "start_time": "2021-12-10T12:21:56.598Z"
   },
   {
    "duration": 58,
    "start_time": "2021-12-10T12:21:56.648Z"
   },
   {
    "duration": 83,
    "start_time": "2021-12-10T12:21:56.708Z"
   },
   {
    "duration": 60,
    "start_time": "2021-12-10T12:21:56.793Z"
   },
   {
    "duration": 7,
    "start_time": "2021-12-10T12:21:56.854Z"
   },
   {
    "duration": 3,
    "start_time": "2021-12-10T12:21:56.862Z"
   },
   {
    "duration": 12,
    "start_time": "2021-12-10T12:21:56.866Z"
   },
   {
    "duration": 41,
    "start_time": "2021-12-10T12:21:56.880Z"
   },
   {
    "duration": 28,
    "start_time": "2021-12-10T12:21:56.945Z"
   },
   {
    "duration": 36,
    "start_time": "2021-12-10T12:21:56.974Z"
   },
   {
    "duration": 4,
    "start_time": "2021-12-10T12:21:57.044Z"
   },
   {
    "duration": 22,
    "start_time": "2021-12-10T12:21:57.049Z"
   },
   {
    "duration": 16,
    "start_time": "2021-12-10T12:21:57.073Z"
   },
   {
    "duration": 14,
    "start_time": "2021-12-10T12:21:57.091Z"
   },
   {
    "duration": 43,
    "start_time": "2021-12-10T12:21:57.107Z"
   },
   {
    "duration": 17,
    "start_time": "2021-12-10T12:21:57.152Z"
   },
   {
    "duration": 17,
    "start_time": "2021-12-10T12:21:57.170Z"
   },
   {
    "duration": 94,
    "start_time": "2021-12-10T12:21:57.189Z"
   },
   {
    "duration": 15,
    "start_time": "2021-12-10T12:21:57.286Z"
   },
   {
    "duration": 12,
    "start_time": "2021-12-10T12:21:57.303Z"
   },
   {
    "duration": 6,
    "start_time": "2021-12-10T12:21:57.316Z"
   },
   {
    "duration": 36,
    "start_time": "2021-12-10T12:21:57.323Z"
   },
   {
    "duration": 13,
    "start_time": "2021-12-10T12:21:57.360Z"
   },
   {
    "duration": 17,
    "start_time": "2021-12-10T12:21:57.374Z"
   },
   {
    "duration": 12,
    "start_time": "2021-12-10T12:21:57.393Z"
   },
   {
    "duration": 37,
    "start_time": "2021-12-10T12:21:57.407Z"
   },
   {
    "duration": 5,
    "start_time": "2021-12-10T12:21:57.446Z"
   },
   {
    "duration": 9,
    "start_time": "2021-12-10T12:21:57.452Z"
   },
   {
    "duration": 6,
    "start_time": "2021-12-10T12:22:08.310Z"
   },
   {
    "duration": 2,
    "start_time": "2021-12-10T12:23:15.150Z"
   },
   {
    "duration": 137,
    "start_time": "2021-12-10T12:23:15.154Z"
   },
   {
    "duration": 9,
    "start_time": "2021-12-10T12:23:15.293Z"
   },
   {
    "duration": 29,
    "start_time": "2021-12-10T12:23:15.304Z"
   },
   {
    "duration": 5,
    "start_time": "2021-12-10T12:23:15.344Z"
   },
   {
    "duration": 24,
    "start_time": "2021-12-10T12:23:15.350Z"
   },
   {
    "duration": 4,
    "start_time": "2021-12-10T12:23:15.375Z"
   },
   {
    "duration": 29,
    "start_time": "2021-12-10T12:23:15.380Z"
   },
   {
    "duration": 44,
    "start_time": "2021-12-10T12:23:15.412Z"
   },
   {
    "duration": 28,
    "start_time": "2021-12-10T12:23:15.458Z"
   },
   {
    "duration": 77,
    "start_time": "2021-12-10T12:23:15.488Z"
   },
   {
    "duration": 83,
    "start_time": "2021-12-10T12:23:15.567Z"
   },
   {
    "duration": 57,
    "start_time": "2021-12-10T12:23:15.652Z"
   },
   {
    "duration": 7,
    "start_time": "2021-12-10T12:23:15.711Z"
   },
   {
    "duration": 17,
    "start_time": "2021-12-10T12:23:15.720Z"
   },
   {
    "duration": 15,
    "start_time": "2021-12-10T12:23:15.745Z"
   },
   {
    "duration": 43,
    "start_time": "2021-12-10T12:23:15.762Z"
   },
   {
    "duration": 38,
    "start_time": "2021-12-10T12:23:15.807Z"
   },
   {
    "duration": 36,
    "start_time": "2021-12-10T12:23:15.847Z"
   },
   {
    "duration": 3,
    "start_time": "2021-12-10T12:23:15.885Z"
   },
   {
    "duration": 25,
    "start_time": "2021-12-10T12:23:15.890Z"
   },
   {
    "duration": 41,
    "start_time": "2021-12-10T12:23:15.917Z"
   },
   {
    "duration": 15,
    "start_time": "2021-12-10T12:23:15.959Z"
   },
   {
    "duration": 13,
    "start_time": "2021-12-10T12:23:15.976Z"
   },
   {
    "duration": 17,
    "start_time": "2021-12-10T12:23:15.991Z"
   },
   {
    "duration": 16,
    "start_time": "2021-12-10T12:23:16.044Z"
   },
   {
    "duration": 83,
    "start_time": "2021-12-10T12:23:16.064Z"
   },
   {
    "duration": 17,
    "start_time": "2021-12-10T12:23:16.149Z"
   },
   {
    "duration": 11,
    "start_time": "2021-12-10T12:23:16.168Z"
   },
   {
    "duration": 3,
    "start_time": "2021-12-10T12:23:16.181Z"
   },
   {
    "duration": 21,
    "start_time": "2021-12-10T12:23:16.186Z"
   },
   {
    "duration": 41,
    "start_time": "2021-12-10T12:23:16.208Z"
   },
   {
    "duration": 16,
    "start_time": "2021-12-10T12:23:16.250Z"
   },
   {
    "duration": 11,
    "start_time": "2021-12-10T12:23:16.268Z"
   },
   {
    "duration": 8,
    "start_time": "2021-12-10T12:23:16.280Z"
   },
   {
    "duration": 4,
    "start_time": "2021-12-10T12:23:16.289Z"
   },
   {
    "duration": 7,
    "start_time": "2021-12-10T12:23:16.295Z"
   },
   {
    "duration": 4,
    "start_time": "2021-12-10T12:23:16.304Z"
   },
   {
    "duration": 3,
    "start_time": "2021-12-10T12:24:02.020Z"
   },
   {
    "duration": 163,
    "start_time": "2021-12-10T12:24:02.025Z"
   },
   {
    "duration": 10,
    "start_time": "2021-12-10T12:24:02.190Z"
   },
   {
    "duration": 42,
    "start_time": "2021-12-10T12:24:02.202Z"
   },
   {
    "duration": 12,
    "start_time": "2021-12-10T12:24:02.246Z"
   },
   {
    "duration": 41,
    "start_time": "2021-12-10T12:24:02.259Z"
   },
   {
    "duration": 4,
    "start_time": "2021-12-10T12:24:02.302Z"
   },
   {
    "duration": 43,
    "start_time": "2021-12-10T12:24:02.307Z"
   },
   {
    "duration": 26,
    "start_time": "2021-12-10T12:24:02.352Z"
   },
   {
    "duration": 31,
    "start_time": "2021-12-10T12:24:02.380Z"
   },
   {
    "duration": 79,
    "start_time": "2021-12-10T12:24:02.413Z"
   },
   {
    "duration": 82,
    "start_time": "2021-12-10T12:24:02.494Z"
   },
   {
    "duration": 71,
    "start_time": "2021-12-10T12:24:02.578Z"
   },
   {
    "duration": 7,
    "start_time": "2021-12-10T12:24:02.650Z"
   },
   {
    "duration": 3,
    "start_time": "2021-12-10T12:24:02.659Z"
   },
   {
    "duration": 13,
    "start_time": "2021-12-10T12:24:02.663Z"
   },
   {
    "duration": 68,
    "start_time": "2021-12-10T12:24:02.677Z"
   },
   {
    "duration": 41,
    "start_time": "2021-12-10T12:24:02.747Z"
   },
   {
    "duration": 39,
    "start_time": "2021-12-10T12:24:02.789Z"
   },
   {
    "duration": 15,
    "start_time": "2021-12-10T12:24:02.830Z"
   },
   {
    "duration": 44,
    "start_time": "2021-12-10T12:24:02.847Z"
   },
   {
    "duration": 17,
    "start_time": "2021-12-10T12:24:02.893Z"
   },
   {
    "duration": 46,
    "start_time": "2021-12-10T12:24:02.912Z"
   },
   {
    "duration": 20,
    "start_time": "2021-12-10T12:24:02.960Z"
   },
   {
    "duration": 35,
    "start_time": "2021-12-10T12:24:02.982Z"
   },
   {
    "duration": 28,
    "start_time": "2021-12-10T12:24:03.018Z"
   },
   {
    "duration": 94,
    "start_time": "2021-12-10T12:24:03.050Z"
   },
   {
    "duration": 16,
    "start_time": "2021-12-10T12:24:03.145Z"
   },
   {
    "duration": 29,
    "start_time": "2021-12-10T12:24:03.163Z"
   },
   {
    "duration": 3,
    "start_time": "2021-12-10T12:24:03.194Z"
   },
   {
    "duration": 22,
    "start_time": "2021-12-10T12:24:03.199Z"
   },
   {
    "duration": 26,
    "start_time": "2021-12-10T12:24:03.223Z"
   },
   {
    "duration": 19,
    "start_time": "2021-12-10T12:24:03.251Z"
   },
   {
    "duration": 14,
    "start_time": "2021-12-10T12:24:03.272Z"
   },
   {
    "duration": 8,
    "start_time": "2021-12-10T12:24:03.288Z"
   },
   {
    "duration": 6,
    "start_time": "2021-12-10T12:24:03.298Z"
   },
   {
    "duration": 40,
    "start_time": "2021-12-10T12:24:03.306Z"
   },
   {
    "duration": 6,
    "start_time": "2021-12-10T12:24:03.348Z"
   },
   {
    "duration": 615,
    "start_time": "2021-12-11T05:47:03.120Z"
   },
   {
    "duration": 139,
    "start_time": "2021-12-11T05:47:03.737Z"
   },
   {
    "duration": 17,
    "start_time": "2021-12-11T05:47:03.878Z"
   },
   {
    "duration": 22,
    "start_time": "2021-12-11T05:47:03.897Z"
   },
   {
    "duration": 3,
    "start_time": "2021-12-11T05:47:03.921Z"
   },
   {
    "duration": 34,
    "start_time": "2021-12-11T05:47:03.926Z"
   },
   {
    "duration": 6,
    "start_time": "2021-12-11T05:47:03.962Z"
   },
   {
    "duration": 23,
    "start_time": "2021-12-11T05:47:03.970Z"
   },
   {
    "duration": 16,
    "start_time": "2021-12-11T05:47:03.995Z"
   },
   {
    "duration": 46,
    "start_time": "2021-12-11T05:47:04.012Z"
   },
   {
    "duration": 56,
    "start_time": "2021-12-11T05:47:04.060Z"
   },
   {
    "duration": 86,
    "start_time": "2021-12-11T05:47:04.118Z"
   },
   {
    "duration": 55,
    "start_time": "2021-12-11T05:47:04.206Z"
   },
   {
    "duration": 6,
    "start_time": "2021-12-11T05:47:04.263Z"
   },
   {
    "duration": 3,
    "start_time": "2021-12-11T05:47:04.271Z"
   },
   {
    "duration": 11,
    "start_time": "2021-12-11T05:47:04.275Z"
   },
   {
    "duration": 60,
    "start_time": "2021-12-11T05:47:04.288Z"
   },
   {
    "duration": 35,
    "start_time": "2021-12-11T05:47:04.349Z"
   },
   {
    "duration": 62,
    "start_time": "2021-12-11T05:47:04.386Z"
   },
   {
    "duration": 3,
    "start_time": "2021-12-11T05:47:04.450Z"
   },
   {
    "duration": 32,
    "start_time": "2021-12-11T05:47:04.455Z"
   },
   {
    "duration": 38,
    "start_time": "2021-12-11T05:47:04.489Z"
   },
   {
    "duration": 29,
    "start_time": "2021-12-11T05:47:04.530Z"
   },
   {
    "duration": 18,
    "start_time": "2021-12-11T05:47:04.561Z"
   },
   {
    "duration": 25,
    "start_time": "2021-12-11T05:47:04.580Z"
   },
   {
    "duration": 16,
    "start_time": "2021-12-11T05:47:04.607Z"
   },
   {
    "duration": 67,
    "start_time": "2021-12-11T05:47:04.645Z"
   },
   {
    "duration": 10,
    "start_time": "2021-12-11T05:47:04.714Z"
   },
   {
    "duration": 25,
    "start_time": "2021-12-11T05:47:04.726Z"
   },
   {
    "duration": 3,
    "start_time": "2021-12-11T05:47:04.753Z"
   },
   {
    "duration": 20,
    "start_time": "2021-12-11T05:47:04.757Z"
   },
   {
    "duration": 11,
    "start_time": "2021-12-11T05:47:04.778Z"
   },
   {
    "duration": 15,
    "start_time": "2021-12-11T05:47:04.791Z"
   },
   {
    "duration": 41,
    "start_time": "2021-12-11T05:47:04.807Z"
   },
   {
    "duration": 8,
    "start_time": "2021-12-11T05:47:04.849Z"
   },
   {
    "duration": 4,
    "start_time": "2021-12-11T05:47:04.859Z"
   },
   {
    "duration": 7,
    "start_time": "2021-12-11T05:47:04.864Z"
   },
   {
    "duration": 4,
    "start_time": "2021-12-11T05:47:04.872Z"
   }
  ],
  "colab": {
   "collapsed_sections": [
    "E0vqbgi9ay0H",
    "VUC88oWjTJw2"
   ],
   "name": "yandex_music_project_2021.2.ipynb",
   "provenance": []
  },
  "kernelspec": {
   "display_name": "Python 3 (ipykernel)",
   "language": "python",
   "name": "python3"
  },
  "language_info": {
   "codemirror_mode": {
    "name": "ipython",
    "version": 3
   },
   "file_extension": ".py",
   "mimetype": "text/x-python",
   "name": "python",
   "nbconvert_exporter": "python",
   "pygments_lexer": "ipython3",
   "version": "3.9.7"
  },
  "toc": {
   "base_numbering": 1,
   "nav_menu": {},
   "number_sections": true,
   "sideBar": true,
   "skip_h1_title": true,
   "title_cell": "Table of Contents",
   "title_sidebar": "Contents",
   "toc_cell": false,
   "toc_position": {
    "height": "calc(100% - 180px)",
    "left": "10px",
    "top": "150px",
    "width": "289.6px"
   },
   "toc_section_display": true,
   "toc_window_display": true
  }
 },
 "nbformat": 4,
 "nbformat_minor": 1
}
